{
  "cells": [
    {
      "cell_type": "markdown",
      "metadata": {
        "id": "hYcSTFSBmTTN"
      },
      "source": [
        "#Run all cells Together"
      ]
    },
    {
      "cell_type": "code",
      "execution_count": 65,
      "metadata": {
        "id": "MK9x09KjhLJS"
      },
      "outputs": [],
      "source": [
        "import numpy as np\n",
        "import pandas as pd\n",
        "import matplotlib.pyplot as plt\n",
        "import plotly\n",
        "import plotly.graph_objs as go\n",
        "import plotly.tools as tls\n",
        "import seaborn as sns\n",
        "import time\n",
        "import warnings\n",
        "warnings.filterwarnings('ignore')"
      ]
    },
    {
      "cell_type": "code",
      "execution_count": 66,
      "metadata": {
        "colab": {
          "base_uri": "https://localhost:8080/",
          "height": 206
        },
        "id": "XLhfWdcPhLJT",
        "outputId": "c11a04e0-765b-4116-dd8f-3f74409f1b3a"
      },
      "outputs": [
        {
          "data": {
            "text/html": [
              "<div>\n",
              "<style scoped>\n",
              "    .dataframe tbody tr th:only-of-type {\n",
              "        vertical-align: middle;\n",
              "    }\n",
              "\n",
              "    .dataframe tbody tr th {\n",
              "        vertical-align: top;\n",
              "    }\n",
              "\n",
              "    .dataframe thead th {\n",
              "        text-align: right;\n",
              "    }\n",
              "</style>\n",
              "<table border=\"1\" class=\"dataframe\">\n",
              "  <thead>\n",
              "    <tr style=\"text-align: right;\">\n",
              "      <th></th>\n",
              "      <th>dt</th>\n",
              "      <th>AverageTemperature</th>\n",
              "      <th>AverageTemperatureUncertainty</th>\n",
              "      <th>Country</th>\n",
              "    </tr>\n",
              "  </thead>\n",
              "  <tbody>\n",
              "    <tr>\n",
              "      <th>0</th>\n",
              "      <td>1743-11-01</td>\n",
              "      <td>4.384</td>\n",
              "      <td>2.294</td>\n",
              "      <td>Åland</td>\n",
              "    </tr>\n",
              "    <tr>\n",
              "      <th>1</th>\n",
              "      <td>1743-12-01</td>\n",
              "      <td>NaN</td>\n",
              "      <td>NaN</td>\n",
              "      <td>Åland</td>\n",
              "    </tr>\n",
              "    <tr>\n",
              "      <th>2</th>\n",
              "      <td>1744-01-01</td>\n",
              "      <td>NaN</td>\n",
              "      <td>NaN</td>\n",
              "      <td>Åland</td>\n",
              "    </tr>\n",
              "    <tr>\n",
              "      <th>3</th>\n",
              "      <td>1744-02-01</td>\n",
              "      <td>NaN</td>\n",
              "      <td>NaN</td>\n",
              "      <td>Åland</td>\n",
              "    </tr>\n",
              "    <tr>\n",
              "      <th>4</th>\n",
              "      <td>1744-03-01</td>\n",
              "      <td>NaN</td>\n",
              "      <td>NaN</td>\n",
              "      <td>Åland</td>\n",
              "    </tr>\n",
              "  </tbody>\n",
              "</table>\n",
              "</div>"
            ],
            "text/plain": [
              "           dt  AverageTemperature  AverageTemperatureUncertainty Country\n",
              "0  1743-11-01               4.384                          2.294   Åland\n",
              "1  1743-12-01                 NaN                            NaN   Åland\n",
              "2  1744-01-01                 NaN                            NaN   Åland\n",
              "3  1744-02-01                 NaN                            NaN   Åland\n",
              "4  1744-03-01                 NaN                            NaN   Åland"
            ]
          },
          "execution_count": 66,
          "metadata": {},
          "output_type": "execute_result"
        }
      ],
      "source": [
        "global_temp_country = pd.read_csv('D:/data analytics and machine learning project/global temperature/data/GlobalLandTemperaturesByCountry.csv')\n",
        "global_temp_country.head()"
      ]
    },
    {
      "cell_type": "code",
      "execution_count": 67,
      "metadata": {
        "colab": {
          "base_uri": "https://localhost:8080/"
        },
        "id": "96yi-Um-hLJU",
        "outputId": "ca395fd1-f536-4d6e-8653-b3452d67bb17"
      },
      "outputs": [
        {
          "data": {
            "text/plain": [
              "(577462, 4)"
            ]
          },
          "execution_count": 67,
          "metadata": {},
          "output_type": "execute_result"
        }
      ],
      "source": [
        "global_temp_country.shape"
      ]
    },
    {
      "cell_type": "code",
      "execution_count": 68,
      "metadata": {
        "colab": {
          "base_uri": "https://localhost:8080/"
        },
        "id": "zXFha9DUhLJV",
        "outputId": "d6a503da-ce47-439b-9903-37c0fde12393"
      },
      "outputs": [
        {
          "data": {
            "text/plain": [
              "dt                                   0\n",
              "AverageTemperature               32651\n",
              "AverageTemperatureUncertainty    31912\n",
              "Country                              0\n",
              "dtype: int64"
            ]
          },
          "execution_count": 68,
          "metadata": {},
          "output_type": "execute_result"
        }
      ],
      "source": [
        "global_temp_country.isna().sum()"
      ]
    },
    {
      "cell_type": "code",
      "execution_count": 69,
      "metadata": {
        "colab": {
          "base_uri": "https://localhost:8080/"
        },
        "id": "hA8zOw-AhLJV",
        "outputId": "191d425a-bd07-4623-aa5a-06d280d0f09b"
      },
      "outputs": [
        {
          "data": {
            "text/plain": [
              "dt                               0\n",
              "AverageTemperature               0\n",
              "AverageTemperatureUncertainty    0\n",
              "Country                          0\n",
              "dtype: int64"
            ]
          },
          "execution_count": 69,
          "metadata": {},
          "output_type": "execute_result"
        }
      ],
      "source": [
        "## drop missing data\n",
        "global_temp_country.dropna(axis='index',how='any', subset=['AverageTemperature'],inplace=True)\n",
        "global_temp_country.isna().sum()"
      ]
    },
    {
      "cell_type": "code",
      "execution_count": 70,
      "metadata": {
        "colab": {
          "base_uri": "https://localhost:8080/"
        },
        "id": "HviOKMohhLJV",
        "outputId": "58216b4a-8325-4783-b0a0-29ddd3a08c35"
      },
      "outputs": [
        {
          "data": {
            "text/plain": [
              "Country\n",
              "Afghanistan                                  14.045007\n",
              "Africa                                       24.074203\n",
              "Albania                                      12.610646\n",
              "Algeria                                      22.985112\n",
              "American Samoa                               26.611965\n",
              "Andorra                                      11.201553\n",
              "Angola                                       21.824549\n",
              "Anguilla                                     26.610492\n",
              "Antigua And Barbuda                          26.437924\n",
              "Argentina                                    14.621194\n",
              "Armenia                                       8.551648\n",
              "Aruba                                        27.920390\n",
              "Asia                                          7.347892\n",
              "Australia                                    21.624697\n",
              "Austria                                       6.210732\n",
              "Azerbaijan                                   11.175936\n",
              "Bahamas                                      25.128220\n",
              "Bahrain                                      25.930809\n",
              "Baker Island                                 25.372350\n",
              "Bangladesh                                   24.820243\n",
              "Barbados                                     26.458548\n",
              "Belarus                                       5.819288\n",
              "Belgium                                       9.483378\n",
              "Belize                                       25.052100\n",
              "Benin                                        27.171999\n",
              "Bhutan                                       11.811879\n",
              "Bolivia                                      20.877231\n",
              "Bonaire, Saint Eustatius And Saba            27.173295\n",
              "Bosnia And Herzegovina                       10.421284\n",
              "Botswana                                     21.879297\n",
              "Brazil                                       24.699256\n",
              "British Virgin Islands                       26.336523\n",
              "Bulgaria                                     10.482968\n",
              "Burkina Faso                                 28.083507\n",
              "Burma                                        23.706197\n",
              "Burundi                                      20.070990\n",
              "Cambodia                                     26.656854\n",
              "Cameroon                                     24.352586\n",
              "Canada                                       -5.216659\n",
              "Cape Verde                                   24.185564\n",
              "Cayman Islands                               26.722504\n",
              "Central African Republic                     25.280407\n",
              "Chad                                         27.120466\n",
              "Chile                                         9.383474\n",
              "China                                         6.612731\n",
              "Christmas Island                             25.784654\n",
              "Colombia                                     24.716871\n",
              "Comoros                                      25.702209\n",
              "Congo                                        24.462932\n",
              "Congo (Democratic Republic Of The)           23.773665\n",
              "Costa Rica                                   25.615784\n",
              "Croatia                                      11.342400\n",
              "Cuba                                         25.407426\n",
              "Curaçao                                      27.353415\n",
              "Cyprus                                       18.787746\n",
              "Czech Republic                                7.626019\n",
              "Côte D'Ivoire                                25.948536\n",
              "Denmark                                     -18.053051\n",
              "Denmark (Europe)                              7.832859\n",
              "Djibouti                                     28.816603\n",
              "Dominica                                     26.110151\n",
              "Dominican Republic                           25.547511\n",
              "Ecuador                                      21.869970\n",
              "Egypt                                        22.620693\n",
              "El Salvador                                  24.906705\n",
              "Equatorial Guinea                            24.921678\n",
              "Eritrea                                      26.802653\n",
              "Estonia                                       4.819806\n",
              "Ethiopia                                     23.012357\n",
              "Europe                                        7.830064\n",
              "Falkland Islands (Islas Malvinas)             6.076773\n",
              "Faroe Islands                                 6.619002\n",
              "Federated States Of Micronesia               26.944358\n",
              "Fiji                                         25.038672\n",
              "Finland                                       1.244742\n",
              "France                                       12.772446\n",
              "France (Europe)                              10.416046\n",
              "French Guiana                                25.718151\n",
              "French Polynesia                             26.107096\n",
              "French Southern And Antarctic Lands           4.983111\n",
              "Gabon                                        24.254726\n",
              "Gambia                                       27.538552\n",
              "Gaza Strip                                   19.192637\n",
              "Georgia                                       8.106882\n",
              "Germany                                       8.152496\n",
              "Ghana                                        26.711014\n",
              "Greece                                       14.773012\n",
              "Greenland                                   -18.587458\n",
              "Grenada                                      26.741952\n",
              "Guadeloupe                                   26.329561\n",
              "Guam                                         26.996834\n",
              "Guatemala                                    23.111650\n",
              "Guernsey                                     10.928409\n",
              "Guinea                                       25.452353\n",
              "Guinea Bissau                                26.761367\n",
              "Guyana                                       25.930920\n",
              "Haiti                                        26.295838\n",
              "Heard Island And Mcdonald Islands             2.562115\n",
              "Honduras                                     24.695548\n",
              "Hong Kong                                    22.659895\n",
              "Hungary                                       9.722423\n",
              "Iceland                                       1.405065\n",
              "India                                        23.873789\n",
              "Indonesia                                    25.684484\n",
              "Iran                                         17.607076\n",
              "Iraq                                         21.775629\n",
              "Ireland                                       9.419558\n",
              "Isle Of Man                                   9.365805\n",
              "Israel                                       19.626577\n",
              "Italy                                        12.737122\n",
              "Jamaica                                      26.096340\n",
              "Japan                                        11.951907\n",
              "Jersey                                       10.928409\n",
              "Jordan                                       19.346513\n",
              "Kazakhstan                                    5.202145\n",
              "Kenya                                        24.102428\n",
              "Kingman Reef                                 27.133034\n",
              "Kiribati                                     26.736865\n",
              "Kuwait                                       25.098140\n",
              "Kyrgyzstan                                    3.220498\n",
              "Laos                                         23.574696\n",
              "Latvia                                        5.320545\n",
              "Lebanon                                      17.631618\n",
              "Lesotho                                      13.726682\n",
              "Liberia                                      25.377738\n",
              "Libya                                        22.268254\n",
              "Liechtenstein                                 4.642939\n",
              "Lithuania                                     5.907992\n",
              "Luxembourg                                    9.165196\n",
              "Macau                                        22.418375\n",
              "Macedonia                                    10.375551\n",
              "Madagascar                                   22.749046\n",
              "Malawi                                       21.431086\n",
              "Malaysia                                     25.805442\n",
              "Mali                                         28.441977\n",
              "Malta                                        18.494875\n",
              "Martinique                                   26.110151\n",
              "Mauritania                                   27.620256\n",
              "Mauritius                                    23.522654\n",
              "Mayotte                                      26.340961\n",
              "Mexico                                       20.567558\n",
              "Moldova                                       8.931717\n",
              "Monaco                                        9.024702\n",
              "Mongolia                                     -0.820671\n",
              "Montenegro                                   10.214630\n",
              "Montserrat                                   26.383128\n",
              "Morocco                                      17.627497\n",
              "Mozambique                                   23.596195\n",
              "Namibia                                      20.484495\n",
              "Nepal                                        14.807391\n",
              "Netherlands                                   9.504605\n",
              "Netherlands (Europe)                          9.112799\n",
              "New Caledonia                                22.700108\n",
              "New Zealand                                  10.371239\n",
              "Nicaragua                                    25.957509\n",
              "Niger                                        27.458973\n",
              "Nigeria                                      26.744708\n",
              "Niue                                         25.094878\n",
              "North America                                 2.028374\n",
              "North Korea                                   6.748337\n",
              "Northern Mariana Islands                     26.996834\n",
              "Norway                                        0.095804\n",
              "Oceania                                      21.452989\n",
              "Oman                                         26.916863\n",
              "Pakistan                                     20.615513\n",
              "Palau                                        27.216379\n",
              "Palestina                                    23.125663\n",
              "Palmyra Atoll                                27.163456\n",
              "Panama                                       26.291621\n",
              "Papua New Guinea                             24.450802\n",
              "Paraguay                                     23.237968\n",
              "Peru                                         19.935974\n",
              "Philippines                                  26.440472\n",
              "Poland                                        7.460206\n",
              "Portugal                                     14.688180\n",
              "Puerto Rico                                  25.451962\n",
              "Qatar                                        26.784996\n",
              "Reunion                                      23.301403\n",
              "Romania                                       8.760902\n",
              "Russia                                       -5.521882\n",
              "Rwanda                                       19.244422\n",
              "Saint Barthélemy                             26.610492\n",
              "Saint Kitts And Nevis                        25.852186\n",
              "Saint Lucia                                  26.646838\n",
              "Saint Martin                                 26.610492\n",
              "Saint Pierre And Miquelon                     4.223060\n",
              "Saint Vincent And The Grenadines             26.789449\n",
              "Samoa                                        26.331862\n",
              "San Marino                                   13.831422\n",
              "Sao Tome And Principe                        25.794386\n",
              "Saudi Arabia                                 25.546408\n",
              "Senegal                                      27.967375\n",
              "Serbia                                        9.986563\n",
              "Seychelles                                   26.738423\n",
              "Sierra Leone                                 26.022571\n",
              "Singapore                                    26.523103\n",
              "Sint Maarten                                 26.610492\n",
              "Slovakia                                      7.527217\n",
              "Slovenia                                      9.659701\n",
              "Solomon Islands                              26.625037\n",
              "Somalia                                      26.877085\n",
              "South Africa                                 17.270983\n",
              "South America                                21.823920\n",
              "South Georgia And The South Sandwich Isla     1.401025\n",
              "South Korea                                  11.849049\n",
              "Spain                                        13.612834\n",
              "Sri Lanka                                    26.947687\n",
              "Sudan                                        27.093359\n",
              "Suriname                                     26.171663\n",
              "Svalbard And Jan Mayen                       -7.448028\n",
              "Swaziland                                    18.839807\n",
              "Sweden                                        2.386332\n",
              "Switzerland                                   6.992051\n",
              "Syria                                        17.917549\n",
              "Taiwan                                       21.937428\n",
              "Tajikistan                                    4.016035\n",
              "Tanzania                                     22.347911\n",
              "Thailand                                     25.986801\n",
              "Timor Leste                                  25.966333\n",
              "Togo                                         26.871783\n",
              "Tonga                                        23.236248\n",
              "Trinidad And Tobago                          26.118751\n",
              "Tunisia                                      19.970590\n",
              "Turkey                                       11.631567\n",
              "Turkmenistan                                 14.781998\n",
              "Turks And Caicas Islands                     26.662734\n",
              "Uganda                                       23.032969\n",
              "Ukraine                                       7.653507\n",
              "United Arab Emirates                         27.693995\n",
              "United Kingdom                                8.489325\n",
              "United Kingdom (Europe)                       8.655788\n",
              "United States                                 8.603573\n",
              "Uruguay                                      17.149307\n",
              "Uzbekistan                                   12.278016\n",
              "Venezuela                                    25.025686\n",
              "Vietnam                                      23.688366\n",
              "Virgin Islands                               26.336523\n",
              "Western Sahara                               22.319818\n",
              "Yemen                                        26.253597\n",
              "Zambia                                       21.282956\n",
              "Zimbabwe                                     21.117547\n",
              "Åland                                         5.291383\n",
              "Name: AverageTemperature, dtype: float64"
            ]
          },
          "execution_count": 70,
          "metadata": {},
          "output_type": "execute_result"
        }
      ],
      "source": [
        "pd.set_option('display.max_rows',243)\n",
        "global_temp_country.groupby(['Country'])['AverageTemperature'].mean()"
      ]
    },
    {
      "cell_type": "code",
      "execution_count": 71,
      "metadata": {
        "id": "mf4FuYyghLJW"
      },
      "outputs": [],
      "source": [
        "### Lets check whether there is a duplicate value in country or not"
      ]
    },
    {
      "cell_type": "code",
      "execution_count": 72,
      "metadata": {
        "colab": {
          "base_uri": "https://localhost:8080/"
        },
        "id": "xxBpGwcWhLJW",
        "outputId": "8d014eb0-3dce-4f05-ab9a-c8a0e592cd7e"
      },
      "outputs": [
        {
          "data": {
            "text/plain": [
              "array(['Åland', 'Afghanistan', 'Africa', 'Albania', 'Algeria',\n",
              "       'American Samoa', 'Andorra', 'Angola', 'Anguilla',\n",
              "       'Antigua And Barbuda', 'Argentina', 'Armenia', 'Aruba', 'Asia',\n",
              "       'Australia', 'Austria', 'Azerbaijan', 'Bahamas', 'Bahrain',\n",
              "       'Baker Island', 'Bangladesh', 'Barbados', 'Belarus', 'Belgium',\n",
              "       'Belize', 'Benin', 'Bhutan', 'Bolivia',\n",
              "       'Bonaire, Saint Eustatius And Saba', 'Bosnia And Herzegovina',\n",
              "       'Botswana', 'Brazil', 'British Virgin Islands', 'Bulgaria',\n",
              "       'Burkina Faso', 'Burma', 'Burundi', \"Côte D'Ivoire\", 'Cambodia',\n",
              "       'Cameroon', 'Canada', 'Cape Verde', 'Cayman Islands',\n",
              "       'Central African Republic', 'Chad', 'Chile', 'China',\n",
              "       'Christmas Island', 'Colombia', 'Comoros',\n",
              "       'Congo (Democratic Republic Of The)', 'Congo', 'Costa Rica',\n",
              "       'Croatia', 'Cuba', 'Curaçao', 'Cyprus', 'Czech Republic',\n",
              "       'Denmark (Europe)', 'Denmark', 'Djibouti', 'Dominica',\n",
              "       'Dominican Republic', 'Ecuador', 'Egypt', 'El Salvador',\n",
              "       'Equatorial Guinea', 'Eritrea', 'Estonia', 'Ethiopia', 'Europe',\n",
              "       'Falkland Islands (Islas Malvinas)', 'Faroe Islands',\n",
              "       'Federated States Of Micronesia', 'Fiji', 'Finland',\n",
              "       'France (Europe)', 'France', 'French Guiana', 'French Polynesia',\n",
              "       'French Southern And Antarctic Lands', 'Gabon', 'Gambia',\n",
              "       'Gaza Strip', 'Georgia', 'Germany', 'Ghana', 'Greece', 'Greenland',\n",
              "       'Grenada', 'Guadeloupe', 'Guam', 'Guatemala', 'Guernsey',\n",
              "       'Guinea Bissau', 'Guinea', 'Guyana', 'Haiti',\n",
              "       'Heard Island And Mcdonald Islands', 'Honduras', 'Hong Kong',\n",
              "       'Hungary', 'Iceland', 'India', 'Indonesia', 'Iran', 'Iraq',\n",
              "       'Ireland', 'Isle Of Man', 'Israel', 'Italy', 'Jamaica', 'Japan',\n",
              "       'Jersey', 'Jordan', 'Kazakhstan', 'Kenya', 'Kingman Reef',\n",
              "       'Kiribati', 'Kuwait', 'Kyrgyzstan', 'Laos', 'Latvia', 'Lebanon',\n",
              "       'Lesotho', 'Liberia', 'Libya', 'Liechtenstein', 'Lithuania',\n",
              "       'Luxembourg', 'Macau', 'Macedonia', 'Madagascar', 'Malawi',\n",
              "       'Malaysia', 'Mali', 'Malta', 'Martinique', 'Mauritania',\n",
              "       'Mauritius', 'Mayotte', 'Mexico', 'Moldova', 'Monaco', 'Mongolia',\n",
              "       'Montenegro', 'Montserrat', 'Morocco', 'Mozambique', 'Namibia',\n",
              "       'Nepal', 'Netherlands (Europe)', 'Netherlands', 'New Caledonia',\n",
              "       'New Zealand', 'Nicaragua', 'Niger', 'Nigeria', 'Niue',\n",
              "       'North America', 'North Korea', 'Northern Mariana Islands',\n",
              "       'Norway', 'Oceania', 'Oman', 'Pakistan', 'Palau', 'Palestina',\n",
              "       'Palmyra Atoll', 'Panama', 'Papua New Guinea', 'Paraguay', 'Peru',\n",
              "       'Philippines', 'Poland', 'Portugal', 'Puerto Rico', 'Qatar',\n",
              "       'Reunion', 'Romania', 'Russia', 'Rwanda', 'Saint Barthélemy',\n",
              "       'Saint Kitts And Nevis', 'Saint Lucia', 'Saint Martin',\n",
              "       'Saint Pierre And Miquelon', 'Saint Vincent And The Grenadines',\n",
              "       'Samoa', 'San Marino', 'Sao Tome And Principe', 'Saudi Arabia',\n",
              "       'Senegal', 'Serbia', 'Seychelles', 'Sierra Leone', 'Singapore',\n",
              "       'Sint Maarten', 'Slovakia', 'Slovenia', 'Solomon Islands',\n",
              "       'Somalia', 'South Africa', 'South America',\n",
              "       'South Georgia And The South Sandwich Isla', 'South Korea',\n",
              "       'Spain', 'Sri Lanka', 'Sudan', 'Suriname',\n",
              "       'Svalbard And Jan Mayen', 'Swaziland', 'Sweden', 'Switzerland',\n",
              "       'Syria', 'Taiwan', 'Tajikistan', 'Tanzania', 'Thailand',\n",
              "       'Timor Leste', 'Togo', 'Tonga', 'Trinidad And Tobago', 'Tunisia',\n",
              "       'Turkey', 'Turkmenistan', 'Turks And Caicas Islands', 'Uganda',\n",
              "       'Ukraine', 'United Arab Emirates', 'United Kingdom (Europe)',\n",
              "       'United Kingdom', 'United States', 'Uruguay', 'Uzbekistan',\n",
              "       'Venezuela', 'Vietnam', 'Virgin Islands', 'Western Sahara',\n",
              "       'Yemen', 'Zambia', 'Zimbabwe'], dtype=object)"
            ]
          },
          "execution_count": 72,
          "metadata": {},
          "output_type": "execute_result"
        }
      ],
      "source": [
        "global_temp_country['Country'].unique()"
      ]
    },
    {
      "cell_type": "code",
      "execution_count": 73,
      "metadata": {
        "id": "5HkkhroAhLJX"
      },
      "outputs": [],
      "source": [
        "dict={'Denmark (Europe)':'Denmark',\n",
        "      'France (Europe)':'France',\n",
        "      'Netherlands (Europe)':'Netherlands',\n",
        "      'United Kingdom (Europe)':'United Kingdom',\n",
        "     'Congo (Democratic Republic Of The)':'Congo'}"
      ]
    },
    {
      "cell_type": "code",
      "execution_count": 74,
      "metadata": {
        "id": "mBjETzW1hLJX"
      },
      "outputs": [],
      "source": [
        "global_temp_country['Country']=global_temp_country['Country'].replace(dict)"
      ]
    },
    {
      "cell_type": "code",
      "execution_count": 75,
      "metadata": {
        "colab": {
          "base_uri": "https://localhost:8080/"
        },
        "id": "h_QXJpKHhLJX",
        "outputId": "c15fa5a0-ebd3-46e3-e2a5-29f1788a2d6b"
      },
      "outputs": [
        {
          "data": {
            "text/plain": [
              "237"
            ]
          },
          "execution_count": 75,
          "metadata": {},
          "output_type": "execute_result"
        }
      ],
      "source": [
        "global_temp_country['Country'].nunique()"
      ]
    },
    {
      "cell_type": "markdown",
      "metadata": {
        "id": "ryWH4xCghLJX"
      },
      "source": [
        "## Let's calculate average temperature for each country"
      ]
    },
    {
      "cell_type": "code",
      "execution_count": 76,
      "metadata": {
        "colab": {
          "base_uri": "https://localhost:8080/",
          "height": 206
        },
        "id": "3F5yPrUbhLJY",
        "outputId": "3238bbf0-a7c2-435f-8f8b-e7cce60bc25b"
      },
      "outputs": [
        {
          "data": {
            "text/html": [
              "<div>\n",
              "<style scoped>\n",
              "    .dataframe tbody tr th:only-of-type {\n",
              "        vertical-align: middle;\n",
              "    }\n",
              "\n",
              "    .dataframe tbody tr th {\n",
              "        vertical-align: top;\n",
              "    }\n",
              "\n",
              "    .dataframe thead th {\n",
              "        text-align: right;\n",
              "    }\n",
              "</style>\n",
              "<table border=\"1\" class=\"dataframe\">\n",
              "  <thead>\n",
              "    <tr style=\"text-align: right;\">\n",
              "      <th></th>\n",
              "      <th>Country</th>\n",
              "      <th>AverageTemperature</th>\n",
              "    </tr>\n",
              "  </thead>\n",
              "  <tbody>\n",
              "    <tr>\n",
              "      <th>0</th>\n",
              "      <td>Afghanistan</td>\n",
              "      <td>14.045007</td>\n",
              "    </tr>\n",
              "    <tr>\n",
              "      <th>1</th>\n",
              "      <td>Africa</td>\n",
              "      <td>24.074203</td>\n",
              "    </tr>\n",
              "    <tr>\n",
              "      <th>2</th>\n",
              "      <td>Albania</td>\n",
              "      <td>12.610646</td>\n",
              "    </tr>\n",
              "    <tr>\n",
              "      <th>3</th>\n",
              "      <td>Algeria</td>\n",
              "      <td>22.985112</td>\n",
              "    </tr>\n",
              "    <tr>\n",
              "      <th>4</th>\n",
              "      <td>American Samoa</td>\n",
              "      <td>26.611965</td>\n",
              "    </tr>\n",
              "  </tbody>\n",
              "</table>\n",
              "</div>"
            ],
            "text/plain": [
              "          Country  AverageTemperature\n",
              "0     Afghanistan           14.045007\n",
              "1          Africa           24.074203\n",
              "2         Albania           12.610646\n",
              "3         Algeria           22.985112\n",
              "4  American Samoa           26.611965"
            ]
          },
          "execution_count": 76,
          "metadata": {},
          "output_type": "execute_result"
        }
      ],
      "source": [
        "pd.set_option('display.max_rows',243)\n",
        "avg_temp=global_temp_country.groupby(['Country'])['AverageTemperature'].mean().to_frame().reset_index()\n",
        "avg_temp.head()"
      ]
    },
    {
      "cell_type": "code",
      "execution_count": 77,
      "metadata": {
        "colab": {
          "base_uri": "https://localhost:8080/",
          "height": 228
        },
        "id": "IonT1NUChLJZ",
        "outputId": "569c3ce0-3362-4d40-81f7-a91ce76171a5"
      },
      "outputs": [
        {
          "data": {
            "text/html": [
              "        <script type=\"text/javascript\">\n",
              "        window.PlotlyConfig = {MathJaxConfig: 'local'};\n",
              "        if (window.MathJax && window.MathJax.Hub && window.MathJax.Hub.Config) {window.MathJax.Hub.Config({SVG: {font: \"STIX-Web\"}});}\n",
              "        if (typeof require !== 'undefined') {\n",
              "        require.undef(\"plotly\");\n",
              "        requirejs.config({\n",
              "            paths: {\n",
              "                'plotly': ['https://cdn.plot.ly/plotly-2.14.0.min']\n",
              "            }\n",
              "        });\n",
              "        require(['plotly'], function(Plotly) {\n",
              "            window._Plotly = Plotly;\n",
              "        });\n",
              "        }\n",
              "        </script>\n",
              "        "
            ]
          },
          "metadata": {},
          "output_type": "display_data"
        }
      ],
      "source": [
        "\n",
        "import plotly.express as px\n",
        "import chart_studio.plotly as py\n",
        "import plotly.graph_objs as go\n",
        "import pandas as pd\n",
        "\n",
        "from plotly.offline import download_plotlyjs, init_notebook_mode, iplot, plot\n",
        "init_notebook_mode(connected = True)\n"
      ]
    },
    {
      "cell_type": "code",
      "execution_count": 78,
      "metadata": {
        "colab": {
          "base_uri": "https://localhost:8080/",
          "height": 542
        },
        "id": "bZJNdc6FhLJZ",
        "outputId": "dac56c7d-299d-436f-80f8-be078ef6395c"
      },
      "outputs": [
        {
          "data": {
            "application/vnd.plotly.v1+json": {
              "config": {
                "plotlyServerURL": "https://plot.ly"
              },
              "data": [
                {
                  "coloraxis": "coloraxis",
                  "geo": "geo",
                  "hovertemplate": "Country=%{location}<br>AverageTemperature=%{z}<extra></extra>",
                  "locationmode": "country names",
                  "locations": [
                    "Afghanistan",
                    "Africa",
                    "Albania",
                    "Algeria",
                    "American Samoa",
                    "Andorra",
                    "Angola",
                    "Anguilla",
                    "Antigua And Barbuda",
                    "Argentina",
                    "Armenia",
                    "Aruba",
                    "Asia",
                    "Australia",
                    "Austria",
                    "Azerbaijan",
                    "Bahamas",
                    "Bahrain",
                    "Baker Island",
                    "Bangladesh",
                    "Barbados",
                    "Belarus",
                    "Belgium",
                    "Belize",
                    "Benin",
                    "Bhutan",
                    "Bolivia",
                    "Bonaire, Saint Eustatius And Saba",
                    "Bosnia And Herzegovina",
                    "Botswana",
                    "Brazil",
                    "British Virgin Islands",
                    "Bulgaria",
                    "Burkina Faso",
                    "Burma",
                    "Burundi",
                    "Cambodia",
                    "Cameroon",
                    "Canada",
                    "Cape Verde",
                    "Cayman Islands",
                    "Central African Republic",
                    "Chad",
                    "Chile",
                    "China",
                    "Christmas Island",
                    "Colombia",
                    "Comoros",
                    "Congo",
                    "Costa Rica",
                    "Croatia",
                    "Cuba",
                    "Curaçao",
                    "Cyprus",
                    "Czech Republic",
                    "Côte D'Ivoire",
                    "Denmark",
                    "Djibouti",
                    "Dominica",
                    "Dominican Republic",
                    "Ecuador",
                    "Egypt",
                    "El Salvador",
                    "Equatorial Guinea",
                    "Eritrea",
                    "Estonia",
                    "Ethiopia",
                    "Europe",
                    "Falkland Islands (Islas Malvinas)",
                    "Faroe Islands",
                    "Federated States Of Micronesia",
                    "Fiji",
                    "Finland",
                    "France",
                    "French Guiana",
                    "French Polynesia",
                    "French Southern And Antarctic Lands",
                    "Gabon",
                    "Gambia",
                    "Gaza Strip",
                    "Georgia",
                    "Germany",
                    "Ghana",
                    "Greece",
                    "Greenland",
                    "Grenada",
                    "Guadeloupe",
                    "Guam",
                    "Guatemala",
                    "Guernsey",
                    "Guinea",
                    "Guinea Bissau",
                    "Guyana",
                    "Haiti",
                    "Heard Island And Mcdonald Islands",
                    "Honduras",
                    "Hong Kong",
                    "Hungary",
                    "Iceland",
                    "India",
                    "Indonesia",
                    "Iran",
                    "Iraq",
                    "Ireland",
                    "Isle Of Man",
                    "Israel",
                    "Italy",
                    "Jamaica",
                    "Japan",
                    "Jersey",
                    "Jordan",
                    "Kazakhstan",
                    "Kenya",
                    "Kingman Reef",
                    "Kiribati",
                    "Kuwait",
                    "Kyrgyzstan",
                    "Laos",
                    "Latvia",
                    "Lebanon",
                    "Lesotho",
                    "Liberia",
                    "Libya",
                    "Liechtenstein",
                    "Lithuania",
                    "Luxembourg",
                    "Macau",
                    "Macedonia",
                    "Madagascar",
                    "Malawi",
                    "Malaysia",
                    "Mali",
                    "Malta",
                    "Martinique",
                    "Mauritania",
                    "Mauritius",
                    "Mayotte",
                    "Mexico",
                    "Moldova",
                    "Monaco",
                    "Mongolia",
                    "Montenegro",
                    "Montserrat",
                    "Morocco",
                    "Mozambique",
                    "Namibia",
                    "Nepal",
                    "Netherlands",
                    "New Caledonia",
                    "New Zealand",
                    "Nicaragua",
                    "Niger",
                    "Nigeria",
                    "Niue",
                    "North America",
                    "North Korea",
                    "Northern Mariana Islands",
                    "Norway",
                    "Oceania",
                    "Oman",
                    "Pakistan",
                    "Palau",
                    "Palestina",
                    "Palmyra Atoll",
                    "Panama",
                    "Papua New Guinea",
                    "Paraguay",
                    "Peru",
                    "Philippines",
                    "Poland",
                    "Portugal",
                    "Puerto Rico",
                    "Qatar",
                    "Reunion",
                    "Romania",
                    "Russia",
                    "Rwanda",
                    "Saint Barthélemy",
                    "Saint Kitts And Nevis",
                    "Saint Lucia",
                    "Saint Martin",
                    "Saint Pierre And Miquelon",
                    "Saint Vincent And The Grenadines",
                    "Samoa",
                    "San Marino",
                    "Sao Tome And Principe",
                    "Saudi Arabia",
                    "Senegal",
                    "Serbia",
                    "Seychelles",
                    "Sierra Leone",
                    "Singapore",
                    "Sint Maarten",
                    "Slovakia",
                    "Slovenia",
                    "Solomon Islands",
                    "Somalia",
                    "South Africa",
                    "South America",
                    "South Georgia And The South Sandwich Isla",
                    "South Korea",
                    "Spain",
                    "Sri Lanka",
                    "Sudan",
                    "Suriname",
                    "Svalbard And Jan Mayen",
                    "Swaziland",
                    "Sweden",
                    "Switzerland",
                    "Syria",
                    "Taiwan",
                    "Tajikistan",
                    "Tanzania",
                    "Thailand",
                    "Timor Leste",
                    "Togo",
                    "Tonga",
                    "Trinidad And Tobago",
                    "Tunisia",
                    "Turkey",
                    "Turkmenistan",
                    "Turks And Caicas Islands",
                    "Uganda",
                    "Ukraine",
                    "United Arab Emirates",
                    "United Kingdom",
                    "United States",
                    "Uruguay",
                    "Uzbekistan",
                    "Venezuela",
                    "Vietnam",
                    "Virgin Islands",
                    "Western Sahara",
                    "Yemen",
                    "Zambia",
                    "Zimbabwe",
                    "Åland"
                  ],
                  "name": "",
                  "type": "choropleth",
                  "z": [
                    14.045007194244604,
                    24.074202745512142,
                    12.610645925457991,
                    22.98511176905996,
                    26.611965009208106,
                    11.201553063802905,
                    21.824549189814817,
                    26.61049185043145,
                    26.437924256951103,
                    14.621194210526316,
                    8.551647926634768,
                    27.92039022051774,
                    7.3478922231614545,
                    21.62469689119171,
                    6.210731838281744,
                    11.175936074918567,
                    25.12822004008016,
                    25.9308093346574,
                    25.37235023279876,
                    24.820242783708977,
                    26.458547938638542,
                    5.819288060644346,
                    9.483378395451673,
                    25.052099776286354,
                    27.17199943181818,
                    11.811878969957082,
                    20.87723052631579,
                    27.17329482262704,
                    10.421283954516742,
                    21.87929669156884,
                    24.699255545286505,
                    26.336523239099186,
                    10.482968414403032,
                    28.083506760411034,
                    23.706197239536955,
                    20.07099012775842,
                    26.65685403576607,
                    24.352585590778098,
                    -5.216658945686901,
                    24.185563568376068,
                    26.722504150283967,
                    25.280406916426514,
                    27.120466282420747,
                    9.383473684210525,
                    6.612731031349386,
                    25.784654071314527,
                    24.716870967741936,
                    25.70220930232558,
                    24.118099942396316,
                    25.61578443420379,
                    11.342399873657612,
                    25.40742638706859,
                    27.353414669223397,
                    18.787745686421605,
                    7.62601926721415,
                    25.94853606027987,
                    -3.0265029336266958,
                    28.8166025331725,
                    26.110151486097795,
                    25.547511210762334,
                    21.869970347003154,
                    22.620693031209917,
                    24.906704545454545,
                    24.921677809798272,
                    26.802653110047846,
                    4.819805748578648,
                    23.01235675997618,
                    7.830063802905875,
                    6.076773492667029,
                    6.619001579279849,
                    26.944357771260997,
                    25.038671779141108,
                    1.244742261528743,
                    11.594245735944408,
                    25.718151106833492,
                    26.10709611829945,
                    4.9831111111111115,
                    24.254725648414986,
                    27.538551816239316,
                    19.192636960985627,
                    8.106881895881896,
                    8.152496209728364,
                    26.711013551665726,
                    14.773012002526848,
                    -18.58745804195804,
                    26.741952061361456,
                    26.32956088207095,
                    26.996834337349398,
                    23.111650494159928,
                    10.928408717624762,
                    25.452353098290597,
                    26.76136664885088,
                    25.930920115495667,
                    26.295837740923353,
                    2.5621149425287357,
                    24.69554799459216,
                    22.65989491362764,
                    9.722423246999368,
                    1.4050650663297535,
                    23.873789473684212,
                    25.684483767961684,
                    17.607076451156207,
                    21.775628879310347,
                    9.419558433354391,
                    9.365805432722679,
                    19.62657730263158,
                    12.737121920404297,
                    26.096339563862927,
                    11.951907335907336,
                    10.928408717624762,
                    19.346512587701195,
                    5.202144758735441,
                    24.102428231089934,
                    27.13303443877551,
                    26.73686534779834,
                    25.098140232108317,
                    3.2204981651376143,
                    23.574696349065007,
                    5.320545167403664,
                    17.63161773078487,
                    13.726681793913508,
                    25.37773793103448,
                    22.268253938484623,
                    4.642939039797852,
                    5.9079917877447885,
                    9.165196462413139,
                    22.418374760076777,
                    10.375550852811118,
                    22.74904594441293,
                    21.431086144578316,
                    25.80544200779727,
                    28.44197657082002,
                    18.494875319693094,
                    26.110151486097795,
                    27.62025550435228,
                    23.522653983353152,
                    26.340961429381736,
                    20.567558041958044,
                    8.9317166771952,
                    9.024701831964624,
                    -0.8206709844559585,
                    10.214629500947568,
                    26.383128475551292,
                    17.627497409326423,
                    23.59619475878499,
                    20.484495197438637,
                    14.8073906122449,
                    9.308701831964624,
                    22.700108194965186,
                    10.371239107883817,
                    25.957508780036967,
                    27.458972540045767,
                    26.744708309122604,
                    25.094878453038675,
                    2.0283738920225622,
                    6.748336832061068,
                    26.996834337349398,
                    0.09580385344283004,
                    21.452989119170983,
                    26.91686266589729,
                    20.615513304305757,
                    27.216379332477533,
                    23.125663223140496,
                    27.16345599489796,
                    26.291620638085742,
                    24.450801898734177,
                    23.237967557251906,
                    19.935974230044,
                    26.44047248677249,
                    7.46020593809223,
                    14.688179987212276,
                    25.45196166746526,
                    26.784996015936255,
                    23.30140309155767,
                    8.76090176879343,
                    -5.521881912681913,
                    19.244422183507552,
                    26.61049185043145,
                    25.85218600191755,
                    26.646838446788113,
                    26.61049185043145,
                    4.223059955113818,
                    26.78944870565676,
                    26.33186249232658,
                    13.83142229943146,
                    25.794386167146975,
                    25.546407835258666,
                    27.967375,
                    9.986563171193936,
                    26.738423142370962,
                    26.022571277159514,
                    26.52310282651072,
                    26.61049185043145,
                    7.527216993051168,
                    9.659700568540746,
                    26.62503698979592,
                    26.877085169743896,
                    17.27098291510945,
                    21.823920081967213,
                    1.4010251017639077,
                    11.849048745173745,
                    13.61283417561592,
                    26.947687001594897,
                    27.09335942857143,
                    26.17166313763234,
                    -7.448027925531916,
                    18.839807261078484,
                    2.3863319646241314,
                    6.992051484523057,
                    17.917548596990645,
                    21.937427536231883,
                    4.016035217794253,
                    22.34791097178683,
                    25.986800979519145,
                    25.96633271832718,
                    26.87178275666478,
                    23.236247852760737,
                    26.118751198465965,
                    19.97059047314578,
                    11.631567300916139,
                    14.781998181818182,
                    26.662733508082134,
                    23.03296871378911,
                    7.653507264687303,
                    27.693994700582934,
                    8.572556696146558,
                    8.60357252215955,
                    17.149306774809162,
                    12.278015938069217,
                    25.025685522531163,
                    23.688365504061156,
                    26.336523239099186,
                    22.319817823343847,
                    26.253596725288055,
                    21.282955621301774,
                    21.117547246376812,
                    5.291383449147189
                  ]
                }
              ],
              "layout": {
                "coloraxis": {
                  "colorbar": {
                    "title": {
                      "text": "AverageTemperature"
                    }
                  },
                  "colorscale": [
                    [
                      0,
                      "#0d0887"
                    ],
                    [
                      0.1111111111111111,
                      "#46039f"
                    ],
                    [
                      0.2222222222222222,
                      "#7201a8"
                    ],
                    [
                      0.3333333333333333,
                      "#9c179e"
                    ],
                    [
                      0.4444444444444444,
                      "#bd3786"
                    ],
                    [
                      0.5555555555555556,
                      "#d8576b"
                    ],
                    [
                      0.6666666666666666,
                      "#ed7953"
                    ],
                    [
                      0.7777777777777778,
                      "#fb9f3a"
                    ],
                    [
                      0.8888888888888888,
                      "#fdca26"
                    ],
                    [
                      1,
                      "#f0f921"
                    ]
                  ]
                },
                "geo": {
                  "center": {},
                  "domain": {
                    "x": [
                      0,
                      1
                    ],
                    "y": [
                      0,
                      1
                    ]
                  }
                },
                "legend": {
                  "tracegroupgap": 0
                },
                "margin": {
                  "t": 60
                },
                "template": {
                  "data": {
                    "bar": [
                      {
                        "error_x": {
                          "color": "#f2f5fa"
                        },
                        "error_y": {
                          "color": "#f2f5fa"
                        },
                        "marker": {
                          "line": {
                            "color": "rgb(17,17,17)",
                            "width": 0.5
                          },
                          "pattern": {
                            "fillmode": "overlay",
                            "size": 10,
                            "solidity": 0.2
                          }
                        },
                        "type": "bar"
                      }
                    ],
                    "barpolar": [
                      {
                        "marker": {
                          "line": {
                            "color": "rgb(17,17,17)",
                            "width": 0.5
                          },
                          "pattern": {
                            "fillmode": "overlay",
                            "size": 10,
                            "solidity": 0.2
                          }
                        },
                        "type": "barpolar"
                      }
                    ],
                    "carpet": [
                      {
                        "aaxis": {
                          "endlinecolor": "#A2B1C6",
                          "gridcolor": "#506784",
                          "linecolor": "#506784",
                          "minorgridcolor": "#506784",
                          "startlinecolor": "#A2B1C6"
                        },
                        "baxis": {
                          "endlinecolor": "#A2B1C6",
                          "gridcolor": "#506784",
                          "linecolor": "#506784",
                          "minorgridcolor": "#506784",
                          "startlinecolor": "#A2B1C6"
                        },
                        "type": "carpet"
                      }
                    ],
                    "choropleth": [
                      {
                        "colorbar": {
                          "outlinewidth": 0,
                          "ticks": ""
                        },
                        "type": "choropleth"
                      }
                    ],
                    "contour": [
                      {
                        "colorbar": {
                          "outlinewidth": 0,
                          "ticks": ""
                        },
                        "colorscale": [
                          [
                            0,
                            "#0d0887"
                          ],
                          [
                            0.1111111111111111,
                            "#46039f"
                          ],
                          [
                            0.2222222222222222,
                            "#7201a8"
                          ],
                          [
                            0.3333333333333333,
                            "#9c179e"
                          ],
                          [
                            0.4444444444444444,
                            "#bd3786"
                          ],
                          [
                            0.5555555555555556,
                            "#d8576b"
                          ],
                          [
                            0.6666666666666666,
                            "#ed7953"
                          ],
                          [
                            0.7777777777777778,
                            "#fb9f3a"
                          ],
                          [
                            0.8888888888888888,
                            "#fdca26"
                          ],
                          [
                            1,
                            "#f0f921"
                          ]
                        ],
                        "type": "contour"
                      }
                    ],
                    "contourcarpet": [
                      {
                        "colorbar": {
                          "outlinewidth": 0,
                          "ticks": ""
                        },
                        "type": "contourcarpet"
                      }
                    ],
                    "heatmap": [
                      {
                        "colorbar": {
                          "outlinewidth": 0,
                          "ticks": ""
                        },
                        "colorscale": [
                          [
                            0,
                            "#0d0887"
                          ],
                          [
                            0.1111111111111111,
                            "#46039f"
                          ],
                          [
                            0.2222222222222222,
                            "#7201a8"
                          ],
                          [
                            0.3333333333333333,
                            "#9c179e"
                          ],
                          [
                            0.4444444444444444,
                            "#bd3786"
                          ],
                          [
                            0.5555555555555556,
                            "#d8576b"
                          ],
                          [
                            0.6666666666666666,
                            "#ed7953"
                          ],
                          [
                            0.7777777777777778,
                            "#fb9f3a"
                          ],
                          [
                            0.8888888888888888,
                            "#fdca26"
                          ],
                          [
                            1,
                            "#f0f921"
                          ]
                        ],
                        "type": "heatmap"
                      }
                    ],
                    "heatmapgl": [
                      {
                        "colorbar": {
                          "outlinewidth": 0,
                          "ticks": ""
                        },
                        "colorscale": [
                          [
                            0,
                            "#0d0887"
                          ],
                          [
                            0.1111111111111111,
                            "#46039f"
                          ],
                          [
                            0.2222222222222222,
                            "#7201a8"
                          ],
                          [
                            0.3333333333333333,
                            "#9c179e"
                          ],
                          [
                            0.4444444444444444,
                            "#bd3786"
                          ],
                          [
                            0.5555555555555556,
                            "#d8576b"
                          ],
                          [
                            0.6666666666666666,
                            "#ed7953"
                          ],
                          [
                            0.7777777777777778,
                            "#fb9f3a"
                          ],
                          [
                            0.8888888888888888,
                            "#fdca26"
                          ],
                          [
                            1,
                            "#f0f921"
                          ]
                        ],
                        "type": "heatmapgl"
                      }
                    ],
                    "histogram": [
                      {
                        "marker": {
                          "pattern": {
                            "fillmode": "overlay",
                            "size": 10,
                            "solidity": 0.2
                          }
                        },
                        "type": "histogram"
                      }
                    ],
                    "histogram2d": [
                      {
                        "colorbar": {
                          "outlinewidth": 0,
                          "ticks": ""
                        },
                        "colorscale": [
                          [
                            0,
                            "#0d0887"
                          ],
                          [
                            0.1111111111111111,
                            "#46039f"
                          ],
                          [
                            0.2222222222222222,
                            "#7201a8"
                          ],
                          [
                            0.3333333333333333,
                            "#9c179e"
                          ],
                          [
                            0.4444444444444444,
                            "#bd3786"
                          ],
                          [
                            0.5555555555555556,
                            "#d8576b"
                          ],
                          [
                            0.6666666666666666,
                            "#ed7953"
                          ],
                          [
                            0.7777777777777778,
                            "#fb9f3a"
                          ],
                          [
                            0.8888888888888888,
                            "#fdca26"
                          ],
                          [
                            1,
                            "#f0f921"
                          ]
                        ],
                        "type": "histogram2d"
                      }
                    ],
                    "histogram2dcontour": [
                      {
                        "colorbar": {
                          "outlinewidth": 0,
                          "ticks": ""
                        },
                        "colorscale": [
                          [
                            0,
                            "#0d0887"
                          ],
                          [
                            0.1111111111111111,
                            "#46039f"
                          ],
                          [
                            0.2222222222222222,
                            "#7201a8"
                          ],
                          [
                            0.3333333333333333,
                            "#9c179e"
                          ],
                          [
                            0.4444444444444444,
                            "#bd3786"
                          ],
                          [
                            0.5555555555555556,
                            "#d8576b"
                          ],
                          [
                            0.6666666666666666,
                            "#ed7953"
                          ],
                          [
                            0.7777777777777778,
                            "#fb9f3a"
                          ],
                          [
                            0.8888888888888888,
                            "#fdca26"
                          ],
                          [
                            1,
                            "#f0f921"
                          ]
                        ],
                        "type": "histogram2dcontour"
                      }
                    ],
                    "mesh3d": [
                      {
                        "colorbar": {
                          "outlinewidth": 0,
                          "ticks": ""
                        },
                        "type": "mesh3d"
                      }
                    ],
                    "parcoords": [
                      {
                        "line": {
                          "colorbar": {
                            "outlinewidth": 0,
                            "ticks": ""
                          }
                        },
                        "type": "parcoords"
                      }
                    ],
                    "pie": [
                      {
                        "automargin": true,
                        "type": "pie"
                      }
                    ],
                    "scatter": [
                      {
                        "marker": {
                          "line": {
                            "color": "#283442"
                          }
                        },
                        "type": "scatter"
                      }
                    ],
                    "scatter3d": [
                      {
                        "line": {
                          "colorbar": {
                            "outlinewidth": 0,
                            "ticks": ""
                          }
                        },
                        "marker": {
                          "colorbar": {
                            "outlinewidth": 0,
                            "ticks": ""
                          }
                        },
                        "type": "scatter3d"
                      }
                    ],
                    "scattercarpet": [
                      {
                        "marker": {
                          "colorbar": {
                            "outlinewidth": 0,
                            "ticks": ""
                          }
                        },
                        "type": "scattercarpet"
                      }
                    ],
                    "scattergeo": [
                      {
                        "marker": {
                          "colorbar": {
                            "outlinewidth": 0,
                            "ticks": ""
                          }
                        },
                        "type": "scattergeo"
                      }
                    ],
                    "scattergl": [
                      {
                        "marker": {
                          "line": {
                            "color": "#283442"
                          }
                        },
                        "type": "scattergl"
                      }
                    ],
                    "scattermapbox": [
                      {
                        "marker": {
                          "colorbar": {
                            "outlinewidth": 0,
                            "ticks": ""
                          }
                        },
                        "type": "scattermapbox"
                      }
                    ],
                    "scatterpolar": [
                      {
                        "marker": {
                          "colorbar": {
                            "outlinewidth": 0,
                            "ticks": ""
                          }
                        },
                        "type": "scatterpolar"
                      }
                    ],
                    "scatterpolargl": [
                      {
                        "marker": {
                          "colorbar": {
                            "outlinewidth": 0,
                            "ticks": ""
                          }
                        },
                        "type": "scatterpolargl"
                      }
                    ],
                    "scatterternary": [
                      {
                        "marker": {
                          "colorbar": {
                            "outlinewidth": 0,
                            "ticks": ""
                          }
                        },
                        "type": "scatterternary"
                      }
                    ],
                    "surface": [
                      {
                        "colorbar": {
                          "outlinewidth": 0,
                          "ticks": ""
                        },
                        "colorscale": [
                          [
                            0,
                            "#0d0887"
                          ],
                          [
                            0.1111111111111111,
                            "#46039f"
                          ],
                          [
                            0.2222222222222222,
                            "#7201a8"
                          ],
                          [
                            0.3333333333333333,
                            "#9c179e"
                          ],
                          [
                            0.4444444444444444,
                            "#bd3786"
                          ],
                          [
                            0.5555555555555556,
                            "#d8576b"
                          ],
                          [
                            0.6666666666666666,
                            "#ed7953"
                          ],
                          [
                            0.7777777777777778,
                            "#fb9f3a"
                          ],
                          [
                            0.8888888888888888,
                            "#fdca26"
                          ],
                          [
                            1,
                            "#f0f921"
                          ]
                        ],
                        "type": "surface"
                      }
                    ],
                    "table": [
                      {
                        "cells": {
                          "fill": {
                            "color": "#506784"
                          },
                          "line": {
                            "color": "rgb(17,17,17)"
                          }
                        },
                        "header": {
                          "fill": {
                            "color": "#2a3f5f"
                          },
                          "line": {
                            "color": "rgb(17,17,17)"
                          }
                        },
                        "type": "table"
                      }
                    ]
                  },
                  "layout": {
                    "annotationdefaults": {
                      "arrowcolor": "#f2f5fa",
                      "arrowhead": 0,
                      "arrowwidth": 1
                    },
                    "autotypenumbers": "strict",
                    "coloraxis": {
                      "colorbar": {
                        "outlinewidth": 0,
                        "ticks": ""
                      }
                    },
                    "colorscale": {
                      "diverging": [
                        [
                          0,
                          "#8e0152"
                        ],
                        [
                          0.1,
                          "#c51b7d"
                        ],
                        [
                          0.2,
                          "#de77ae"
                        ],
                        [
                          0.3,
                          "#f1b6da"
                        ],
                        [
                          0.4,
                          "#fde0ef"
                        ],
                        [
                          0.5,
                          "#f7f7f7"
                        ],
                        [
                          0.6,
                          "#e6f5d0"
                        ],
                        [
                          0.7,
                          "#b8e186"
                        ],
                        [
                          0.8,
                          "#7fbc41"
                        ],
                        [
                          0.9,
                          "#4d9221"
                        ],
                        [
                          1,
                          "#276419"
                        ]
                      ],
                      "sequential": [
                        [
                          0,
                          "#0d0887"
                        ],
                        [
                          0.1111111111111111,
                          "#46039f"
                        ],
                        [
                          0.2222222222222222,
                          "#7201a8"
                        ],
                        [
                          0.3333333333333333,
                          "#9c179e"
                        ],
                        [
                          0.4444444444444444,
                          "#bd3786"
                        ],
                        [
                          0.5555555555555556,
                          "#d8576b"
                        ],
                        [
                          0.6666666666666666,
                          "#ed7953"
                        ],
                        [
                          0.7777777777777778,
                          "#fb9f3a"
                        ],
                        [
                          0.8888888888888888,
                          "#fdca26"
                        ],
                        [
                          1,
                          "#f0f921"
                        ]
                      ],
                      "sequentialminus": [
                        [
                          0,
                          "#0d0887"
                        ],
                        [
                          0.1111111111111111,
                          "#46039f"
                        ],
                        [
                          0.2222222222222222,
                          "#7201a8"
                        ],
                        [
                          0.3333333333333333,
                          "#9c179e"
                        ],
                        [
                          0.4444444444444444,
                          "#bd3786"
                        ],
                        [
                          0.5555555555555556,
                          "#d8576b"
                        ],
                        [
                          0.6666666666666666,
                          "#ed7953"
                        ],
                        [
                          0.7777777777777778,
                          "#fb9f3a"
                        ],
                        [
                          0.8888888888888888,
                          "#fdca26"
                        ],
                        [
                          1,
                          "#f0f921"
                        ]
                      ]
                    },
                    "colorway": [
                      "#636efa",
                      "#EF553B",
                      "#00cc96",
                      "#ab63fa",
                      "#FFA15A",
                      "#19d3f3",
                      "#FF6692",
                      "#B6E880",
                      "#FF97FF",
                      "#FECB52"
                    ],
                    "font": {
                      "color": "#f2f5fa"
                    },
                    "geo": {
                      "bgcolor": "rgb(17,17,17)",
                      "lakecolor": "rgb(17,17,17)",
                      "landcolor": "rgb(17,17,17)",
                      "showlakes": true,
                      "showland": true,
                      "subunitcolor": "#506784"
                    },
                    "hoverlabel": {
                      "align": "left"
                    },
                    "hovermode": "closest",
                    "mapbox": {
                      "style": "dark"
                    },
                    "paper_bgcolor": "rgb(17,17,17)",
                    "plot_bgcolor": "rgb(17,17,17)",
                    "polar": {
                      "angularaxis": {
                        "gridcolor": "#506784",
                        "linecolor": "#506784",
                        "ticks": ""
                      },
                      "bgcolor": "rgb(17,17,17)",
                      "radialaxis": {
                        "gridcolor": "#506784",
                        "linecolor": "#506784",
                        "ticks": ""
                      }
                    },
                    "scene": {
                      "xaxis": {
                        "backgroundcolor": "rgb(17,17,17)",
                        "gridcolor": "#506784",
                        "gridwidth": 2,
                        "linecolor": "#506784",
                        "showbackground": true,
                        "ticks": "",
                        "zerolinecolor": "#C8D4E3"
                      },
                      "yaxis": {
                        "backgroundcolor": "rgb(17,17,17)",
                        "gridcolor": "#506784",
                        "gridwidth": 2,
                        "linecolor": "#506784",
                        "showbackground": true,
                        "ticks": "",
                        "zerolinecolor": "#C8D4E3"
                      },
                      "zaxis": {
                        "backgroundcolor": "rgb(17,17,17)",
                        "gridcolor": "#506784",
                        "gridwidth": 2,
                        "linecolor": "#506784",
                        "showbackground": true,
                        "ticks": "",
                        "zerolinecolor": "#C8D4E3"
                      }
                    },
                    "shapedefaults": {
                      "line": {
                        "color": "#f2f5fa"
                      }
                    },
                    "sliderdefaults": {
                      "bgcolor": "#C8D4E3",
                      "bordercolor": "rgb(17,17,17)",
                      "borderwidth": 1,
                      "tickwidth": 0
                    },
                    "ternary": {
                      "aaxis": {
                        "gridcolor": "#506784",
                        "linecolor": "#506784",
                        "ticks": ""
                      },
                      "baxis": {
                        "gridcolor": "#506784",
                        "linecolor": "#506784",
                        "ticks": ""
                      },
                      "bgcolor": "rgb(17,17,17)",
                      "caxis": {
                        "gridcolor": "#506784",
                        "linecolor": "#506784",
                        "ticks": ""
                      }
                    },
                    "title": {
                      "x": 0.05
                    },
                    "updatemenudefaults": {
                      "bgcolor": "#506784",
                      "borderwidth": 0
                    },
                    "xaxis": {
                      "automargin": true,
                      "gridcolor": "#283442",
                      "linecolor": "#506784",
                      "ticks": "",
                      "title": {
                        "standoff": 15
                      },
                      "zerolinecolor": "#283442",
                      "zerolinewidth": 2
                    },
                    "yaxis": {
                      "automargin": true,
                      "gridcolor": "#283442",
                      "linecolor": "#506784",
                      "ticks": "",
                      "title": {
                        "standoff": 15
                      },
                      "zerolinecolor": "#283442",
                      "zerolinewidth": 2
                    }
                  }
                },
                "title": {
                  "text": "Choropleth Map of AverageTemperature "
                }
              }
            },
            "text/html": [
              "<div>                            <div id=\"743e802e-ec0b-4cf6-8a1c-9edb1370c9e6\" class=\"plotly-graph-div\" style=\"height:525px; width:100%;\"></div>            <script type=\"text/javascript\">                require([\"plotly\"], function(Plotly) {                    window.PLOTLYENV=window.PLOTLYENV || {};                                    if (document.getElementById(\"743e802e-ec0b-4cf6-8a1c-9edb1370c9e6\")) {                    Plotly.newPlot(                        \"743e802e-ec0b-4cf6-8a1c-9edb1370c9e6\",                        [{\"coloraxis\":\"coloraxis\",\"geo\":\"geo\",\"hovertemplate\":\"Country=%{location}<br>AverageTemperature=%{z}<extra></extra>\",\"locationmode\":\"country names\",\"locations\":[\"Afghanistan\",\"Africa\",\"Albania\",\"Algeria\",\"American Samoa\",\"Andorra\",\"Angola\",\"Anguilla\",\"Antigua And Barbuda\",\"Argentina\",\"Armenia\",\"Aruba\",\"Asia\",\"Australia\",\"Austria\",\"Azerbaijan\",\"Bahamas\",\"Bahrain\",\"Baker Island\",\"Bangladesh\",\"Barbados\",\"Belarus\",\"Belgium\",\"Belize\",\"Benin\",\"Bhutan\",\"Bolivia\",\"Bonaire, Saint Eustatius And Saba\",\"Bosnia And Herzegovina\",\"Botswana\",\"Brazil\",\"British Virgin Islands\",\"Bulgaria\",\"Burkina Faso\",\"Burma\",\"Burundi\",\"Cambodia\",\"Cameroon\",\"Canada\",\"Cape Verde\",\"Cayman Islands\",\"Central African Republic\",\"Chad\",\"Chile\",\"China\",\"Christmas Island\",\"Colombia\",\"Comoros\",\"Congo\",\"Costa Rica\",\"Croatia\",\"Cuba\",\"Cura\\u00e7ao\",\"Cyprus\",\"Czech Republic\",\"C\\u00f4te D'Ivoire\",\"Denmark\",\"Djibouti\",\"Dominica\",\"Dominican Republic\",\"Ecuador\",\"Egypt\",\"El Salvador\",\"Equatorial Guinea\",\"Eritrea\",\"Estonia\",\"Ethiopia\",\"Europe\",\"Falkland Islands (Islas Malvinas)\",\"Faroe Islands\",\"Federated States Of Micronesia\",\"Fiji\",\"Finland\",\"France\",\"French Guiana\",\"French Polynesia\",\"French Southern And Antarctic Lands\",\"Gabon\",\"Gambia\",\"Gaza Strip\",\"Georgia\",\"Germany\",\"Ghana\",\"Greece\",\"Greenland\",\"Grenada\",\"Guadeloupe\",\"Guam\",\"Guatemala\",\"Guernsey\",\"Guinea\",\"Guinea Bissau\",\"Guyana\",\"Haiti\",\"Heard Island And Mcdonald Islands\",\"Honduras\",\"Hong Kong\",\"Hungary\",\"Iceland\",\"India\",\"Indonesia\",\"Iran\",\"Iraq\",\"Ireland\",\"Isle Of Man\",\"Israel\",\"Italy\",\"Jamaica\",\"Japan\",\"Jersey\",\"Jordan\",\"Kazakhstan\",\"Kenya\",\"Kingman Reef\",\"Kiribati\",\"Kuwait\",\"Kyrgyzstan\",\"Laos\",\"Latvia\",\"Lebanon\",\"Lesotho\",\"Liberia\",\"Libya\",\"Liechtenstein\",\"Lithuania\",\"Luxembourg\",\"Macau\",\"Macedonia\",\"Madagascar\",\"Malawi\",\"Malaysia\",\"Mali\",\"Malta\",\"Martinique\",\"Mauritania\",\"Mauritius\",\"Mayotte\",\"Mexico\",\"Moldova\",\"Monaco\",\"Mongolia\",\"Montenegro\",\"Montserrat\",\"Morocco\",\"Mozambique\",\"Namibia\",\"Nepal\",\"Netherlands\",\"New Caledonia\",\"New Zealand\",\"Nicaragua\",\"Niger\",\"Nigeria\",\"Niue\",\"North America\",\"North Korea\",\"Northern Mariana Islands\",\"Norway\",\"Oceania\",\"Oman\",\"Pakistan\",\"Palau\",\"Palestina\",\"Palmyra Atoll\",\"Panama\",\"Papua New Guinea\",\"Paraguay\",\"Peru\",\"Philippines\",\"Poland\",\"Portugal\",\"Puerto Rico\",\"Qatar\",\"Reunion\",\"Romania\",\"Russia\",\"Rwanda\",\"Saint Barth\\u00e9lemy\",\"Saint Kitts And Nevis\",\"Saint Lucia\",\"Saint Martin\",\"Saint Pierre And Miquelon\",\"Saint Vincent And The Grenadines\",\"Samoa\",\"San Marino\",\"Sao Tome And Principe\",\"Saudi Arabia\",\"Senegal\",\"Serbia\",\"Seychelles\",\"Sierra Leone\",\"Singapore\",\"Sint Maarten\",\"Slovakia\",\"Slovenia\",\"Solomon Islands\",\"Somalia\",\"South Africa\",\"South America\",\"South Georgia And The South Sandwich Isla\",\"South Korea\",\"Spain\",\"Sri Lanka\",\"Sudan\",\"Suriname\",\"Svalbard And Jan Mayen\",\"Swaziland\",\"Sweden\",\"Switzerland\",\"Syria\",\"Taiwan\",\"Tajikistan\",\"Tanzania\",\"Thailand\",\"Timor Leste\",\"Togo\",\"Tonga\",\"Trinidad And Tobago\",\"Tunisia\",\"Turkey\",\"Turkmenistan\",\"Turks And Caicas Islands\",\"Uganda\",\"Ukraine\",\"United Arab Emirates\",\"United Kingdom\",\"United States\",\"Uruguay\",\"Uzbekistan\",\"Venezuela\",\"Vietnam\",\"Virgin Islands\",\"Western Sahara\",\"Yemen\",\"Zambia\",\"Zimbabwe\",\"\\u00c5land\"],\"name\":\"\",\"z\":[14.045007194244604,24.074202745512142,12.610645925457991,22.98511176905996,26.611965009208106,11.201553063802905,21.824549189814817,26.61049185043145,26.437924256951103,14.621194210526316,8.551647926634768,27.92039022051774,7.3478922231614545,21.62469689119171,6.210731838281744,11.175936074918567,25.12822004008016,25.9308093346574,25.37235023279876,24.820242783708977,26.458547938638542,5.819288060644346,9.483378395451673,25.052099776286354,27.17199943181818,11.811878969957082,20.87723052631579,27.17329482262704,10.421283954516742,21.87929669156884,24.699255545286505,26.336523239099186,10.482968414403032,28.083506760411034,23.706197239536955,20.07099012775842,26.65685403576607,24.352585590778098,-5.216658945686901,24.185563568376068,26.722504150283967,25.280406916426514,27.120466282420747,9.383473684210525,6.612731031349386,25.784654071314527,24.716870967741936,25.70220930232558,24.118099942396316,25.61578443420379,11.342399873657612,25.40742638706859,27.353414669223397,18.787745686421605,7.62601926721415,25.94853606027987,-3.0265029336266958,28.8166025331725,26.110151486097795,25.547511210762334,21.869970347003154,22.620693031209917,24.906704545454545,24.921677809798272,26.802653110047846,4.819805748578648,23.01235675997618,7.830063802905875,6.076773492667029,6.619001579279849,26.944357771260997,25.038671779141108,1.244742261528743,11.594245735944408,25.718151106833492,26.10709611829945,4.9831111111111115,24.254725648414986,27.538551816239316,19.192636960985627,8.106881895881896,8.152496209728364,26.711013551665726,14.773012002526848,-18.58745804195804,26.741952061361456,26.32956088207095,26.996834337349398,23.111650494159928,10.928408717624762,25.452353098290597,26.76136664885088,25.930920115495667,26.295837740923353,2.5621149425287357,24.69554799459216,22.65989491362764,9.722423246999368,1.4050650663297535,23.873789473684212,25.684483767961684,17.607076451156207,21.775628879310347,9.419558433354391,9.365805432722679,19.62657730263158,12.737121920404297,26.096339563862927,11.951907335907336,10.928408717624762,19.346512587701195,5.202144758735441,24.102428231089934,27.13303443877551,26.73686534779834,25.098140232108317,3.2204981651376143,23.574696349065007,5.320545167403664,17.63161773078487,13.726681793913508,25.37773793103448,22.268253938484623,4.642939039797852,5.9079917877447885,9.165196462413139,22.418374760076777,10.375550852811118,22.74904594441293,21.431086144578316,25.80544200779727,28.44197657082002,18.494875319693094,26.110151486097795,27.62025550435228,23.522653983353152,26.340961429381736,20.567558041958044,8.9317166771952,9.024701831964624,-0.8206709844559585,10.214629500947568,26.383128475551292,17.627497409326423,23.59619475878499,20.484495197438637,14.8073906122449,9.308701831964624,22.700108194965186,10.371239107883817,25.957508780036967,27.458972540045767,26.744708309122604,25.094878453038675,2.0283738920225622,6.748336832061068,26.996834337349398,0.09580385344283004,21.452989119170983,26.91686266589729,20.615513304305757,27.216379332477533,23.125663223140496,27.16345599489796,26.291620638085742,24.450801898734177,23.237967557251906,19.935974230044,26.44047248677249,7.46020593809223,14.688179987212276,25.45196166746526,26.784996015936255,23.30140309155767,8.76090176879343,-5.521881912681913,19.244422183507552,26.61049185043145,25.85218600191755,26.646838446788113,26.61049185043145,4.223059955113818,26.78944870565676,26.33186249232658,13.83142229943146,25.794386167146975,25.546407835258666,27.967375,9.986563171193936,26.738423142370962,26.022571277159514,26.52310282651072,26.61049185043145,7.527216993051168,9.659700568540746,26.62503698979592,26.877085169743896,17.27098291510945,21.823920081967213,1.4010251017639077,11.849048745173745,13.61283417561592,26.947687001594897,27.09335942857143,26.17166313763234,-7.448027925531916,18.839807261078484,2.3863319646241314,6.992051484523057,17.917548596990645,21.937427536231883,4.016035217794253,22.34791097178683,25.986800979519145,25.96633271832718,26.87178275666478,23.236247852760737,26.118751198465965,19.97059047314578,11.631567300916139,14.781998181818182,26.662733508082134,23.03296871378911,7.653507264687303,27.693994700582934,8.572556696146558,8.60357252215955,17.149306774809162,12.278015938069217,25.025685522531163,23.688365504061156,26.336523239099186,22.319817823343847,26.253596725288055,21.282955621301774,21.117547246376812,5.291383449147189],\"type\":\"choropleth\"}],                        {\"template\":{\"data\":{\"barpolar\":[{\"marker\":{\"line\":{\"color\":\"rgb(17,17,17)\",\"width\":0.5},\"pattern\":{\"fillmode\":\"overlay\",\"size\":10,\"solidity\":0.2}},\"type\":\"barpolar\"}],\"bar\":[{\"error_x\":{\"color\":\"#f2f5fa\"},\"error_y\":{\"color\":\"#f2f5fa\"},\"marker\":{\"line\":{\"color\":\"rgb(17,17,17)\",\"width\":0.5},\"pattern\":{\"fillmode\":\"overlay\",\"size\":10,\"solidity\":0.2}},\"type\":\"bar\"}],\"carpet\":[{\"aaxis\":{\"endlinecolor\":\"#A2B1C6\",\"gridcolor\":\"#506784\",\"linecolor\":\"#506784\",\"minorgridcolor\":\"#506784\",\"startlinecolor\":\"#A2B1C6\"},\"baxis\":{\"endlinecolor\":\"#A2B1C6\",\"gridcolor\":\"#506784\",\"linecolor\":\"#506784\",\"minorgridcolor\":\"#506784\",\"startlinecolor\":\"#A2B1C6\"},\"type\":\"carpet\"}],\"choropleth\":[{\"colorbar\":{\"outlinewidth\":0,\"ticks\":\"\"},\"type\":\"choropleth\"}],\"contourcarpet\":[{\"colorbar\":{\"outlinewidth\":0,\"ticks\":\"\"},\"type\":\"contourcarpet\"}],\"contour\":[{\"colorbar\":{\"outlinewidth\":0,\"ticks\":\"\"},\"colorscale\":[[0.0,\"#0d0887\"],[0.1111111111111111,\"#46039f\"],[0.2222222222222222,\"#7201a8\"],[0.3333333333333333,\"#9c179e\"],[0.4444444444444444,\"#bd3786\"],[0.5555555555555556,\"#d8576b\"],[0.6666666666666666,\"#ed7953\"],[0.7777777777777778,\"#fb9f3a\"],[0.8888888888888888,\"#fdca26\"],[1.0,\"#f0f921\"]],\"type\":\"contour\"}],\"heatmapgl\":[{\"colorbar\":{\"outlinewidth\":0,\"ticks\":\"\"},\"colorscale\":[[0.0,\"#0d0887\"],[0.1111111111111111,\"#46039f\"],[0.2222222222222222,\"#7201a8\"],[0.3333333333333333,\"#9c179e\"],[0.4444444444444444,\"#bd3786\"],[0.5555555555555556,\"#d8576b\"],[0.6666666666666666,\"#ed7953\"],[0.7777777777777778,\"#fb9f3a\"],[0.8888888888888888,\"#fdca26\"],[1.0,\"#f0f921\"]],\"type\":\"heatmapgl\"}],\"heatmap\":[{\"colorbar\":{\"outlinewidth\":0,\"ticks\":\"\"},\"colorscale\":[[0.0,\"#0d0887\"],[0.1111111111111111,\"#46039f\"],[0.2222222222222222,\"#7201a8\"],[0.3333333333333333,\"#9c179e\"],[0.4444444444444444,\"#bd3786\"],[0.5555555555555556,\"#d8576b\"],[0.6666666666666666,\"#ed7953\"],[0.7777777777777778,\"#fb9f3a\"],[0.8888888888888888,\"#fdca26\"],[1.0,\"#f0f921\"]],\"type\":\"heatmap\"}],\"histogram2dcontour\":[{\"colorbar\":{\"outlinewidth\":0,\"ticks\":\"\"},\"colorscale\":[[0.0,\"#0d0887\"],[0.1111111111111111,\"#46039f\"],[0.2222222222222222,\"#7201a8\"],[0.3333333333333333,\"#9c179e\"],[0.4444444444444444,\"#bd3786\"],[0.5555555555555556,\"#d8576b\"],[0.6666666666666666,\"#ed7953\"],[0.7777777777777778,\"#fb9f3a\"],[0.8888888888888888,\"#fdca26\"],[1.0,\"#f0f921\"]],\"type\":\"histogram2dcontour\"}],\"histogram2d\":[{\"colorbar\":{\"outlinewidth\":0,\"ticks\":\"\"},\"colorscale\":[[0.0,\"#0d0887\"],[0.1111111111111111,\"#46039f\"],[0.2222222222222222,\"#7201a8\"],[0.3333333333333333,\"#9c179e\"],[0.4444444444444444,\"#bd3786\"],[0.5555555555555556,\"#d8576b\"],[0.6666666666666666,\"#ed7953\"],[0.7777777777777778,\"#fb9f3a\"],[0.8888888888888888,\"#fdca26\"],[1.0,\"#f0f921\"]],\"type\":\"histogram2d\"}],\"histogram\":[{\"marker\":{\"pattern\":{\"fillmode\":\"overlay\",\"size\":10,\"solidity\":0.2}},\"type\":\"histogram\"}],\"mesh3d\":[{\"colorbar\":{\"outlinewidth\":0,\"ticks\":\"\"},\"type\":\"mesh3d\"}],\"parcoords\":[{\"line\":{\"colorbar\":{\"outlinewidth\":0,\"ticks\":\"\"}},\"type\":\"parcoords\"}],\"pie\":[{\"automargin\":true,\"type\":\"pie\"}],\"scatter3d\":[{\"line\":{\"colorbar\":{\"outlinewidth\":0,\"ticks\":\"\"}},\"marker\":{\"colorbar\":{\"outlinewidth\":0,\"ticks\":\"\"}},\"type\":\"scatter3d\"}],\"scattercarpet\":[{\"marker\":{\"colorbar\":{\"outlinewidth\":0,\"ticks\":\"\"}},\"type\":\"scattercarpet\"}],\"scattergeo\":[{\"marker\":{\"colorbar\":{\"outlinewidth\":0,\"ticks\":\"\"}},\"type\":\"scattergeo\"}],\"scattergl\":[{\"marker\":{\"line\":{\"color\":\"#283442\"}},\"type\":\"scattergl\"}],\"scattermapbox\":[{\"marker\":{\"colorbar\":{\"outlinewidth\":0,\"ticks\":\"\"}},\"type\":\"scattermapbox\"}],\"scatterpolargl\":[{\"marker\":{\"colorbar\":{\"outlinewidth\":0,\"ticks\":\"\"}},\"type\":\"scatterpolargl\"}],\"scatterpolar\":[{\"marker\":{\"colorbar\":{\"outlinewidth\":0,\"ticks\":\"\"}},\"type\":\"scatterpolar\"}],\"scatter\":[{\"marker\":{\"line\":{\"color\":\"#283442\"}},\"type\":\"scatter\"}],\"scatterternary\":[{\"marker\":{\"colorbar\":{\"outlinewidth\":0,\"ticks\":\"\"}},\"type\":\"scatterternary\"}],\"surface\":[{\"colorbar\":{\"outlinewidth\":0,\"ticks\":\"\"},\"colorscale\":[[0.0,\"#0d0887\"],[0.1111111111111111,\"#46039f\"],[0.2222222222222222,\"#7201a8\"],[0.3333333333333333,\"#9c179e\"],[0.4444444444444444,\"#bd3786\"],[0.5555555555555556,\"#d8576b\"],[0.6666666666666666,\"#ed7953\"],[0.7777777777777778,\"#fb9f3a\"],[0.8888888888888888,\"#fdca26\"],[1.0,\"#f0f921\"]],\"type\":\"surface\"}],\"table\":[{\"cells\":{\"fill\":{\"color\":\"#506784\"},\"line\":{\"color\":\"rgb(17,17,17)\"}},\"header\":{\"fill\":{\"color\":\"#2a3f5f\"},\"line\":{\"color\":\"rgb(17,17,17)\"}},\"type\":\"table\"}]},\"layout\":{\"annotationdefaults\":{\"arrowcolor\":\"#f2f5fa\",\"arrowhead\":0,\"arrowwidth\":1},\"autotypenumbers\":\"strict\",\"coloraxis\":{\"colorbar\":{\"outlinewidth\":0,\"ticks\":\"\"}},\"colorscale\":{\"diverging\":[[0,\"#8e0152\"],[0.1,\"#c51b7d\"],[0.2,\"#de77ae\"],[0.3,\"#f1b6da\"],[0.4,\"#fde0ef\"],[0.5,\"#f7f7f7\"],[0.6,\"#e6f5d0\"],[0.7,\"#b8e186\"],[0.8,\"#7fbc41\"],[0.9,\"#4d9221\"],[1,\"#276419\"]],\"sequential\":[[0.0,\"#0d0887\"],[0.1111111111111111,\"#46039f\"],[0.2222222222222222,\"#7201a8\"],[0.3333333333333333,\"#9c179e\"],[0.4444444444444444,\"#bd3786\"],[0.5555555555555556,\"#d8576b\"],[0.6666666666666666,\"#ed7953\"],[0.7777777777777778,\"#fb9f3a\"],[0.8888888888888888,\"#fdca26\"],[1.0,\"#f0f921\"]],\"sequentialminus\":[[0.0,\"#0d0887\"],[0.1111111111111111,\"#46039f\"],[0.2222222222222222,\"#7201a8\"],[0.3333333333333333,\"#9c179e\"],[0.4444444444444444,\"#bd3786\"],[0.5555555555555556,\"#d8576b\"],[0.6666666666666666,\"#ed7953\"],[0.7777777777777778,\"#fb9f3a\"],[0.8888888888888888,\"#fdca26\"],[1.0,\"#f0f921\"]]},\"colorway\":[\"#636efa\",\"#EF553B\",\"#00cc96\",\"#ab63fa\",\"#FFA15A\",\"#19d3f3\",\"#FF6692\",\"#B6E880\",\"#FF97FF\",\"#FECB52\"],\"font\":{\"color\":\"#f2f5fa\"},\"geo\":{\"bgcolor\":\"rgb(17,17,17)\",\"lakecolor\":\"rgb(17,17,17)\",\"landcolor\":\"rgb(17,17,17)\",\"showlakes\":true,\"showland\":true,\"subunitcolor\":\"#506784\"},\"hoverlabel\":{\"align\":\"left\"},\"hovermode\":\"closest\",\"mapbox\":{\"style\":\"dark\"},\"paper_bgcolor\":\"rgb(17,17,17)\",\"plot_bgcolor\":\"rgb(17,17,17)\",\"polar\":{\"angularaxis\":{\"gridcolor\":\"#506784\",\"linecolor\":\"#506784\",\"ticks\":\"\"},\"bgcolor\":\"rgb(17,17,17)\",\"radialaxis\":{\"gridcolor\":\"#506784\",\"linecolor\":\"#506784\",\"ticks\":\"\"}},\"scene\":{\"xaxis\":{\"backgroundcolor\":\"rgb(17,17,17)\",\"gridcolor\":\"#506784\",\"gridwidth\":2,\"linecolor\":\"#506784\",\"showbackground\":true,\"ticks\":\"\",\"zerolinecolor\":\"#C8D4E3\"},\"yaxis\":{\"backgroundcolor\":\"rgb(17,17,17)\",\"gridcolor\":\"#506784\",\"gridwidth\":2,\"linecolor\":\"#506784\",\"showbackground\":true,\"ticks\":\"\",\"zerolinecolor\":\"#C8D4E3\"},\"zaxis\":{\"backgroundcolor\":\"rgb(17,17,17)\",\"gridcolor\":\"#506784\",\"gridwidth\":2,\"linecolor\":\"#506784\",\"showbackground\":true,\"ticks\":\"\",\"zerolinecolor\":\"#C8D4E3\"}},\"shapedefaults\":{\"line\":{\"color\":\"#f2f5fa\"}},\"sliderdefaults\":{\"bgcolor\":\"#C8D4E3\",\"bordercolor\":\"rgb(17,17,17)\",\"borderwidth\":1,\"tickwidth\":0},\"ternary\":{\"aaxis\":{\"gridcolor\":\"#506784\",\"linecolor\":\"#506784\",\"ticks\":\"\"},\"baxis\":{\"gridcolor\":\"#506784\",\"linecolor\":\"#506784\",\"ticks\":\"\"},\"bgcolor\":\"rgb(17,17,17)\",\"caxis\":{\"gridcolor\":\"#506784\",\"linecolor\":\"#506784\",\"ticks\":\"\"}},\"title\":{\"x\":0.05},\"updatemenudefaults\":{\"bgcolor\":\"#506784\",\"borderwidth\":0},\"xaxis\":{\"automargin\":true,\"gridcolor\":\"#283442\",\"linecolor\":\"#506784\",\"ticks\":\"\",\"title\":{\"standoff\":15},\"zerolinecolor\":\"#283442\",\"zerolinewidth\":2},\"yaxis\":{\"automargin\":true,\"gridcolor\":\"#283442\",\"linecolor\":\"#506784\",\"ticks\":\"\",\"title\":{\"standoff\":15},\"zerolinecolor\":\"#283442\",\"zerolinewidth\":2}}},\"geo\":{\"domain\":{\"x\":[0.0,1.0],\"y\":[0.0,1.0]},\"center\":{}},\"coloraxis\":{\"colorbar\":{\"title\":{\"text\":\"AverageTemperature\"}},\"colorscale\":[[0.0,\"#0d0887\"],[0.1111111111111111,\"#46039f\"],[0.2222222222222222,\"#7201a8\"],[0.3333333333333333,\"#9c179e\"],[0.4444444444444444,\"#bd3786\"],[0.5555555555555556,\"#d8576b\"],[0.6666666666666666,\"#ed7953\"],[0.7777777777777778,\"#fb9f3a\"],[0.8888888888888888,\"#fdca26\"],[1.0,\"#f0f921\"]]},\"legend\":{\"tracegroupgap\":0},\"margin\":{\"t\":60},\"title\":{\"text\":\"Choropleth Map of AverageTemperature \"}},                        {\"responsive\": true}                    ).then(function(){\n",
              "                            \n",
              "var gd = document.getElementById('743e802e-ec0b-4cf6-8a1c-9edb1370c9e6');\n",
              "var x = new MutationObserver(function (mutations, observer) {{\n",
              "        var display = window.getComputedStyle(gd).display;\n",
              "        if (!display || display === 'none') {{\n",
              "            console.log([gd, 'removed!']);\n",
              "            Plotly.purge(gd);\n",
              "            observer.disconnect();\n",
              "        }}\n",
              "}});\n",
              "\n",
              "// Listen for the removal of the full notebook cells\n",
              "var notebookContainer = gd.closest('#notebook-container');\n",
              "if (notebookContainer) {{\n",
              "    x.observe(notebookContainer, {childList: true});\n",
              "}}\n",
              "\n",
              "// Listen for the clearing of the current output cell\n",
              "var outputEl = gd.closest('.output');\n",
              "if (outputEl) {{\n",
              "    x.observe(outputEl, {childList: true});\n",
              "}}\n",
              "\n",
              "                        })                };                });            </script>        </div>"
            ]
          },
          "metadata": {},
          "output_type": "display_data"
        }
      ],
      "source": [
        "fig = px.choropleth(avg_temp,locations='Country',locationmode='country names',color='AverageTemperature')\n",
        "fig.update_layout(title='Choropleth Map of AverageTemperature ',template=\"plotly_dark\")\n",
        "fig.show()"
      ]
    },
    {
      "cell_type": "code",
      "execution_count": 79,
      "metadata": {
        "colab": {
          "base_uri": "https://localhost:8080/",
          "height": 296
        },
        "id": "ACslMIW7hLJa",
        "outputId": "80ecc945-f256-46c3-b42d-022050d536a9"
      },
      "outputs": [
        {
          "data": {
            "text/plain": [
              "<AxesSubplot:xlabel='AverageTemperature', ylabel='Country'>"
            ]
          },
          "execution_count": 79,
          "metadata": {},
          "output_type": "execute_result"
        },
        {
          "data": {
            "image/png": "[encoded data removed]",
            "text/plain": [
              "<Figure size 432x288 with 1 Axes>"
            ]
          },
          "metadata": {
            "needs_background": "light"
          },
          "output_type": "display_data"
        }
      ],
      "source": [
        "sns.barplot(x=avg_temp.sort_values(by='AverageTemperature',ascending=False)['AverageTemperature'][0:20],y=avg_temp.sort_values(by='AverageTemperature',ascending=False)['Country'][0:20])"
      ]
    },
    {
      "cell_type": "code",
      "execution_count": 80,
      "metadata": {
        "colab": {
          "base_uri": "https://localhost:8080/",
          "height": 357
        },
        "id": "jVybs73OhLJb",
        "outputId": "8af6011d-cda2-4fa3-8acb-0f9dae375a08"
      },
      "outputs": [
        {
          "data": {
            "text/html": [
              "<div>\n",
              "<style scoped>\n",
              "    .dataframe tbody tr th:only-of-type {\n",
              "        vertical-align: middle;\n",
              "    }\n",
              "\n",
              "    .dataframe tbody tr th {\n",
              "        vertical-align: top;\n",
              "    }\n",
              "\n",
              "    .dataframe thead th {\n",
              "        text-align: right;\n",
              "    }\n",
              "</style>\n",
              "<table border=\"1\" class=\"dataframe\">\n",
              "  <thead>\n",
              "    <tr style=\"text-align: right;\">\n",
              "      <th></th>\n",
              "      <th>dt</th>\n",
              "      <th>LandAverageTemperature</th>\n",
              "      <th>LandAverageTemperatureUncertainty</th>\n",
              "      <th>LandMaxTemperature</th>\n",
              "      <th>LandMaxTemperatureUncertainty</th>\n",
              "      <th>LandMinTemperature</th>\n",
              "      <th>LandMinTemperatureUncertainty</th>\n",
              "      <th>LandAndOceanAverageTemperature</th>\n",
              "      <th>LandAndOceanAverageTemperatureUncertainty</th>\n",
              "    </tr>\n",
              "  </thead>\n",
              "  <tbody>\n",
              "    <tr>\n",
              "      <th>0</th>\n",
              "      <td>1750-01-01</td>\n",
              "      <td>3.034</td>\n",
              "      <td>3.574</td>\n",
              "      <td>NaN</td>\n",
              "      <td>NaN</td>\n",
              "      <td>NaN</td>\n",
              "      <td>NaN</td>\n",
              "      <td>NaN</td>\n",
              "      <td>NaN</td>\n",
              "    </tr>\n",
              "    <tr>\n",
              "      <th>1</th>\n",
              "      <td>1750-02-01</td>\n",
              "      <td>3.083</td>\n",
              "      <td>3.702</td>\n",
              "      <td>NaN</td>\n",
              "      <td>NaN</td>\n",
              "      <td>NaN</td>\n",
              "      <td>NaN</td>\n",
              "      <td>NaN</td>\n",
              "      <td>NaN</td>\n",
              "    </tr>\n",
              "    <tr>\n",
              "      <th>2</th>\n",
              "      <td>1750-03-01</td>\n",
              "      <td>5.626</td>\n",
              "      <td>3.076</td>\n",
              "      <td>NaN</td>\n",
              "      <td>NaN</td>\n",
              "      <td>NaN</td>\n",
              "      <td>NaN</td>\n",
              "      <td>NaN</td>\n",
              "      <td>NaN</td>\n",
              "    </tr>\n",
              "    <tr>\n",
              "      <th>3</th>\n",
              "      <td>1750-04-01</td>\n",
              "      <td>8.490</td>\n",
              "      <td>2.451</td>\n",
              "      <td>NaN</td>\n",
              "      <td>NaN</td>\n",
              "      <td>NaN</td>\n",
              "      <td>NaN</td>\n",
              "      <td>NaN</td>\n",
              "      <td>NaN</td>\n",
              "    </tr>\n",
              "    <tr>\n",
              "      <th>4</th>\n",
              "      <td>1750-05-01</td>\n",
              "      <td>11.573</td>\n",
              "      <td>2.072</td>\n",
              "      <td>NaN</td>\n",
              "      <td>NaN</td>\n",
              "      <td>NaN</td>\n",
              "      <td>NaN</td>\n",
              "      <td>NaN</td>\n",
              "      <td>NaN</td>\n",
              "    </tr>\n",
              "  </tbody>\n",
              "</table>\n",
              "</div>"
            ],
            "text/plain": [
              "           dt  LandAverageTemperature  LandAverageTemperatureUncertainty  \\\n",
              "0  1750-01-01                   3.034                              3.574   \n",
              "1  1750-02-01                   3.083                              3.702   \n",
              "2  1750-03-01                   5.626                              3.076   \n",
              "3  1750-04-01                   8.490                              2.451   \n",
              "4  1750-05-01                  11.573                              2.072   \n",
              "\n",
              "   LandMaxTemperature  LandMaxTemperatureUncertainty  LandMinTemperature  \\\n",
              "0                 NaN                            NaN                 NaN   \n",
              "1                 NaN                            NaN                 NaN   \n",
              "2                 NaN                            NaN                 NaN   \n",
              "3                 NaN                            NaN                 NaN   \n",
              "4                 NaN                            NaN                 NaN   \n",
              "\n",
              "   LandMinTemperatureUncertainty  LandAndOceanAverageTemperature  \\\n",
              "0                            NaN                             NaN   \n",
              "1                            NaN                             NaN   \n",
              "2                            NaN                             NaN   \n",
              "3                            NaN                             NaN   \n",
              "4                            NaN                             NaN   \n",
              "\n",
              "   LandAndOceanAverageTemperatureUncertainty  \n",
              "0                                        NaN  \n",
              "1                                        NaN  \n",
              "2                                        NaN  \n",
              "3                                        NaN  \n",
              "4                                        NaN  "
            ]
          },
          "execution_count": 80,
          "metadata": {},
          "output_type": "execute_result"
        }
      ],
      "source": [
        "global_temp = pd.read_csv(\"D:/data analytics and machine learning project/global temperature/data/GlobalTemperatures.csv\")\n",
        "global_temp.head()"
      ]
    },
    {
      "cell_type": "code",
      "execution_count": 81,
      "metadata": {
        "colab": {
          "base_uri": "https://localhost:8080/",
          "height": 36
        },
        "id": "gu9e1NxIhLJc",
        "outputId": "49a52941-4e98-4fd1-bdec-ef83a41f55da"
      },
      "outputs": [
        {
          "data": {
            "text/plain": [
              "'1750'"
            ]
          },
          "execution_count": 81,
          "metadata": {},
          "output_type": "execute_result"
        }
      ],
      "source": [
        "global_temp['dt'][0].split('-')[0]"
      ]
    },
    {
      "cell_type": "code",
      "execution_count": 82,
      "metadata": {
        "id": "-_UcmZtphLJc"
      },
      "outputs": [],
      "source": [
        "def fetch_year(date):\n",
        "    return date.split('-')[0]"
      ]
    },
    {
      "cell_type": "code",
      "execution_count": 83,
      "metadata": {
        "id": "WUxS73LQhLJc"
      },
      "outputs": [],
      "source": [
        "global_temp['years']=global_temp['dt'].apply(fetch_year)"
      ]
    },
    {
      "cell_type": "code",
      "execution_count": 84,
      "metadata": {
        "colab": {
          "base_uri": "https://localhost:8080/",
          "height": 455
        },
        "id": "tU6SSG76hLJc",
        "outputId": "5b4ed8c9-9d7a-4fbd-f8e4-37d4be486d68"
      },
      "outputs": [
        {
          "data": {
            "text/html": [
              "<div>\n",
              "<style scoped>\n",
              "    .dataframe tbody tr th:only-of-type {\n",
              "        vertical-align: middle;\n",
              "    }\n",
              "\n",
              "    .dataframe tbody tr th {\n",
              "        vertical-align: top;\n",
              "    }\n",
              "\n",
              "    .dataframe thead th {\n",
              "        text-align: right;\n",
              "    }\n",
              "</style>\n",
              "<table border=\"1\" class=\"dataframe\">\n",
              "  <thead>\n",
              "    <tr style=\"text-align: right;\">\n",
              "      <th></th>\n",
              "      <th>LandAverageTemperature</th>\n",
              "      <th>LandAverageTemperatureUncertainty</th>\n",
              "    </tr>\n",
              "    <tr>\n",
              "      <th>years</th>\n",
              "      <th></th>\n",
              "      <th></th>\n",
              "    </tr>\n",
              "  </thead>\n",
              "  <tbody>\n",
              "    <tr>\n",
              "      <th>1750</th>\n",
              "      <td>8.719364</td>\n",
              "      <td>2.637818</td>\n",
              "    </tr>\n",
              "    <tr>\n",
              "      <th>1751</th>\n",
              "      <td>7.976143</td>\n",
              "      <td>2.781143</td>\n",
              "    </tr>\n",
              "    <tr>\n",
              "      <th>1752</th>\n",
              "      <td>5.779833</td>\n",
              "      <td>2.977000</td>\n",
              "    </tr>\n",
              "    <tr>\n",
              "      <th>1753</th>\n",
              "      <td>8.388083</td>\n",
              "      <td>3.176000</td>\n",
              "    </tr>\n",
              "    <tr>\n",
              "      <th>1754</th>\n",
              "      <td>8.469333</td>\n",
              "      <td>3.494250</td>\n",
              "    </tr>\n",
              "    <tr>\n",
              "      <th>...</th>\n",
              "      <td>...</td>\n",
              "      <td>...</td>\n",
              "    </tr>\n",
              "    <tr>\n",
              "      <th>2011</th>\n",
              "      <td>9.516000</td>\n",
              "      <td>0.082000</td>\n",
              "    </tr>\n",
              "    <tr>\n",
              "      <th>2012</th>\n",
              "      <td>9.507333</td>\n",
              "      <td>0.083417</td>\n",
              "    </tr>\n",
              "    <tr>\n",
              "      <th>2013</th>\n",
              "      <td>9.606500</td>\n",
              "      <td>0.097667</td>\n",
              "    </tr>\n",
              "    <tr>\n",
              "      <th>2014</th>\n",
              "      <td>9.570667</td>\n",
              "      <td>0.090167</td>\n",
              "    </tr>\n",
              "    <tr>\n",
              "      <th>2015</th>\n",
              "      <td>9.831000</td>\n",
              "      <td>0.092167</td>\n",
              "    </tr>\n",
              "  </tbody>\n",
              "</table>\n",
              "<p>266 rows × 2 columns</p>\n",
              "</div>"
            ],
            "text/plain": [
              "       LandAverageTemperature  LandAverageTemperatureUncertainty\n",
              "years                                                           \n",
              "1750                 8.719364                           2.637818\n",
              "1751                 7.976143                           2.781143\n",
              "1752                 5.779833                           2.977000\n",
              "1753                 8.388083                           3.176000\n",
              "1754                 8.469333                           3.494250\n",
              "...                       ...                                ...\n",
              "2011                 9.516000                           0.082000\n",
              "2012                 9.507333                           0.083417\n",
              "2013                 9.606500                           0.097667\n",
              "2014                 9.570667                           0.090167\n",
              "2015                 9.831000                           0.092167\n",
              "\n",
              "[266 rows x 2 columns]"
            ]
          },
          "execution_count": 84,
          "metadata": {},
          "output_type": "execute_result"
        }
      ],
      "source": [
        "global_temp.groupby('years').agg({'LandAverageTemperature':'mean','LandAverageTemperatureUncertainty':'mean'})"
      ]
    },
    {
      "cell_type": "code",
      "execution_count": 85,
      "metadata": {
        "colab": {
          "base_uri": "https://localhost:8080/",
          "height": 206
        },
        "id": "ce4OLPF5hLJd",
        "outputId": "6a4133b9-7da9-4cbf-f28b-2c883d99ca96"
      },
      "outputs": [
        {
          "data": {
            "text/html": [
              "<div>\n",
              "<style scoped>\n",
              "    .dataframe tbody tr th:only-of-type {\n",
              "        vertical-align: middle;\n",
              "    }\n",
              "\n",
              "    .dataframe tbody tr th {\n",
              "        vertical-align: top;\n",
              "    }\n",
              "\n",
              "    .dataframe thead th {\n",
              "        text-align: right;\n",
              "    }\n",
              "</style>\n",
              "<table border=\"1\" class=\"dataframe\">\n",
              "  <thead>\n",
              "    <tr style=\"text-align: right;\">\n",
              "      <th></th>\n",
              "      <th>years</th>\n",
              "      <th>LandAverageTemperature</th>\n",
              "      <th>LandAverageTemperatureUncertainty</th>\n",
              "    </tr>\n",
              "  </thead>\n",
              "  <tbody>\n",
              "    <tr>\n",
              "      <th>0</th>\n",
              "      <td>1750</td>\n",
              "      <td>8.719364</td>\n",
              "      <td>2.637818</td>\n",
              "    </tr>\n",
              "    <tr>\n",
              "      <th>1</th>\n",
              "      <td>1751</td>\n",
              "      <td>7.976143</td>\n",
              "      <td>2.781143</td>\n",
              "    </tr>\n",
              "    <tr>\n",
              "      <th>2</th>\n",
              "      <td>1752</td>\n",
              "      <td>5.779833</td>\n",
              "      <td>2.977000</td>\n",
              "    </tr>\n",
              "    <tr>\n",
              "      <th>3</th>\n",
              "      <td>1753</td>\n",
              "      <td>8.388083</td>\n",
              "      <td>3.176000</td>\n",
              "    </tr>\n",
              "    <tr>\n",
              "      <th>4</th>\n",
              "      <td>1754</td>\n",
              "      <td>8.469333</td>\n",
              "      <td>3.494250</td>\n",
              "    </tr>\n",
              "  </tbody>\n",
              "</table>\n",
              "</div>"
            ],
            "text/plain": [
              "  years  LandAverageTemperature  LandAverageTemperatureUncertainty\n",
              "0  1750                8.719364                           2.637818\n",
              "1  1751                7.976143                           2.781143\n",
              "2  1752                5.779833                           2.977000\n",
              "3  1753                8.388083                           3.176000\n",
              "4  1754                8.469333                           3.494250"
            ]
          },
          "execution_count": 85,
          "metadata": {},
          "output_type": "execute_result"
        }
      ],
      "source": [
        "data=global_temp.groupby('years').agg({'LandAverageTemperature':'mean','LandAverageTemperatureUncertainty':'mean'}).reset_index()\n",
        "data.head()"
      ]
    },
    {
      "cell_type": "code",
      "execution_count": 86,
      "metadata": {
        "id": "VtuAqvouhLJd"
      },
      "outputs": [],
      "source": [
        "data['Uncertainty top']=data['LandAverageTemperature']+data['LandAverageTemperatureUncertainty']\n",
        "data['Uncertainty bottom']=data['LandAverageTemperature']- data['LandAverageTemperatureUncertainty']"
      ]
    },
    {
      "cell_type": "code",
      "execution_count": 87,
      "metadata": {
        "colab": {
          "base_uri": "https://localhost:8080/",
          "height": 206
        },
        "id": "pMp6nsS4hLJd",
        "outputId": "12f9b8ee-e014-482b-940b-06970c54e8c7"
      },
      "outputs": [
        {
          "data": {
            "text/html": [
              "<div>\n",
              "<style scoped>\n",
              "    .dataframe tbody tr th:only-of-type {\n",
              "        vertical-align: middle;\n",
              "    }\n",
              "\n",
              "    .dataframe tbody tr th {\n",
              "        vertical-align: top;\n",
              "    }\n",
              "\n",
              "    .dataframe thead th {\n",
              "        text-align: right;\n",
              "    }\n",
              "</style>\n",
              "<table border=\"1\" class=\"dataframe\">\n",
              "  <thead>\n",
              "    <tr style=\"text-align: right;\">\n",
              "      <th></th>\n",
              "      <th>years</th>\n",
              "      <th>LandAverageTemperature</th>\n",
              "      <th>LandAverageTemperatureUncertainty</th>\n",
              "      <th>Uncertainty top</th>\n",
              "      <th>Uncertainty bottom</th>\n",
              "    </tr>\n",
              "  </thead>\n",
              "  <tbody>\n",
              "    <tr>\n",
              "      <th>0</th>\n",
              "      <td>1750</td>\n",
              "      <td>8.719364</td>\n",
              "      <td>2.637818</td>\n",
              "      <td>11.357182</td>\n",
              "      <td>6.081545</td>\n",
              "    </tr>\n",
              "    <tr>\n",
              "      <th>1</th>\n",
              "      <td>1751</td>\n",
              "      <td>7.976143</td>\n",
              "      <td>2.781143</td>\n",
              "      <td>10.757286</td>\n",
              "      <td>5.195000</td>\n",
              "    </tr>\n",
              "    <tr>\n",
              "      <th>2</th>\n",
              "      <td>1752</td>\n",
              "      <td>5.779833</td>\n",
              "      <td>2.977000</td>\n",
              "      <td>8.756833</td>\n",
              "      <td>2.802833</td>\n",
              "    </tr>\n",
              "    <tr>\n",
              "      <th>3</th>\n",
              "      <td>1753</td>\n",
              "      <td>8.388083</td>\n",
              "      <td>3.176000</td>\n",
              "      <td>11.564083</td>\n",
              "      <td>5.212083</td>\n",
              "    </tr>\n",
              "    <tr>\n",
              "      <th>4</th>\n",
              "      <td>1754</td>\n",
              "      <td>8.469333</td>\n",
              "      <td>3.494250</td>\n",
              "      <td>11.963583</td>\n",
              "      <td>4.975083</td>\n",
              "    </tr>\n",
              "  </tbody>\n",
              "</table>\n",
              "</div>"
            ],
            "text/plain": [
              "  years  LandAverageTemperature  LandAverageTemperatureUncertainty  \\\n",
              "0  1750                8.719364                           2.637818   \n",
              "1  1751                7.976143                           2.781143   \n",
              "2  1752                5.779833                           2.977000   \n",
              "3  1753                8.388083                           3.176000   \n",
              "4  1754                8.469333                           3.494250   \n",
              "\n",
              "   Uncertainty top  Uncertainty bottom  \n",
              "0        11.357182            6.081545  \n",
              "1        10.757286            5.195000  \n",
              "2         8.756833            2.802833  \n",
              "3        11.564083            5.212083  \n",
              "4        11.963583            4.975083  "
            ]
          },
          "execution_count": 87,
          "metadata": {},
          "output_type": "execute_result"
        }
      ],
      "source": [
        "data.head()"
      ]
    },
    {
      "cell_type": "markdown",
      "metadata": {
        "id": "L1ejbKcchLJe"
      },
      "source": [
        "## Analyse Average temperature in each season"
      ]
    },
    {
      "cell_type": "code",
      "execution_count": 88,
      "metadata": {
        "colab": {
          "base_uri": "https://localhost:8080/",
          "height": 357
        },
        "id": "ll1bpWYmhLJe",
        "outputId": "3a21d1a6-4eb2-45de-a184-f1899e04ab4f"
      },
      "outputs": [
        {
          "data": {
            "text/html": [
              "<div>\n",
              "<style scoped>\n",
              "    .dataframe tbody tr th:only-of-type {\n",
              "        vertical-align: middle;\n",
              "    }\n",
              "\n",
              "    .dataframe tbody tr th {\n",
              "        vertical-align: top;\n",
              "    }\n",
              "\n",
              "    .dataframe thead th {\n",
              "        text-align: right;\n",
              "    }\n",
              "</style>\n",
              "<table border=\"1\" class=\"dataframe\">\n",
              "  <thead>\n",
              "    <tr style=\"text-align: right;\">\n",
              "      <th></th>\n",
              "      <th>dt</th>\n",
              "      <th>LandAverageTemperature</th>\n",
              "      <th>LandAverageTemperatureUncertainty</th>\n",
              "      <th>LandMaxTemperature</th>\n",
              "      <th>LandMaxTemperatureUncertainty</th>\n",
              "      <th>LandMinTemperature</th>\n",
              "      <th>LandMinTemperatureUncertainty</th>\n",
              "      <th>LandAndOceanAverageTemperature</th>\n",
              "      <th>LandAndOceanAverageTemperatureUncertainty</th>\n",
              "      <th>years</th>\n",
              "    </tr>\n",
              "  </thead>\n",
              "  <tbody>\n",
              "    <tr>\n",
              "      <th>0</th>\n",
              "      <td>1750-01-01</td>\n",
              "      <td>3.034</td>\n",
              "      <td>3.574</td>\n",
              "      <td>NaN</td>\n",
              "      <td>NaN</td>\n",
              "      <td>NaN</td>\n",
              "      <td>NaN</td>\n",
              "      <td>NaN</td>\n",
              "      <td>NaN</td>\n",
              "      <td>1750</td>\n",
              "    </tr>\n",
              "    <tr>\n",
              "      <th>1</th>\n",
              "      <td>1750-02-01</td>\n",
              "      <td>3.083</td>\n",
              "      <td>3.702</td>\n",
              "      <td>NaN</td>\n",
              "      <td>NaN</td>\n",
              "      <td>NaN</td>\n",
              "      <td>NaN</td>\n",
              "      <td>NaN</td>\n",
              "      <td>NaN</td>\n",
              "      <td>1750</td>\n",
              "    </tr>\n",
              "    <tr>\n",
              "      <th>2</th>\n",
              "      <td>1750-03-01</td>\n",
              "      <td>5.626</td>\n",
              "      <td>3.076</td>\n",
              "      <td>NaN</td>\n",
              "      <td>NaN</td>\n",
              "      <td>NaN</td>\n",
              "      <td>NaN</td>\n",
              "      <td>NaN</td>\n",
              "      <td>NaN</td>\n",
              "      <td>1750</td>\n",
              "    </tr>\n",
              "    <tr>\n",
              "      <th>3</th>\n",
              "      <td>1750-04-01</td>\n",
              "      <td>8.490</td>\n",
              "      <td>2.451</td>\n",
              "      <td>NaN</td>\n",
              "      <td>NaN</td>\n",
              "      <td>NaN</td>\n",
              "      <td>NaN</td>\n",
              "      <td>NaN</td>\n",
              "      <td>NaN</td>\n",
              "      <td>1750</td>\n",
              "    </tr>\n",
              "    <tr>\n",
              "      <th>4</th>\n",
              "      <td>1750-05-01</td>\n",
              "      <td>11.573</td>\n",
              "      <td>2.072</td>\n",
              "      <td>NaN</td>\n",
              "      <td>NaN</td>\n",
              "      <td>NaN</td>\n",
              "      <td>NaN</td>\n",
              "      <td>NaN</td>\n",
              "      <td>NaN</td>\n",
              "      <td>1750</td>\n",
              "    </tr>\n",
              "  </tbody>\n",
              "</table>\n",
              "</div>"
            ],
            "text/plain": [
              "           dt  LandAverageTemperature  LandAverageTemperatureUncertainty  \\\n",
              "0  1750-01-01                   3.034                              3.574   \n",
              "1  1750-02-01                   3.083                              3.702   \n",
              "2  1750-03-01                   5.626                              3.076   \n",
              "3  1750-04-01                   8.490                              2.451   \n",
              "4  1750-05-01                  11.573                              2.072   \n",
              "\n",
              "   LandMaxTemperature  LandMaxTemperatureUncertainty  LandMinTemperature  \\\n",
              "0                 NaN                            NaN                 NaN   \n",
              "1                 NaN                            NaN                 NaN   \n",
              "2                 NaN                            NaN                 NaN   \n",
              "3                 NaN                            NaN                 NaN   \n",
              "4                 NaN                            NaN                 NaN   \n",
              "\n",
              "   LandMinTemperatureUncertainty  LandAndOceanAverageTemperature  \\\n",
              "0                            NaN                             NaN   \n",
              "1                            NaN                             NaN   \n",
              "2                            NaN                             NaN   \n",
              "3                            NaN                             NaN   \n",
              "4                            NaN                             NaN   \n",
              "\n",
              "   LandAndOceanAverageTemperatureUncertainty years  \n",
              "0                                        NaN  1750  \n",
              "1                                        NaN  1750  \n",
              "2                                        NaN  1750  \n",
              "3                                        NaN  1750  \n",
              "4                                        NaN  1750  "
            ]
          },
          "execution_count": 88,
          "metadata": {},
          "output_type": "execute_result"
        }
      ],
      "source": [
        "global_temp.head()"
      ]
    },
    {
      "cell_type": "code",
      "execution_count": 89,
      "metadata": {
        "colab": {
          "base_uri": "https://localhost:8080/"
        },
        "id": "a1XSnT4BhLJf",
        "outputId": "143129de-7194-42bb-b121-946e267fc660"
      },
      "outputs": [
        {
          "data": {
            "text/plain": [
              "(3192, 10)"
            ]
          },
          "execution_count": 89,
          "metadata": {},
          "output_type": "execute_result"
        }
      ],
      "source": [
        "global_temp.shape"
      ]
    },
    {
      "cell_type": "code",
      "execution_count": 90,
      "metadata": {
        "id": "s-cDBM6xhLJf"
      },
      "outputs": [],
      "source": [
        "global_temp['dt']=pd.to_datetime(global_temp['dt'])"
      ]
    },
    {
      "cell_type": "code",
      "execution_count": 91,
      "metadata": {
        "id": "hT0QFy03hLJf"
      },
      "outputs": [],
      "source": [
        "global_temp['month'] = global_temp['dt'].dt.month"
      ]
    },
    {
      "cell_type": "code",
      "execution_count": 92,
      "metadata": {
        "id": "unVYoUQ2hLJf"
      },
      "outputs": [],
      "source": [
        "global_temp.drop('dt',axis=1,inplace=True)"
      ]
    },
    {
      "cell_type": "code",
      "execution_count": 93,
      "metadata": {
        "colab": {
          "base_uri": "https://localhost:8080/",
          "height": 270
        },
        "id": "iClQxpofhLJf",
        "outputId": "143e2ea4-bd6e-421f-d3d1-a586179d4ba9"
      },
      "outputs": [
        {
          "data": {
            "text/html": [
              "<div>\n",
              "<style scoped>\n",
              "    .dataframe tbody tr th:only-of-type {\n",
              "        vertical-align: middle;\n",
              "    }\n",
              "\n",
              "    .dataframe tbody tr th {\n",
              "        vertical-align: top;\n",
              "    }\n",
              "\n",
              "    .dataframe thead th {\n",
              "        text-align: right;\n",
              "    }\n",
              "</style>\n",
              "<table border=\"1\" class=\"dataframe\">\n",
              "  <thead>\n",
              "    <tr style=\"text-align: right;\">\n",
              "      <th></th>\n",
              "      <th>LandAverageTemperature</th>\n",
              "      <th>LandAverageTemperatureUncertainty</th>\n",
              "      <th>LandMaxTemperature</th>\n",
              "      <th>LandMaxTemperatureUncertainty</th>\n",
              "      <th>LandMinTemperature</th>\n",
              "      <th>LandMinTemperatureUncertainty</th>\n",
              "      <th>LandAndOceanAverageTemperature</th>\n",
              "      <th>LandAndOceanAverageTemperatureUncertainty</th>\n",
              "      <th>years</th>\n",
              "      <th>month</th>\n",
              "    </tr>\n",
              "  </thead>\n",
              "  <tbody>\n",
              "    <tr>\n",
              "      <th>0</th>\n",
              "      <td>3.034</td>\n",
              "      <td>3.574</td>\n",
              "      <td>NaN</td>\n",
              "      <td>NaN</td>\n",
              "      <td>NaN</td>\n",
              "      <td>NaN</td>\n",
              "      <td>NaN</td>\n",
              "      <td>NaN</td>\n",
              "      <td>1750</td>\n",
              "      <td>1</td>\n",
              "    </tr>\n",
              "    <tr>\n",
              "      <th>1</th>\n",
              "      <td>3.083</td>\n",
              "      <td>3.702</td>\n",
              "      <td>NaN</td>\n",
              "      <td>NaN</td>\n",
              "      <td>NaN</td>\n",
              "      <td>NaN</td>\n",
              "      <td>NaN</td>\n",
              "      <td>NaN</td>\n",
              "      <td>1750</td>\n",
              "      <td>2</td>\n",
              "    </tr>\n",
              "    <tr>\n",
              "      <th>2</th>\n",
              "      <td>5.626</td>\n",
              "      <td>3.076</td>\n",
              "      <td>NaN</td>\n",
              "      <td>NaN</td>\n",
              "      <td>NaN</td>\n",
              "      <td>NaN</td>\n",
              "      <td>NaN</td>\n",
              "      <td>NaN</td>\n",
              "      <td>1750</td>\n",
              "      <td>3</td>\n",
              "    </tr>\n",
              "    <tr>\n",
              "      <th>3</th>\n",
              "      <td>8.490</td>\n",
              "      <td>2.451</td>\n",
              "      <td>NaN</td>\n",
              "      <td>NaN</td>\n",
              "      <td>NaN</td>\n",
              "      <td>NaN</td>\n",
              "      <td>NaN</td>\n",
              "      <td>NaN</td>\n",
              "      <td>1750</td>\n",
              "      <td>4</td>\n",
              "    </tr>\n",
              "    <tr>\n",
              "      <th>4</th>\n",
              "      <td>11.573</td>\n",
              "      <td>2.072</td>\n",
              "      <td>NaN</td>\n",
              "      <td>NaN</td>\n",
              "      <td>NaN</td>\n",
              "      <td>NaN</td>\n",
              "      <td>NaN</td>\n",
              "      <td>NaN</td>\n",
              "      <td>1750</td>\n",
              "      <td>5</td>\n",
              "    </tr>\n",
              "  </tbody>\n",
              "</table>\n",
              "</div>"
            ],
            "text/plain": [
              "   LandAverageTemperature  LandAverageTemperatureUncertainty  \\\n",
              "0                   3.034                              3.574   \n",
              "1                   3.083                              3.702   \n",
              "2                   5.626                              3.076   \n",
              "3                   8.490                              2.451   \n",
              "4                  11.573                              2.072   \n",
              "\n",
              "   LandMaxTemperature  LandMaxTemperatureUncertainty  LandMinTemperature  \\\n",
              "0                 NaN                            NaN                 NaN   \n",
              "1                 NaN                            NaN                 NaN   \n",
              "2                 NaN                            NaN                 NaN   \n",
              "3                 NaN                            NaN                 NaN   \n",
              "4                 NaN                            NaN                 NaN   \n",
              "\n",
              "   LandMinTemperatureUncertainty  LandAndOceanAverageTemperature  \\\n",
              "0                            NaN                             NaN   \n",
              "1                            NaN                             NaN   \n",
              "2                            NaN                             NaN   \n",
              "3                            NaN                             NaN   \n",
              "4                            NaN                             NaN   \n",
              "\n",
              "   LandAndOceanAverageTemperatureUncertainty years  month  \n",
              "0                                        NaN  1750      1  \n",
              "1                                        NaN  1750      2  \n",
              "2                                        NaN  1750      3  \n",
              "3                                        NaN  1750      4  \n",
              "4                                        NaN  1750      5  "
            ]
          },
          "execution_count": 93,
          "metadata": {},
          "output_type": "execute_result"
        }
      ],
      "source": [
        "global_temp.head()"
      ]
    },
    {
      "cell_type": "code",
      "execution_count": 94,
      "metadata": {
        "colab": {
          "base_uri": "https://localhost:8080/"
        },
        "id": "1R5Ugs-ghLJf",
        "outputId": "bc3f67d4-54c0-41fa-af82-baf95bfe72d9"
      },
      "outputs": [
        {
          "data": {
            "text/plain": [
              "LandAverageTemperature                       float64\n",
              "LandAverageTemperatureUncertainty            float64\n",
              "LandMaxTemperature                           float64\n",
              "LandMaxTemperatureUncertainty                float64\n",
              "LandMinTemperature                           float64\n",
              "LandMinTemperatureUncertainty                float64\n",
              "LandAndOceanAverageTemperature               float64\n",
              "LandAndOceanAverageTemperatureUncertainty    float64\n",
              "years                                         object\n",
              "month                                          int64\n",
              "dtype: object"
            ]
          },
          "execution_count": 94,
          "metadata": {},
          "output_type": "execute_result"
        }
      ],
      "source": [
        "global_temp.dtypes"
      ]
    },
    {
      "cell_type": "code",
      "execution_count": 95,
      "metadata": {
        "id": "APMuFzGJhLJg"
      },
      "outputs": [],
      "source": [
        "def get_season(month):\n",
        "    if month >= 3 and month <= 5:\n",
        "        return 'spring'\n",
        "    elif month >= 6 and month <= 8:\n",
        "        return 'summer'\n",
        "    elif month >= 9 and month <= 11:\n",
        "        return 'autumn'\n",
        "    else:\n",
        "        return 'winter'"
      ]
    },
    {
      "cell_type": "code",
      "execution_count": 96,
      "metadata": {
        "id": "SjVRHyUFhLJg"
      },
      "outputs": [],
      "source": [
        "global_temp['season'] = global_temp['month'].apply(get_season)"
      ]
    },
    {
      "cell_type": "code",
      "execution_count": 97,
      "metadata": {
        "colab": {
          "base_uri": "https://localhost:8080/",
          "height": 270
        },
        "id": "bbcBOilyhLJg",
        "outputId": "9eef0792-cba8-4a30-d9c0-ede9ab3a5286"
      },
      "outputs": [
        {
          "data": {
            "text/html": [
              "<div>\n",
              "<style scoped>\n",
              "    .dataframe tbody tr th:only-of-type {\n",
              "        vertical-align: middle;\n",
              "    }\n",
              "\n",
              "    .dataframe tbody tr th {\n",
              "        vertical-align: top;\n",
              "    }\n",
              "\n",
              "    .dataframe thead th {\n",
              "        text-align: right;\n",
              "    }\n",
              "</style>\n",
              "<table border=\"1\" class=\"dataframe\">\n",
              "  <thead>\n",
              "    <tr style=\"text-align: right;\">\n",
              "      <th></th>\n",
              "      <th>LandAverageTemperature</th>\n",
              "      <th>LandAverageTemperatureUncertainty</th>\n",
              "      <th>LandMaxTemperature</th>\n",
              "      <th>LandMaxTemperatureUncertainty</th>\n",
              "      <th>LandMinTemperature</th>\n",
              "      <th>LandMinTemperatureUncertainty</th>\n",
              "      <th>LandAndOceanAverageTemperature</th>\n",
              "      <th>LandAndOceanAverageTemperatureUncertainty</th>\n",
              "      <th>years</th>\n",
              "      <th>month</th>\n",
              "      <th>season</th>\n",
              "    </tr>\n",
              "  </thead>\n",
              "  <tbody>\n",
              "    <tr>\n",
              "      <th>0</th>\n",
              "      <td>3.034</td>\n",
              "      <td>3.574</td>\n",
              "      <td>NaN</td>\n",
              "      <td>NaN</td>\n",
              "      <td>NaN</td>\n",
              "      <td>NaN</td>\n",
              "      <td>NaN</td>\n",
              "      <td>NaN</td>\n",
              "      <td>1750</td>\n",
              "      <td>1</td>\n",
              "      <td>winter</td>\n",
              "    </tr>\n",
              "    <tr>\n",
              "      <th>1</th>\n",
              "      <td>3.083</td>\n",
              "      <td>3.702</td>\n",
              "      <td>NaN</td>\n",
              "      <td>NaN</td>\n",
              "      <td>NaN</td>\n",
              "      <td>NaN</td>\n",
              "      <td>NaN</td>\n",
              "      <td>NaN</td>\n",
              "      <td>1750</td>\n",
              "      <td>2</td>\n",
              "      <td>winter</td>\n",
              "    </tr>\n",
              "    <tr>\n",
              "      <th>2</th>\n",
              "      <td>5.626</td>\n",
              "      <td>3.076</td>\n",
              "      <td>NaN</td>\n",
              "      <td>NaN</td>\n",
              "      <td>NaN</td>\n",
              "      <td>NaN</td>\n",
              "      <td>NaN</td>\n",
              "      <td>NaN</td>\n",
              "      <td>1750</td>\n",
              "      <td>3</td>\n",
              "      <td>spring</td>\n",
              "    </tr>\n",
              "    <tr>\n",
              "      <th>3</th>\n",
              "      <td>8.490</td>\n",
              "      <td>2.451</td>\n",
              "      <td>NaN</td>\n",
              "      <td>NaN</td>\n",
              "      <td>NaN</td>\n",
              "      <td>NaN</td>\n",
              "      <td>NaN</td>\n",
              "      <td>NaN</td>\n",
              "      <td>1750</td>\n",
              "      <td>4</td>\n",
              "      <td>spring</td>\n",
              "    </tr>\n",
              "    <tr>\n",
              "      <th>4</th>\n",
              "      <td>11.573</td>\n",
              "      <td>2.072</td>\n",
              "      <td>NaN</td>\n",
              "      <td>NaN</td>\n",
              "      <td>NaN</td>\n",
              "      <td>NaN</td>\n",
              "      <td>NaN</td>\n",
              "      <td>NaN</td>\n",
              "      <td>1750</td>\n",
              "      <td>5</td>\n",
              "      <td>spring</td>\n",
              "    </tr>\n",
              "  </tbody>\n",
              "</table>\n",
              "</div>"
            ],
            "text/plain": [
              "   LandAverageTemperature  LandAverageTemperatureUncertainty  \\\n",
              "0                   3.034                              3.574   \n",
              "1                   3.083                              3.702   \n",
              "2                   5.626                              3.076   \n",
              "3                   8.490                              2.451   \n",
              "4                  11.573                              2.072   \n",
              "\n",
              "   LandMaxTemperature  LandMaxTemperatureUncertainty  LandMinTemperature  \\\n",
              "0                 NaN                            NaN                 NaN   \n",
              "1                 NaN                            NaN                 NaN   \n",
              "2                 NaN                            NaN                 NaN   \n",
              "3                 NaN                            NaN                 NaN   \n",
              "4                 NaN                            NaN                 NaN   \n",
              "\n",
              "   LandMinTemperatureUncertainty  LandAndOceanAverageTemperature  \\\n",
              "0                            NaN                             NaN   \n",
              "1                            NaN                             NaN   \n",
              "2                            NaN                             NaN   \n",
              "3                            NaN                             NaN   \n",
              "4                            NaN                             NaN   \n",
              "\n",
              "   LandAndOceanAverageTemperatureUncertainty years  month  season  \n",
              "0                                        NaN  1750      1  winter  \n",
              "1                                        NaN  1750      2  winter  \n",
              "2                                        NaN  1750      3  spring  \n",
              "3                                        NaN  1750      4  spring  \n",
              "4                                        NaN  1750      5  spring  "
            ]
          },
          "execution_count": 97,
          "metadata": {},
          "output_type": "execute_result"
        }
      ],
      "source": [
        "global_temp.head()"
      ]
    },
    {
      "cell_type": "code",
      "execution_count": 98,
      "metadata": {
        "id": "JjOU7VxEhLJg"
      },
      "outputs": [],
      "source": [
        "years=global_temp['years'].unique()"
      ]
    },
    {
      "cell_type": "code",
      "execution_count": 99,
      "metadata": {
        "id": "LVIiroFzhLJg"
      },
      "outputs": [],
      "source": [
        "spring_temps = []\n",
        "summer_temps = []\n",
        "autumn_temps = []\n",
        "winter_temps = []\n",
        "\n",
        "for year in years:\n",
        "    current_yr=global_temp[global_temp['years']==year]\n",
        "    spring_temps.append(current_yr[current_yr['season'] == 'spring']['LandAverageTemperature'].mean())\n",
        "    summer_temps.append(current_yr[current_yr['season'] == 'summer']['LandAverageTemperature'].mean())\n",
        "    autumn_temps.append(current_yr[current_yr['season'] == 'autumn']['LandAverageTemperature'].mean())\n",
        "    winter_temps.append(current_yr[current_yr['season'] == 'winter']['LandAverageTemperature'].mean())\n",
        "    "
      ]
    },
    {
      "cell_type": "code",
      "execution_count": 100,
      "metadata": {
        "id": "NljwUGk8hLJh"
      },
      "outputs": [],
      "source": [
        "### lets make a dataframe of it\n",
        "season=pd.DataFrame()\n",
        "season['year']=years\n",
        "season['spring_temp']=spring_temps\n",
        "season['summer_temp']=summer_temps\n",
        "season['autumn_temp']=autumn_temps\n",
        "season['winter_temp']=winter_temps"
      ]
    },
    {
      "cell_type": "code",
      "execution_count": 101,
      "metadata": {
        "colab": {
          "base_uri": "https://localhost:8080/",
          "height": 206
        },
        "id": "YVPP_n8YhLJh",
        "outputId": "01cc9e9a-c254-4839-e4e9-0f50f7ef7301"
      },
      "outputs": [
        {
          "data": {
            "text/html": [
              "<div>\n",
              "<style scoped>\n",
              "    .dataframe tbody tr th:only-of-type {\n",
              "        vertical-align: middle;\n",
              "    }\n",
              "\n",
              "    .dataframe tbody tr th {\n",
              "        vertical-align: top;\n",
              "    }\n",
              "\n",
              "    .dataframe thead th {\n",
              "        text-align: right;\n",
              "    }\n",
              "</style>\n",
              "<table border=\"1\" class=\"dataframe\">\n",
              "  <thead>\n",
              "    <tr style=\"text-align: right;\">\n",
              "      <th></th>\n",
              "      <th>year</th>\n",
              "      <th>spring_temp</th>\n",
              "      <th>summer_temp</th>\n",
              "      <th>autumn_temp</th>\n",
              "      <th>winter_temp</th>\n",
              "    </tr>\n",
              "  </thead>\n",
              "  <tbody>\n",
              "    <tr>\n",
              "      <th>0</th>\n",
              "      <td>1750</td>\n",
              "      <td>8.563000</td>\n",
              "      <td>14.518333</td>\n",
              "      <td>8.890000</td>\n",
              "      <td>2.963000</td>\n",
              "    </tr>\n",
              "    <tr>\n",
              "      <th>1</th>\n",
              "      <td>1751</td>\n",
              "      <td>6.735000</td>\n",
              "      <td>14.116000</td>\n",
              "      <td>10.673000</td>\n",
              "      <td>1.729000</td>\n",
              "    </tr>\n",
              "    <tr>\n",
              "      <th>2</th>\n",
              "      <td>1752</td>\n",
              "      <td>7.035500</td>\n",
              "      <td>NaN</td>\n",
              "      <td>7.587000</td>\n",
              "      <td>2.717000</td>\n",
              "    </tr>\n",
              "    <tr>\n",
              "      <th>3</th>\n",
              "      <td>1753</td>\n",
              "      <td>8.627333</td>\n",
              "      <td>14.608333</td>\n",
              "      <td>9.212333</td>\n",
              "      <td>1.104333</td>\n",
              "    </tr>\n",
              "    <tr>\n",
              "      <th>4</th>\n",
              "      <td>1754</td>\n",
              "      <td>9.074333</td>\n",
              "      <td>14.208333</td>\n",
              "      <td>8.957333</td>\n",
              "      <td>1.637333</td>\n",
              "    </tr>\n",
              "  </tbody>\n",
              "</table>\n",
              "</div>"
            ],
            "text/plain": [
              "   year  spring_temp  summer_temp  autumn_temp  winter_temp\n",
              "0  1750     8.563000    14.518333     8.890000     2.963000\n",
              "1  1751     6.735000    14.116000    10.673000     1.729000\n",
              "2  1752     7.035500          NaN     7.587000     2.717000\n",
              "3  1753     8.627333    14.608333     9.212333     1.104333\n",
              "4  1754     9.074333    14.208333     8.957333     1.637333"
            ]
          },
          "execution_count": 101,
          "metadata": {},
          "output_type": "execute_result"
        }
      ],
      "source": [
        "season.head()"
      ]
    },
    {
      "cell_type": "code",
      "execution_count": 102,
      "metadata": {
        "colab": {
          "base_uri": "https://localhost:8080/"
        },
        "id": "ocV_iS7ihLJh",
        "outputId": "ddca4f93-6c49-4540-fb6a-aff064d60765"
      },
      "outputs": [
        {
          "data": {
            "text/plain": [
              "Index(['year', 'spring_temp', 'summer_temp', 'autumn_temp', 'winter_temp'], dtype='object')"
            ]
          },
          "execution_count": 102,
          "metadata": {},
          "output_type": "execute_result"
        }
      ],
      "source": [
        "season.columns"
      ]
    },
    {
      "cell_type": "code",
      "execution_count": 103,
      "metadata": {
        "colab": {
          "base_uri": "https://localhost:8080/",
          "height": 542
        },
        "id": "7WhFBDSxhLJh",
        "outputId": "a1aec9ce-ed4e-4d45-f55d-b9677a2adcf2"
      },
      "outputs": [
        {
          "data": {
            "application/vnd.plotly.v1+json": {
              "config": {
                "plotlyServerURL": "https://plot.ly"
              },
              "data": [
                {
                  "alignmentgroup": "True",
                  "hovertemplate": "variable=spring_temp<br>value=%{x}<br>year=%{y}<extra></extra>",
                  "legendgroup": "spring_temp",
                  "marker": {
                    "color": "#636efa",
                    "pattern": {
                      "shape": ""
                    }
                  },
                  "name": "spring_temp",
                  "offsetgroup": "spring_temp",
                  "orientation": "h",
                  "showlegend": true,
                  "textposition": "auto",
                  "type": "bar",
                  "x": [
                    8.563,
                    6.734999999999999,
                    7.035499999999999,
                    8.627333333333334,
                    9.074333333333334,
                    8.583666666666666,
                    9.466,
                    8.604666666666667,
                    6.896666666666666,
                    6.897333333333333,
                    6.653666666666666,
                    8.916,
                    7.809333333333332,
                    6.716,
                    8.192,
                    8.868666666666668,
                    8.432333333333332,
                    7.831,
                    6.144000000000001,
                    8.803333333333333,
                    7.132000000000001,
                    6.0523333333333325,
                    7.148666666666666,
                    8.866999999999999,
                    10.607,
                    9.036666666666667,
                    7.522333333333333,
                    7.774333333333334,
                    8.957999999999998,
                    10.370666666666667,
                    11.737666666666664,
                    7.599,
                    7.390999999999998,
                    8.397333333333334,
                    7.3580000000000005,
                    6.173666666666667,
                    8.849666666666666,
                    7.9576666666666656,
                    8.159333333333334,
                    7.783,
                    6.997333333333333,
                    7.9253333333333345,
                    7.914666666666666,
                    8.248,
                    9.146333333333333,
                    8.552,
                    7.507666666666666,
                    7.024333333333334,
                    8.953333333333333,
                    8.041666666666666,
                    8.224666666666666,
                    8.660666666666666,
                    7.760333333333333,
                    8.653666666666666,
                    8.863,
                    8.328999999999999,
                    8.075333333333333,
                    7.03,
                    7.066666666666666,
                    6.833666666666666,
                    6.872,
                    6.481999999999999,
                    6.191333333333333,
                    7.048333333333333,
                    6.424666666666667,
                    6.698666666666667,
                    7.368333333333332,
                    7.311333333333333,
                    8.904333333333334,
                    6.603666666666666,
                    8.312666666666667,
                    8.167,
                    8.850333333333333,
                    7.765333333333333,
                    8.287999999999998,
                    8.368,
                    8.365,
                    9.125666666666666,
                    8.582333333333333,
                    8.070666666666666,
                    7.832333333333334,
                    7.761,
                    7.732666666666667,
                    7.657,
                    8.351666666666667,
                    7.482333333333333,
                    7.680666666666667,
                    6.797999999999999,
                    7.030333333333332,
                    6.951333333333333,
                    7.718666666666667,
                    6.947,
                    8.198333333333332,
                    7.537999999999999,
                    7.410666666666667,
                    7.747333333333333,
                    8.227666666666666,
                    7.549333333333333,
                    7.832,
                    7.496333333333333,
                    7.391666666666666,
                    7.530666666666666,
                    7.513333333333333,
                    7.531333333333333,
                    7.805,
                    8.127666666666666,
                    7.550999999999999,
                    7.008,
                    7.978333333333334,
                    8.340333333333334,
                    7.438666666666666,
                    7.497333333333333,
                    7.515666666666667,
                    7.898,
                    7.707333333333334,
                    7.423333333333332,
                    7.7443333333333335,
                    7.735666666666667,
                    8.009666666666666,
                    7.863333333333332,
                    7.958000000000001,
                    7.937666666666666,
                    7.988666666666667,
                    7.723999999999999,
                    7.919333333333333,
                    7.545999999999999,
                    7.8790000000000004,
                    8.130666666666666,
                    8.841333333333333,
                    7.831666666666667,
                    7.761666666666666,
                    8.165999999999999,
                    7.873,
                    7.817333333333333,
                    7.092,
                    7.508333333333333,
                    7.651666666666666,
                    7.726999999999999,
                    7.588333333333334,
                    8.376666666666667,
                    7.470999999999999,
                    7.719333333333332,
                    7.515333333333333,
                    7.906666666666666,
                    7.908333333333334,
                    7.934333333333334,
                    7.500666666666667,
                    8,
                    7.497666666666667,
                    7.973999999999999,
                    8.366666666666667,
                    8.457,
                    7.910666666666667,
                    7.851999999999999,
                    7.676666666666666,
                    7.790666666666667,
                    8.244,
                    7.509666666666667,
                    7.702999999999999,
                    7.578,
                    7.905333333333334,
                    7.722,
                    7.946333333333333,
                    7.761666666666666,
                    8.108333333333333,
                    8.447000000000001,
                    7.954999999999999,
                    7.5953333333333335,
                    7.664999999999999,
                    8.066333333333333,
                    8.216999999999999,
                    8.216666666666667,
                    8.211,
                    7.821333333333333,
                    8.17,
                    8.202333333333334,
                    8.318333333333333,
                    7.935666666666666,
                    8.124,
                    8.036,
                    8.256666666666666,
                    8.134333333333332,
                    8.316,
                    8.013666666666667,
                    8.104,
                    8.025333333333334,
                    8.136333333333333,
                    8.137666666666666,
                    8.673333333333334,
                    8.259333333333332,
                    8.506,
                    8.427,
                    8.354,
                    8.420333333333334,
                    8.433,
                    8.320666666666668,
                    8.476,
                    8.605333333333334,
                    8.318333333333333,
                    8.243333333333332,
                    8.222333333333333,
                    8.298666666666668,
                    8.26,
                    8.706000000000001,
                    8.097999999999999,
                    7.970999999999999,
                    7.8439999999999985,
                    8.220333333333334,
                    8.497333333333332,
                    8.665333333333333,
                    7.769333333333333,
                    8.614666666666666,
                    8.399333333333333,
                    8.104999999999999,
                    7.897333333333333,
                    8.131333333333332,
                    8.296,
                    8.495333333333333,
                    8.546666666666667,
                    8.353666666666667,
                    8.360333333333333,
                    8.183666666666667,
                    8.259666666666666,
                    8.84233333333333,
                    8.258000000000001,
                    8.677333333333333,
                    7.917666666666666,
                    8.777333333333333,
                    8.604,
                    8.376,
                    8.690666666666665,
                    8.918999999999999,
                    8.228666666666667,
                    8.706999999999999,
                    8.693,
                    8.503333333333332,
                    8.735666666666665,
                    8.455,
                    8.924999999999999,
                    8.587000000000002,
                    9.243333333333334,
                    8.805333333333333,
                    8.686333333333332,
                    8.696,
                    8.811,
                    8.832666666666666,
                    8.597,
                    8.832,
                    9.224,
                    8.691333333333333,
                    9.215,
                    9.241333333333333,
                    9.416333333333332,
                    9.118333333333332,
                    9.046999999999999,
                    9.462666666666665,
                    9.056666666666667,
                    9.608666666666666,
                    9.418333333333333,
                    9.188333333333333,
                    9.604999999999999,
                    9.19,
                    9.429666666666666,
                    9.166666666666666,
                    9.516333333333334,
                    9.455
                  ],
                  "xaxis": "x",
                  "y": [
                    "1750",
                    "1751",
                    "1752",
                    "1753",
                    "1754",
                    "1755",
                    "1756",
                    "1757",
                    "1758",
                    "1759",
                    "1760",
                    "1761",
                    "1762",
                    "1763",
                    "1764",
                    "1765",
                    "1766",
                    "1767",
                    "1768",
                    "1769",
                    "1770",
                    "1771",
                    "1772",
                    "1773",
                    "1774",
                    "1775",
                    "1776",
                    "1777",
                    "1778",
                    "1779",
                    "1780",
                    "1781",
                    "1782",
                    "1783",
                    "1784",
                    "1785",
                    "1786",
                    "1787",
                    "1788",
                    "1789",
                    "1790",
                    "1791",
                    "1792",
                    "1793",
                    "1794",
                    "1795",
                    "1796",
                    "1797",
                    "1798",
                    "1799",
                    "1800",
                    "1801",
                    "1802",
                    "1803",
                    "1804",
                    "1805",
                    "1806",
                    "1807",
                    "1808",
                    "1809",
                    "1810",
                    "1811",
                    "1812",
                    "1813",
                    "1814",
                    "1815",
                    "1816",
                    "1817",
                    "1818",
                    "1819",
                    "1820",
                    "1821",
                    "1822",
                    "1823",
                    "1824",
                    "1825",
                    "1826",
                    "1827",
                    "1828",
                    "1829",
                    "1830",
                    "1831",
                    "1832",
                    "1833",
                    "1834",
                    "1835",
                    "1836",
                    "1837",
                    "1838",
                    "1839",
                    "1840",
                    "1841",
                    "1842",
                    "1843",
                    "1844",
                    "1845",
                    "1846",
                    "1847",
                    "1848",
                    "1849",
                    "1850",
                    "1851",
                    "1852",
                    "1853",
                    "1854",
                    "1855",
                    "1856",
                    "1857",
                    "1858",
                    "1859",
                    "1860",
                    "1861",
                    "1862",
                    "1863",
                    "1864",
                    "1865",
                    "1866",
                    "1867",
                    "1868",
                    "1869",
                    "1870",
                    "1871",
                    "1872",
                    "1873",
                    "1874",
                    "1875",
                    "1876",
                    "1877",
                    "1878",
                    "1879",
                    "1880",
                    "1881",
                    "1882",
                    "1883",
                    "1884",
                    "1885",
                    "1886",
                    "1887",
                    "1888",
                    "1889",
                    "1890",
                    "1891",
                    "1892",
                    "1893",
                    "1894",
                    "1895",
                    "1896",
                    "1897",
                    "1898",
                    "1899",
                    "1900",
                    "1901",
                    "1902",
                    "1903",
                    "1904",
                    "1905",
                    "1906",
                    "1907",
                    "1908",
                    "1909",
                    "1910",
                    "1911",
                    "1912",
                    "1913",
                    "1914",
                    "1915",
                    "1916",
                    "1917",
                    "1918",
                    "1919",
                    "1920",
                    "1921",
                    "1922",
                    "1923",
                    "1924",
                    "1925",
                    "1926",
                    "1927",
                    "1928",
                    "1929",
                    "1930",
                    "1931",
                    "1932",
                    "1933",
                    "1934",
                    "1935",
                    "1936",
                    "1937",
                    "1938",
                    "1939",
                    "1940",
                    "1941",
                    "1942",
                    "1943",
                    "1944",
                    "1945",
                    "1946",
                    "1947",
                    "1948",
                    "1949",
                    "1950",
                    "1951",
                    "1952",
                    "1953",
                    "1954",
                    "1955",
                    "1956",
                    "1957",
                    "1958",
                    "1959",
                    "1960",
                    "1961",
                    "1962",
                    "1963",
                    "1964",
                    "1965",
                    "1966",
                    "1967",
                    "1968",
                    "1969",
                    "1970",
                    "1971",
                    "1972",
                    "1973",
                    "1974",
                    "1975",
                    "1976",
                    "1977",
                    "1978",
                    "1979",
                    "1980",
                    "1981",
                    "1982",
                    "1983",
                    "1984",
                    "1985",
                    "1986",
                    "1987",
                    "1988",
                    "1989",
                    "1990",
                    "1991",
                    "1992",
                    "1993",
                    "1994",
                    "1995",
                    "1996",
                    "1997",
                    "1998",
                    "1999",
                    "2000",
                    "2001",
                    "2002",
                    "2003",
                    "2004",
                    "2005",
                    "2006",
                    "2007",
                    "2008",
                    "2009",
                    "2010",
                    "2011",
                    "2012",
                    "2013",
                    "2014",
                    "2015"
                  ],
                  "yaxis": "y"
                },
                {
                  "alignmentgroup": "True",
                  "hovertemplate": "variable=summer_temp<br>value=%{x}<br>year=%{y}<extra></extra>",
                  "legendgroup": "summer_temp",
                  "marker": {
                    "color": "#EF553B",
                    "pattern": {
                      "shape": ""
                    }
                  },
                  "name": "summer_temp",
                  "offsetgroup": "summer_temp",
                  "orientation": "h",
                  "showlegend": true,
                  "textposition": "auto",
                  "type": "bar",
                  "x": [
                    14.518333333333333,
                    14.116,
                    null,
                    14.608333333333334,
                    14.208333333333334,
                    14.430666666666667,
                    13.963333333333333,
                    17.544999999999998,
                    12.934666666666665,
                    13.541666666666666,
                    12.916333333333334,
                    17.057666666666666,
                    14.070333333333332,
                    14.262666666666666,
                    12.170666666666667,
                    12.635333333333334,
                    13.655333333333331,
                    14.023333333333333,
                    12.905666666666667,
                    14.365666666666668,
                    11.639333333333335,
                    14.045333333333332,
                    13.775333333333334,
                    13.639666666666669,
                    15.330333333333334,
                    13.822666666666668,
                    14.503,
                    12.627,
                    13.212333333333333,
                    13.335,
                    14.625666666666666,
                    13.368,
                    14.469666666666667,
                    13.793333333333331,
                    14.537,
                    14.226,
                    14.261333333333333,
                    13.791666666666666,
                    14.720333333333334,
                    14.269666666666666,
                    13.827666666666667,
                    13.529000000000002,
                    13.357999999999999,
                    13.547333333333333,
                    12.784,
                    13.576,
                    14.417333333333334,
                    13.999666666666664,
                    14.317,
                    14.211666666666666,
                    13.662666666666667,
                    13.466333333333331,
                    14.379333333333333,
                    14.764333333333333,
                    14.686333333333332,
                    14.666333333333332,
                    13.644666666666666,
                    13.743333333333332,
                    13.655666666666667,
                    12.853,
                    12.175333333333333,
                    12.472999999999999,
                    13.792666666666667,
                    13.62,
                    12.672666666666666,
                    12.921666666666667,
                    12.208999999999998,
                    12.254,
                    13.500333333333336,
                    12.707,
                    12.870666666666667,
                    12.930666666666667,
                    13.498,
                    13.761666666666668,
                    13.897999999999998,
                    13.680333333333332,
                    13.537,
                    13.975333333333333,
                    14.047666666666666,
                    13.494666666666667,
                    13.718333333333334,
                    13.091000000000001,
                    12.85,
                    13.357999999999999,
                    13.469333333333333,
                    12.485999999999999,
                    13.008333333333333,
                    12.881,
                    13.559,
                    13.676333333333332,
                    13.737,
                    13.774,
                    13.151333333333334,
                    13.272,
                    13.269,
                    13.579333333333333,
                    14.191333333333333,
                    13.497333333333332,
                    13.660333333333334,
                    13.687,
                    13.893666666666668,
                    13.899999999999999,
                    13.660000000000002,
                    14.002666666666665,
                    13.803333333333333,
                    13.485666666666667,
                    13.512,
                    13.255666666666665,
                    13.284333333333334,
                    13.395333333333333,
                    13.746666666666664,
                    13.546666666666667,
                    13.325333333333333,
                    13.284333333333334,
                    13.653666666666666,
                    13.671333333333335,
                    13.662333333333331,
                    13.677333333333335,
                    13.806666666666667,
                    13.961333333333334,
                    13.912,
                    13.767333333333333,
                    13.720333333333334,
                    13.815666666666667,
                    13.747666666666666,
                    13.567333333333332,
                    13.643666666666666,
                    14.059,
                    14.210666666666667,
                    13.571,
                    13.758333333333333,
                    13.552666666666667,
                    13.418333333333331,
                    13.512333333333332,
                    13.135333333333334,
                    13.346333333333334,
                    13.446,
                    13.336,
                    13.558,
                    13.672333333333333,
                    13.390666666666666,
                    13.438,
                    13.524333333333333,
                    13.607666666666667,
                    13.450000000000001,
                    13.533333333333333,
                    13.720333333333334,
                    13.765666666666666,
                    13.704,
                    13.597333333333333,
                    13.76,
                    13.850333333333333,
                    13.681333333333333,
                    13.43,
                    13.436333333333332,
                    13.588999999999999,
                    13.715666666666666,
                    13.286666666666667,
                    13.622,
                    13.591333333333333,
                    13.702333333333334,
                    13.530000000000001,
                    13.403666666666666,
                    13.622,
                    13.841333333333333,
                    13.837666666666669,
                    13.524666666666667,
                    13.548333333333332,
                    13.447000000000001,
                    13.762666666666666,
                    13.682666666666668,
                    13.812333333333333,
                    13.731,
                    13.630333333333335,
                    13.766666666666667,
                    13.641333333333334,
                    13.776666666666666,
                    13.764333333333333,
                    13.703333333333333,
                    13.521666666666667,
                    13.913333333333332,
                    14.089666666666666,
                    13.831666666666665,
                    13.702,
                    13.841,
                    13.810666666666668,
                    13.950666666666665,
                    13.995,
                    13.921999999999999,
                    13.952666666666667,
                    13.988333333333335,
                    14.117333333333335,
                    13.868666666666668,
                    13.798333333333334,
                    13.987666666666664,
                    13.951333333333332,
                    13.847,
                    13.878333333333332,
                    14.001666666666667,
                    13.749333333333334,
                    13.660666666666666,
                    13.865,
                    13.985,
                    14.020999999999999,
                    13.836333333333334,
                    14.028333333333334,
                    13.509666666666666,
                    13.998,
                    13.740666666666668,
                    13.959666666666669,
                    13.835666666666668,
                    13.946333333333333,
                    13.781666666666666,
                    14.075666666666665,
                    13.812666666666667,
                    13.731,
                    13.962333333333333,
                    13.781999999999998,
                    13.584666666666665,
                    13.832333333333333,
                    13.855333333333334,
                    13.705666666666666,
                    13.967666666666666,
                    14.042666666666667,
                    13.895333333333333,
                    13.807333333333332,
                    13.583999999999998,
                    14.198999999999998,
                    13.627,
                    13.811333333333332,
                    14.171000000000001,
                    14.335,
                    13.862,
                    14.062666666666667,
                    13.933333333333335,
                    13.866999999999999,
                    13.901333333333334,
                    14.237666666666668,
                    14.483333333333334,
                    14.064666666666666,
                    14.257333333333333,
                    14.523000000000001,
                    13.826999999999998,
                    13.982666666666667,
                    14.259666666666666,
                    14.638666666666666,
                    14.370333333333333,
                    14.317333333333332,
                    14.911666666666667,
                    14.410666666666666,
                    14.475666666666667,
                    14.566,
                    14.665999999999999,
                    14.563666666666668,
                    14.129666666666667,
                    14.725333333333333,
                    14.799333333333331,
                    14.763666666666667,
                    14.565333333333333,
                    14.695666666666668,
                    14.800666666666666,
                    14.954666666666666,
                    14.762666666666668,
                    14.771,
                    14.694333333333333,
                    14.770333333333333
                  ],
                  "xaxis": "x",
                  "y": [
                    "1750",
                    "1751",
                    "1752",
                    "1753",
                    "1754",
                    "1755",
                    "1756",
                    "1757",
                    "1758",
                    "1759",
                    "1760",
                    "1761",
                    "1762",
                    "1763",
                    "1764",
                    "1765",
                    "1766",
                    "1767",
                    "1768",
                    "1769",
                    "1770",
                    "1771",
                    "1772",
                    "1773",
                    "1774",
                    "1775",
                    "1776",
                    "1777",
                    "1778",
                    "1779",
                    "1780",
                    "1781",
                    "1782",
                    "1783",
                    "1784",
                    "1785",
                    "1786",
                    "1787",
                    "1788",
                    "1789",
                    "1790",
                    "1791",
                    "1792",
                    "1793",
                    "1794",
                    "1795",
                    "1796",
                    "1797",
                    "1798",
                    "1799",
                    "1800",
                    "1801",
                    "1802",
                    "1803",
                    "1804",
                    "1805",
                    "1806",
                    "1807",
                    "1808",
                    "1809",
                    "1810",
                    "1811",
                    "1812",
                    "1813",
                    "1814",
                    "1815",
                    "1816",
                    "1817",
                    "1818",
                    "1819",
                    "1820",
                    "1821",
                    "1822",
                    "1823",
                    "1824",
                    "1825",
                    "1826",
                    "1827",
                    "1828",
                    "1829",
                    "1830",
                    "1831",
                    "1832",
                    "1833",
                    "1834",
                    "1835",
                    "1836",
                    "1837",
                    "1838",
                    "1839",
                    "1840",
                    "1841",
                    "1842",
                    "1843",
                    "1844",
                    "1845",
                    "1846",
                    "1847",
                    "1848",
                    "1849",
                    "1850",
                    "1851",
                    "1852",
                    "1853",
                    "1854",
                    "1855",
                    "1856",
                    "1857",
                    "1858",
                    "1859",
                    "1860",
                    "1861",
                    "1862",
                    "1863",
                    "1864",
                    "1865",
                    "1866",
                    "1867",
                    "1868",
                    "1869",
                    "1870",
                    "1871",
                    "1872",
                    "1873",
                    "1874",
                    "1875",
                    "1876",
                    "1877",
                    "1878",
                    "1879",
                    "1880",
                    "1881",
                    "1882",
                    "1883",
                    "1884",
                    "1885",
                    "1886",
                    "1887",
                    "1888",
                    "1889",
                    "1890",
                    "1891",
                    "1892",
                    "1893",
                    "1894",
                    "1895",
                    "1896",
                    "1897",
                    "1898",
                    "1899",
                    "1900",
                    "1901",
                    "1902",
                    "1903",
                    "1904",
                    "1905",
                    "1906",
                    "1907",
                    "1908",
                    "1909",
                    "1910",
                    "1911",
                    "1912",
                    "1913",
                    "1914",
                    "1915",
                    "1916",
                    "1917",
                    "1918",
                    "1919",
                    "1920",
                    "1921",
                    "1922",
                    "1923",
                    "1924",
                    "1925",
                    "1926",
                    "1927",
                    "1928",
                    "1929",
                    "1930",
                    "1931",
                    "1932",
                    "1933",
                    "1934",
                    "1935",
                    "1936",
                    "1937",
                    "1938",
                    "1939",
                    "1940",
                    "1941",
                    "1942",
                    "1943",
                    "1944",
                    "1945",
                    "1946",
                    "1947",
                    "1948",
                    "1949",
                    "1950",
                    "1951",
                    "1952",
                    "1953",
                    "1954",
                    "1955",
                    "1956",
                    "1957",
                    "1958",
                    "1959",
                    "1960",
                    "1961",
                    "1962",
                    "1963",
                    "1964",
                    "1965",
                    "1966",
                    "1967",
                    "1968",
                    "1969",
                    "1970",
                    "1971",
                    "1972",
                    "1973",
                    "1974",
                    "1975",
                    "1976",
                    "1977",
                    "1978",
                    "1979",
                    "1980",
                    "1981",
                    "1982",
                    "1983",
                    "1984",
                    "1985",
                    "1986",
                    "1987",
                    "1988",
                    "1989",
                    "1990",
                    "1991",
                    "1992",
                    "1993",
                    "1994",
                    "1995",
                    "1996",
                    "1997",
                    "1998",
                    "1999",
                    "2000",
                    "2001",
                    "2002",
                    "2003",
                    "2004",
                    "2005",
                    "2006",
                    "2007",
                    "2008",
                    "2009",
                    "2010",
                    "2011",
                    "2012",
                    "2013",
                    "2014",
                    "2015"
                  ],
                  "yaxis": "y"
                },
                {
                  "alignmentgroup": "True",
                  "hovertemplate": "variable=autumn_temp<br>value=%{x}<br>year=%{y}<extra></extra>",
                  "legendgroup": "autumn_temp",
                  "marker": {
                    "color": "#00cc96",
                    "pattern": {
                      "shape": ""
                    }
                  },
                  "name": "autumn_temp",
                  "offsetgroup": "autumn_temp",
                  "orientation": "h",
                  "showlegend": true,
                  "textposition": "auto",
                  "type": "bar",
                  "x": [
                    8.889999999999999,
                    10.673,
                    7.587,
                    9.212333333333333,
                    8.957333333333333,
                    9.233666666666666,
                    8.063,
                    8.455333333333334,
                    6.2923333333333344,
                    8.387,
                    7.778,
                    8.283666666666667,
                    7.616333333333333,
                    7.167000000000001,
                    8.832666666666666,
                    8.166666666666666,
                    9.389666666666667,
                    9.539,
                    7.711333333333333,
                    6.445666666666665,
                    8.392,
                    8.865333333333334,
                    9.102333333333334,
                    8.354333333333333,
                    7.5183333333333335,
                    9.882333333333333,
                    8.177333333333333,
                    7.954666666666667,
                    8.426666666666668,
                    9.267666666666667,
                    8.308666666666666,
                    8.791333333333332,
                    8.777333333333333,
                    6.503666666666667,
                    7.219666666666666,
                    7.791333333333333,
                    8.537,
                    7.976666666666667,
                    9.053,
                    8.457333333333333,
                    8.380333333333335,
                    8.654333333333332,
                    8.631333333333334,
                    8.687,
                    8.762666666666666,
                    8.042,
                    8.879333333333333,
                    8.809,
                    8.771,
                    9.273666666666667,
                    8.612,
                    8.760333333333334,
                    9.023333333333332,
                    9.136666666666665,
                    9.627333333333334,
                    8.076666666666666,
                    8.735333333333335,
                    9.162333333333335,
                    8.398333333333333,
                    7.572,
                    6.663666666666667,
                    6.817,
                    7.3823333333333325,
                    9.276666666666667,
                    8.263,
                    7.488666666666667,
                    6.7156666666666665,
                    6.550999999999999,
                    7.4223333333333334,
                    8.451999999999998,
                    7.730333333333333,
                    8.104666666666667,
                    7.656666666666667,
                    7.449333333333333,
                    8.534,
                    8.395,
                    8.757,
                    8.557333333333334,
                    8.231,
                    8.135666666666667,
                    8.675333333333333,
                    7.396,
                    7.774,
                    8.577333333333334,
                    8.847666666666667,
                    7.363,
                    7.794,
                    7.542333333333333,
                    8.264,
                    7.663999999999999,
                    7.538666666666667,
                    8.143333333333333,
                    8.023666666666665,
                    8.331666666666667,
                    7.973333333333333,
                    8.07,
                    8.337,
                    8.603666666666667,
                    8.314,
                    8.586999999999998,
                    8.109666666666667,
                    8.590666666666666,
                    8.327,
                    8.342666666666668,
                    9.007333333333333,
                    8.257,
                    8.131666666666666,
                    8.163333333333332,
                    8.649333333333333,
                    8.608666666666666,
                    8.543666666666667,
                    8.530333333333333,
                    8.034333333333334,
                    8.285666666666666,
                    8.465666666666666,
                    9.025666666666666,
                    8.642666666666667,
                    9.304666666666668,
                    8.769666666666668,
                    9.008666666666667,
                    8.787333333333331,
                    8.64,
                    8.856666666666667,
                    8.846666666666666,
                    9.013333333333334,
                    8.172666666666666,
                    8.575333333333333,
                    9.232,
                    9.237333333333334,
                    8.734666666666667,
                    8.650666666666666,
                    8.604,
                    8.415666666666667,
                    8.385666666666665,
                    8.326666666666666,
                    8.527333333333335,
                    8.476666666666667,
                    8.679,
                    8.892666666666669,
                    8.470333333333334,
                    8.584666666666667,
                    8.533333333333333,
                    8.637666666666666,
                    8.943,
                    8.703333333333333,
                    8.868,
                    8.868666666666668,
                    8.91,
                    8.677666666666665,
                    9.380666666666666,
                    9.141666666666667,
                    8.987666666666668,
                    8.624666666666668,
                    8.609666666666667,
                    8.814666666666666,
                    9.009333333333332,
                    8.846666666666666,
                    8.702,
                    8.704666666666666,
                    9.102333333333332,
                    8.685666666666668,
                    8.955,
                    8.37,
                    8.953333333333333,
                    9.020333333333333,
                    9.022333333333334,
                    8.791666666666668,
                    8.703000000000001,
                    8.999,
                    8.946666666666667,
                    8.793666666666667,
                    8.999,
                    8.959,
                    9.260333333333334,
                    9.186666666666667,
                    9.171666666666665,
                    9.308333333333334,
                    9.495666666666667,
                    9.283999999999999,
                    9.146333333333335,
                    9.236333333333333,
                    9.487666666666666,
                    9.3,
                    8.994,
                    9.181666666666667,
                    8.985999999999999,
                    9.237,
                    9.499333333333333,
                    9.580333333333334,
                    9.121666666666666,
                    9.267000000000001,
                    9.159666666666668,
                    9.389333333333335,
                    9.421,
                    9.449666666666667,
                    9.290999999999999,
                    9.193333333333333,
                    9.528,
                    9.308,
                    9.212,
                    8.825666666666667,
                    9.406333333333334,
                    8.94,
                    9.237666666666668,
                    9.407666666666666,
                    9.220666666666666,
                    8.816333333333333,
                    9.399666666666667,
                    9.159999999999998,
                    8.952666666666667,
                    9.139999999999999,
                    9.26,
                    9.256333333333334,
                    9.686333333333332,
                    8.806333333333333,
                    9.026,
                    9.085,
                    9.346333333333334,
                    8.988,
                    9.319,
                    9.224,
                    9.274000000000001,
                    9.014666666666667,
                    9.318666666666667,
                    8.919,
                    9.121,
                    8.688666666666666,
                    9.187333333333333,
                    9.239666666666666,
                    9.373,
                    9.518333333333334,
                    9.301,
                    9.077333333333334,
                    9.647,
                    9.068,
                    9.095333333333333,
                    9.011666666666667,
                    9.364333333333333,
                    9.651666666666666,
                    9.447333333333333,
                    9.665666666666667,
                    9.623333333333333,
                    8.971333333333332,
                    9.094,
                    9.768666666666666,
                    9.810666666666666,
                    9.455333333333334,
                    9.878333333333334,
                    9.672666666666666,
                    9.770666666666665,
                    9.448333333333334,
                    9.996666666666666,
                    9.943333333333333,
                    10.020666666666667,
                    10.028,
                    10.413666666666666,
                    10.039666666666667,
                    10.115333333333334,
                    10.141666666666667,
                    10.106666666666667,
                    10.264000000000001,
                    10.026000000000002,
                    10.208,
                    10.278,
                    10.044666666666666,
                    10.411
                  ],
                  "xaxis": "x",
                  "y": [
                    "1750",
                    "1751",
                    "1752",
                    "1753",
                    "1754",
                    "1755",
                    "1756",
                    "1757",
                    "1758",
                    "1759",
                    "1760",
                    "1761",
                    "1762",
                    "1763",
                    "1764",
                    "1765",
                    "1766",
                    "1767",
                    "1768",
                    "1769",
                    "1770",
                    "1771",
                    "1772",
                    "1773",
                    "1774",
                    "1775",
                    "1776",
                    "1777",
                    "1778",
                    "1779",
                    "1780",
                    "1781",
                    "1782",
                    "1783",
                    "1784",
                    "1785",
                    "1786",
                    "1787",
                    "1788",
                    "1789",
                    "1790",
                    "1791",
                    "1792",
                    "1793",
                    "1794",
                    "1795",
                    "1796",
                    "1797",
                    "1798",
                    "1799",
                    "1800",
                    "1801",
                    "1802",
                    "1803",
                    "1804",
                    "1805",
                    "1806",
                    "1807",
                    "1808",
                    "1809",
                    "1810",
                    "1811",
                    "1812",
                    "1813",
                    "1814",
                    "1815",
                    "1816",
                    "1817",
                    "1818",
                    "1819",
                    "1820",
                    "1821",
                    "1822",
                    "1823",
                    "1824",
                    "1825",
                    "1826",
                    "1827",
                    "1828",
                    "1829",
                    "1830",
                    "1831",
                    "1832",
                    "1833",
                    "1834",
                    "1835",
                    "1836",
                    "1837",
                    "1838",
                    "1839",
                    "1840",
                    "1841",
                    "1842",
                    "1843",
                    "1844",
                    "1845",
                    "1846",
                    "1847",
                    "1848",
                    "1849",
                    "1850",
                    "1851",
                    "1852",
                    "1853",
                    "1854",
                    "1855",
                    "1856",
                    "1857",
                    "1858",
                    "1859",
                    "1860",
                    "1861",
                    "1862",
                    "1863",
                    "1864",
                    "1865",
                    "1866",
                    "1867",
                    "1868",
                    "1869",
                    "1870",
                    "1871",
                    "1872",
                    "1873",
                    "1874",
                    "1875",
                    "1876",
                    "1877",
                    "1878",
                    "1879",
                    "1880",
                    "1881",
                    "1882",
                    "1883",
                    "1884",
                    "1885",
                    "1886",
                    "1887",
                    "1888",
                    "1889",
                    "1890",
                    "1891",
                    "1892",
                    "1893",
                    "1894",
                    "1895",
                    "1896",
                    "1897",
                    "1898",
                    "1899",
                    "1900",
                    "1901",
                    "1902",
                    "1903",
                    "1904",
                    "1905",
                    "1906",
                    "1907",
                    "1908",
                    "1909",
                    "1910",
                    "1911",
                    "1912",
                    "1913",
                    "1914",
                    "1915",
                    "1916",
                    "1917",
                    "1918",
                    "1919",
                    "1920",
                    "1921",
                    "1922",
                    "1923",
                    "1924",
                    "1925",
                    "1926",
                    "1927",
                    "1928",
                    "1929",
                    "1930",
                    "1931",
                    "1932",
                    "1933",
                    "1934",
                    "1935",
                    "1936",
                    "1937",
                    "1938",
                    "1939",
                    "1940",
                    "1941",
                    "1942",
                    "1943",
                    "1944",
                    "1945",
                    "1946",
                    "1947",
                    "1948",
                    "1949",
                    "1950",
                    "1951",
                    "1952",
                    "1953",
                    "1954",
                    "1955",
                    "1956",
                    "1957",
                    "1958",
                    "1959",
                    "1960",
                    "1961",
                    "1962",
                    "1963",
                    "1964",
                    "1965",
                    "1966",
                    "1967",
                    "1968",
                    "1969",
                    "1970",
                    "1971",
                    "1972",
                    "1973",
                    "1974",
                    "1975",
                    "1976",
                    "1977",
                    "1978",
                    "1979",
                    "1980",
                    "1981",
                    "1982",
                    "1983",
                    "1984",
                    "1985",
                    "1986",
                    "1987",
                    "1988",
                    "1989",
                    "1990",
                    "1991",
                    "1992",
                    "1993",
                    "1994",
                    "1995",
                    "1996",
                    "1997",
                    "1998",
                    "1999",
                    "2000",
                    "2001",
                    "2002",
                    "2003",
                    "2004",
                    "2005",
                    "2006",
                    "2007",
                    "2008",
                    "2009",
                    "2010",
                    "2011",
                    "2012",
                    "2013",
                    "2014",
                    "2015"
                  ],
                  "yaxis": "y"
                },
                {
                  "alignmentgroup": "True",
                  "hovertemplate": "variable=winter_temp<br>value=%{x}<br>year=%{y}<extra></extra>",
                  "legendgroup": "winter_temp",
                  "marker": {
                    "color": "#ab63fa",
                    "pattern": {
                      "shape": ""
                    }
                  },
                  "name": "winter_temp",
                  "offsetgroup": "winter_temp",
                  "orientation": "h",
                  "showlegend": true,
                  "textposition": "auto",
                  "type": "bar",
                  "x": [
                    2.9630000000000005,
                    1.729,
                    2.7170000000000005,
                    1.1043333333333332,
                    1.6373333333333333,
                    1.1743333333333332,
                    3.906,
                    1.4829999999999999,
                    0.8506666666666668,
                    3.114333333333333,
                    1.3926666666666667,
                    0.8326666666666666,
                    4.930000000000001,
                    1.8413333333333333,
                    4.406,
                    3.3369999999999997,
                    2.1453333333333333,
                    1.4926666666666666,
                    0.36433333333333334,
                    1.1636666666666666,
                    3.6043333333333334,
                    2.449666666666667,
                    2.747666666666667,
                    2.0249999999999995,
                    1.633,
                    3.9906666666666673,
                    3.013333333333333,
                    4.6690000000000005,
                    3.571999999999999,
                    2.9596666666666667,
                    3.0596666666666668,
                    2.6519999999999997,
                    0.967,
                    2.029,
                    2.3333333333333335,
                    1.261,
                    1.3846666666666667,
                    2.4013333333333335,
                    1.856,
                    2.8266666666666667,
                    2.724,
                    2.828333333333333,
                    2.452,
                    2.4343333333333335,
                    3.411,
                    3.2313333333333336,
                    2.279666666666667,
                    4.209333333333333,
                    2.639666666666667,
                    2.496,
                    3.4376666666666664,
                    3.4713333333333334,
                    3.1496666666666666,
                    1.4573333333333334,
                    2.202666666666667,
                    3.179,
                    3.281,
                    3.1899999999999995,
                    1.3866666666666667,
                    1.047,
                    1.9796666666666667,
                    1.6660000000000001,
                    0.8186666666666668,
                    1.0146666666666666,
                    3.0066666666666673,
                    1.8483333333333334,
                    1.457,
                    1.7863333333333333,
                    1.4886666666666668,
                    1.7140000000000002,
                    1.5513333333333332,
                    3.158,
                    2.7483333333333335,
                    1.8983333333333334,
                    3.468666666666667,
                    3.1139999999999994,
                    2.767333333333333,
                    3.576666666666666,
                    1.8003333333333336,
                    2.066333333333333,
                    3.8409999999999997,
                    2.308666666666667,
                    1.4439999999999997,
                    2.4596666666666667,
                    1.9183333333333337,
                    2.238666666666667,
                    2.300333333333333,
                    2.2813333333333334,
                    1.2063333333333335,
                    2.2373333333333334,
                    2.1906666666666665,
                    1.8883333333333334,
                    2.7176666666666667,
                    3.5530000000000004,
                    1.9323333333333335,
                    2.008,
                    3.455,
                    2.6936666666666667,
                    2.111666666666667,
                    2.167333333333333,
                    2.207666666666667,
                    2.693,
                    2.9003333333333337,
                    2.2906666666666666,
                    2.2263333333333333,
                    2.5726666666666667,
                    2.7889999999999997,
                    2.6056666666666666,
                    2.489,
                    2.663666666666667,
                    2.114333333333333,
                    1.8116666666666668,
                    1.359,
                    2.9793333333333334,
                    2.1076666666666664,
                    2.5910000000000006,
                    3.1193333333333335,
                    3.0276666666666667,
                    2.405666666666667,
                    2.895,
                    2.148,
                    2.1153333333333335,
                    2.2096666666666667,
                    3.0180000000000002,
                    3.0536666666666665,
                    2.1523333333333334,
                    2.2223333333333333,
                    2.736666666666667,
                    3.029666666666667,
                    2.5260000000000002,
                    2.3043333333333336,
                    2.7610000000000006,
                    2.808666666666667,
                    2.1923333333333335,
                    2.5406666666666666,
                    2.296666666666667,
                    2.2436666666666665,
                    1.9176666666666666,
                    2.323,
                    2.7566666666666664,
                    2.4403333333333332,
                    2.3866666666666667,
                    2.5860000000000003,
                    1.7696666666666665,
                    2.582333333333333,
                    2.252333333333333,
                    2.7699999999999996,
                    2.497666666666667,
                    2.832666666666667,
                    2.6333333333333333,
                    2.738,
                    2.872666666666667,
                    3.001,
                    2.9890000000000003,
                    2.436,
                    2.5116666666666667,
                    2.7099999999999995,
                    2.2903333333333333,
                    2.7146666666666666,
                    2.441333333333334,
                    2.598666666666667,
                    2.501,
                    2.9416666666666664,
                    2.8539999999999996,
                    3.392,
                    3.0656666666666665,
                    2.6296666666666666,
                    2.2466666666666666,
                    2.412333333333333,
                    2.7533333333333334,
                    2.7416666666666667,
                    3.2560000000000002,
                    2.731,
                    2.9766666666666666,
                    2.904,
                    3.122333333333333,
                    3.512,
                    2.8926666666666665,
                    3.4173333333333336,
                    2.2656666666666667,
                    3.128,
                    3.1653333333333333,
                    3.3733333333333335,
                    2.6433333333333335,
                    3.3866666666666667,
                    3.241,
                    2.892,
                    3.1613333333333333,
                    3.279,
                    3.7076666666666664,
                    3.297333333333333,
                    3.3706666666666667,
                    3.301666666666667,
                    3.3806666666666665,
                    3.5096666666666665,
                    2.7763333333333335,
                    3.191333333333333,
                    3.176666666666667,
                    3.359,
                    3.142333333333333,
                    2.752333333333333,
                    2.932666666666666,
                    3.368,
                    3.5303333333333335,
                    2.9006666666666674,
                    3.285,
                    2.9483333333333337,
                    3.312,
                    3.6970000000000005,
                    3.3529999999999998,
                    3.59,
                    3.369666666666667,
                    3.546333333333333,
                    3.557,
                    3.1223333333333336,
                    3.2213333333333334,
                    3.0540000000000003,
                    3.176666666666667,
                    2.946,
                    2.8753333333333337,
                    3.3640000000000003,
                    3.2336666666666667,
                    2.7563333333333335,
                    3.5893333333333337,
                    2.7976666666666667,
                    3.373666666666667,
                    3.1986666666666665,
                    3.2373333333333334,
                    3.300333333333333,
                    3.3733333333333335,
                    3.5413333333333337,
                    4.108333333333333,
                    3.388666666666667,
                    3.696,
                    3.0730000000000004,
                    3.1663333333333337,
                    3.6856666666666666,
                    3.920666666666667,
                    3.7463333333333337,
                    3.589,
                    3.7703333333333333,
                    3.7660000000000005,
                    3.861666666666667,
                    3.6936666666666667,
                    3.3156666666666665,
                    4.1063333333333345,
                    3.7330000000000005,
                    3.782666666666666,
                    4.282333333333334,
                    4.267666666666667,
                    3.6656666666666666,
                    3.8543333333333334,
                    4.256,
                    4.399666666666666,
                    4.093666666666667,
                    4.202,
                    4.234333333333333,
                    4.441,
                    3.6016666666666666,
                    4.030333333333332,
                    4.142666666666666,
                    3.893333333333333,
                    3.629,
                    4.210333333333334,
                    4.027333333333334,
                    4.687666666666666
                  ],
                  "xaxis": "x",
                  "y": [
                    "1750",
                    "1751",
                    "1752",
                    "1753",
                    "1754",
                    "1755",
                    "1756",
                    "1757",
                    "1758",
                    "1759",
                    "1760",
                    "1761",
                    "1762",
                    "1763",
                    "1764",
                    "1765",
                    "1766",
                    "1767",
                    "1768",
                    "1769",
                    "1770",
                    "1771",
                    "1772",
                    "1773",
                    "1774",
                    "1775",
                    "1776",
                    "1777",
                    "1778",
                    "1779",
                    "1780",
                    "1781",
                    "1782",
                    "1783",
                    "1784",
                    "1785",
                    "1786",
                    "1787",
                    "1788",
                    "1789",
                    "1790",
                    "1791",
                    "1792",
                    "1793",
                    "1794",
                    "1795",
                    "1796",
                    "1797",
                    "1798",
                    "1799",
                    "1800",
                    "1801",
                    "1802",
                    "1803",
                    "1804",
                    "1805",
                    "1806",
                    "1807",
                    "1808",
                    "1809",
                    "1810",
                    "1811",
                    "1812",
                    "1813",
                    "1814",
                    "1815",
                    "1816",
                    "1817",
                    "1818",
                    "1819",
                    "1820",
                    "1821",
                    "1822",
                    "1823",
                    "1824",
                    "1825",
                    "1826",
                    "1827",
                    "1828",
                    "1829",
                    "1830",
                    "1831",
                    "1832",
                    "1833",
                    "1834",
                    "1835",
                    "1836",
                    "1837",
                    "1838",
                    "1839",
                    "1840",
                    "1841",
                    "1842",
                    "1843",
                    "1844",
                    "1845",
                    "1846",
                    "1847",
                    "1848",
                    "1849",
                    "1850",
                    "1851",
                    "1852",
                    "1853",
                    "1854",
                    "1855",
                    "1856",
                    "1857",
                    "1858",
                    "1859",
                    "1860",
                    "1861",
                    "1862",
                    "1863",
                    "1864",
                    "1865",
                    "1866",
                    "1867",
                    "1868",
                    "1869",
                    "1870",
                    "1871",
                    "1872",
                    "1873",
                    "1874",
                    "1875",
                    "1876",
                    "1877",
                    "1878",
                    "1879",
                    "1880",
                    "1881",
                    "1882",
                    "1883",
                    "1884",
                    "1885",
                    "1886",
                    "1887",
                    "1888",
                    "1889",
                    "1890",
                    "1891",
                    "1892",
                    "1893",
                    "1894",
                    "1895",
                    "1896",
                    "1897",
                    "1898",
                    "1899",
                    "1900",
                    "1901",
                    "1902",
                    "1903",
                    "1904",
                    "1905",
                    "1906",
                    "1907",
                    "1908",
                    "1909",
                    "1910",
                    "1911",
                    "1912",
                    "1913",
                    "1914",
                    "1915",
                    "1916",
                    "1917",
                    "1918",
                    "1919",
                    "1920",
                    "1921",
                    "1922",
                    "1923",
                    "1924",
                    "1925",
                    "1926",
                    "1927",
                    "1928",
                    "1929",
                    "1930",
                    "1931",
                    "1932",
                    "1933",
                    "1934",
                    "1935",
                    "1936",
                    "1937",
                    "1938",
                    "1939",
                    "1940",
                    "1941",
                    "1942",
                    "1943",
                    "1944",
                    "1945",
                    "1946",
                    "1947",
                    "1948",
                    "1949",
                    "1950",
                    "1951",
                    "1952",
                    "1953",
                    "1954",
                    "1955",
                    "1956",
                    "1957",
                    "1958",
                    "1959",
                    "1960",
                    "1961",
                    "1962",
                    "1963",
                    "1964",
                    "1965",
                    "1966",
                    "1967",
                    "1968",
                    "1969",
                    "1970",
                    "1971",
                    "1972",
                    "1973",
                    "1974",
                    "1975",
                    "1976",
                    "1977",
                    "1978",
                    "1979",
                    "1980",
                    "1981",
                    "1982",
                    "1983",
                    "1984",
                    "1985",
                    "1986",
                    "1987",
                    "1988",
                    "1989",
                    "1990",
                    "1991",
                    "1992",
                    "1993",
                    "1994",
                    "1995",
                    "1996",
                    "1997",
                    "1998",
                    "1999",
                    "2000",
                    "2001",
                    "2002",
                    "2003",
                    "2004",
                    "2005",
                    "2006",
                    "2007",
                    "2008",
                    "2009",
                    "2010",
                    "2011",
                    "2012",
                    "2013",
                    "2014",
                    "2015"
                  ],
                  "yaxis": "y"
                }
              ],
              "layout": {
                "barmode": "relative",
                "legend": {
                  "title": {
                    "text": "variable"
                  },
                  "tracegroupgap": 0
                },
                "template": {
                  "data": {
                    "bar": [
                      {
                        "error_x": {
                          "color": "#f2f5fa"
                        },
                        "error_y": {
                          "color": "#f2f5fa"
                        },
                        "marker": {
                          "line": {
                            "color": "rgb(17,17,17)",
                            "width": 0.5
                          },
                          "pattern": {
                            "fillmode": "overlay",
                            "size": 10,
                            "solidity": 0.2
                          }
                        },
                        "type": "bar"
                      }
                    ],
                    "barpolar": [
                      {
                        "marker": {
                          "line": {
                            "color": "rgb(17,17,17)",
                            "width": 0.5
                          },
                          "pattern": {
                            "fillmode": "overlay",
                            "size": 10,
                            "solidity": 0.2
                          }
                        },
                        "type": "barpolar"
                      }
                    ],
                    "carpet": [
                      {
                        "aaxis": {
                          "endlinecolor": "#A2B1C6",
                          "gridcolor": "#506784",
                          "linecolor": "#506784",
                          "minorgridcolor": "#506784",
                          "startlinecolor": "#A2B1C6"
                        },
                        "baxis": {
                          "endlinecolor": "#A2B1C6",
                          "gridcolor": "#506784",
                          "linecolor": "#506784",
                          "minorgridcolor": "#506784",
                          "startlinecolor": "#A2B1C6"
                        },
                        "type": "carpet"
                      }
                    ],
                    "choropleth": [
                      {
                        "colorbar": {
                          "outlinewidth": 0,
                          "ticks": ""
                        },
                        "type": "choropleth"
                      }
                    ],
                    "contour": [
                      {
                        "colorbar": {
                          "outlinewidth": 0,
                          "ticks": ""
                        },
                        "colorscale": [
                          [
                            0,
                            "#0d0887"
                          ],
                          [
                            0.1111111111111111,
                            "#46039f"
                          ],
                          [
                            0.2222222222222222,
                            "#7201a8"
                          ],
                          [
                            0.3333333333333333,
                            "#9c179e"
                          ],
                          [
                            0.4444444444444444,
                            "#bd3786"
                          ],
                          [
                            0.5555555555555556,
                            "#d8576b"
                          ],
                          [
                            0.6666666666666666,
                            "#ed7953"
                          ],
                          [
                            0.7777777777777778,
                            "#fb9f3a"
                          ],
                          [
                            0.8888888888888888,
                            "#fdca26"
                          ],
                          [
                            1,
                            "#f0f921"
                          ]
                        ],
                        "type": "contour"
                      }
                    ],
                    "contourcarpet": [
                      {
                        "colorbar": {
                          "outlinewidth": 0,
                          "ticks": ""
                        },
                        "type": "contourcarpet"
                      }
                    ],
                    "heatmap": [
                      {
                        "colorbar": {
                          "outlinewidth": 0,
                          "ticks": ""
                        },
                        "colorscale": [
                          [
                            0,
                            "#0d0887"
                          ],
                          [
                            0.1111111111111111,
                            "#46039f"
                          ],
                          [
                            0.2222222222222222,
                            "#7201a8"
                          ],
                          [
                            0.3333333333333333,
                            "#9c179e"
                          ],
                          [
                            0.4444444444444444,
                            "#bd3786"
                          ],
                          [
                            0.5555555555555556,
                            "#d8576b"
                          ],
                          [
                            0.6666666666666666,
                            "#ed7953"
                          ],
                          [
                            0.7777777777777778,
                            "#fb9f3a"
                          ],
                          [
                            0.8888888888888888,
                            "#fdca26"
                          ],
                          [
                            1,
                            "#f0f921"
                          ]
                        ],
                        "type": "heatmap"
                      }
                    ],
                    "heatmapgl": [
                      {
                        "colorbar": {
                          "outlinewidth": 0,
                          "ticks": ""
                        },
                        "colorscale": [
                          [
                            0,
                            "#0d0887"
                          ],
                          [
                            0.1111111111111111,
                            "#46039f"
                          ],
                          [
                            0.2222222222222222,
                            "#7201a8"
                          ],
                          [
                            0.3333333333333333,
                            "#9c179e"
                          ],
                          [
                            0.4444444444444444,
                            "#bd3786"
                          ],
                          [
                            0.5555555555555556,
                            "#d8576b"
                          ],
                          [
                            0.6666666666666666,
                            "#ed7953"
                          ],
                          [
                            0.7777777777777778,
                            "#fb9f3a"
                          ],
                          [
                            0.8888888888888888,
                            "#fdca26"
                          ],
                          [
                            1,
                            "#f0f921"
                          ]
                        ],
                        "type": "heatmapgl"
                      }
                    ],
                    "histogram": [
                      {
                        "marker": {
                          "pattern": {
                            "fillmode": "overlay",
                            "size": 10,
                            "solidity": 0.2
                          }
                        },
                        "type": "histogram"
                      }
                    ],
                    "histogram2d": [
                      {
                        "colorbar": {
                          "outlinewidth": 0,
                          "ticks": ""
                        },
                        "colorscale": [
                          [
                            0,
                            "#0d0887"
                          ],
                          [
                            0.1111111111111111,
                            "#46039f"
                          ],
                          [
                            0.2222222222222222,
                            "#7201a8"
                          ],
                          [
                            0.3333333333333333,
                            "#9c179e"
                          ],
                          [
                            0.4444444444444444,
                            "#bd3786"
                          ],
                          [
                            0.5555555555555556,
                            "#d8576b"
                          ],
                          [
                            0.6666666666666666,
                            "#ed7953"
                          ],
                          [
                            0.7777777777777778,
                            "#fb9f3a"
                          ],
                          [
                            0.8888888888888888,
                            "#fdca26"
                          ],
                          [
                            1,
                            "#f0f921"
                          ]
                        ],
                        "type": "histogram2d"
                      }
                    ],
                    "histogram2dcontour": [
                      {
                        "colorbar": {
                          "outlinewidth": 0,
                          "ticks": ""
                        },
                        "colorscale": [
                          [
                            0,
                            "#0d0887"
                          ],
                          [
                            0.1111111111111111,
                            "#46039f"
                          ],
                          [
                            0.2222222222222222,
                            "#7201a8"
                          ],
                          [
                            0.3333333333333333,
                            "#9c179e"
                          ],
                          [
                            0.4444444444444444,
                            "#bd3786"
                          ],
                          [
                            0.5555555555555556,
                            "#d8576b"
                          ],
                          [
                            0.6666666666666666,
                            "#ed7953"
                          ],
                          [
                            0.7777777777777778,
                            "#fb9f3a"
                          ],
                          [
                            0.8888888888888888,
                            "#fdca26"
                          ],
                          [
                            1,
                            "#f0f921"
                          ]
                        ],
                        "type": "histogram2dcontour"
                      }
                    ],
                    "mesh3d": [
                      {
                        "colorbar": {
                          "outlinewidth": 0,
                          "ticks": ""
                        },
                        "type": "mesh3d"
                      }
                    ],
                    "parcoords": [
                      {
                        "line": {
                          "colorbar": {
                            "outlinewidth": 0,
                            "ticks": ""
                          }
                        },
                        "type": "parcoords"
                      }
                    ],
                    "pie": [
                      {
                        "automargin": true,
                        "type": "pie"
                      }
                    ],
                    "scatter": [
                      {
                        "marker": {
                          "line": {
                            "color": "#283442"
                          }
                        },
                        "type": "scatter"
                      }
                    ],
                    "scatter3d": [
                      {
                        "line": {
                          "colorbar": {
                            "outlinewidth": 0,
                            "ticks": ""
                          }
                        },
                        "marker": {
                          "colorbar": {
                            "outlinewidth": 0,
                            "ticks": ""
                          }
                        },
                        "type": "scatter3d"
                      }
                    ],
                    "scattercarpet": [
                      {
                        "marker": {
                          "colorbar": {
                            "outlinewidth": 0,
                            "ticks": ""
                          }
                        },
                        "type": "scattercarpet"
                      }
                    ],
                    "scattergeo": [
                      {
                        "marker": {
                          "colorbar": {
                            "outlinewidth": 0,
                            "ticks": ""
                          }
                        },
                        "type": "scattergeo"
                      }
                    ],
                    "scattergl": [
                      {
                        "marker": {
                          "line": {
                            "color": "#283442"
                          }
                        },
                        "type": "scattergl"
                      }
                    ],
                    "scattermapbox": [
                      {
                        "marker": {
                          "colorbar": {
                            "outlinewidth": 0,
                            "ticks": ""
                          }
                        },
                        "type": "scattermapbox"
                      }
                    ],
                    "scatterpolar": [
                      {
                        "marker": {
                          "colorbar": {
                            "outlinewidth": 0,
                            "ticks": ""
                          }
                        },
                        "type": "scatterpolar"
                      }
                    ],
                    "scatterpolargl": [
                      {
                        "marker": {
                          "colorbar": {
                            "outlinewidth": 0,
                            "ticks": ""
                          }
                        },
                        "type": "scatterpolargl"
                      }
                    ],
                    "scatterternary": [
                      {
                        "marker": {
                          "colorbar": {
                            "outlinewidth": 0,
                            "ticks": ""
                          }
                        },
                        "type": "scatterternary"
                      }
                    ],
                    "surface": [
                      {
                        "colorbar": {
                          "outlinewidth": 0,
                          "ticks": ""
                        },
                        "colorscale": [
                          [
                            0,
                            "#0d0887"
                          ],
                          [
                            0.1111111111111111,
                            "#46039f"
                          ],
                          [
                            0.2222222222222222,
                            "#7201a8"
                          ],
                          [
                            0.3333333333333333,
                            "#9c179e"
                          ],
                          [
                            0.4444444444444444,
                            "#bd3786"
                          ],
                          [
                            0.5555555555555556,
                            "#d8576b"
                          ],
                          [
                            0.6666666666666666,
                            "#ed7953"
                          ],
                          [
                            0.7777777777777778,
                            "#fb9f3a"
                          ],
                          [
                            0.8888888888888888,
                            "#fdca26"
                          ],
                          [
                            1,
                            "#f0f921"
                          ]
                        ],
                        "type": "surface"
                      }
                    ],
                    "table": [
                      {
                        "cells": {
                          "fill": {
                            "color": "#506784"
                          },
                          "line": {
                            "color": "rgb(17,17,17)"
                          }
                        },
                        "header": {
                          "fill": {
                            "color": "#2a3f5f"
                          },
                          "line": {
                            "color": "rgb(17,17,17)"
                          }
                        },
                        "type": "table"
                      }
                    ]
                  },
                  "layout": {
                    "annotationdefaults": {
                      "arrowcolor": "#f2f5fa",
                      "arrowhead": 0,
                      "arrowwidth": 1
                    },
                    "autotypenumbers": "strict",
                    "coloraxis": {
                      "colorbar": {
                        "outlinewidth": 0,
                        "ticks": ""
                      }
                    },
                    "colorscale": {
                      "diverging": [
                        [
                          0,
                          "#8e0152"
                        ],
                        [
                          0.1,
                          "#c51b7d"
                        ],
                        [
                          0.2,
                          "#de77ae"
                        ],
                        [
                          0.3,
                          "#f1b6da"
                        ],
                        [
                          0.4,
                          "#fde0ef"
                        ],
                        [
                          0.5,
                          "#f7f7f7"
                        ],
                        [
                          0.6,
                          "#e6f5d0"
                        ],
                        [
                          0.7,
                          "#b8e186"
                        ],
                        [
                          0.8,
                          "#7fbc41"
                        ],
                        [
                          0.9,
                          "#4d9221"
                        ],
                        [
                          1,
                          "#276419"
                        ]
                      ],
                      "sequential": [
                        [
                          0,
                          "#0d0887"
                        ],
                        [
                          0.1111111111111111,
                          "#46039f"
                        ],
                        [
                          0.2222222222222222,
                          "#7201a8"
                        ],
                        [
                          0.3333333333333333,
                          "#9c179e"
                        ],
                        [
                          0.4444444444444444,
                          "#bd3786"
                        ],
                        [
                          0.5555555555555556,
                          "#d8576b"
                        ],
                        [
                          0.6666666666666666,
                          "#ed7953"
                        ],
                        [
                          0.7777777777777778,
                          "#fb9f3a"
                        ],
                        [
                          0.8888888888888888,
                          "#fdca26"
                        ],
                        [
                          1,
                          "#f0f921"
                        ]
                      ],
                      "sequentialminus": [
                        [
                          0,
                          "#0d0887"
                        ],
                        [
                          0.1111111111111111,
                          "#46039f"
                        ],
                        [
                          0.2222222222222222,
                          "#7201a8"
                        ],
                        [
                          0.3333333333333333,
                          "#9c179e"
                        ],
                        [
                          0.4444444444444444,
                          "#bd3786"
                        ],
                        [
                          0.5555555555555556,
                          "#d8576b"
                        ],
                        [
                          0.6666666666666666,
                          "#ed7953"
                        ],
                        [
                          0.7777777777777778,
                          "#fb9f3a"
                        ],
                        [
                          0.8888888888888888,
                          "#fdca26"
                        ],
                        [
                          1,
                          "#f0f921"
                        ]
                      ]
                    },
                    "colorway": [
                      "#636efa",
                      "#EF553B",
                      "#00cc96",
                      "#ab63fa",
                      "#FFA15A",
                      "#19d3f3",
                      "#FF6692",
                      "#B6E880",
                      "#FF97FF",
                      "#FECB52"
                    ],
                    "font": {
                      "color": "#f2f5fa"
                    },
                    "geo": {
                      "bgcolor": "rgb(17,17,17)",
                      "lakecolor": "rgb(17,17,17)",
                      "landcolor": "rgb(17,17,17)",
                      "showlakes": true,
                      "showland": true,
                      "subunitcolor": "#506784"
                    },
                    "hoverlabel": {
                      "align": "left"
                    },
                    "hovermode": "closest",
                    "mapbox": {
                      "style": "dark"
                    },
                    "paper_bgcolor": "rgb(17,17,17)",
                    "plot_bgcolor": "rgb(17,17,17)",
                    "polar": {
                      "angularaxis": {
                        "gridcolor": "#506784",
                        "linecolor": "#506784",
                        "ticks": ""
                      },
                      "bgcolor": "rgb(17,17,17)",
                      "radialaxis": {
                        "gridcolor": "#506784",
                        "linecolor": "#506784",
                        "ticks": ""
                      }
                    },
                    "scene": {
                      "xaxis": {
                        "backgroundcolor": "rgb(17,17,17)",
                        "gridcolor": "#506784",
                        "gridwidth": 2,
                        "linecolor": "#506784",
                        "showbackground": true,
                        "ticks": "",
                        "zerolinecolor": "#C8D4E3"
                      },
                      "yaxis": {
                        "backgroundcolor": "rgb(17,17,17)",
                        "gridcolor": "#506784",
                        "gridwidth": 2,
                        "linecolor": "#506784",
                        "showbackground": true,
                        "ticks": "",
                        "zerolinecolor": "#C8D4E3"
                      },
                      "zaxis": {
                        "backgroundcolor": "rgb(17,17,17)",
                        "gridcolor": "#506784",
                        "gridwidth": 2,
                        "linecolor": "#506784",
                        "showbackground": true,
                        "ticks": "",
                        "zerolinecolor": "#C8D4E3"
                      }
                    },
                    "shapedefaults": {
                      "line": {
                        "color": "#f2f5fa"
                      }
                    },
                    "sliderdefaults": {
                      "bgcolor": "#C8D4E3",
                      "bordercolor": "rgb(17,17,17)",
                      "borderwidth": 1,
                      "tickwidth": 0
                    },
                    "ternary": {
                      "aaxis": {
                        "gridcolor": "#506784",
                        "linecolor": "#506784",
                        "ticks": ""
                      },
                      "baxis": {
                        "gridcolor": "#506784",
                        "linecolor": "#506784",
                        "ticks": ""
                      },
                      "bgcolor": "rgb(17,17,17)",
                      "caxis": {
                        "gridcolor": "#506784",
                        "linecolor": "#506784",
                        "ticks": ""
                      }
                    },
                    "title": {
                      "x": 0.05
                    },
                    "updatemenudefaults": {
                      "bgcolor": "#506784",
                      "borderwidth": 0
                    },
                    "xaxis": {
                      "automargin": true,
                      "gridcolor": "#283442",
                      "linecolor": "#506784",
                      "ticks": "",
                      "title": {
                        "standoff": 15
                      },
                      "zerolinecolor": "#283442",
                      "zerolinewidth": 2
                    },
                    "yaxis": {
                      "automargin": true,
                      "gridcolor": "#283442",
                      "linecolor": "#506784",
                      "ticks": "",
                      "title": {
                        "standoff": 15
                      },
                      "zerolinecolor": "#283442",
                      "zerolinewidth": 2
                    }
                  }
                },
                "title": {
                  "text": "Average Temperature in Each season"
                },
                "xaxis": {
                  "anchor": "y",
                  "domain": [
                    0,
                    1
                  ],
                  "title": {
                    "text": "value"
                  }
                },
                "yaxis": {
                  "anchor": "x",
                  "domain": [
                    0,
                    1
                  ],
                  "title": {
                    "text": "year"
                  }
                }
              }
            },
            "text/html": [
              "<div>                            <div id=\"40a96e33-31a6-484a-b04b-97f6f9080099\" class=\"plotly-graph-div\" style=\"height:525px; width:100%;\"></div>            <script type=\"text/javascript\">                require([\"plotly\"], function(Plotly) {                    window.PLOTLYENV=window.PLOTLYENV || {};                                    if (document.getElementById(\"40a96e33-31a6-484a-b04b-97f6f9080099\")) {                    Plotly.newPlot(                        \"40a96e33-31a6-484a-b04b-97f6f9080099\",                        [{\"alignmentgroup\":\"True\",\"hovertemplate\":\"variable=spring_temp<br>value=%{x}<br>year=%{y}<extra></extra>\",\"legendgroup\":\"spring_temp\",\"marker\":{\"color\":\"#636efa\",\"pattern\":{\"shape\":\"\"}},\"name\":\"spring_temp\",\"offsetgroup\":\"spring_temp\",\"orientation\":\"h\",\"showlegend\":true,\"textposition\":\"auto\",\"x\":[8.563,6.734999999999999,7.035499999999999,8.627333333333334,9.074333333333334,8.583666666666666,9.466,8.604666666666667,6.896666666666666,6.897333333333333,6.653666666666666,8.916,7.809333333333332,6.716,8.192,8.868666666666668,8.432333333333332,7.831,6.144000000000001,8.803333333333333,7.132000000000001,6.0523333333333325,7.148666666666666,8.866999999999999,10.607,9.036666666666667,7.522333333333333,7.774333333333334,8.957999999999998,10.370666666666667,11.737666666666664,7.599,7.390999999999998,8.397333333333334,7.3580000000000005,6.173666666666667,8.849666666666666,7.9576666666666656,8.159333333333334,7.783,6.997333333333333,7.9253333333333345,7.914666666666666,8.248,9.146333333333333,8.552,7.507666666666666,7.024333333333334,8.953333333333333,8.041666666666666,8.224666666666666,8.660666666666666,7.760333333333333,8.653666666666666,8.863,8.328999999999999,8.075333333333333,7.03,7.066666666666666,6.833666666666666,6.872,6.481999999999999,6.191333333333333,7.048333333333333,6.424666666666667,6.698666666666667,7.368333333333332,7.311333333333333,8.904333333333334,6.603666666666666,8.312666666666667,8.167,8.850333333333333,7.765333333333333,8.287999999999998,8.368,8.365,9.125666666666666,8.582333333333333,8.070666666666666,7.832333333333334,7.761,7.732666666666667,7.657,8.351666666666667,7.482333333333333,7.680666666666667,6.797999999999999,7.030333333333332,6.951333333333333,7.718666666666667,6.947,8.198333333333332,7.537999999999999,7.410666666666667,7.747333333333333,8.227666666666666,7.549333333333333,7.832,7.496333333333333,7.391666666666666,7.530666666666666,7.513333333333333,7.531333333333333,7.805,8.127666666666666,7.550999999999999,7.008,7.978333333333334,8.340333333333334,7.438666666666666,7.497333333333333,7.515666666666667,7.898,7.707333333333334,7.423333333333332,7.7443333333333335,7.735666666666667,8.009666666666666,7.863333333333332,7.958000000000001,7.937666666666666,7.988666666666667,7.723999999999999,7.919333333333333,7.545999999999999,7.8790000000000004,8.130666666666666,8.841333333333333,7.831666666666667,7.761666666666666,8.165999999999999,7.873,7.817333333333333,7.092,7.508333333333333,7.651666666666666,7.726999999999999,7.588333333333334,8.376666666666667,7.470999999999999,7.719333333333332,7.515333333333333,7.906666666666666,7.908333333333334,7.934333333333334,7.500666666666667,8.0,7.497666666666667,7.973999999999999,8.366666666666667,8.457,7.910666666666667,7.851999999999999,7.676666666666666,7.790666666666667,8.244,7.509666666666667,7.702999999999999,7.578,7.905333333333334,7.722,7.946333333333333,7.761666666666666,8.108333333333333,8.447000000000001,7.954999999999999,7.5953333333333335,7.664999999999999,8.066333333333333,8.216999999999999,8.216666666666667,8.211,7.821333333333333,8.17,8.202333333333334,8.318333333333333,7.935666666666666,8.124,8.036,8.256666666666666,8.134333333333332,8.316,8.013666666666667,8.104,8.025333333333334,8.136333333333333,8.137666666666666,8.673333333333334,8.259333333333332,8.506,8.427,8.354,8.420333333333334,8.433,8.320666666666668,8.476,8.605333333333334,8.318333333333333,8.243333333333332,8.222333333333333,8.298666666666668,8.26,8.706000000000001,8.097999999999999,7.970999999999999,7.8439999999999985,8.220333333333334,8.497333333333332,8.665333333333333,7.769333333333333,8.614666666666666,8.399333333333333,8.104999999999999,7.897333333333333,8.131333333333332,8.296,8.495333333333333,8.546666666666667,8.353666666666667,8.360333333333333,8.183666666666667,8.259666666666666,8.84233333333333,8.258000000000001,8.677333333333333,7.917666666666666,8.777333333333333,8.604,8.376,8.690666666666665,8.918999999999999,8.228666666666667,8.706999999999999,8.693,8.503333333333332,8.735666666666665,8.455,8.924999999999999,8.587000000000002,9.243333333333334,8.805333333333333,8.686333333333332,8.696,8.811,8.832666666666666,8.597,8.832,9.224,8.691333333333333,9.215,9.241333333333333,9.416333333333332,9.118333333333332,9.046999999999999,9.462666666666665,9.056666666666667,9.608666666666666,9.418333333333333,9.188333333333333,9.604999999999999,9.19,9.429666666666666,9.166666666666666,9.516333333333334,9.455],\"xaxis\":\"x\",\"y\":[\"1750\",\"1751\",\"1752\",\"1753\",\"1754\",\"1755\",\"1756\",\"1757\",\"1758\",\"1759\",\"1760\",\"1761\",\"1762\",\"1763\",\"1764\",\"1765\",\"1766\",\"1767\",\"1768\",\"1769\",\"1770\",\"1771\",\"1772\",\"1773\",\"1774\",\"1775\",\"1776\",\"1777\",\"1778\",\"1779\",\"1780\",\"1781\",\"1782\",\"1783\",\"1784\",\"1785\",\"1786\",\"1787\",\"1788\",\"1789\",\"1790\",\"1791\",\"1792\",\"1793\",\"1794\",\"1795\",\"1796\",\"1797\",\"1798\",\"1799\",\"1800\",\"1801\",\"1802\",\"1803\",\"1804\",\"1805\",\"1806\",\"1807\",\"1808\",\"1809\",\"1810\",\"1811\",\"1812\",\"1813\",\"1814\",\"1815\",\"1816\",\"1817\",\"1818\",\"1819\",\"1820\",\"1821\",\"1822\",\"1823\",\"1824\",\"1825\",\"1826\",\"1827\",\"1828\",\"1829\",\"1830\",\"1831\",\"1832\",\"1833\",\"1834\",\"1835\",\"1836\",\"1837\",\"1838\",\"1839\",\"1840\",\"1841\",\"1842\",\"1843\",\"1844\",\"1845\",\"1846\",\"1847\",\"1848\",\"1849\",\"1850\",\"1851\",\"1852\",\"1853\",\"1854\",\"1855\",\"1856\",\"1857\",\"1858\",\"1859\",\"1860\",\"1861\",\"1862\",\"1863\",\"1864\",\"1865\",\"1866\",\"1867\",\"1868\",\"1869\",\"1870\",\"1871\",\"1872\",\"1873\",\"1874\",\"1875\",\"1876\",\"1877\",\"1878\",\"1879\",\"1880\",\"1881\",\"1882\",\"1883\",\"1884\",\"1885\",\"1886\",\"1887\",\"1888\",\"1889\",\"1890\",\"1891\",\"1892\",\"1893\",\"1894\",\"1895\",\"1896\",\"1897\",\"1898\",\"1899\",\"1900\",\"1901\",\"1902\",\"1903\",\"1904\",\"1905\",\"1906\",\"1907\",\"1908\",\"1909\",\"1910\",\"1911\",\"1912\",\"1913\",\"1914\",\"1915\",\"1916\",\"1917\",\"1918\",\"1919\",\"1920\",\"1921\",\"1922\",\"1923\",\"1924\",\"1925\",\"1926\",\"1927\",\"1928\",\"1929\",\"1930\",\"1931\",\"1932\",\"1933\",\"1934\",\"1935\",\"1936\",\"1937\",\"1938\",\"1939\",\"1940\",\"1941\",\"1942\",\"1943\",\"1944\",\"1945\",\"1946\",\"1947\",\"1948\",\"1949\",\"1950\",\"1951\",\"1952\",\"1953\",\"1954\",\"1955\",\"1956\",\"1957\",\"1958\",\"1959\",\"1960\",\"1961\",\"1962\",\"1963\",\"1964\",\"1965\",\"1966\",\"1967\",\"1968\",\"1969\",\"1970\",\"1971\",\"1972\",\"1973\",\"1974\",\"1975\",\"1976\",\"1977\",\"1978\",\"1979\",\"1980\",\"1981\",\"1982\",\"1983\",\"1984\",\"1985\",\"1986\",\"1987\",\"1988\",\"1989\",\"1990\",\"1991\",\"1992\",\"1993\",\"1994\",\"1995\",\"1996\",\"1997\",\"1998\",\"1999\",\"2000\",\"2001\",\"2002\",\"2003\",\"2004\",\"2005\",\"2006\",\"2007\",\"2008\",\"2009\",\"2010\",\"2011\",\"2012\",\"2013\",\"2014\",\"2015\"],\"yaxis\":\"y\",\"type\":\"bar\"},{\"alignmentgroup\":\"True\",\"hovertemplate\":\"variable=summer_temp<br>value=%{x}<br>year=%{y}<extra></extra>\",\"legendgroup\":\"summer_temp\",\"marker\":{\"color\":\"#EF553B\",\"pattern\":{\"shape\":\"\"}},\"name\":\"summer_temp\",\"offsetgroup\":\"summer_temp\",\"orientation\":\"h\",\"showlegend\":true,\"textposition\":\"auto\",\"x\":[14.518333333333333,14.116,null,14.608333333333334,14.208333333333334,14.430666666666667,13.963333333333333,17.544999999999998,12.934666666666665,13.541666666666666,12.916333333333334,17.057666666666666,14.070333333333332,14.262666666666666,12.170666666666667,12.635333333333334,13.655333333333331,14.023333333333333,12.905666666666667,14.365666666666668,11.639333333333335,14.045333333333332,13.775333333333334,13.639666666666669,15.330333333333334,13.822666666666668,14.503,12.627,13.212333333333333,13.335,14.625666666666666,13.368,14.469666666666667,13.793333333333331,14.537,14.226,14.261333333333333,13.791666666666666,14.720333333333334,14.269666666666666,13.827666666666667,13.529000000000002,13.357999999999999,13.547333333333333,12.784,13.576,14.417333333333334,13.999666666666664,14.317,14.211666666666666,13.662666666666667,13.466333333333331,14.379333333333333,14.764333333333333,14.686333333333332,14.666333333333332,13.644666666666666,13.743333333333332,13.655666666666667,12.853,12.175333333333333,12.472999999999999,13.792666666666667,13.62,12.672666666666666,12.921666666666667,12.208999999999998,12.254,13.500333333333336,12.707,12.870666666666667,12.930666666666667,13.498,13.761666666666668,13.897999999999998,13.680333333333332,13.537,13.975333333333333,14.047666666666666,13.494666666666667,13.718333333333334,13.091000000000001,12.85,13.357999999999999,13.469333333333333,12.485999999999999,13.008333333333333,12.881,13.559,13.676333333333332,13.737,13.774,13.151333333333334,13.272,13.269,13.579333333333333,14.191333333333333,13.497333333333332,13.660333333333334,13.687,13.893666666666668,13.899999999999999,13.660000000000002,14.002666666666665,13.803333333333333,13.485666666666667,13.512,13.255666666666665,13.284333333333334,13.395333333333333,13.746666666666664,13.546666666666667,13.325333333333333,13.284333333333334,13.653666666666666,13.671333333333335,13.662333333333331,13.677333333333335,13.806666666666667,13.961333333333334,13.912,13.767333333333333,13.720333333333334,13.815666666666667,13.747666666666666,13.567333333333332,13.643666666666666,14.059,14.210666666666667,13.571,13.758333333333333,13.552666666666667,13.418333333333331,13.512333333333332,13.135333333333334,13.346333333333334,13.446,13.336,13.558,13.672333333333333,13.390666666666666,13.438,13.524333333333333,13.607666666666667,13.450000000000001,13.533333333333333,13.720333333333334,13.765666666666666,13.704,13.597333333333333,13.76,13.850333333333333,13.681333333333333,13.43,13.436333333333332,13.588999999999999,13.715666666666666,13.286666666666667,13.622,13.591333333333333,13.702333333333334,13.530000000000001,13.403666666666666,13.622,13.841333333333333,13.837666666666669,13.524666666666667,13.548333333333332,13.447000000000001,13.762666666666666,13.682666666666668,13.812333333333333,13.731,13.630333333333335,13.766666666666667,13.641333333333334,13.776666666666666,13.764333333333333,13.703333333333333,13.521666666666667,13.913333333333332,14.089666666666666,13.831666666666665,13.702,13.841,13.810666666666668,13.950666666666665,13.995,13.921999999999999,13.952666666666667,13.988333333333335,14.117333333333335,13.868666666666668,13.798333333333334,13.987666666666664,13.951333333333332,13.847,13.878333333333332,14.001666666666667,13.749333333333334,13.660666666666666,13.865,13.985,14.020999999999999,13.836333333333334,14.028333333333334,13.509666666666666,13.998,13.740666666666668,13.959666666666669,13.835666666666668,13.946333333333333,13.781666666666666,14.075666666666665,13.812666666666667,13.731,13.962333333333333,13.781999999999998,13.584666666666665,13.832333333333333,13.855333333333334,13.705666666666666,13.967666666666666,14.042666666666667,13.895333333333333,13.807333333333332,13.583999999999998,14.198999999999998,13.627,13.811333333333332,14.171000000000001,14.335,13.862,14.062666666666667,13.933333333333335,13.866999999999999,13.901333333333334,14.237666666666668,14.483333333333334,14.064666666666666,14.257333333333333,14.523000000000001,13.826999999999998,13.982666666666667,14.259666666666666,14.638666666666666,14.370333333333333,14.317333333333332,14.911666666666667,14.410666666666666,14.475666666666667,14.566,14.665999999999999,14.563666666666668,14.129666666666667,14.725333333333333,14.799333333333331,14.763666666666667,14.565333333333333,14.695666666666668,14.800666666666666,14.954666666666666,14.762666666666668,14.771,14.694333333333333,14.770333333333333],\"xaxis\":\"x\",\"y\":[\"1750\",\"1751\",\"1752\",\"1753\",\"1754\",\"1755\",\"1756\",\"1757\",\"1758\",\"1759\",\"1760\",\"1761\",\"1762\",\"1763\",\"1764\",\"1765\",\"1766\",\"1767\",\"1768\",\"1769\",\"1770\",\"1771\",\"1772\",\"1773\",\"1774\",\"1775\",\"1776\",\"1777\",\"1778\",\"1779\",\"1780\",\"1781\",\"1782\",\"1783\",\"1784\",\"1785\",\"1786\",\"1787\",\"1788\",\"1789\",\"1790\",\"1791\",\"1792\",\"1793\",\"1794\",\"1795\",\"1796\",\"1797\",\"1798\",\"1799\",\"1800\",\"1801\",\"1802\",\"1803\",\"1804\",\"1805\",\"1806\",\"1807\",\"1808\",\"1809\",\"1810\",\"1811\",\"1812\",\"1813\",\"1814\",\"1815\",\"1816\",\"1817\",\"1818\",\"1819\",\"1820\",\"1821\",\"1822\",\"1823\",\"1824\",\"1825\",\"1826\",\"1827\",\"1828\",\"1829\",\"1830\",\"1831\",\"1832\",\"1833\",\"1834\",\"1835\",\"1836\",\"1837\",\"1838\",\"1839\",\"1840\",\"1841\",\"1842\",\"1843\",\"1844\",\"1845\",\"1846\",\"1847\",\"1848\",\"1849\",\"1850\",\"1851\",\"1852\",\"1853\",\"1854\",\"1855\",\"1856\",\"1857\",\"1858\",\"1859\",\"1860\",\"1861\",\"1862\",\"1863\",\"1864\",\"1865\",\"1866\",\"1867\",\"1868\",\"1869\",\"1870\",\"1871\",\"1872\",\"1873\",\"1874\",\"1875\",\"1876\",\"1877\",\"1878\",\"1879\",\"1880\",\"1881\",\"1882\",\"1883\",\"1884\",\"1885\",\"1886\",\"1887\",\"1888\",\"1889\",\"1890\",\"1891\",\"1892\",\"1893\",\"1894\",\"1895\",\"1896\",\"1897\",\"1898\",\"1899\",\"1900\",\"1901\",\"1902\",\"1903\",\"1904\",\"1905\",\"1906\",\"1907\",\"1908\",\"1909\",\"1910\",\"1911\",\"1912\",\"1913\",\"1914\",\"1915\",\"1916\",\"1917\",\"1918\",\"1919\",\"1920\",\"1921\",\"1922\",\"1923\",\"1924\",\"1925\",\"1926\",\"1927\",\"1928\",\"1929\",\"1930\",\"1931\",\"1932\",\"1933\",\"1934\",\"1935\",\"1936\",\"1937\",\"1938\",\"1939\",\"1940\",\"1941\",\"1942\",\"1943\",\"1944\",\"1945\",\"1946\",\"1947\",\"1948\",\"1949\",\"1950\",\"1951\",\"1952\",\"1953\",\"1954\",\"1955\",\"1956\",\"1957\",\"1958\",\"1959\",\"1960\",\"1961\",\"1962\",\"1963\",\"1964\",\"1965\",\"1966\",\"1967\",\"1968\",\"1969\",\"1970\",\"1971\",\"1972\",\"1973\",\"1974\",\"1975\",\"1976\",\"1977\",\"1978\",\"1979\",\"1980\",\"1981\",\"1982\",\"1983\",\"1984\",\"1985\",\"1986\",\"1987\",\"1988\",\"1989\",\"1990\",\"1991\",\"1992\",\"1993\",\"1994\",\"1995\",\"1996\",\"1997\",\"1998\",\"1999\",\"2000\",\"2001\",\"2002\",\"2003\",\"2004\",\"2005\",\"2006\",\"2007\",\"2008\",\"2009\",\"2010\",\"2011\",\"2012\",\"2013\",\"2014\",\"2015\"],\"yaxis\":\"y\",\"type\":\"bar\"},{\"alignmentgroup\":\"True\",\"hovertemplate\":\"variable=autumn_temp<br>value=%{x}<br>year=%{y}<extra></extra>\",\"legendgroup\":\"autumn_temp\",\"marker\":{\"color\":\"#00cc96\",\"pattern\":{\"shape\":\"\"}},\"name\":\"autumn_temp\",\"offsetgroup\":\"autumn_temp\",\"orientation\":\"h\",\"showlegend\":true,\"textposition\":\"auto\",\"x\":[8.889999999999999,10.673,7.587,9.212333333333333,8.957333333333333,9.233666666666666,8.063,8.455333333333334,6.2923333333333344,8.387,7.778,8.283666666666667,7.616333333333333,7.167000000000001,8.832666666666666,8.166666666666666,9.389666666666667,9.539,7.711333333333333,6.445666666666665,8.392,8.865333333333334,9.102333333333334,8.354333333333333,7.5183333333333335,9.882333333333333,8.177333333333333,7.954666666666667,8.426666666666668,9.267666666666667,8.308666666666666,8.791333333333332,8.777333333333333,6.503666666666667,7.219666666666666,7.791333333333333,8.537,7.976666666666667,9.053,8.457333333333333,8.380333333333335,8.654333333333332,8.631333333333334,8.687,8.762666666666666,8.042,8.879333333333333,8.809,8.771,9.273666666666667,8.612,8.760333333333334,9.023333333333332,9.136666666666665,9.627333333333334,8.076666666666666,8.735333333333335,9.162333333333335,8.398333333333333,7.572,6.663666666666667,6.817,7.3823333333333325,9.276666666666667,8.263,7.488666666666667,6.7156666666666665,6.550999999999999,7.4223333333333334,8.451999999999998,7.730333333333333,8.104666666666667,7.656666666666667,7.449333333333333,8.534,8.395,8.757,8.557333333333334,8.231,8.135666666666667,8.675333333333333,7.396,7.774,8.577333333333334,8.847666666666667,7.363,7.794,7.542333333333333,8.264,7.663999999999999,7.538666666666667,8.143333333333333,8.023666666666665,8.331666666666667,7.973333333333333,8.07,8.337,8.603666666666667,8.314,8.586999999999998,8.109666666666667,8.590666666666666,8.327,8.342666666666668,9.007333333333333,8.257,8.131666666666666,8.163333333333332,8.649333333333333,8.608666666666666,8.543666666666667,8.530333333333333,8.034333333333334,8.285666666666666,8.465666666666666,9.025666666666666,8.642666666666667,9.304666666666668,8.769666666666668,9.008666666666667,8.787333333333331,8.64,8.856666666666667,8.846666666666666,9.013333333333334,8.172666666666666,8.575333333333333,9.232,9.237333333333334,8.734666666666667,8.650666666666666,8.604,8.415666666666667,8.385666666666665,8.326666666666666,8.527333333333335,8.476666666666667,8.679,8.892666666666669,8.470333333333334,8.584666666666667,8.533333333333333,8.637666666666666,8.943,8.703333333333333,8.868,8.868666666666668,8.91,8.677666666666665,9.380666666666666,9.141666666666667,8.987666666666668,8.624666666666668,8.609666666666667,8.814666666666666,9.009333333333332,8.846666666666666,8.702,8.704666666666666,9.102333333333332,8.685666666666668,8.955,8.37,8.953333333333333,9.020333333333333,9.022333333333334,8.791666666666668,8.703000000000001,8.999,8.946666666666667,8.793666666666667,8.999,8.959,9.260333333333334,9.186666666666667,9.171666666666665,9.308333333333334,9.495666666666667,9.283999999999999,9.146333333333335,9.236333333333333,9.487666666666666,9.3,8.994,9.181666666666667,8.985999999999999,9.237,9.499333333333333,9.580333333333334,9.121666666666666,9.267000000000001,9.159666666666668,9.389333333333335,9.421,9.449666666666667,9.290999999999999,9.193333333333333,9.528,9.308,9.212,8.825666666666667,9.406333333333334,8.94,9.237666666666668,9.407666666666666,9.220666666666666,8.816333333333333,9.399666666666667,9.159999999999998,8.952666666666667,9.139999999999999,9.26,9.256333333333334,9.686333333333332,8.806333333333333,9.026,9.085,9.346333333333334,8.988,9.319,9.224,9.274000000000001,9.014666666666667,9.318666666666667,8.919,9.121,8.688666666666666,9.187333333333333,9.239666666666666,9.373,9.518333333333334,9.301,9.077333333333334,9.647,9.068,9.095333333333333,9.011666666666667,9.364333333333333,9.651666666666666,9.447333333333333,9.665666666666667,9.623333333333333,8.971333333333332,9.094,9.768666666666666,9.810666666666666,9.455333333333334,9.878333333333334,9.672666666666666,9.770666666666665,9.448333333333334,9.996666666666666,9.943333333333333,10.020666666666667,10.028,10.413666666666666,10.039666666666667,10.115333333333334,10.141666666666667,10.106666666666667,10.264000000000001,10.026000000000002,10.208,10.278,10.044666666666666,10.411],\"xaxis\":\"x\",\"y\":[\"1750\",\"1751\",\"1752\",\"1753\",\"1754\",\"1755\",\"1756\",\"1757\",\"1758\",\"1759\",\"1760\",\"1761\",\"1762\",\"1763\",\"1764\",\"1765\",\"1766\",\"1767\",\"1768\",\"1769\",\"1770\",\"1771\",\"1772\",\"1773\",\"1774\",\"1775\",\"1776\",\"1777\",\"1778\",\"1779\",\"1780\",\"1781\",\"1782\",\"1783\",\"1784\",\"1785\",\"1786\",\"1787\",\"1788\",\"1789\",\"1790\",\"1791\",\"1792\",\"1793\",\"1794\",\"1795\",\"1796\",\"1797\",\"1798\",\"1799\",\"1800\",\"1801\",\"1802\",\"1803\",\"1804\",\"1805\",\"1806\",\"1807\",\"1808\",\"1809\",\"1810\",\"1811\",\"1812\",\"1813\",\"1814\",\"1815\",\"1816\",\"1817\",\"1818\",\"1819\",\"1820\",\"1821\",\"1822\",\"1823\",\"1824\",\"1825\",\"1826\",\"1827\",\"1828\",\"1829\",\"1830\",\"1831\",\"1832\",\"1833\",\"1834\",\"1835\",\"1836\",\"1837\",\"1838\",\"1839\",\"1840\",\"1841\",\"1842\",\"1843\",\"1844\",\"1845\",\"1846\",\"1847\",\"1848\",\"1849\",\"1850\",\"1851\",\"1852\",\"1853\",\"1854\",\"1855\",\"1856\",\"1857\",\"1858\",\"1859\",\"1860\",\"1861\",\"1862\",\"1863\",\"1864\",\"1865\",\"1866\",\"1867\",\"1868\",\"1869\",\"1870\",\"1871\",\"1872\",\"1873\",\"1874\",\"1875\",\"1876\",\"1877\",\"1878\",\"1879\",\"1880\",\"1881\",\"1882\",\"1883\",\"1884\",\"1885\",\"1886\",\"1887\",\"1888\",\"1889\",\"1890\",\"1891\",\"1892\",\"1893\",\"1894\",\"1895\",\"1896\",\"1897\",\"1898\",\"1899\",\"1900\",\"1901\",\"1902\",\"1903\",\"1904\",\"1905\",\"1906\",\"1907\",\"1908\",\"1909\",\"1910\",\"1911\",\"1912\",\"1913\",\"1914\",\"1915\",\"1916\",\"1917\",\"1918\",\"1919\",\"1920\",\"1921\",\"1922\",\"1923\",\"1924\",\"1925\",\"1926\",\"1927\",\"1928\",\"1929\",\"1930\",\"1931\",\"1932\",\"1933\",\"1934\",\"1935\",\"1936\",\"1937\",\"1938\",\"1939\",\"1940\",\"1941\",\"1942\",\"1943\",\"1944\",\"1945\",\"1946\",\"1947\",\"1948\",\"1949\",\"1950\",\"1951\",\"1952\",\"1953\",\"1954\",\"1955\",\"1956\",\"1957\",\"1958\",\"1959\",\"1960\",\"1961\",\"1962\",\"1963\",\"1964\",\"1965\",\"1966\",\"1967\",\"1968\",\"1969\",\"1970\",\"1971\",\"1972\",\"1973\",\"1974\",\"1975\",\"1976\",\"1977\",\"1978\",\"1979\",\"1980\",\"1981\",\"1982\",\"1983\",\"1984\",\"1985\",\"1986\",\"1987\",\"1988\",\"1989\",\"1990\",\"1991\",\"1992\",\"1993\",\"1994\",\"1995\",\"1996\",\"1997\",\"1998\",\"1999\",\"2000\",\"2001\",\"2002\",\"2003\",\"2004\",\"2005\",\"2006\",\"2007\",\"2008\",\"2009\",\"2010\",\"2011\",\"2012\",\"2013\",\"2014\",\"2015\"],\"yaxis\":\"y\",\"type\":\"bar\"},{\"alignmentgroup\":\"True\",\"hovertemplate\":\"variable=winter_temp<br>value=%{x}<br>year=%{y}<extra></extra>\",\"legendgroup\":\"winter_temp\",\"marker\":{\"color\":\"#ab63fa\",\"pattern\":{\"shape\":\"\"}},\"name\":\"winter_temp\",\"offsetgroup\":\"winter_temp\",\"orientation\":\"h\",\"showlegend\":true,\"textposition\":\"auto\",\"x\":[2.9630000000000005,1.729,2.7170000000000005,1.1043333333333332,1.6373333333333333,1.1743333333333332,3.906,1.4829999999999999,0.8506666666666668,3.114333333333333,1.3926666666666667,0.8326666666666666,4.930000000000001,1.8413333333333333,4.406,3.3369999999999997,2.1453333333333333,1.4926666666666666,0.36433333333333334,1.1636666666666666,3.6043333333333334,2.449666666666667,2.747666666666667,2.0249999999999995,1.633,3.9906666666666673,3.013333333333333,4.6690000000000005,3.571999999999999,2.9596666666666667,3.0596666666666668,2.6519999999999997,0.967,2.029,2.3333333333333335,1.261,1.3846666666666667,2.4013333333333335,1.856,2.8266666666666667,2.724,2.828333333333333,2.452,2.4343333333333335,3.411,3.2313333333333336,2.279666666666667,4.209333333333333,2.639666666666667,2.496,3.4376666666666664,3.4713333333333334,3.1496666666666666,1.4573333333333334,2.202666666666667,3.179,3.281,3.1899999999999995,1.3866666666666667,1.047,1.9796666666666667,1.6660000000000001,0.8186666666666668,1.0146666666666666,3.0066666666666673,1.8483333333333334,1.457,1.7863333333333333,1.4886666666666668,1.7140000000000002,1.5513333333333332,3.158,2.7483333333333335,1.8983333333333334,3.468666666666667,3.1139999999999994,2.767333333333333,3.576666666666666,1.8003333333333336,2.066333333333333,3.8409999999999997,2.308666666666667,1.4439999999999997,2.4596666666666667,1.9183333333333337,2.238666666666667,2.300333333333333,2.2813333333333334,1.2063333333333335,2.2373333333333334,2.1906666666666665,1.8883333333333334,2.7176666666666667,3.5530000000000004,1.9323333333333335,2.008,3.455,2.6936666666666667,2.111666666666667,2.167333333333333,2.207666666666667,2.693,2.9003333333333337,2.2906666666666666,2.2263333333333333,2.5726666666666667,2.7889999999999997,2.6056666666666666,2.489,2.663666666666667,2.114333333333333,1.8116666666666668,1.359,2.9793333333333334,2.1076666666666664,2.5910000000000006,3.1193333333333335,3.0276666666666667,2.405666666666667,2.895,2.148,2.1153333333333335,2.2096666666666667,3.0180000000000002,3.0536666666666665,2.1523333333333334,2.2223333333333333,2.736666666666667,3.029666666666667,2.5260000000000002,2.3043333333333336,2.7610000000000006,2.808666666666667,2.1923333333333335,2.5406666666666666,2.296666666666667,2.2436666666666665,1.9176666666666666,2.323,2.7566666666666664,2.4403333333333332,2.3866666666666667,2.5860000000000003,1.7696666666666665,2.582333333333333,2.252333333333333,2.7699999999999996,2.497666666666667,2.832666666666667,2.6333333333333333,2.738,2.872666666666667,3.001,2.9890000000000003,2.436,2.5116666666666667,2.7099999999999995,2.2903333333333333,2.7146666666666666,2.441333333333334,2.598666666666667,2.501,2.9416666666666664,2.8539999999999996,3.392,3.0656666666666665,2.6296666666666666,2.2466666666666666,2.412333333333333,2.7533333333333334,2.7416666666666667,3.2560000000000002,2.731,2.9766666666666666,2.904,3.122333333333333,3.512,2.8926666666666665,3.4173333333333336,2.2656666666666667,3.128,3.1653333333333333,3.3733333333333335,2.6433333333333335,3.3866666666666667,3.241,2.892,3.1613333333333333,3.279,3.7076666666666664,3.297333333333333,3.3706666666666667,3.301666666666667,3.3806666666666665,3.5096666666666665,2.7763333333333335,3.191333333333333,3.176666666666667,3.359,3.142333333333333,2.752333333333333,2.932666666666666,3.368,3.5303333333333335,2.9006666666666674,3.285,2.9483333333333337,3.312,3.6970000000000005,3.3529999999999998,3.59,3.369666666666667,3.546333333333333,3.557,3.1223333333333336,3.2213333333333334,3.0540000000000003,3.176666666666667,2.946,2.8753333333333337,3.3640000000000003,3.2336666666666667,2.7563333333333335,3.5893333333333337,2.7976666666666667,3.373666666666667,3.1986666666666665,3.2373333333333334,3.300333333333333,3.3733333333333335,3.5413333333333337,4.108333333333333,3.388666666666667,3.696,3.0730000000000004,3.1663333333333337,3.6856666666666666,3.920666666666667,3.7463333333333337,3.589,3.7703333333333333,3.7660000000000005,3.861666666666667,3.6936666666666667,3.3156666666666665,4.1063333333333345,3.7330000000000005,3.782666666666666,4.282333333333334,4.267666666666667,3.6656666666666666,3.8543333333333334,4.256,4.399666666666666,4.093666666666667,4.202,4.234333333333333,4.441,3.6016666666666666,4.030333333333332,4.142666666666666,3.893333333333333,3.629,4.210333333333334,4.027333333333334,4.687666666666666],\"xaxis\":\"x\",\"y\":[\"1750\",\"1751\",\"1752\",\"1753\",\"1754\",\"1755\",\"1756\",\"1757\",\"1758\",\"1759\",\"1760\",\"1761\",\"1762\",\"1763\",\"1764\",\"1765\",\"1766\",\"1767\",\"1768\",\"1769\",\"1770\",\"1771\",\"1772\",\"1773\",\"1774\",\"1775\",\"1776\",\"1777\",\"1778\",\"1779\",\"1780\",\"1781\",\"1782\",\"1783\",\"1784\",\"1785\",\"1786\",\"1787\",\"1788\",\"1789\",\"1790\",\"1791\",\"1792\",\"1793\",\"1794\",\"1795\",\"1796\",\"1797\",\"1798\",\"1799\",\"1800\",\"1801\",\"1802\",\"1803\",\"1804\",\"1805\",\"1806\",\"1807\",\"1808\",\"1809\",\"1810\",\"1811\",\"1812\",\"1813\",\"1814\",\"1815\",\"1816\",\"1817\",\"1818\",\"1819\",\"1820\",\"1821\",\"1822\",\"1823\",\"1824\",\"1825\",\"1826\",\"1827\",\"1828\",\"1829\",\"1830\",\"1831\",\"1832\",\"1833\",\"1834\",\"1835\",\"1836\",\"1837\",\"1838\",\"1839\",\"1840\",\"1841\",\"1842\",\"1843\",\"1844\",\"1845\",\"1846\",\"1847\",\"1848\",\"1849\",\"1850\",\"1851\",\"1852\",\"1853\",\"1854\",\"1855\",\"1856\",\"1857\",\"1858\",\"1859\",\"1860\",\"1861\",\"1862\",\"1863\",\"1864\",\"1865\",\"1866\",\"1867\",\"1868\",\"1869\",\"1870\",\"1871\",\"1872\",\"1873\",\"1874\",\"1875\",\"1876\",\"1877\",\"1878\",\"1879\",\"1880\",\"1881\",\"1882\",\"1883\",\"1884\",\"1885\",\"1886\",\"1887\",\"1888\",\"1889\",\"1890\",\"1891\",\"1892\",\"1893\",\"1894\",\"1895\",\"1896\",\"1897\",\"1898\",\"1899\",\"1900\",\"1901\",\"1902\",\"1903\",\"1904\",\"1905\",\"1906\",\"1907\",\"1908\",\"1909\",\"1910\",\"1911\",\"1912\",\"1913\",\"1914\",\"1915\",\"1916\",\"1917\",\"1918\",\"1919\",\"1920\",\"1921\",\"1922\",\"1923\",\"1924\",\"1925\",\"1926\",\"1927\",\"1928\",\"1929\",\"1930\",\"1931\",\"1932\",\"1933\",\"1934\",\"1935\",\"1936\",\"1937\",\"1938\",\"1939\",\"1940\",\"1941\",\"1942\",\"1943\",\"1944\",\"1945\",\"1946\",\"1947\",\"1948\",\"1949\",\"1950\",\"1951\",\"1952\",\"1953\",\"1954\",\"1955\",\"1956\",\"1957\",\"1958\",\"1959\",\"1960\",\"1961\",\"1962\",\"1963\",\"1964\",\"1965\",\"1966\",\"1967\",\"1968\",\"1969\",\"1970\",\"1971\",\"1972\",\"1973\",\"1974\",\"1975\",\"1976\",\"1977\",\"1978\",\"1979\",\"1980\",\"1981\",\"1982\",\"1983\",\"1984\",\"1985\",\"1986\",\"1987\",\"1988\",\"1989\",\"1990\",\"1991\",\"1992\",\"1993\",\"1994\",\"1995\",\"1996\",\"1997\",\"1998\",\"1999\",\"2000\",\"2001\",\"2002\",\"2003\",\"2004\",\"2005\",\"2006\",\"2007\",\"2008\",\"2009\",\"2010\",\"2011\",\"2012\",\"2013\",\"2014\",\"2015\"],\"yaxis\":\"y\",\"type\":\"bar\"}],                        {\"template\":{\"data\":{\"barpolar\":[{\"marker\":{\"line\":{\"color\":\"rgb(17,17,17)\",\"width\":0.5},\"pattern\":{\"fillmode\":\"overlay\",\"size\":10,\"solidity\":0.2}},\"type\":\"barpolar\"}],\"bar\":[{\"error_x\":{\"color\":\"#f2f5fa\"},\"error_y\":{\"color\":\"#f2f5fa\"},\"marker\":{\"line\":{\"color\":\"rgb(17,17,17)\",\"width\":0.5},\"pattern\":{\"fillmode\":\"overlay\",\"size\":10,\"solidity\":0.2}},\"type\":\"bar\"}],\"carpet\":[{\"aaxis\":{\"endlinecolor\":\"#A2B1C6\",\"gridcolor\":\"#506784\",\"linecolor\":\"#506784\",\"minorgridcolor\":\"#506784\",\"startlinecolor\":\"#A2B1C6\"},\"baxis\":{\"endlinecolor\":\"#A2B1C6\",\"gridcolor\":\"#506784\",\"linecolor\":\"#506784\",\"minorgridcolor\":\"#506784\",\"startlinecolor\":\"#A2B1C6\"},\"type\":\"carpet\"}],\"choropleth\":[{\"colorbar\":{\"outlinewidth\":0,\"ticks\":\"\"},\"type\":\"choropleth\"}],\"contourcarpet\":[{\"colorbar\":{\"outlinewidth\":0,\"ticks\":\"\"},\"type\":\"contourcarpet\"}],\"contour\":[{\"colorbar\":{\"outlinewidth\":0,\"ticks\":\"\"},\"colorscale\":[[0.0,\"#0d0887\"],[0.1111111111111111,\"#46039f\"],[0.2222222222222222,\"#7201a8\"],[0.3333333333333333,\"#9c179e\"],[0.4444444444444444,\"#bd3786\"],[0.5555555555555556,\"#d8576b\"],[0.6666666666666666,\"#ed7953\"],[0.7777777777777778,\"#fb9f3a\"],[0.8888888888888888,\"#fdca26\"],[1.0,\"#f0f921\"]],\"type\":\"contour\"}],\"heatmapgl\":[{\"colorbar\":{\"outlinewidth\":0,\"ticks\":\"\"},\"colorscale\":[[0.0,\"#0d0887\"],[0.1111111111111111,\"#46039f\"],[0.2222222222222222,\"#7201a8\"],[0.3333333333333333,\"#9c179e\"],[0.4444444444444444,\"#bd3786\"],[0.5555555555555556,\"#d8576b\"],[0.6666666666666666,\"#ed7953\"],[0.7777777777777778,\"#fb9f3a\"],[0.8888888888888888,\"#fdca26\"],[1.0,\"#f0f921\"]],\"type\":\"heatmapgl\"}],\"heatmap\":[{\"colorbar\":{\"outlinewidth\":0,\"ticks\":\"\"},\"colorscale\":[[0.0,\"#0d0887\"],[0.1111111111111111,\"#46039f\"],[0.2222222222222222,\"#7201a8\"],[0.3333333333333333,\"#9c179e\"],[0.4444444444444444,\"#bd3786\"],[0.5555555555555556,\"#d8576b\"],[0.6666666666666666,\"#ed7953\"],[0.7777777777777778,\"#fb9f3a\"],[0.8888888888888888,\"#fdca26\"],[1.0,\"#f0f921\"]],\"type\":\"heatmap\"}],\"histogram2dcontour\":[{\"colorbar\":{\"outlinewidth\":0,\"ticks\":\"\"},\"colorscale\":[[0.0,\"#0d0887\"],[0.1111111111111111,\"#46039f\"],[0.2222222222222222,\"#7201a8\"],[0.3333333333333333,\"#9c179e\"],[0.4444444444444444,\"#bd3786\"],[0.5555555555555556,\"#d8576b\"],[0.6666666666666666,\"#ed7953\"],[0.7777777777777778,\"#fb9f3a\"],[0.8888888888888888,\"#fdca26\"],[1.0,\"#f0f921\"]],\"type\":\"histogram2dcontour\"}],\"histogram2d\":[{\"colorbar\":{\"outlinewidth\":0,\"ticks\":\"\"},\"colorscale\":[[0.0,\"#0d0887\"],[0.1111111111111111,\"#46039f\"],[0.2222222222222222,\"#7201a8\"],[0.3333333333333333,\"#9c179e\"],[0.4444444444444444,\"#bd3786\"],[0.5555555555555556,\"#d8576b\"],[0.6666666666666666,\"#ed7953\"],[0.7777777777777778,\"#fb9f3a\"],[0.8888888888888888,\"#fdca26\"],[1.0,\"#f0f921\"]],\"type\":\"histogram2d\"}],\"histogram\":[{\"marker\":{\"pattern\":{\"fillmode\":\"overlay\",\"size\":10,\"solidity\":0.2}},\"type\":\"histogram\"}],\"mesh3d\":[{\"colorbar\":{\"outlinewidth\":0,\"ticks\":\"\"},\"type\":\"mesh3d\"}],\"parcoords\":[{\"line\":{\"colorbar\":{\"outlinewidth\":0,\"ticks\":\"\"}},\"type\":\"parcoords\"}],\"pie\":[{\"automargin\":true,\"type\":\"pie\"}],\"scatter3d\":[{\"line\":{\"colorbar\":{\"outlinewidth\":0,\"ticks\":\"\"}},\"marker\":{\"colorbar\":{\"outlinewidth\":0,\"ticks\":\"\"}},\"type\":\"scatter3d\"}],\"scattercarpet\":[{\"marker\":{\"colorbar\":{\"outlinewidth\":0,\"ticks\":\"\"}},\"type\":\"scattercarpet\"}],\"scattergeo\":[{\"marker\":{\"colorbar\":{\"outlinewidth\":0,\"ticks\":\"\"}},\"type\":\"scattergeo\"}],\"scattergl\":[{\"marker\":{\"line\":{\"color\":\"#283442\"}},\"type\":\"scattergl\"}],\"scattermapbox\":[{\"marker\":{\"colorbar\":{\"outlinewidth\":0,\"ticks\":\"\"}},\"type\":\"scattermapbox\"}],\"scatterpolargl\":[{\"marker\":{\"colorbar\":{\"outlinewidth\":0,\"ticks\":\"\"}},\"type\":\"scatterpolargl\"}],\"scatterpolar\":[{\"marker\":{\"colorbar\":{\"outlinewidth\":0,\"ticks\":\"\"}},\"type\":\"scatterpolar\"}],\"scatter\":[{\"marker\":{\"line\":{\"color\":\"#283442\"}},\"type\":\"scatter\"}],\"scatterternary\":[{\"marker\":{\"colorbar\":{\"outlinewidth\":0,\"ticks\":\"\"}},\"type\":\"scatterternary\"}],\"surface\":[{\"colorbar\":{\"outlinewidth\":0,\"ticks\":\"\"},\"colorscale\":[[0.0,\"#0d0887\"],[0.1111111111111111,\"#46039f\"],[0.2222222222222222,\"#7201a8\"],[0.3333333333333333,\"#9c179e\"],[0.4444444444444444,\"#bd3786\"],[0.5555555555555556,\"#d8576b\"],[0.6666666666666666,\"#ed7953\"],[0.7777777777777778,\"#fb9f3a\"],[0.8888888888888888,\"#fdca26\"],[1.0,\"#f0f921\"]],\"type\":\"surface\"}],\"table\":[{\"cells\":{\"fill\":{\"color\":\"#506784\"},\"line\":{\"color\":\"rgb(17,17,17)\"}},\"header\":{\"fill\":{\"color\":\"#2a3f5f\"},\"line\":{\"color\":\"rgb(17,17,17)\"}},\"type\":\"table\"}]},\"layout\":{\"annotationdefaults\":{\"arrowcolor\":\"#f2f5fa\",\"arrowhead\":0,\"arrowwidth\":1},\"autotypenumbers\":\"strict\",\"coloraxis\":{\"colorbar\":{\"outlinewidth\":0,\"ticks\":\"\"}},\"colorscale\":{\"diverging\":[[0,\"#8e0152\"],[0.1,\"#c51b7d\"],[0.2,\"#de77ae\"],[0.3,\"#f1b6da\"],[0.4,\"#fde0ef\"],[0.5,\"#f7f7f7\"],[0.6,\"#e6f5d0\"],[0.7,\"#b8e186\"],[0.8,\"#7fbc41\"],[0.9,\"#4d9221\"],[1,\"#276419\"]],\"sequential\":[[0.0,\"#0d0887\"],[0.1111111111111111,\"#46039f\"],[0.2222222222222222,\"#7201a8\"],[0.3333333333333333,\"#9c179e\"],[0.4444444444444444,\"#bd3786\"],[0.5555555555555556,\"#d8576b\"],[0.6666666666666666,\"#ed7953\"],[0.7777777777777778,\"#fb9f3a\"],[0.8888888888888888,\"#fdca26\"],[1.0,\"#f0f921\"]],\"sequentialminus\":[[0.0,\"#0d0887\"],[0.1111111111111111,\"#46039f\"],[0.2222222222222222,\"#7201a8\"],[0.3333333333333333,\"#9c179e\"],[0.4444444444444444,\"#bd3786\"],[0.5555555555555556,\"#d8576b\"],[0.6666666666666666,\"#ed7953\"],[0.7777777777777778,\"#fb9f3a\"],[0.8888888888888888,\"#fdca26\"],[1.0,\"#f0f921\"]]},\"colorway\":[\"#636efa\",\"#EF553B\",\"#00cc96\",\"#ab63fa\",\"#FFA15A\",\"#19d3f3\",\"#FF6692\",\"#B6E880\",\"#FF97FF\",\"#FECB52\"],\"font\":{\"color\":\"#f2f5fa\"},\"geo\":{\"bgcolor\":\"rgb(17,17,17)\",\"lakecolor\":\"rgb(17,17,17)\",\"landcolor\":\"rgb(17,17,17)\",\"showlakes\":true,\"showland\":true,\"subunitcolor\":\"#506784\"},\"hoverlabel\":{\"align\":\"left\"},\"hovermode\":\"closest\",\"mapbox\":{\"style\":\"dark\"},\"paper_bgcolor\":\"rgb(17,17,17)\",\"plot_bgcolor\":\"rgb(17,17,17)\",\"polar\":{\"angularaxis\":{\"gridcolor\":\"#506784\",\"linecolor\":\"#506784\",\"ticks\":\"\"},\"bgcolor\":\"rgb(17,17,17)\",\"radialaxis\":{\"gridcolor\":\"#506784\",\"linecolor\":\"#506784\",\"ticks\":\"\"}},\"scene\":{\"xaxis\":{\"backgroundcolor\":\"rgb(17,17,17)\",\"gridcolor\":\"#506784\",\"gridwidth\":2,\"linecolor\":\"#506784\",\"showbackground\":true,\"ticks\":\"\",\"zerolinecolor\":\"#C8D4E3\"},\"yaxis\":{\"backgroundcolor\":\"rgb(17,17,17)\",\"gridcolor\":\"#506784\",\"gridwidth\":2,\"linecolor\":\"#506784\",\"showbackground\":true,\"ticks\":\"\",\"zerolinecolor\":\"#C8D4E3\"},\"zaxis\":{\"backgroundcolor\":\"rgb(17,17,17)\",\"gridcolor\":\"#506784\",\"gridwidth\":2,\"linecolor\":\"#506784\",\"showbackground\":true,\"ticks\":\"\",\"zerolinecolor\":\"#C8D4E3\"}},\"shapedefaults\":{\"line\":{\"color\":\"#f2f5fa\"}},\"sliderdefaults\":{\"bgcolor\":\"#C8D4E3\",\"bordercolor\":\"rgb(17,17,17)\",\"borderwidth\":1,\"tickwidth\":0},\"ternary\":{\"aaxis\":{\"gridcolor\":\"#506784\",\"linecolor\":\"#506784\",\"ticks\":\"\"},\"baxis\":{\"gridcolor\":\"#506784\",\"linecolor\":\"#506784\",\"ticks\":\"\"},\"bgcolor\":\"rgb(17,17,17)\",\"caxis\":{\"gridcolor\":\"#506784\",\"linecolor\":\"#506784\",\"ticks\":\"\"}},\"title\":{\"x\":0.05},\"updatemenudefaults\":{\"bgcolor\":\"#506784\",\"borderwidth\":0},\"xaxis\":{\"automargin\":true,\"gridcolor\":\"#283442\",\"linecolor\":\"#506784\",\"ticks\":\"\",\"title\":{\"standoff\":15},\"zerolinecolor\":\"#283442\",\"zerolinewidth\":2},\"yaxis\":{\"automargin\":true,\"gridcolor\":\"#283442\",\"linecolor\":\"#506784\",\"ticks\":\"\",\"title\":{\"standoff\":15},\"zerolinecolor\":\"#283442\",\"zerolinewidth\":2}}},\"xaxis\":{\"anchor\":\"y\",\"domain\":[0.0,1.0],\"title\":{\"text\":\"value\"}},\"yaxis\":{\"anchor\":\"x\",\"domain\":[0.0,1.0],\"title\":{\"text\":\"year\"}},\"legend\":{\"title\":{\"text\":\"variable\"},\"tracegroupgap\":0},\"title\":{\"text\":\"Average Temperature in Each season\"},\"barmode\":\"relative\"},                        {\"responsive\": true}                    ).then(function(){\n",
              "                            \n",
              "var gd = document.getElementById('40a96e33-31a6-484a-b04b-97f6f9080099');\n",
              "var x = new MutationObserver(function (mutations, observer) {{\n",
              "        var display = window.getComputedStyle(gd).display;\n",
              "        if (!display || display === 'none') {{\n",
              "            console.log([gd, 'removed!']);\n",
              "            Plotly.purge(gd);\n",
              "            observer.disconnect();\n",
              "        }}\n",
              "}});\n",
              "\n",
              "// Listen for the removal of the full notebook cells\n",
              "var notebookContainer = gd.closest('#notebook-container');\n",
              "if (notebookContainer) {{\n",
              "    x.observe(notebookContainer, {childList: true});\n",
              "}}\n",
              "\n",
              "// Listen for the clearing of the current output cell\n",
              "var outputEl = gd.closest('.output');\n",
              "if (outputEl) {{\n",
              "    x.observe(outputEl, {childList: true});\n",
              "}}\n",
              "\n",
              "                        })                };                });            </script>        </div>"
            ]
          },
          "metadata": {},
          "output_type": "display_data"
        }
      ],
      "source": [
        "import plotly.express as px\n",
        "fig=px.bar(season,y=\"year\",x=['spring_temp', 'summer_temp', 'autumn_temp', 'winter_temp'],title=\"Average Temperature in Each season\", template=\"plotly_dark\")\n",
        "fig.show()"
      ]
    },
    {
      "cell_type": "code",
      "execution_count": 104,
      "metadata": {
        "id": "Xg_TcdQChLJi"
      },
      "outputs": [],
      "source": [
        "continent = ['Russia', 'United States', 'China', 'Japan', 'Australia', 'India']"
      ]
    },
    {
      "cell_type": "code",
      "execution_count": 105,
      "metadata": {
        "colab": {
          "base_uri": "https://localhost:8080/",
          "height": 206
        },
        "id": "q659OsVzhLJi",
        "outputId": "bd09d686-7d26-4276-f00d-1b642fdb6db8"
      },
      "outputs": [
        {
          "data": {
            "text/html": [
              "<div>\n",
              "<style scoped>\n",
              "    .dataframe tbody tr th:only-of-type {\n",
              "        vertical-align: middle;\n",
              "    }\n",
              "\n",
              "    .dataframe tbody tr th {\n",
              "        vertical-align: top;\n",
              "    }\n",
              "\n",
              "    .dataframe thead th {\n",
              "        text-align: right;\n",
              "    }\n",
              "</style>\n",
              "<table border=\"1\" class=\"dataframe\">\n",
              "  <thead>\n",
              "    <tr style=\"text-align: right;\">\n",
              "      <th></th>\n",
              "      <th>dt</th>\n",
              "      <th>AverageTemperature</th>\n",
              "      <th>AverageTemperatureUncertainty</th>\n",
              "      <th>Country</th>\n",
              "    </tr>\n",
              "  </thead>\n",
              "  <tbody>\n",
              "    <tr>\n",
              "      <th>0</th>\n",
              "      <td>1743-11-01</td>\n",
              "      <td>4.384</td>\n",
              "      <td>2.294</td>\n",
              "      <td>Åland</td>\n",
              "    </tr>\n",
              "    <tr>\n",
              "      <th>5</th>\n",
              "      <td>1744-04-01</td>\n",
              "      <td>1.530</td>\n",
              "      <td>4.680</td>\n",
              "      <td>Åland</td>\n",
              "    </tr>\n",
              "    <tr>\n",
              "      <th>6</th>\n",
              "      <td>1744-05-01</td>\n",
              "      <td>6.702</td>\n",
              "      <td>1.789</td>\n",
              "      <td>Åland</td>\n",
              "    </tr>\n",
              "    <tr>\n",
              "      <th>7</th>\n",
              "      <td>1744-06-01</td>\n",
              "      <td>11.609</td>\n",
              "      <td>1.577</td>\n",
              "      <td>Åland</td>\n",
              "    </tr>\n",
              "    <tr>\n",
              "      <th>8</th>\n",
              "      <td>1744-07-01</td>\n",
              "      <td>15.342</td>\n",
              "      <td>1.410</td>\n",
              "      <td>Åland</td>\n",
              "    </tr>\n",
              "  </tbody>\n",
              "</table>\n",
              "</div>"
            ],
            "text/plain": [
              "           dt  AverageTemperature  AverageTemperatureUncertainty Country\n",
              "0  1743-11-01               4.384                          2.294   Åland\n",
              "5  1744-04-01               1.530                          4.680   Åland\n",
              "6  1744-05-01               6.702                          1.789   Åland\n",
              "7  1744-06-01              11.609                          1.577   Åland\n",
              "8  1744-07-01              15.342                          1.410   Åland"
            ]
          },
          "execution_count": 105,
          "metadata": {},
          "output_type": "execute_result"
        }
      ],
      "source": [
        "global_temp_country.head()"
      ]
    },
    {
      "cell_type": "code",
      "execution_count": 106,
      "metadata": {
        "colab": {
          "base_uri": "https://localhost:8080/",
          "height": 424
        },
        "id": "_gjKvrIthLJi",
        "outputId": "cc91a6a1-344d-425d-8f3d-2659f5c2b2e5"
      },
      "outputs": [
        {
          "data": {
            "text/html": [
              "<div>\n",
              "<style scoped>\n",
              "    .dataframe tbody tr th:only-of-type {\n",
              "        vertical-align: middle;\n",
              "    }\n",
              "\n",
              "    .dataframe tbody tr th {\n",
              "        vertical-align: top;\n",
              "    }\n",
              "\n",
              "    .dataframe thead th {\n",
              "        text-align: right;\n",
              "    }\n",
              "</style>\n",
              "<table border=\"1\" class=\"dataframe\">\n",
              "  <thead>\n",
              "    <tr style=\"text-align: right;\">\n",
              "      <th></th>\n",
              "      <th>dt</th>\n",
              "      <th>AverageTemperature</th>\n",
              "      <th>AverageTemperatureUncertainty</th>\n",
              "      <th>Country</th>\n",
              "    </tr>\n",
              "  </thead>\n",
              "  <tbody>\n",
              "    <tr>\n",
              "      <th>34816</th>\n",
              "      <td>1852-07-01</td>\n",
              "      <td>14.116</td>\n",
              "      <td>1.530</td>\n",
              "      <td>Australia</td>\n",
              "    </tr>\n",
              "    <tr>\n",
              "      <th>34817</th>\n",
              "      <td>1852-08-01</td>\n",
              "      <td>15.330</td>\n",
              "      <td>1.400</td>\n",
              "      <td>Australia</td>\n",
              "    </tr>\n",
              "    <tr>\n",
              "      <th>34818</th>\n",
              "      <td>1852-09-01</td>\n",
              "      <td>18.740</td>\n",
              "      <td>1.446</td>\n",
              "      <td>Australia</td>\n",
              "    </tr>\n",
              "    <tr>\n",
              "      <th>34819</th>\n",
              "      <td>1852-10-01</td>\n",
              "      <td>21.984</td>\n",
              "      <td>1.493</td>\n",
              "      <td>Australia</td>\n",
              "    </tr>\n",
              "    <tr>\n",
              "      <th>34820</th>\n",
              "      <td>1852-11-01</td>\n",
              "      <td>24.073</td>\n",
              "      <td>1.466</td>\n",
              "      <td>Australia</td>\n",
              "    </tr>\n",
              "    <tr>\n",
              "      <th>...</th>\n",
              "      <td>...</td>\n",
              "      <td>...</td>\n",
              "      <td>...</td>\n",
              "      <td>...</td>\n",
              "    </tr>\n",
              "    <tr>\n",
              "      <th>557816</th>\n",
              "      <td>2013-05-01</td>\n",
              "      <td>14.073</td>\n",
              "      <td>0.178</td>\n",
              "      <td>United States</td>\n",
              "    </tr>\n",
              "    <tr>\n",
              "      <th>557817</th>\n",
              "      <td>2013-06-01</td>\n",
              "      <td>20.198</td>\n",
              "      <td>0.236</td>\n",
              "      <td>United States</td>\n",
              "    </tr>\n",
              "    <tr>\n",
              "      <th>557818</th>\n",
              "      <td>2013-07-01</td>\n",
              "      <td>22.074</td>\n",
              "      <td>0.152</td>\n",
              "      <td>United States</td>\n",
              "    </tr>\n",
              "    <tr>\n",
              "      <th>557819</th>\n",
              "      <td>2013-08-01</td>\n",
              "      <td>21.168</td>\n",
              "      <td>0.249</td>\n",
              "      <td>United States</td>\n",
              "    </tr>\n",
              "    <tr>\n",
              "      <th>557820</th>\n",
              "      <td>2013-09-01</td>\n",
              "      <td>18.273</td>\n",
              "      <td>1.210</td>\n",
              "      <td>United States</td>\n",
              "    </tr>\n",
              "  </tbody>\n",
              "</table>\n",
              "<p>13598 rows × 4 columns</p>\n",
              "</div>"
            ],
            "text/plain": [
              "                dt  AverageTemperature  AverageTemperatureUncertainty  \\\n",
              "34816   1852-07-01              14.116                          1.530   \n",
              "34817   1852-08-01              15.330                          1.400   \n",
              "34818   1852-09-01              18.740                          1.446   \n",
              "34819   1852-10-01              21.984                          1.493   \n",
              "34820   1852-11-01              24.073                          1.466   \n",
              "...            ...                 ...                            ...   \n",
              "557816  2013-05-01              14.073                          0.178   \n",
              "557817  2013-06-01              20.198                          0.236   \n",
              "557818  2013-07-01              22.074                          0.152   \n",
              "557819  2013-08-01              21.168                          0.249   \n",
              "557820  2013-09-01              18.273                          1.210   \n",
              "\n",
              "              Country  \n",
              "34816       Australia  \n",
              "34817       Australia  \n",
              "34818       Australia  \n",
              "34819       Australia  \n",
              "34820       Australia  \n",
              "...               ...  \n",
              "557816  United States  \n",
              "557817  United States  \n",
              "557818  United States  \n",
              "557819  United States  \n",
              "557820  United States  \n",
              "\n",
              "[13598 rows x 4 columns]"
            ]
          },
          "execution_count": 106,
          "metadata": {},
          "output_type": "execute_result"
        }
      ],
      "source": [
        "global_temp_country[global_temp_country['Country'].isin(continent)]"
      ]
    },
    {
      "cell_type": "code",
      "execution_count": 107,
      "metadata": {
        "id": "NRg8CxcehLJi"
      },
      "outputs": [],
      "source": [
        "continent_df=global_temp_country[global_temp_country['Country'].isin(continent)]"
      ]
    },
    {
      "cell_type": "code",
      "execution_count": 108,
      "metadata": {
        "colab": {
          "base_uri": "https://localhost:8080/",
          "height": 206
        },
        "id": "9O-XDwLKhLJi",
        "outputId": "fe410436-7554-4963-95a3-c33e066793fc"
      },
      "outputs": [
        {
          "data": {
            "text/html": [
              "<div>\n",
              "<style scoped>\n",
              "    .dataframe tbody tr th:only-of-type {\n",
              "        vertical-align: middle;\n",
              "    }\n",
              "\n",
              "    .dataframe tbody tr th {\n",
              "        vertical-align: top;\n",
              "    }\n",
              "\n",
              "    .dataframe thead th {\n",
              "        text-align: right;\n",
              "    }\n",
              "</style>\n",
              "<table border=\"1\" class=\"dataframe\">\n",
              "  <thead>\n",
              "    <tr style=\"text-align: right;\">\n",
              "      <th></th>\n",
              "      <th>dt</th>\n",
              "      <th>AverageTemperature</th>\n",
              "      <th>AverageTemperatureUncertainty</th>\n",
              "      <th>Country</th>\n",
              "    </tr>\n",
              "  </thead>\n",
              "  <tbody>\n",
              "    <tr>\n",
              "      <th>34816</th>\n",
              "      <td>1852-07-01</td>\n",
              "      <td>14.116</td>\n",
              "      <td>1.530</td>\n",
              "      <td>Australia</td>\n",
              "    </tr>\n",
              "    <tr>\n",
              "      <th>34817</th>\n",
              "      <td>1852-08-01</td>\n",
              "      <td>15.330</td>\n",
              "      <td>1.400</td>\n",
              "      <td>Australia</td>\n",
              "    </tr>\n",
              "    <tr>\n",
              "      <th>34818</th>\n",
              "      <td>1852-09-01</td>\n",
              "      <td>18.740</td>\n",
              "      <td>1.446</td>\n",
              "      <td>Australia</td>\n",
              "    </tr>\n",
              "    <tr>\n",
              "      <th>34819</th>\n",
              "      <td>1852-10-01</td>\n",
              "      <td>21.984</td>\n",
              "      <td>1.493</td>\n",
              "      <td>Australia</td>\n",
              "    </tr>\n",
              "    <tr>\n",
              "      <th>34820</th>\n",
              "      <td>1852-11-01</td>\n",
              "      <td>24.073</td>\n",
              "      <td>1.466</td>\n",
              "      <td>Australia</td>\n",
              "    </tr>\n",
              "  </tbody>\n",
              "</table>\n",
              "</div>"
            ],
            "text/plain": [
              "               dt  AverageTemperature  AverageTemperatureUncertainty  \\\n",
              "34816  1852-07-01              14.116                          1.530   \n",
              "34817  1852-08-01              15.330                          1.400   \n",
              "34818  1852-09-01              18.740                          1.446   \n",
              "34819  1852-10-01              21.984                          1.493   \n",
              "34820  1852-11-01              24.073                          1.466   \n",
              "\n",
              "         Country  \n",
              "34816  Australia  \n",
              "34817  Australia  \n",
              "34818  Australia  \n",
              "34819  Australia  \n",
              "34820  Australia  "
            ]
          },
          "execution_count": 108,
          "metadata": {},
          "output_type": "execute_result"
        }
      ],
      "source": [
        "continent_df.head()"
      ]
    },
    {
      "cell_type": "code",
      "execution_count": 109,
      "metadata": {
        "colab": {
          "base_uri": "https://localhost:8080/"
        },
        "id": "0oJy9w_YhLJj",
        "outputId": "10c9fed1-ca0f-46cd-bc7f-3e101b5173cd"
      },
      "outputs": [
        {
          "data": {
            "text/plain": [
              "(13598, 4)"
            ]
          },
          "execution_count": 109,
          "metadata": {},
          "output_type": "execute_result"
        }
      ],
      "source": [
        "continent_df.shape"
      ]
    },
    {
      "cell_type": "code",
      "execution_count": 110,
      "metadata": {
        "id": "0mjptNxMhLJj"
      },
      "outputs": [],
      "source": [
        "continent_df['years']=continent_df['dt'].apply(fetch_year)"
      ]
    },
    {
      "cell_type": "code",
      "execution_count": 111,
      "metadata": {
        "colab": {
          "base_uri": "https://localhost:8080/",
          "height": 206
        },
        "id": "H-9IGAHrhLJj",
        "outputId": "c2ea138f-12c7-4331-b99e-bac44044149d"
      },
      "outputs": [
        {
          "data": {
            "text/html": [
              "<div>\n",
              "<style scoped>\n",
              "    .dataframe tbody tr th:only-of-type {\n",
              "        vertical-align: middle;\n",
              "    }\n",
              "\n",
              "    .dataframe tbody tr th {\n",
              "        vertical-align: top;\n",
              "    }\n",
              "\n",
              "    .dataframe thead th {\n",
              "        text-align: right;\n",
              "    }\n",
              "</style>\n",
              "<table border=\"1\" class=\"dataframe\">\n",
              "  <thead>\n",
              "    <tr style=\"text-align: right;\">\n",
              "      <th></th>\n",
              "      <th>dt</th>\n",
              "      <th>AverageTemperature</th>\n",
              "      <th>AverageTemperatureUncertainty</th>\n",
              "      <th>Country</th>\n",
              "      <th>years</th>\n",
              "    </tr>\n",
              "  </thead>\n",
              "  <tbody>\n",
              "    <tr>\n",
              "      <th>34816</th>\n",
              "      <td>1852-07-01</td>\n",
              "      <td>14.116</td>\n",
              "      <td>1.530</td>\n",
              "      <td>Australia</td>\n",
              "      <td>1852</td>\n",
              "    </tr>\n",
              "    <tr>\n",
              "      <th>34817</th>\n",
              "      <td>1852-08-01</td>\n",
              "      <td>15.330</td>\n",
              "      <td>1.400</td>\n",
              "      <td>Australia</td>\n",
              "      <td>1852</td>\n",
              "    </tr>\n",
              "    <tr>\n",
              "      <th>34818</th>\n",
              "      <td>1852-09-01</td>\n",
              "      <td>18.740</td>\n",
              "      <td>1.446</td>\n",
              "      <td>Australia</td>\n",
              "      <td>1852</td>\n",
              "    </tr>\n",
              "    <tr>\n",
              "      <th>34819</th>\n",
              "      <td>1852-10-01</td>\n",
              "      <td>21.984</td>\n",
              "      <td>1.493</td>\n",
              "      <td>Australia</td>\n",
              "      <td>1852</td>\n",
              "    </tr>\n",
              "    <tr>\n",
              "      <th>34820</th>\n",
              "      <td>1852-11-01</td>\n",
              "      <td>24.073</td>\n",
              "      <td>1.466</td>\n",
              "      <td>Australia</td>\n",
              "      <td>1852</td>\n",
              "    </tr>\n",
              "  </tbody>\n",
              "</table>\n",
              "</div>"
            ],
            "text/plain": [
              "               dt  AverageTemperature  AverageTemperatureUncertainty  \\\n",
              "34816  1852-07-01              14.116                          1.530   \n",
              "34817  1852-08-01              15.330                          1.400   \n",
              "34818  1852-09-01              18.740                          1.446   \n",
              "34819  1852-10-01              21.984                          1.493   \n",
              "34820  1852-11-01              24.073                          1.466   \n",
              "\n",
              "         Country years  \n",
              "34816  Australia  1852  \n",
              "34817  Australia  1852  \n",
              "34818  Australia  1852  \n",
              "34819  Australia  1852  \n",
              "34820  Australia  1852  "
            ]
          },
          "execution_count": 111,
          "metadata": {},
          "output_type": "execute_result"
        }
      ],
      "source": [
        "continent_df.head()"
      ]
    },
    {
      "cell_type": "code",
      "execution_count": 112,
      "metadata": {
        "colab": {
          "base_uri": "https://localhost:8080/",
          "height": 455
        },
        "id": "lHMb37U1hLJj",
        "outputId": "50a91839-0ac2-444e-c82d-c569f1eb4ac8"
      },
      "outputs": [
        {
          "data": {
            "text/html": [
              "<div>\n",
              "<style scoped>\n",
              "    .dataframe tbody tr th:only-of-type {\n",
              "        vertical-align: middle;\n",
              "    }\n",
              "\n",
              "    .dataframe tbody tr th {\n",
              "        vertical-align: top;\n",
              "    }\n",
              "\n",
              "    .dataframe thead th {\n",
              "        text-align: right;\n",
              "    }\n",
              "</style>\n",
              "<table border=\"1\" class=\"dataframe\">\n",
              "  <thead>\n",
              "    <tr style=\"text-align: right;\">\n",
              "      <th></th>\n",
              "      <th></th>\n",
              "      <th>AverageTemperature</th>\n",
              "    </tr>\n",
              "    <tr>\n",
              "      <th>years</th>\n",
              "      <th>Country</th>\n",
              "      <th></th>\n",
              "    </tr>\n",
              "  </thead>\n",
              "  <tbody>\n",
              "    <tr>\n",
              "      <th>1768</th>\n",
              "      <th>United States</th>\n",
              "      <td>5.572750</td>\n",
              "    </tr>\n",
              "    <tr>\n",
              "      <th>1769</th>\n",
              "      <th>United States</th>\n",
              "      <td>10.446500</td>\n",
              "    </tr>\n",
              "    <tr>\n",
              "      <th>1774</th>\n",
              "      <th>United States</th>\n",
              "      <td>1.603000</td>\n",
              "    </tr>\n",
              "    <tr>\n",
              "      <th>1775</th>\n",
              "      <th>United States</th>\n",
              "      <td>9.499167</td>\n",
              "    </tr>\n",
              "    <tr>\n",
              "      <th>1776</th>\n",
              "      <th>United States</th>\n",
              "      <td>8.110000</td>\n",
              "    </tr>\n",
              "    <tr>\n",
              "      <th>...</th>\n",
              "      <th>...</th>\n",
              "      <td>...</td>\n",
              "    </tr>\n",
              "    <tr>\n",
              "      <th rowspan=\"5\" valign=\"top\">2013</th>\n",
              "      <th>China</th>\n",
              "      <td>9.295000</td>\n",
              "    </tr>\n",
              "    <tr>\n",
              "      <th>India</th>\n",
              "      <td>25.413250</td>\n",
              "    </tr>\n",
              "    <tr>\n",
              "      <th>Japan</th>\n",
              "      <td>12.964750</td>\n",
              "    </tr>\n",
              "    <tr>\n",
              "      <th>Russia</th>\n",
              "      <td>-2.263125</td>\n",
              "    </tr>\n",
              "    <tr>\n",
              "      <th>United States</th>\n",
              "      <td>11.297111</td>\n",
              "    </tr>\n",
              "  </tbody>\n",
              "</table>\n",
              "<p>1148 rows × 1 columns</p>\n",
              "</div>"
            ],
            "text/plain": [
              "                     AverageTemperature\n",
              "years Country                          \n",
              "1768  United States            5.572750\n",
              "1769  United States           10.446500\n",
              "1774  United States            1.603000\n",
              "1775  United States            9.499167\n",
              "1776  United States            8.110000\n",
              "...                                 ...\n",
              "2013  China                    9.295000\n",
              "      India                   25.413250\n",
              "      Japan                   12.964750\n",
              "      Russia                  -2.263125\n",
              "      United States           11.297111\n",
              "\n",
              "[1148 rows x 1 columns]"
            ]
          },
          "execution_count": 112,
          "metadata": {},
          "output_type": "execute_result"
        }
      ],
      "source": [
        "continent_df.groupby(['years','Country']).agg({'AverageTemperature':'mean'})"
      ]
    },
    {
      "cell_type": "code",
      "execution_count": 113,
      "metadata": {
        "colab": {
          "base_uri": "https://localhost:8080/",
          "height": 363
        },
        "id": "2JcwKJNbhLJj",
        "outputId": "fbc767ff-3263-40a6-8427-9f82f2587039"
      },
      "outputs": [
        {
          "data": {
            "text/html": [
              "<div>\n",
              "<style scoped>\n",
              "    .dataframe tbody tr th:only-of-type {\n",
              "        vertical-align: middle;\n",
              "    }\n",
              "\n",
              "    .dataframe tbody tr th {\n",
              "        vertical-align: top;\n",
              "    }\n",
              "\n",
              "    .dataframe thead th {\n",
              "        text-align: right;\n",
              "    }\n",
              "</style>\n",
              "<table border=\"1\" class=\"dataframe\">\n",
              "  <thead>\n",
              "    <tr style=\"text-align: right;\">\n",
              "      <th></th>\n",
              "      <th>years</th>\n",
              "      <th>Country</th>\n",
              "      <th>AverageTemperature</th>\n",
              "    </tr>\n",
              "  </thead>\n",
              "  <tbody>\n",
              "    <tr>\n",
              "      <th>0</th>\n",
              "      <td>1768</td>\n",
              "      <td>United States</td>\n",
              "      <td>5.572750</td>\n",
              "    </tr>\n",
              "    <tr>\n",
              "      <th>1</th>\n",
              "      <td>1769</td>\n",
              "      <td>United States</td>\n",
              "      <td>10.446500</td>\n",
              "    </tr>\n",
              "    <tr>\n",
              "      <th>2</th>\n",
              "      <td>1774</td>\n",
              "      <td>United States</td>\n",
              "      <td>1.603000</td>\n",
              "    </tr>\n",
              "    <tr>\n",
              "      <th>3</th>\n",
              "      <td>1775</td>\n",
              "      <td>United States</td>\n",
              "      <td>9.499167</td>\n",
              "    </tr>\n",
              "    <tr>\n",
              "      <th>4</th>\n",
              "      <td>1776</td>\n",
              "      <td>United States</td>\n",
              "      <td>8.110000</td>\n",
              "    </tr>\n",
              "    <tr>\n",
              "      <th>5</th>\n",
              "      <td>1777</td>\n",
              "      <td>United States</td>\n",
              "      <td>8.304750</td>\n",
              "    </tr>\n",
              "    <tr>\n",
              "      <th>6</th>\n",
              "      <td>1778</td>\n",
              "      <td>United States</td>\n",
              "      <td>5.362000</td>\n",
              "    </tr>\n",
              "    <tr>\n",
              "      <th>7</th>\n",
              "      <td>1779</td>\n",
              "      <td>United States</td>\n",
              "      <td>-0.713667</td>\n",
              "    </tr>\n",
              "    <tr>\n",
              "      <th>8</th>\n",
              "      <td>1781</td>\n",
              "      <td>United States</td>\n",
              "      <td>6.253250</td>\n",
              "    </tr>\n",
              "    <tr>\n",
              "      <th>9</th>\n",
              "      <td>1782</td>\n",
              "      <td>United States</td>\n",
              "      <td>7.606429</td>\n",
              "    </tr>\n",
              "  </tbody>\n",
              "</table>\n",
              "</div>"
            ],
            "text/plain": [
              "  years        Country  AverageTemperature\n",
              "0  1768  United States            5.572750\n",
              "1  1769  United States           10.446500\n",
              "2  1774  United States            1.603000\n",
              "3  1775  United States            9.499167\n",
              "4  1776  United States            8.110000\n",
              "5  1777  United States            8.304750\n",
              "6  1778  United States            5.362000\n",
              "7  1779  United States           -0.713667\n",
              "8  1781  United States            6.253250\n",
              "9  1782  United States            7.606429"
            ]
          },
          "execution_count": 113,
          "metadata": {},
          "output_type": "execute_result"
        }
      ],
      "source": [
        "avg_temp=continent_df.groupby(['years','Country']).agg({'AverageTemperature':'mean'}).reset_index()\n",
        "avg_temp.head(10)"
      ]
    },
    {
      "cell_type": "code",
      "execution_count": 114,
      "metadata": {
        "colab": {
          "base_uri": "https://localhost:8080/",
          "height": 542
        },
        "id": "JaLsVpdzhLJk",
        "outputId": "b68e3f5b-0a4a-457f-be00-3a991232c99a"
      },
      "outputs": [
        {
          "data": {
            "application/vnd.plotly.v1+json": {
              "config": {
                "plotlyServerURL": "https://plot.ly"
              },
              "data": [
                {
                  "hovertemplate": "Country=United States<br>variable=AverageTemperature<br>years=%{x}<br>value=%{y}<extra></extra>",
                  "legendgroup": "United States",
                  "line": {
                    "color": "#636efa",
                    "dash": "solid"
                  },
                  "marker": {
                    "symbol": "circle"
                  },
                  "mode": "lines",
                  "name": "United States",
                  "showlegend": true,
                  "type": "scattergl",
                  "x": [
                    "1768",
                    "1769",
                    "1774",
                    "1775",
                    "1776",
                    "1777",
                    "1778",
                    "1779",
                    "1781",
                    "1782",
                    "1796",
                    "1797",
                    "1811",
                    "1812",
                    "1813",
                    "1814",
                    "1815",
                    "1816",
                    "1817",
                    "1818",
                    "1819",
                    "1820",
                    "1821",
                    "1822",
                    "1823",
                    "1824",
                    "1825",
                    "1826",
                    "1827",
                    "1828",
                    "1829",
                    "1830",
                    "1831",
                    "1832",
                    "1833",
                    "1834",
                    "1835",
                    "1836",
                    "1837",
                    "1838",
                    "1839",
                    "1840",
                    "1841",
                    "1842",
                    "1843",
                    "1844",
                    "1845",
                    "1846",
                    "1847",
                    "1848",
                    "1849",
                    "1850",
                    "1851",
                    "1852",
                    "1853",
                    "1854",
                    "1855",
                    "1856",
                    "1857",
                    "1858",
                    "1859",
                    "1860",
                    "1861",
                    "1862",
                    "1863",
                    "1864",
                    "1865",
                    "1866",
                    "1867",
                    "1868",
                    "1869",
                    "1870",
                    "1871",
                    "1872",
                    "1873",
                    "1874",
                    "1875",
                    "1876",
                    "1877",
                    "1878",
                    "1879",
                    "1880",
                    "1881",
                    "1882",
                    "1883",
                    "1884",
                    "1885",
                    "1886",
                    "1887",
                    "1888",
                    "1889",
                    "1890",
                    "1891",
                    "1892",
                    "1893",
                    "1894",
                    "1895",
                    "1896",
                    "1897",
                    "1898",
                    "1899",
                    "1900",
                    "1901",
                    "1902",
                    "1903",
                    "1904",
                    "1905",
                    "1906",
                    "1907",
                    "1908",
                    "1909",
                    "1910",
                    "1911",
                    "1912",
                    "1913",
                    "1914",
                    "1915",
                    "1916",
                    "1917",
                    "1918",
                    "1919",
                    "1920",
                    "1921",
                    "1922",
                    "1923",
                    "1924",
                    "1925",
                    "1926",
                    "1927",
                    "1928",
                    "1929",
                    "1930",
                    "1931",
                    "1932",
                    "1933",
                    "1934",
                    "1935",
                    "1936",
                    "1937",
                    "1938",
                    "1939",
                    "1940",
                    "1941",
                    "1942",
                    "1943",
                    "1944",
                    "1945",
                    "1946",
                    "1947",
                    "1948",
                    "1949",
                    "1950",
                    "1951",
                    "1952",
                    "1953",
                    "1954",
                    "1955",
                    "1956",
                    "1957",
                    "1958",
                    "1959",
                    "1960",
                    "1961",
                    "1962",
                    "1963",
                    "1964",
                    "1965",
                    "1966",
                    "1967",
                    "1968",
                    "1969",
                    "1970",
                    "1971",
                    "1972",
                    "1973",
                    "1974",
                    "1975",
                    "1976",
                    "1977",
                    "1978",
                    "1979",
                    "1980",
                    "1981",
                    "1982",
                    "1983",
                    "1984",
                    "1985",
                    "1986",
                    "1987",
                    "1988",
                    "1989",
                    "1990",
                    "1991",
                    "1992",
                    "1993",
                    "1994",
                    "1995",
                    "1996",
                    "1997",
                    "1998",
                    "1999",
                    "2000",
                    "2001",
                    "2002",
                    "2003",
                    "2004",
                    "2005",
                    "2006",
                    "2007",
                    "2008",
                    "2009",
                    "2010",
                    "2011",
                    "2012",
                    "2013"
                  ],
                  "xaxis": "x",
                  "y": [
                    5.57275,
                    10.4465,
                    1.6029999999999998,
                    9.499166666666666,
                    8.11,
                    8.30475,
                    5.361999999999999,
                    -0.7136666666666663,
                    6.25325,
                    7.606428571428571,
                    12.231,
                    6.356833333333333,
                    8.0434,
                    7.012666666666667,
                    9.918888888888889,
                    3.784333333333334,
                    7.501333333333334,
                    4.396625,
                    7.229916666666667,
                    6.2747,
                    -2.7746666666666666,
                    7.563833333333332,
                    8.004083333333334,
                    8.386833333333334,
                    7.9110000000000005,
                    8.50225,
                    8.9665,
                    8.578999999999999,
                    9.102,
                    8.8485,
                    8.38925,
                    9.215083333333334,
                    7.72075,
                    8.247416666666668,
                    8.811916666666667,
                    8.829583333333334,
                    7.53925,
                    7.5639166666666675,
                    7.984416666666667,
                    7.548666666666666,
                    8.522166666666665,
                    8.2515,
                    8.14925,
                    8.358333333333334,
                    7.783666666666668,
                    8.082833333333333,
                    8.408916666666666,
                    9.136333333333333,
                    7.907083333333333,
                    8.016833333333333,
                    8.129166666666666,
                    8.248333333333333,
                    8.6575,
                    8.183083333333334,
                    8.459916666666667,
                    8.821250000000001,
                    8.459416666666668,
                    7.94325,
                    8.140333333333333,
                    8.412833333333333,
                    8.016833333333333,
                    8.580916666666667,
                    8.6505,
                    8.214,
                    8.446250000000001,
                    8.381083333333335,
                    8.495666666666667,
                    8.334333333333333,
                    8.509,
                    8.207416666666667,
                    8.31125,
                    8.8295,
                    8.70675,
                    8.00075,
                    8.063083333333333,
                    8.768,
                    7.849666666666667,
                    8.099,
                    8.696583333333335,
                    9.017166666666666,
                    8.68325,
                    8.110333333333333,
                    8.6435,
                    8.369916666666667,
                    7.9422500000000005,
                    7.957999999999999,
                    8.158416666666666,
                    8.181833333333334,
                    8.143583333333334,
                    8.172833333333333,
                    8.798083333333333,
                    8.559166666666668,
                    8.31675,
                    8.177999999999999,
                    8.171,
                    8.46675,
                    7.847333333333332,
                    8.483583333333334,
                    8.473166666666666,
                    8.427916666666667,
                    8.166833333333333,
                    9.021583333333334,
                    8.494916666666667,
                    8.453999999999999,
                    7.977250000000001,
                    8.200666666666665,
                    8.402333333333333,
                    8.560083333333333,
                    8.394,
                    8.755583333333334,
                    8.221833333333334,
                    8.757916666666667,
                    8.737916666666667,
                    8.140916666666667,
                    8.552166666666666,
                    8.8765,
                    8.648249999999999,
                    8.180083333333334,
                    7.669499999999999,
                    8.50125,
                    8.538,
                    8.1845,
                    9.595666666666666,
                    8.768166666666668,
                    8.760333333333334,
                    8.052333333333333,
                    9.016416666666666,
                    9.14025,
                    8.719333333333333,
                    8.876,
                    8.4395,
                    8.737666666666668,
                    9.56075,
                    8.5395,
                    9.030583333333334,
                    9.826583333333334,
                    8.7425,
                    8.92225,
                    8.73075,
                    9.471833333333334,
                    9.3075,
                    9.097166666666668,
                    9.266083333333333,
                    8.919333333333332,
                    9.0035,
                    8.898166666666667,
                    8.671249999999999,
                    9.179583333333333,
                    8.836083333333333,
                    8.481666666666667,
                    8.888083333333332,
                    8.656416666666667,
                    8.416583333333334,
                    8.979416666666667,
                    9.530416666666666,
                    9.410583333333333,
                    8.517166666666666,
                    8.699916666666667,
                    9.126333333333333,
                    8.970166666666668,
                    8.825333333333333,
                    8.69225,
                    8.642000000000001,
                    8.9565,
                    9.08,
                    8.491666666666667,
                    8.647666666666668,
                    8.483,
                    8.902,
                    8.55325,
                    8.770833333333334,
                    8.673,
                    8.4425,
                    8.428083333333333,
                    8.934666666666667,
                    8.815916666666666,
                    8.431,
                    8.65125,
                    9.269833333333333,
                    8.751416666666666,
                    8.571583333333333,
                    9.1355,
                    9.7215,
                    8.5395,
                    8.912333333333333,
                    8.811166666666667,
                    8.587000000000002,
                    9.5595,
                    9.628166666666667,
                    9.275333333333334,
                    8.873083333333334,
                    9.521583333333334,
                    9.493666666666666,
                    9.056333333333333,
                    8.86725,
                    9.270333333333333,
                    9.331000000000001,
                    8.754333333333333,
                    9.172916666666667,
                    10.141166666666667,
                    9.567,
                    9.64975,
                    9.785583333333333,
                    9.816166666666666,
                    9.755083333333333,
                    9.6675,
                    9.892666666666667,
                    9.9745,
                    9.8375,
                    8.951416666666667,
                    9.137083333333333,
                    9.505583333333334,
                    9.549916666666666,
                    10.261083333333334,
                    11.297111111111112
                  ],
                  "yaxis": "y"
                },
                {
                  "hovertemplate": "Country=India<br>variable=AverageTemperature<br>years=%{x}<br>value=%{y}<extra></extra>",
                  "legendgroup": "India",
                  "line": {
                    "color": "#EF553B",
                    "dash": "solid"
                  },
                  "marker": {
                    "symbol": "circle"
                  },
                  "mode": "lines",
                  "name": "India",
                  "showlegend": true,
                  "type": "scattergl",
                  "x": [
                    "1796",
                    "1797",
                    "1798",
                    "1799",
                    "1800",
                    "1801",
                    "1802",
                    "1803",
                    "1804",
                    "1805",
                    "1806",
                    "1807",
                    "1813",
                    "1814",
                    "1815",
                    "1816",
                    "1817",
                    "1818",
                    "1819",
                    "1820",
                    "1821",
                    "1822",
                    "1823",
                    "1824",
                    "1825",
                    "1826",
                    "1827",
                    "1828",
                    "1829",
                    "1830",
                    "1831",
                    "1832",
                    "1833",
                    "1834",
                    "1835",
                    "1836",
                    "1837",
                    "1838",
                    "1839",
                    "1840",
                    "1841",
                    "1842",
                    "1843",
                    "1844",
                    "1845",
                    "1846",
                    "1847",
                    "1848",
                    "1849",
                    "1850",
                    "1851",
                    "1852",
                    "1853",
                    "1854",
                    "1855",
                    "1856",
                    "1857",
                    "1858",
                    "1859",
                    "1860",
                    "1861",
                    "1862",
                    "1865",
                    "1866",
                    "1867",
                    "1868",
                    "1869",
                    "1870",
                    "1871",
                    "1872",
                    "1873",
                    "1874",
                    "1875",
                    "1876",
                    "1877",
                    "1878",
                    "1879",
                    "1880",
                    "1881",
                    "1882",
                    "1883",
                    "1884",
                    "1885",
                    "1886",
                    "1887",
                    "1888",
                    "1889",
                    "1890",
                    "1891",
                    "1892",
                    "1893",
                    "1894",
                    "1895",
                    "1896",
                    "1897",
                    "1898",
                    "1899",
                    "1900",
                    "1901",
                    "1902",
                    "1903",
                    "1904",
                    "1905",
                    "1906",
                    "1907",
                    "1908",
                    "1909",
                    "1910",
                    "1911",
                    "1912",
                    "1913",
                    "1914",
                    "1915",
                    "1916",
                    "1917",
                    "1918",
                    "1919",
                    "1920",
                    "1921",
                    "1922",
                    "1923",
                    "1924",
                    "1925",
                    "1926",
                    "1927",
                    "1928",
                    "1929",
                    "1930",
                    "1931",
                    "1932",
                    "1933",
                    "1934",
                    "1935",
                    "1936",
                    "1937",
                    "1938",
                    "1939",
                    "1940",
                    "1941",
                    "1942",
                    "1943",
                    "1944",
                    "1945",
                    "1946",
                    "1947",
                    "1948",
                    "1949",
                    "1950",
                    "1951",
                    "1952",
                    "1953",
                    "1954",
                    "1955",
                    "1956",
                    "1957",
                    "1958",
                    "1959",
                    "1960",
                    "1961",
                    "1962",
                    "1963",
                    "1964",
                    "1965",
                    "1966",
                    "1967",
                    "1968",
                    "1969",
                    "1970",
                    "1971",
                    "1972",
                    "1973",
                    "1974",
                    "1975",
                    "1976",
                    "1977",
                    "1978",
                    "1979",
                    "1980",
                    "1981",
                    "1982",
                    "1983",
                    "1984",
                    "1985",
                    "1986",
                    "1987",
                    "1988",
                    "1989",
                    "1990",
                    "1991",
                    "1992",
                    "1993",
                    "1994",
                    "1995",
                    "1996",
                    "1997",
                    "1998",
                    "1999",
                    "2000",
                    "2001",
                    "2002",
                    "2003",
                    "2004",
                    "2005",
                    "2006",
                    "2007",
                    "2008",
                    "2009",
                    "2010",
                    "2011",
                    "2012",
                    "2013"
                  ],
                  "xaxis": "x",
                  "y": [
                    23.675250000000002,
                    24.8399,
                    23.2733,
                    23.949416666666664,
                    23.911916666666666,
                    23.1751,
                    24.384333333333334,
                    24.145750000000003,
                    24.492416666666667,
                    24.025500000000005,
                    23.92616666666667,
                    23.4996,
                    23.27125,
                    22.657363636363637,
                    22.80775,
                    22.424000000000003,
                    22.5955,
                    22.953000000000003,
                    22.653583333333334,
                    22.84075,
                    23.527583333333336,
                    23.597416666666664,
                    23.471083333333336,
                    24.04975,
                    23.796083333333332,
                    23.858999999999998,
                    23.956416666666666,
                    23.623666666666665,
                    23.4435,
                    23.67233333333333,
                    23.241666666666664,
                    23.4586,
                    23.54825,
                    23.5295,
                    22.658083333333334,
                    23.25916666666667,
                    23.182916666666667,
                    23.192916666666665,
                    23.24475,
                    23.445166666666665,
                    23.26075,
                    23.41425,
                    23.31233333333333,
                    23.094083333333334,
                    23.343166666666665,
                    23.8025,
                    23.31833333333333,
                    23.22758333333333,
                    23.224249999999998,
                    23.504583333333333,
                    23.485166666666668,
                    23.378333333333334,
                    23.66541666666667,
                    23.759083333333336,
                    23.758750000000003,
                    23.292,
                    22.9645,
                    23.600083333333334,
                    23.671083333333332,
                    23.396833333333333,
                    23.299333333333337,
                    18.659666666666666,
                    23.7895,
                    23.823000000000004,
                    23.89816666666667,
                    23.684083333333334,
                    23.733333333333334,
                    23.535166666666665,
                    23.615166666666667,
                    23.626833333333334,
                    23.701833333333337,
                    23.642583333333334,
                    23.7555,
                    23.725916666666667,
                    23.88275,
                    24.131083333333333,
                    23.601083333333335,
                    23.86075,
                    23.677833333333336,
                    23.5885,
                    23.340833333333332,
                    23.24066666666667,
                    23.389916666666668,
                    23.644833333333334,
                    23.42216666666667,
                    23.70266666666667,
                    23.988166666666668,
                    23.698416666666663,
                    23.647583333333333,
                    23.989833333333337,
                    22.889833333333332,
                    23.691666666666666,
                    23.800083333333333,
                    24.404416666666666,
                    24.2195,
                    24.063833333333335,
                    24.17175,
                    24.367833333333333,
                    24.08425,
                    24.31866666666667,
                    23.767416666666666,
                    23.7585,
                    23.515,
                    23.88808333333333,
                    23.677083333333332,
                    23.74191666666667,
                    23.661,
                    23.544166666666666,
                    23.869333333333334,
                    24.007083333333338,
                    23.700833333333335,
                    23.8255,
                    24.29008333333333,
                    23.8255,
                    23.081083333333336,
                    23.77175,
                    23.825166666666664,
                    23.955416666666668,
                    24.249250000000004,
                    23.904416666666666,
                    23.90925,
                    24.046000000000003,
                    23.662583333333334,
                    23.847333333333335,
                    23.773750000000003,
                    24.139,
                    23.97141666666667,
                    23.837,
                    24.249333333333336,
                    24.07858333333333,
                    23.560333333333332,
                    23.767416666666666,
                    23.761833333333332,
                    23.834833333333336,
                    23.707916666666666,
                    23.891916666666663,
                    23.99325,
                    23.90225,
                    24.67425,
                    24.2105,
                    23.90516666666667,
                    23.847916666666666,
                    23.671583333333334,
                    24.134416666666667,
                    24.2795,
                    24.19,
                    24.047250000000002,
                    23.659333333333336,
                    24.22066666666667,
                    24.3655,
                    24.561583333333335,
                    24.167166666666663,
                    23.952166666666667,
                    23.899666666666665,
                    24.026416666666666,
                    24.676333333333332,
                    24.266833333333334,
                    24.287166666666668,
                    23.815250000000002,
                    23.88475,
                    24.09575,
                    24.0705,
                    24.09091666666667,
                    24.438583333333337,
                    23.992083333333337,
                    23.86475,
                    24.501166666666666,
                    24.074083333333334,
                    23.634,
                    24.272166666666667,
                    24.386583333333334,
                    24.175749999999997,
                    23.862166666666667,
                    24.199583333333333,
                    24.28891666666667,
                    24.007333333333335,
                    24.553583333333336,
                    24.593083333333336,
                    24.228416666666664,
                    24.21825,
                    23.938000000000002,
                    24.185083333333335,
                    24.486333333333334,
                    24.2945,
                    24.789083333333334,
                    24.72775,
                    24.162333333333333,
                    24.17816666666667,
                    24.311750000000004,
                    24.222916666666666,
                    24.408666666666665,
                    24.29641666666667,
                    24.42975,
                    24.436916666666665,
                    24.04733333333333,
                    24.755416666666665,
                    24.659833333333335,
                    24.498,
                    24.581916666666668,
                    24.913,
                    24.649916666666666,
                    24.634583333333335,
                    24.495416666666667,
                    24.732083333333335,
                    24.649916666666666,
                    24.406000000000002,
                    25.146666666666665,
                    25.050833333333333,
                    24.415583333333334,
                    24.640833333333333,
                    25.413249999999998
                  ],
                  "yaxis": "y"
                },
                {
                  "hovertemplate": "Country=Russia<br>variable=AverageTemperature<br>years=%{x}<br>value=%{y}<extra></extra>",
                  "legendgroup": "Russia",
                  "line": {
                    "color": "#00cc96",
                    "dash": "solid"
                  },
                  "marker": {
                    "symbol": "circle"
                  },
                  "mode": "lines",
                  "name": "Russia",
                  "showlegend": true,
                  "type": "scattergl",
                  "x": [
                    "1812",
                    "1813",
                    "1814",
                    "1815",
                    "1816",
                    "1817",
                    "1818",
                    "1819",
                    "1820",
                    "1821",
                    "1822",
                    "1823",
                    "1824",
                    "1825",
                    "1826",
                    "1827",
                    "1828",
                    "1829",
                    "1830",
                    "1831",
                    "1832",
                    "1833",
                    "1834",
                    "1835",
                    "1836",
                    "1837",
                    "1838",
                    "1839",
                    "1840",
                    "1841",
                    "1842",
                    "1843",
                    "1844",
                    "1845",
                    "1846",
                    "1847",
                    "1848",
                    "1849",
                    "1850",
                    "1851",
                    "1852",
                    "1853",
                    "1854",
                    "1855",
                    "1856",
                    "1857",
                    "1858",
                    "1859",
                    "1860",
                    "1861",
                    "1862",
                    "1863",
                    "1864",
                    "1865",
                    "1866",
                    "1867",
                    "1868",
                    "1869",
                    "1870",
                    "1871",
                    "1872",
                    "1873",
                    "1874",
                    "1875",
                    "1876",
                    "1877",
                    "1878",
                    "1879",
                    "1880",
                    "1881",
                    "1882",
                    "1883",
                    "1884",
                    "1885",
                    "1886",
                    "1887",
                    "1888",
                    "1889",
                    "1890",
                    "1891",
                    "1892",
                    "1893",
                    "1894",
                    "1895",
                    "1896",
                    "1897",
                    "1898",
                    "1899",
                    "1900",
                    "1901",
                    "1902",
                    "1903",
                    "1904",
                    "1905",
                    "1906",
                    "1907",
                    "1908",
                    "1909",
                    "1910",
                    "1911",
                    "1912",
                    "1913",
                    "1914",
                    "1915",
                    "1916",
                    "1917",
                    "1918",
                    "1919",
                    "1920",
                    "1921",
                    "1922",
                    "1923",
                    "1924",
                    "1925",
                    "1926",
                    "1927",
                    "1928",
                    "1929",
                    "1930",
                    "1931",
                    "1932",
                    "1933",
                    "1934",
                    "1935",
                    "1936",
                    "1937",
                    "1938",
                    "1939",
                    "1940",
                    "1941",
                    "1942",
                    "1943",
                    "1944",
                    "1945",
                    "1946",
                    "1947",
                    "1948",
                    "1949",
                    "1950",
                    "1951",
                    "1952",
                    "1953",
                    "1954",
                    "1955",
                    "1956",
                    "1957",
                    "1958",
                    "1959",
                    "1960",
                    "1961",
                    "1962",
                    "1963",
                    "1964",
                    "1965",
                    "1966",
                    "1967",
                    "1968",
                    "1969",
                    "1970",
                    "1971",
                    "1972",
                    "1973",
                    "1974",
                    "1975",
                    "1976",
                    "1977",
                    "1978",
                    "1979",
                    "1980",
                    "1981",
                    "1982",
                    "1983",
                    "1984",
                    "1985",
                    "1986",
                    "1987",
                    "1988",
                    "1989",
                    "1990",
                    "1991",
                    "1992",
                    "1993",
                    "1994",
                    "1995",
                    "1996",
                    "1997",
                    "1998",
                    "1999",
                    "2000",
                    "2001",
                    "2002",
                    "2003",
                    "2004",
                    "2005",
                    "2006",
                    "2007",
                    "2008",
                    "2009",
                    "2010",
                    "2011",
                    "2012",
                    "2013"
                  ],
                  "xaxis": "x",
                  "y": [
                    -7.046833333333335,
                    -7.084818181818182,
                    -6.4359090909090915,
                    -21.342,
                    -1.6283333333333334,
                    -6.959916666666667,
                    -5.90925,
                    -6.7655,
                    -6.4285,
                    -5.717666666666667,
                    -5.482333333333334,
                    -6.203500000000001,
                    -5.300083333333333,
                    -5.4315,
                    -5.317166666666667,
                    -5.038250000000001,
                    -6.109750000000001,
                    -6.1812499999999995,
                    -5.660416666666667,
                    -6.67325,
                    -6.681166666666667,
                    -6.1645,
                    -5.778166666666667,
                    -6.7855,
                    -6.088916666666667,
                    -6.761666666666667,
                    -6.4182500000000005,
                    -6.437583333333333,
                    -6.437416666666667,
                    -6.433916666666666,
                    -5.994416666666667,
                    -5.097583333333334,
                    -6.22,
                    -6.27475,
                    -5.4339166666666685,
                    -5.930333333333334,
                    -5.708333333333333,
                    -5.5605,
                    -6.4265,
                    -5.669583333333333,
                    -6.039666666666666,
                    -6.276000000000001,
                    -5.49025,
                    -5.556916666666666,
                    -6.08875,
                    -6.487166666666667,
                    -5.592833333333334,
                    -5.228500000000001,
                    -6.619,
                    -6.295333333333333,
                    -6.931416666666667,
                    -5.299166666666667,
                    -6.007583333333334,
                    -5.917083333333333,
                    -5.31975,
                    -5.542999999999999,
                    -5.757916666666667,
                    -5.331916666666667,
                    -6.422833333333333,
                    -6.263333333333333,
                    -6.4214166666666666,
                    -5.687916666666666,
                    -4.888916666666667,
                    -6.085416666666667,
                    -6.0015833333333335,
                    -5.602999999999999,
                    -5.238083333333333,
                    -5.84475,
                    -5.737166666666667,
                    -6.0352500000000004,
                    -5.762250000000001,
                    -5.847083333333334,
                    -6.1816666666666675,
                    -6.683916666666668,
                    -6.129250000000002,
                    -5.886916666666667,
                    -6.412666666666667,
                    -6.1031666666666675,
                    -6.25675,
                    -6.183666666666667,
                    -6.362416666666667,
                    -5.554833333333334,
                    -5.366166666666667,
                    -6.280666666666666,
                    -5.686833333333333,
                    -5.554916666666666,
                    -5.950666666666667,
                    -5.37575,
                    -5.8743333333333325,
                    -5.460083333333333,
                    -7.002750000000002,
                    -5.352583333333333,
                    -5.418499999999999,
                    -5.687083333333334,
                    -5.10175,
                    -6.041416666666667,
                    -6.122583333333334,
                    -5.865083333333334,
                    -5.776583333333334,
                    -5.830333333333333,
                    -6.864416666666667,
                    -5.726416666666668,
                    -5.374166666666667,
                    -6.363,
                    -6.19,
                    -5.528416666666668,
                    -5.747916666666666,
                    -6.186,
                    -5.155,
                    -4.90425,
                    -5.697833333333333,
                    -5.521166666666667,
                    -5.2754166666666675,
                    -5.128916666666666,
                    -5.3745,
                    -5.6569166666666675,
                    -5.7722500000000005,
                    -6.400083333333334,
                    -5.53075,
                    -5.76275,
                    -4.758249999999999,
                    -6.2521666666666675,
                    -4.643000000000001,
                    -5.214333333333333,
                    -5.030083333333334,
                    -5.1489166666666675,
                    -4.552666666666666,
                    -4.716833333333333,
                    -5.628416666666666,
                    -6.476666666666667,
                    -5.604666666666667,
                    -4.1145000000000005,
                    -4.434,
                    -5.394416666666667,
                    -5.855,
                    -5.368083333333335,
                    -4.337583333333334,
                    -4.9277500000000005,
                    -5.6089166666666666,
                    -5.055916666666667,
                    -6.175250000000001,
                    -4.779416666666667,
                    -5.317333333333334,
                    -5.626666666666668,
                    -5.81375,
                    -5.358250000000001,
                    -6.154083333333333,
                    -4.838916666666667,
                    -5.936,
                    -4.960333333333334,
                    -4.416250000000001,
                    -5.008166666666667,
                    -5.785833333333334,
                    -5.907416666666666,
                    -6.309583333333333,
                    -4.36325,
                    -5.5895833333333345,
                    -6.7660833333333334,
                    -5.522583333333333,
                    -4.971166666666668,
                    -5.702000000000001,
                    -4.833583333333333,
                    -5.67175,
                    -4.141083333333334,
                    -5.927,
                    -5.513000000000001,
                    -5.255916666666668,
                    -5.904333333333334,
                    -5.420750000000001,
                    -4.166166666666667,
                    -5.097583333333334,
                    -3.9518333333333344,
                    -5.29425,
                    -5.521166666666666,
                    -4.892250000000001,
                    -6.274000000000001,
                    -4.330416666666667,
                    -4.07325,
                    -4.022916666666666,
                    -4.236999999999999,
                    -4.90325,
                    -4.62175,
                    -4.898416666666667,
                    -3.1301666666666663,
                    -4.810333333333333,
                    -4.2965,
                    -5.281083333333334,
                    -4.829750000000001,
                    -4.5456666666666665,
                    -4.490666666666667,
                    -4.122916666666666,
                    -3.8328333333333333,
                    -4.4935833333333335,
                    -3.4980833333333337,
                    -4.763,
                    -2.975083333333334,
                    -3.3054166666666664,
                    -4.6085,
                    -4.520583333333334,
                    -3.401583333333333,
                    -3.90175,
                    -2.2631250000000005
                  ],
                  "yaxis": "y"
                },
                {
                  "hovertemplate": "Country=China<br>variable=AverageTemperature<br>years=%{x}<br>value=%{y}<extra></extra>",
                  "legendgroup": "China",
                  "line": {
                    "color": "#ab63fa",
                    "dash": "solid"
                  },
                  "marker": {
                    "symbol": "circle"
                  },
                  "mode": "lines",
                  "name": "China",
                  "showlegend": true,
                  "type": "scattergl",
                  "x": [
                    "1820",
                    "1821",
                    "1822",
                    "1823",
                    "1833",
                    "1834",
                    "1835",
                    "1836",
                    "1837",
                    "1838",
                    "1839",
                    "1840",
                    "1841",
                    "1842",
                    "1843",
                    "1844",
                    "1845",
                    "1846",
                    "1847",
                    "1848",
                    "1849",
                    "1850",
                    "1851",
                    "1852",
                    "1853",
                    "1854",
                    "1855",
                    "1856",
                    "1857",
                    "1858",
                    "1859",
                    "1860",
                    "1861",
                    "1862",
                    "1863",
                    "1864",
                    "1865",
                    "1866",
                    "1867",
                    "1868",
                    "1869",
                    "1870",
                    "1871",
                    "1872",
                    "1873",
                    "1874",
                    "1875",
                    "1876",
                    "1877",
                    "1878",
                    "1879",
                    "1880",
                    "1881",
                    "1882",
                    "1883",
                    "1884",
                    "1885",
                    "1886",
                    "1887",
                    "1888",
                    "1889",
                    "1890",
                    "1891",
                    "1892",
                    "1893",
                    "1894",
                    "1895",
                    "1896",
                    "1897",
                    "1898",
                    "1899",
                    "1900",
                    "1901",
                    "1902",
                    "1903",
                    "1904",
                    "1905",
                    "1906",
                    "1907",
                    "1908",
                    "1909",
                    "1910",
                    "1911",
                    "1912",
                    "1913",
                    "1914",
                    "1915",
                    "1916",
                    "1917",
                    "1918",
                    "1919",
                    "1920",
                    "1921",
                    "1922",
                    "1923",
                    "1924",
                    "1925",
                    "1926",
                    "1927",
                    "1928",
                    "1929",
                    "1930",
                    "1931",
                    "1932",
                    "1933",
                    "1934",
                    "1935",
                    "1936",
                    "1937",
                    "1938",
                    "1939",
                    "1940",
                    "1941",
                    "1942",
                    "1943",
                    "1944",
                    "1945",
                    "1946",
                    "1947",
                    "1948",
                    "1949",
                    "1950",
                    "1951",
                    "1952",
                    "1953",
                    "1954",
                    "1955",
                    "1956",
                    "1957",
                    "1958",
                    "1959",
                    "1960",
                    "1961",
                    "1962",
                    "1963",
                    "1964",
                    "1965",
                    "1966",
                    "1967",
                    "1968",
                    "1969",
                    "1970",
                    "1971",
                    "1972",
                    "1973",
                    "1974",
                    "1975",
                    "1976",
                    "1977",
                    "1978",
                    "1979",
                    "1980",
                    "1981",
                    "1982",
                    "1983",
                    "1984",
                    "1985",
                    "1986",
                    "1987",
                    "1988",
                    "1989",
                    "1990",
                    "1991",
                    "1992",
                    "1993",
                    "1994",
                    "1995",
                    "1996",
                    "1997",
                    "1998",
                    "1999",
                    "2000",
                    "2001",
                    "2002",
                    "2003",
                    "2004",
                    "2005",
                    "2006",
                    "2007",
                    "2008",
                    "2009",
                    "2010",
                    "2011",
                    "2012",
                    "2013"
                  ],
                  "xaxis": "x",
                  "y": [
                    5.013599999999999,
                    6.284166666666667,
                    6.341416666666667,
                    7.024363636363637,
                    6.039333333333334,
                    6.268166666666667,
                    5.43425,
                    5.364727272727273,
                    8.136833333333334,
                    5.715,
                    5.519083333333334,
                    6.018583333333333,
                    5.512416666666667,
                    6.2785,
                    6.413916666666666,
                    6.0515,
                    6.023000000000001,
                    6.5874999999999995,
                    6.257083333333333,
                    5.93975,
                    6.1048333333333344,
                    5.907166666666666,
                    5.7828333333333335,
                    5.857500000000001,
                    5.997583333333334,
                    6.473083333333332,
                    6.515583333333333,
                    6.095583333333334,
                    5.959666666666667,
                    6.414083333333333,
                    6.535166666666666,
                    5.609333333333333,
                    5.865166666666667,
                    5.448083333333333,
                    6.444583333333333,
                    5.8015,
                    6.244,
                    6.410416666666666,
                    6.759166666666666,
                    6.415500000000001,
                    6.465833333333333,
                    6.158999999999999,
                    6.371583333333334,
                    6.286333333333334,
                    6.588166666666667,
                    6.6451666666666656,
                    6.505,
                    6.347416666666667,
                    6.181583333333333,
                    6.414416666666667,
                    6.667416666666667,
                    6.383500000000001,
                    6.352833333333333,
                    6.39825,
                    6.026916666666666,
                    5.804833333333334,
                    5.9645,
                    6.114750000000001,
                    6.197166666666668,
                    6.336416666666666,
                    6.31175,
                    6.464333333333333,
                    6.359333333333333,
                    6.060833333333334,
                    6.108333333333333,
                    6.57825,
                    6.035833333333334,
                    6.38625,
                    6.228083333333334,
                    6.562666666666666,
                    6.603416666666667,
                    6.444166666666667,
                    6.5375000000000005,
                    6.744666666666666,
                    6.1745833333333335,
                    6.350833333333334,
                    5.7555000000000005,
                    6.2218333333333335,
                    6.308666666666666,
                    6.286583333333333,
                    6.3812500000000005,
                    6.0715,
                    6.297000000000001,
                    6.076083333333333,
                    6.138416666666667,
                    6.8187500000000005,
                    6.49275,
                    6.349833333333333,
                    6.161416666666667,
                    6.196833333333333,
                    6.607,
                    6.590333333333334,
                    6.50075,
                    6.677333333333333,
                    6.563666666666666,
                    6.704250000000001,
                    6.555666666666667,
                    6.754083333333334,
                    6.667749999999999,
                    6.7746666666666675,
                    6.424083333333333,
                    6.468666666666667,
                    6.3775,
                    6.9055833333333325,
                    6.6299166666666665,
                    6.362833333333334,
                    6.636166666666667,
                    6.111583333333333,
                    6.511083333333333,
                    6.87175,
                    7.0264999999999995,
                    6.961666666666666,
                    7.3455,
                    7.096,
                    7.050916666666667,
                    6.5305,
                    6.8388333333333335,
                    7.354083333333333,
                    6.773833333333333,
                    7.1003333333333325,
                    6.9755,
                    6.641166666666667,
                    6.8694999999999995,
                    6.640916666666667,
                    7.022333333333333,
                    6.3709999999999996,
                    6.701666666666667,
                    6.299333333333333,
                    6.388000000000001,
                    7.033583333333333,
                    7.039666666666666,
                    6.890916666666667,
                    7.050583333333333,
                    6.703666666666667,
                    7.052499999999999,
                    6.746083333333334,
                    6.799916666666667,
                    6.962,
                    6.402583333333333,
                    6.727,
                    6.4559999999999995,
                    6.5681666666666665,
                    6.84625,
                    6.814416666666667,
                    7.209583333333334,
                    6.659416666666666,
                    7.1009166666666665,
                    6.471166666666666,
                    6.851333333333334,
                    7.048166666666667,
                    7.074083333333333,
                    6.950083333333333,
                    6.926416666666667,
                    7.14975,
                    6.925083333333334,
                    6.5179166666666655,
                    6.7402500000000005,
                    6.870166666666666,
                    7.249,
                    7.220833333333332,
                    7.23975,
                    7.636,
                    7.097166666666666,
                    6.858416666666667,
                    6.919416666666667,
                    7.4959999999999996,
                    7.2115833333333335,
                    6.962666666666667,
                    7.367333333333334,
                    8.051833333333333,
                    7.84025,
                    7.238083333333333,
                    7.596416666666666,
                    7.7956666666666665,
                    7.521999999999999,
                    7.71275,
                    7.4135,
                    7.948,
                    8.12675,
                    7.566083333333334,
                    7.8095,
                    7.548416666666667,
                    7.357083333333333,
                    7.077083333333333,
                    9.295
                  ],
                  "yaxis": "y"
                },
                {
                  "hovertemplate": "Country=Japan<br>variable=AverageTemperature<br>years=%{x}<br>value=%{y}<extra></extra>",
                  "legendgroup": "Japan",
                  "line": {
                    "color": "#FFA15A",
                    "dash": "solid"
                  },
                  "marker": {
                    "symbol": "circle"
                  },
                  "mode": "lines",
                  "name": "Japan",
                  "showlegend": true,
                  "type": "scattergl",
                  "x": [
                    "1841",
                    "1842",
                    "1843",
                    "1844",
                    "1845",
                    "1846",
                    "1847",
                    "1848",
                    "1849",
                    "1850",
                    "1851",
                    "1852",
                    "1853",
                    "1854",
                    "1855",
                    "1856",
                    "1857",
                    "1858",
                    "1859",
                    "1860",
                    "1861",
                    "1862",
                    "1863",
                    "1864",
                    "1865",
                    "1866",
                    "1867",
                    "1868",
                    "1869",
                    "1870",
                    "1871",
                    "1872",
                    "1873",
                    "1874",
                    "1875",
                    "1876",
                    "1877",
                    "1878",
                    "1879",
                    "1880",
                    "1881",
                    "1882",
                    "1883",
                    "1884",
                    "1885",
                    "1886",
                    "1887",
                    "1888",
                    "1889",
                    "1890",
                    "1891",
                    "1892",
                    "1893",
                    "1894",
                    "1895",
                    "1896",
                    "1897",
                    "1898",
                    "1899",
                    "1900",
                    "1901",
                    "1902",
                    "1903",
                    "1904",
                    "1905",
                    "1906",
                    "1907",
                    "1908",
                    "1909",
                    "1910",
                    "1911",
                    "1912",
                    "1913",
                    "1914",
                    "1915",
                    "1916",
                    "1917",
                    "1918",
                    "1919",
                    "1920",
                    "1921",
                    "1922",
                    "1923",
                    "1924",
                    "1925",
                    "1926",
                    "1927",
                    "1928",
                    "1929",
                    "1930",
                    "1931",
                    "1932",
                    "1933",
                    "1934",
                    "1935",
                    "1936",
                    "1937",
                    "1938",
                    "1939",
                    "1940",
                    "1941",
                    "1942",
                    "1943",
                    "1944",
                    "1945",
                    "1946",
                    "1947",
                    "1948",
                    "1949",
                    "1950",
                    "1951",
                    "1952",
                    "1953",
                    "1954",
                    "1955",
                    "1956",
                    "1957",
                    "1958",
                    "1959",
                    "1960",
                    "1961",
                    "1962",
                    "1963",
                    "1964",
                    "1965",
                    "1966",
                    "1967",
                    "1968",
                    "1969",
                    "1970",
                    "1971",
                    "1972",
                    "1973",
                    "1974",
                    "1975",
                    "1976",
                    "1977",
                    "1978",
                    "1979",
                    "1980",
                    "1981",
                    "1982",
                    "1983",
                    "1984",
                    "1985",
                    "1986",
                    "1987",
                    "1988",
                    "1989",
                    "1990",
                    "1991",
                    "1992",
                    "1993",
                    "1994",
                    "1995",
                    "1996",
                    "1997",
                    "1998",
                    "1999",
                    "2000",
                    "2001",
                    "2002",
                    "2003",
                    "2004",
                    "2005",
                    "2006",
                    "2007",
                    "2008",
                    "2009",
                    "2010",
                    "2011",
                    "2012",
                    "2013"
                  ],
                  "xaxis": "x",
                  "y": [
                    11.019499999999999,
                    11.445749999999999,
                    11.627249999999998,
                    11.216166666666666,
                    11.3805,
                    11.824333333333334,
                    11.659666666666666,
                    11.600416666666668,
                    11.604999999999999,
                    11.116,
                    11.117583333333334,
                    11.117833333333332,
                    11.257666666666665,
                    11.692166666666665,
                    12.040666666666667,
                    11.493083333333333,
                    11.400333333333334,
                    11.686583333333333,
                    11.55625,
                    11.096083333333333,
                    11.179333333333332,
                    11.17575,
                    11.808416666666666,
                    11.442750000000002,
                    11.723999999999998,
                    11.225166666666667,
                    11.719333333333333,
                    11.644,
                    11.522333333333334,
                    11.574833333333332,
                    11.529583333333333,
                    11.460833333333333,
                    10.987333333333334,
                    11.7465,
                    11.686583333333333,
                    11.95225,
                    12.229750000000001,
                    11.66275,
                    12.078249999999999,
                    11.860583333333333,
                    11.585416666666667,
                    11.740250000000001,
                    11.40825,
                    10.535333333333332,
                    11.009166666666667,
                    11.921999999999999,
                    11.677833333333332,
                    11.622750000000002,
                    11.066,
                    12.84225,
                    11.825166666666666,
                    11.536333333333333,
                    11.207666666666666,
                    12.44825,
                    11.57325,
                    11.681416666666665,
                    11.216000000000001,
                    11.900666666666666,
                    11.828000000000001,
                    11.473666666666666,
                    11.680166666666667,
                    11.52375,
                    11.843333333333334,
                    11.770166666666666,
                    11.597416666666668,
                    11.183916666666667,
                    11.403166666666666,
                    11.095999999999998,
                    11.38875,
                    11.378916666666667,
                    11.980083333333333,
                    11.453249999999999,
                    10.986833333333331,
                    12.487166666666667,
                    12.061083333333334,
                    12.545333333333334,
                    11.412916666666668,
                    11.609166666666667,
                    11.951333333333332,
                    12.213500000000002,
                    11.57175,
                    12.078416666666667,
                    11.908499999999998,
                    11.642416666666668,
                    11.758583333333334,
                    11.302416666666666,
                    11.7355,
                    12.057916666666666,
                    11.774916666666668,
                    12.29275,
                    11.489083333333333,
                    11.982750000000001,
                    11.953166666666666,
                    11.49875,
                    11.893083333333331,
                    11.5475,
                    12.211166666666665,
                    12.081166666666666,
                    12.084083333333334,
                    11.987249999999998,
                    11.9185,
                    12.002166666666668,
                    11.994833333333334,
                    11.692166666666667,
                    11.138833333333332,
                    12.360666666666667,
                    11.333583333333332,
                    12.795916666666665,
                    12.102583333333333,
                    12.589500000000001,
                    12.146666666666668,
                    11.939666666666668,
                    11.964666666666666,
                    12.223999999999998,
                    12.729,
                    12.019416666666666,
                    12.055333333333332,
                    12.57,
                    12.958166666666665,
                    12.599833333333335,
                    13.045499999999999,
                    12.466166666666666,
                    12.29325,
                    12.34975,
                    11.687916666666666,
                    12.134416666666667,
                    12.266333333333334,
                    12.190416666666666,
                    11.848999999999998,
                    11.929,
                    11.983416666666665,
                    12.592166666666666,
                    12.41475,
                    11.7905,
                    12.336999999999998,
                    11.7475,
                    12.19825,
                    12.505333333333333,
                    12.842583333333332,
                    11.795083333333332,
                    11.629416666666666,
                    12.336333333333334,
                    12.121916666666666,
                    11.659916666666666,
                    12.281333333333334,
                    11.691416666666667,
                    12.543833333333332,
                    11.967666666666666,
                    12.91175,
                    13.590583333333333,
                    12.783166666666666,
                    12.484250000000001,
                    12.055166666666667,
                    13.229750000000001,
                    12.475416666666666,
                    12.082833333333333,
                    12.752416666666667,
                    13.244750000000002,
                    13.080083333333334,
                    12.833833333333333,
                    12.450000000000001,
                    12.837333333333333,
                    12.507,
                    13.435666666666668,
                    12.555916666666667,
                    12.757083333333334,
                    13.192166666666667,
                    12.874916666666666,
                    12.933833333333332,
                    13.215583333333333,
                    12.73775,
                    12.565666666666667,
                    12.96475
                  ],
                  "yaxis": "y"
                },
                {
                  "hovertemplate": "Country=Australia<br>variable=AverageTemperature<br>years=%{x}<br>value=%{y}<extra></extra>",
                  "legendgroup": "Australia",
                  "line": {
                    "color": "#19d3f3",
                    "dash": "solid"
                  },
                  "marker": {
                    "symbol": "circle"
                  },
                  "mode": "lines",
                  "name": "Australia",
                  "showlegend": true,
                  "type": "scattergl",
                  "x": [
                    "1852",
                    "1853",
                    "1854",
                    "1855",
                    "1856",
                    "1857",
                    "1858",
                    "1859",
                    "1860",
                    "1861",
                    "1862",
                    "1863",
                    "1864",
                    "1865",
                    "1866",
                    "1867",
                    "1868",
                    "1869",
                    "1870",
                    "1871",
                    "1872",
                    "1873",
                    "1874",
                    "1875",
                    "1876",
                    "1877",
                    "1878",
                    "1879",
                    "1880",
                    "1881",
                    "1882",
                    "1883",
                    "1884",
                    "1885",
                    "1886",
                    "1887",
                    "1888",
                    "1889",
                    "1890",
                    "1891",
                    "1892",
                    "1893",
                    "1894",
                    "1895",
                    "1896",
                    "1897",
                    "1898",
                    "1899",
                    "1900",
                    "1901",
                    "1902",
                    "1903",
                    "1904",
                    "1905",
                    "1906",
                    "1907",
                    "1908",
                    "1909",
                    "1910",
                    "1911",
                    "1912",
                    "1913",
                    "1914",
                    "1915",
                    "1916",
                    "1917",
                    "1918",
                    "1919",
                    "1920",
                    "1921",
                    "1922",
                    "1923",
                    "1924",
                    "1925",
                    "1926",
                    "1927",
                    "1928",
                    "1929",
                    "1930",
                    "1931",
                    "1932",
                    "1933",
                    "1934",
                    "1935",
                    "1936",
                    "1937",
                    "1938",
                    "1939",
                    "1940",
                    "1941",
                    "1942",
                    "1943",
                    "1944",
                    "1945",
                    "1946",
                    "1947",
                    "1948",
                    "1949",
                    "1950",
                    "1951",
                    "1952",
                    "1953",
                    "1954",
                    "1955",
                    "1956",
                    "1957",
                    "1958",
                    "1959",
                    "1960",
                    "1961",
                    "1962",
                    "1963",
                    "1964",
                    "1965",
                    "1966",
                    "1967",
                    "1968",
                    "1969",
                    "1970",
                    "1971",
                    "1972",
                    "1973",
                    "1974",
                    "1975",
                    "1976",
                    "1977",
                    "1978",
                    "1979",
                    "1980",
                    "1981",
                    "1982",
                    "1983",
                    "1984",
                    "1985",
                    "1986",
                    "1987",
                    "1988",
                    "1989",
                    "1990",
                    "1991",
                    "1992",
                    "1993",
                    "1994",
                    "1995",
                    "1996",
                    "1997",
                    "1998",
                    "1999",
                    "2000",
                    "2001",
                    "2002",
                    "2003",
                    "2004",
                    "2005",
                    "2006",
                    "2007",
                    "2008",
                    "2009",
                    "2010",
                    "2011",
                    "2012",
                    "2013"
                  ],
                  "xaxis": "x",
                  "y": [
                    20.1885,
                    20.95825,
                    20.28477777777778,
                    20.798636363636362,
                    21.148333333333333,
                    20.966416666666667,
                    21.329833333333333,
                    21.188916666666668,
                    21.2455,
                    21.1975,
                    21.155416666666667,
                    21.309,
                    21.04425,
                    21.217833333333335,
                    21.417,
                    21.643833333333333,
                    21.44758333333333,
                    21.521583333333336,
                    21.42833333333333,
                    21.459666666666667,
                    21.206916666666668,
                    21.15758333333333,
                    21.126166666666666,
                    21.054416666666665,
                    21.087333333333333,
                    21.641083333333338,
                    22.380666666666666,
                    21.18466666666667,
                    21.66125,
                    21.7925,
                    21.64741666666667,
                    21.520666666666667,
                    21.549833333333336,
                    21.421916666666664,
                    21.450166666666664,
                    21.155,
                    21.954916666666666,
                    22.174083333333332,
                    21.479916666666668,
                    20.834,
                    21.541749999999997,
                    21.646416666666667,
                    20.917416666666664,
                    21.233083333333333,
                    21.3965,
                    21.8175,
                    21.570916666666665,
                    21.186916666666665,
                    21.766583333333333,
                    21.582583333333332,
                    21.597916666666666,
                    21.176750000000002,
                    20.970833333333335,
                    21.1775,
                    21.885,
                    21.2945,
                    20.8645,
                    21.05275,
                    21.569083333333335,
                    21.347916666666666,
                    21.826166666666666,
                    21.187833333333334,
                    22.186333333333334,
                    22.144833333333334,
                    21.504416666666668,
                    20.7715,
                    21.369333333333334,
                    21.82858333333333,
                    21.324416666666668,
                    21.680083333333332,
                    21.449749999999998,
                    21.536833333333334,
                    21.212583333333335,
                    21.097833333333334,
                    21.702583333333333,
                    21.397833333333335,
                    22.01908333333333,
                    21.10125,
                    21.640833333333333,
                    21.239083333333333,
                    21.459666666666667,
                    21.386499999999998,
                    21.50708333333333,
                    21.39741666666667,
                    21.716333333333335,
                    21.52733333333333,
                    22.08875,
                    21.34,
                    21.681583333333336,
                    21.36283333333333,
                    21.926416666666668,
                    21.31716666666667,
                    21.53016666666667,
                    21.604083333333335,
                    21.24125,
                    21.59025,
                    21.459500000000002,
                    20.984916666666667,
                    21.322916666666668,
                    21.557000000000002,
                    21.487,
                    21.47458333333333,
                    21.558666666666667,
                    21.563083333333335,
                    21.006,
                    21.902666666666665,
                    21.997249999999998,
                    22.098166666666668,
                    21.2105,
                    21.964250000000003,
                    21.802916666666665,
                    21.697833333333335,
                    21.65075,
                    22.092083333333335,
                    21.361,
                    21.625416666666666,
                    21.462166666666665,
                    21.847583333333333,
                    21.775750000000002,
                    21.65433333333333,
                    22.012083333333333,
                    22.41275,
                    21.238083333333332,
                    21.692666666666668,
                    21.193416666666668,
                    21.8925,
                    21.605166666666666,
                    22.252333333333336,
                    22.586166666666667,
                    22.164083333333334,
                    21.9105,
                    22.261083333333332,
                    21.516916666666663,
                    22.04341666666667,
                    22.093249999999998,
                    22.07241666666667,
                    22.63008333333333,
                    21.86283333333333,
                    22.35575,
                    22.48741666666667,
                    21.932583333333337,
                    22.16016666666667,
                    22.03025,
                    21.955166666666667,
                    22.325333333333333,
                    22.086,
                    22.664833333333334,
                    22.0645,
                    21.709666666666667,
                    21.79275,
                    22.46083333333333,
                    22.44033333333333,
                    22.286916666666666,
                    22.896833333333333,
                    22.264416666666666,
                    22.48675,
                    22.225916666666667,
                    22.690583333333333,
                    22.078166666666664,
                    21.767,
                    22.0245,
                    22.142875
                  ],
                  "yaxis": "y"
                }
              ],
              "layout": {
                "legend": {
                  "title": {
                    "text": "Country"
                  },
                  "tracegroupgap": 0
                },
                "template": {
                  "data": {
                    "bar": [
                      {
                        "error_x": {
                          "color": "#f2f5fa"
                        },
                        "error_y": {
                          "color": "#f2f5fa"
                        },
                        "marker": {
                          "line": {
                            "color": "rgb(17,17,17)",
                            "width": 0.5
                          },
                          "pattern": {
                            "fillmode": "overlay",
                            "size": 10,
                            "solidity": 0.2
                          }
                        },
                        "type": "bar"
                      }
                    ],
                    "barpolar": [
                      {
                        "marker": {
                          "line": {
                            "color": "rgb(17,17,17)",
                            "width": 0.5
                          },
                          "pattern": {
                            "fillmode": "overlay",
                            "size": 10,
                            "solidity": 0.2
                          }
                        },
                        "type": "barpolar"
                      }
                    ],
                    "carpet": [
                      {
                        "aaxis": {
                          "endlinecolor": "#A2B1C6",
                          "gridcolor": "#506784",
                          "linecolor": "#506784",
                          "minorgridcolor": "#506784",
                          "startlinecolor": "#A2B1C6"
                        },
                        "baxis": {
                          "endlinecolor": "#A2B1C6",
                          "gridcolor": "#506784",
                          "linecolor": "#506784",
                          "minorgridcolor": "#506784",
                          "startlinecolor": "#A2B1C6"
                        },
                        "type": "carpet"
                      }
                    ],
                    "choropleth": [
                      {
                        "colorbar": {
                          "outlinewidth": 0,
                          "ticks": ""
                        },
                        "type": "choropleth"
                      }
                    ],
                    "contour": [
                      {
                        "colorbar": {
                          "outlinewidth": 0,
                          "ticks": ""
                        },
                        "colorscale": [
                          [
                            0,
                            "#0d0887"
                          ],
                          [
                            0.1111111111111111,
                            "#46039f"
                          ],
                          [
                            0.2222222222222222,
                            "#7201a8"
                          ],
                          [
                            0.3333333333333333,
                            "#9c179e"
                          ],
                          [
                            0.4444444444444444,
                            "#bd3786"
                          ],
                          [
                            0.5555555555555556,
                            "#d8576b"
                          ],
                          [
                            0.6666666666666666,
                            "#ed7953"
                          ],
                          [
                            0.7777777777777778,
                            "#fb9f3a"
                          ],
                          [
                            0.8888888888888888,
                            "#fdca26"
                          ],
                          [
                            1,
                            "#f0f921"
                          ]
                        ],
                        "type": "contour"
                      }
                    ],
                    "contourcarpet": [
                      {
                        "colorbar": {
                          "outlinewidth": 0,
                          "ticks": ""
                        },
                        "type": "contourcarpet"
                      }
                    ],
                    "heatmap": [
                      {
                        "colorbar": {
                          "outlinewidth": 0,
                          "ticks": ""
                        },
                        "colorscale": [
                          [
                            0,
                            "#0d0887"
                          ],
                          [
                            0.1111111111111111,
                            "#46039f"
                          ],
                          [
                            0.2222222222222222,
                            "#7201a8"
                          ],
                          [
                            0.3333333333333333,
                            "#9c179e"
                          ],
                          [
                            0.4444444444444444,
                            "#bd3786"
                          ],
                          [
                            0.5555555555555556,
                            "#d8576b"
                          ],
                          [
                            0.6666666666666666,
                            "#ed7953"
                          ],
                          [
                            0.7777777777777778,
                            "#fb9f3a"
                          ],
                          [
                            0.8888888888888888,
                            "#fdca26"
                          ],
                          [
                            1,
                            "#f0f921"
                          ]
                        ],
                        "type": "heatmap"
                      }
                    ],
                    "heatmapgl": [
                      {
                        "colorbar": {
                          "outlinewidth": 0,
                          "ticks": ""
                        },
                        "colorscale": [
                          [
                            0,
                            "#0d0887"
                          ],
                          [
                            0.1111111111111111,
                            "#46039f"
                          ],
                          [
                            0.2222222222222222,
                            "#7201a8"
                          ],
                          [
                            0.3333333333333333,
                            "#9c179e"
                          ],
                          [
                            0.4444444444444444,
                            "#bd3786"
                          ],
                          [
                            0.5555555555555556,
                            "#d8576b"
                          ],
                          [
                            0.6666666666666666,
                            "#ed7953"
                          ],
                          [
                            0.7777777777777778,
                            "#fb9f3a"
                          ],
                          [
                            0.8888888888888888,
                            "#fdca26"
                          ],
                          [
                            1,
                            "#f0f921"
                          ]
                        ],
                        "type": "heatmapgl"
                      }
                    ],
                    "histogram": [
                      {
                        "marker": {
                          "pattern": {
                            "fillmode": "overlay",
                            "size": 10,
                            "solidity": 0.2
                          }
                        },
                        "type": "histogram"
                      }
                    ],
                    "histogram2d": [
                      {
                        "colorbar": {
                          "outlinewidth": 0,
                          "ticks": ""
                        },
                        "colorscale": [
                          [
                            0,
                            "#0d0887"
                          ],
                          [
                            0.1111111111111111,
                            "#46039f"
                          ],
                          [
                            0.2222222222222222,
                            "#7201a8"
                          ],
                          [
                            0.3333333333333333,
                            "#9c179e"
                          ],
                          [
                            0.4444444444444444,
                            "#bd3786"
                          ],
                          [
                            0.5555555555555556,
                            "#d8576b"
                          ],
                          [
                            0.6666666666666666,
                            "#ed7953"
                          ],
                          [
                            0.7777777777777778,
                            "#fb9f3a"
                          ],
                          [
                            0.8888888888888888,
                            "#fdca26"
                          ],
                          [
                            1,
                            "#f0f921"
                          ]
                        ],
                        "type": "histogram2d"
                      }
                    ],
                    "histogram2dcontour": [
                      {
                        "colorbar": {
                          "outlinewidth": 0,
                          "ticks": ""
                        },
                        "colorscale": [
                          [
                            0,
                            "#0d0887"
                          ],
                          [
                            0.1111111111111111,
                            "#46039f"
                          ],
                          [
                            0.2222222222222222,
                            "#7201a8"
                          ],
                          [
                            0.3333333333333333,
                            "#9c179e"
                          ],
                          [
                            0.4444444444444444,
                            "#bd3786"
                          ],
                          [
                            0.5555555555555556,
                            "#d8576b"
                          ],
                          [
                            0.6666666666666666,
                            "#ed7953"
                          ],
                          [
                            0.7777777777777778,
                            "#fb9f3a"
                          ],
                          [
                            0.8888888888888888,
                            "#fdca26"
                          ],
                          [
                            1,
                            "#f0f921"
                          ]
                        ],
                        "type": "histogram2dcontour"
                      }
                    ],
                    "mesh3d": [
                      {
                        "colorbar": {
                          "outlinewidth": 0,
                          "ticks": ""
                        },
                        "type": "mesh3d"
                      }
                    ],
                    "parcoords": [
                      {
                        "line": {
                          "colorbar": {
                            "outlinewidth": 0,
                            "ticks": ""
                          }
                        },
                        "type": "parcoords"
                      }
                    ],
                    "pie": [
                      {
                        "automargin": true,
                        "type": "pie"
                      }
                    ],
                    "scatter": [
                      {
                        "marker": {
                          "line": {
                            "color": "#283442"
                          }
                        },
                        "type": "scatter"
                      }
                    ],
                    "scatter3d": [
                      {
                        "line": {
                          "colorbar": {
                            "outlinewidth": 0,
                            "ticks": ""
                          }
                        },
                        "marker": {
                          "colorbar": {
                            "outlinewidth": 0,
                            "ticks": ""
                          }
                        },
                        "type": "scatter3d"
                      }
                    ],
                    "scattercarpet": [
                      {
                        "marker": {
                          "colorbar": {
                            "outlinewidth": 0,
                            "ticks": ""
                          }
                        },
                        "type": "scattercarpet"
                      }
                    ],
                    "scattergeo": [
                      {
                        "marker": {
                          "colorbar": {
                            "outlinewidth": 0,
                            "ticks": ""
                          }
                        },
                        "type": "scattergeo"
                      }
                    ],
                    "scattergl": [
                      {
                        "marker": {
                          "line": {
                            "color": "#283442"
                          }
                        },
                        "type": "scattergl"
                      }
                    ],
                    "scattermapbox": [
                      {
                        "marker": {
                          "colorbar": {
                            "outlinewidth": 0,
                            "ticks": ""
                          }
                        },
                        "type": "scattermapbox"
                      }
                    ],
                    "scatterpolar": [
                      {
                        "marker": {
                          "colorbar": {
                            "outlinewidth": 0,
                            "ticks": ""
                          }
                        },
                        "type": "scatterpolar"
                      }
                    ],
                    "scatterpolargl": [
                      {
                        "marker": {
                          "colorbar": {
                            "outlinewidth": 0,
                            "ticks": ""
                          }
                        },
                        "type": "scatterpolargl"
                      }
                    ],
                    "scatterternary": [
                      {
                        "marker": {
                          "colorbar": {
                            "outlinewidth": 0,
                            "ticks": ""
                          }
                        },
                        "type": "scatterternary"
                      }
                    ],
                    "surface": [
                      {
                        "colorbar": {
                          "outlinewidth": 0,
                          "ticks": ""
                        },
                        "colorscale": [
                          [
                            0,
                            "#0d0887"
                          ],
                          [
                            0.1111111111111111,
                            "#46039f"
                          ],
                          [
                            0.2222222222222222,
                            "#7201a8"
                          ],
                          [
                            0.3333333333333333,
                            "#9c179e"
                          ],
                          [
                            0.4444444444444444,
                            "#bd3786"
                          ],
                          [
                            0.5555555555555556,
                            "#d8576b"
                          ],
                          [
                            0.6666666666666666,
                            "#ed7953"
                          ],
                          [
                            0.7777777777777778,
                            "#fb9f3a"
                          ],
                          [
                            0.8888888888888888,
                            "#fdca26"
                          ],
                          [
                            1,
                            "#f0f921"
                          ]
                        ],
                        "type": "surface"
                      }
                    ],
                    "table": [
                      {
                        "cells": {
                          "fill": {
                            "color": "#506784"
                          },
                          "line": {
                            "color": "rgb(17,17,17)"
                          }
                        },
                        "header": {
                          "fill": {
                            "color": "#2a3f5f"
                          },
                          "line": {
                            "color": "rgb(17,17,17)"
                          }
                        },
                        "type": "table"
                      }
                    ]
                  },
                  "layout": {
                    "annotationdefaults": {
                      "arrowcolor": "#f2f5fa",
                      "arrowhead": 0,
                      "arrowwidth": 1
                    },
                    "autotypenumbers": "strict",
                    "coloraxis": {
                      "colorbar": {
                        "outlinewidth": 0,
                        "ticks": ""
                      }
                    },
                    "colorscale": {
                      "diverging": [
                        [
                          0,
                          "#8e0152"
                        ],
                        [
                          0.1,
                          "#c51b7d"
                        ],
                        [
                          0.2,
                          "#de77ae"
                        ],
                        [
                          0.3,
                          "#f1b6da"
                        ],
                        [
                          0.4,
                          "#fde0ef"
                        ],
                        [
                          0.5,
                          "#f7f7f7"
                        ],
                        [
                          0.6,
                          "#e6f5d0"
                        ],
                        [
                          0.7,
                          "#b8e186"
                        ],
                        [
                          0.8,
                          "#7fbc41"
                        ],
                        [
                          0.9,
                          "#4d9221"
                        ],
                        [
                          1,
                          "#276419"
                        ]
                      ],
                      "sequential": [
                        [
                          0,
                          "#0d0887"
                        ],
                        [
                          0.1111111111111111,
                          "#46039f"
                        ],
                        [
                          0.2222222222222222,
                          "#7201a8"
                        ],
                        [
                          0.3333333333333333,
                          "#9c179e"
                        ],
                        [
                          0.4444444444444444,
                          "#bd3786"
                        ],
                        [
                          0.5555555555555556,
                          "#d8576b"
                        ],
                        [
                          0.6666666666666666,
                          "#ed7953"
                        ],
                        [
                          0.7777777777777778,
                          "#fb9f3a"
                        ],
                        [
                          0.8888888888888888,
                          "#fdca26"
                        ],
                        [
                          1,
                          "#f0f921"
                        ]
                      ],
                      "sequentialminus": [
                        [
                          0,
                          "#0d0887"
                        ],
                        [
                          0.1111111111111111,
                          "#46039f"
                        ],
                        [
                          0.2222222222222222,
                          "#7201a8"
                        ],
                        [
                          0.3333333333333333,
                          "#9c179e"
                        ],
                        [
                          0.4444444444444444,
                          "#bd3786"
                        ],
                        [
                          0.5555555555555556,
                          "#d8576b"
                        ],
                        [
                          0.6666666666666666,
                          "#ed7953"
                        ],
                        [
                          0.7777777777777778,
                          "#fb9f3a"
                        ],
                        [
                          0.8888888888888888,
                          "#fdca26"
                        ],
                        [
                          1,
                          "#f0f921"
                        ]
                      ]
                    },
                    "colorway": [
                      "#636efa",
                      "#EF553B",
                      "#00cc96",
                      "#ab63fa",
                      "#FFA15A",
                      "#19d3f3",
                      "#FF6692",
                      "#B6E880",
                      "#FF97FF",
                      "#FECB52"
                    ],
                    "font": {
                      "color": "#f2f5fa"
                    },
                    "geo": {
                      "bgcolor": "rgb(17,17,17)",
                      "lakecolor": "rgb(17,17,17)",
                      "landcolor": "rgb(17,17,17)",
                      "showlakes": true,
                      "showland": true,
                      "subunitcolor": "#506784"
                    },
                    "hoverlabel": {
                      "align": "left"
                    },
                    "hovermode": "closest",
                    "mapbox": {
                      "style": "dark"
                    },
                    "paper_bgcolor": "rgb(17,17,17)",
                    "plot_bgcolor": "rgb(17,17,17)",
                    "polar": {
                      "angularaxis": {
                        "gridcolor": "#506784",
                        "linecolor": "#506784",
                        "ticks": ""
                      },
                      "bgcolor": "rgb(17,17,17)",
                      "radialaxis": {
                        "gridcolor": "#506784",
                        "linecolor": "#506784",
                        "ticks": ""
                      }
                    },
                    "scene": {
                      "xaxis": {
                        "backgroundcolor": "rgb(17,17,17)",
                        "gridcolor": "#506784",
                        "gridwidth": 2,
                        "linecolor": "#506784",
                        "showbackground": true,
                        "ticks": "",
                        "zerolinecolor": "#C8D4E3"
                      },
                      "yaxis": {
                        "backgroundcolor": "rgb(17,17,17)",
                        "gridcolor": "#506784",
                        "gridwidth": 2,
                        "linecolor": "#506784",
                        "showbackground": true,
                        "ticks": "",
                        "zerolinecolor": "#C8D4E3"
                      },
                      "zaxis": {
                        "backgroundcolor": "rgb(17,17,17)",
                        "gridcolor": "#506784",
                        "gridwidth": 2,
                        "linecolor": "#506784",
                        "showbackground": true,
                        "ticks": "",
                        "zerolinecolor": "#C8D4E3"
                      }
                    },
                    "shapedefaults": {
                      "line": {
                        "color": "#f2f5fa"
                      }
                    },
                    "sliderdefaults": {
                      "bgcolor": "#C8D4E3",
                      "bordercolor": "rgb(17,17,17)",
                      "borderwidth": 1,
                      "tickwidth": 0
                    },
                    "ternary": {
                      "aaxis": {
                        "gridcolor": "#506784",
                        "linecolor": "#506784",
                        "ticks": ""
                      },
                      "baxis": {
                        "gridcolor": "#506784",
                        "linecolor": "#506784",
                        "ticks": ""
                      },
                      "bgcolor": "rgb(17,17,17)",
                      "caxis": {
                        "gridcolor": "#506784",
                        "linecolor": "#506784",
                        "ticks": ""
                      }
                    },
                    "title": {
                      "x": 0.05
                    },
                    "updatemenudefaults": {
                      "bgcolor": "#506784",
                      "borderwidth": 0
                    },
                    "xaxis": {
                      "automargin": true,
                      "gridcolor": "#283442",
                      "linecolor": "#506784",
                      "ticks": "",
                      "title": {
                        "standoff": 15
                      },
                      "zerolinecolor": "#283442",
                      "zerolinewidth": 2
                    },
                    "yaxis": {
                      "automargin": true,
                      "gridcolor": "#283442",
                      "linecolor": "#506784",
                      "ticks": "",
                      "title": {
                        "standoff": 15
                      },
                      "zerolinecolor": "#283442",
                      "zerolinewidth": 2
                    }
                  }
                },
                "title": {
                  "text": "Average Land Temperature in World"
                },
                "xaxis": {
                  "anchor": "y",
                  "domain": [
                    0,
                    1
                  ],
                  "title": {
                    "text": "years"
                  }
                },
                "yaxis": {
                  "anchor": "x",
                  "domain": [
                    0,
                    1
                  ],
                  "title": {
                    "text": "value"
                  }
                }
              }
            },
            "text/html": [
              "<div>                            <div id=\"7219adbe-8dc0-49e6-81b4-24007910fa7f\" class=\"plotly-graph-div\" style=\"height:525px; width:100%;\"></div>            <script type=\"text/javascript\">                require([\"plotly\"], function(Plotly) {                    window.PLOTLYENV=window.PLOTLYENV || {};                                    if (document.getElementById(\"7219adbe-8dc0-49e6-81b4-24007910fa7f\")) {                    Plotly.newPlot(                        \"7219adbe-8dc0-49e6-81b4-24007910fa7f\",                        [{\"hovertemplate\":\"Country=United States<br>variable=AverageTemperature<br>years=%{x}<br>value=%{y}<extra></extra>\",\"legendgroup\":\"United States\",\"line\":{\"color\":\"#636efa\",\"dash\":\"solid\"},\"marker\":{\"symbol\":\"circle\"},\"mode\":\"lines\",\"name\":\"United States\",\"showlegend\":true,\"x\":[\"1768\",\"1769\",\"1774\",\"1775\",\"1776\",\"1777\",\"1778\",\"1779\",\"1781\",\"1782\",\"1796\",\"1797\",\"1811\",\"1812\",\"1813\",\"1814\",\"1815\",\"1816\",\"1817\",\"1818\",\"1819\",\"1820\",\"1821\",\"1822\",\"1823\",\"1824\",\"1825\",\"1826\",\"1827\",\"1828\",\"1829\",\"1830\",\"1831\",\"1832\",\"1833\",\"1834\",\"1835\",\"1836\",\"1837\",\"1838\",\"1839\",\"1840\",\"1841\",\"1842\",\"1843\",\"1844\",\"1845\",\"1846\",\"1847\",\"1848\",\"1849\",\"1850\",\"1851\",\"1852\",\"1853\",\"1854\",\"1855\",\"1856\",\"1857\",\"1858\",\"1859\",\"1860\",\"1861\",\"1862\",\"1863\",\"1864\",\"1865\",\"1866\",\"1867\",\"1868\",\"1869\",\"1870\",\"1871\",\"1872\",\"1873\",\"1874\",\"1875\",\"1876\",\"1877\",\"1878\",\"1879\",\"1880\",\"1881\",\"1882\",\"1883\",\"1884\",\"1885\",\"1886\",\"1887\",\"1888\",\"1889\",\"1890\",\"1891\",\"1892\",\"1893\",\"1894\",\"1895\",\"1896\",\"1897\",\"1898\",\"1899\",\"1900\",\"1901\",\"1902\",\"1903\",\"1904\",\"1905\",\"1906\",\"1907\",\"1908\",\"1909\",\"1910\",\"1911\",\"1912\",\"1913\",\"1914\",\"1915\",\"1916\",\"1917\",\"1918\",\"1919\",\"1920\",\"1921\",\"1922\",\"1923\",\"1924\",\"1925\",\"1926\",\"1927\",\"1928\",\"1929\",\"1930\",\"1931\",\"1932\",\"1933\",\"1934\",\"1935\",\"1936\",\"1937\",\"1938\",\"1939\",\"1940\",\"1941\",\"1942\",\"1943\",\"1944\",\"1945\",\"1946\",\"1947\",\"1948\",\"1949\",\"1950\",\"1951\",\"1952\",\"1953\",\"1954\",\"1955\",\"1956\",\"1957\",\"1958\",\"1959\",\"1960\",\"1961\",\"1962\",\"1963\",\"1964\",\"1965\",\"1966\",\"1967\",\"1968\",\"1969\",\"1970\",\"1971\",\"1972\",\"1973\",\"1974\",\"1975\",\"1976\",\"1977\",\"1978\",\"1979\",\"1980\",\"1981\",\"1982\",\"1983\",\"1984\",\"1985\",\"1986\",\"1987\",\"1988\",\"1989\",\"1990\",\"1991\",\"1992\",\"1993\",\"1994\",\"1995\",\"1996\",\"1997\",\"1998\",\"1999\",\"2000\",\"2001\",\"2002\",\"2003\",\"2004\",\"2005\",\"2006\",\"2007\",\"2008\",\"2009\",\"2010\",\"2011\",\"2012\",\"2013\"],\"xaxis\":\"x\",\"y\":[5.57275,10.4465,1.6029999999999998,9.499166666666666,8.11,8.30475,5.361999999999999,-0.7136666666666663,6.25325,7.606428571428571,12.231,6.356833333333333,8.0434,7.012666666666667,9.918888888888889,3.784333333333334,7.501333333333334,4.396625,7.229916666666667,6.2747,-2.7746666666666666,7.563833333333332,8.004083333333334,8.386833333333334,7.9110000000000005,8.50225,8.9665,8.578999999999999,9.102,8.8485,8.38925,9.215083333333334,7.72075,8.247416666666668,8.811916666666667,8.829583333333334,7.53925,7.5639166666666675,7.984416666666667,7.548666666666666,8.522166666666665,8.2515,8.14925,8.358333333333334,7.783666666666668,8.082833333333333,8.408916666666666,9.136333333333333,7.907083333333333,8.016833333333333,8.129166666666666,8.248333333333333,8.6575,8.183083333333334,8.459916666666667,8.821250000000001,8.459416666666668,7.94325,8.140333333333333,8.412833333333333,8.016833333333333,8.580916666666667,8.6505,8.214,8.446250000000001,8.381083333333335,8.495666666666667,8.334333333333333,8.509,8.207416666666667,8.31125,8.8295,8.70675,8.00075,8.063083333333333,8.768,7.849666666666667,8.099,8.696583333333335,9.017166666666666,8.68325,8.110333333333333,8.6435,8.369916666666667,7.9422500000000005,7.957999999999999,8.158416666666666,8.181833333333334,8.143583333333334,8.172833333333333,8.798083333333333,8.559166666666668,8.31675,8.177999999999999,8.171,8.46675,7.847333333333332,8.483583333333334,8.473166666666666,8.427916666666667,8.166833333333333,9.021583333333334,8.494916666666667,8.453999999999999,7.977250000000001,8.200666666666665,8.402333333333333,8.560083333333333,8.394,8.755583333333334,8.221833333333334,8.757916666666667,8.737916666666667,8.140916666666667,8.552166666666666,8.8765,8.648249999999999,8.180083333333334,7.669499999999999,8.50125,8.538,8.1845,9.595666666666666,8.768166666666668,8.760333333333334,8.052333333333333,9.016416666666666,9.14025,8.719333333333333,8.876,8.4395,8.737666666666668,9.56075,8.5395,9.030583333333334,9.826583333333334,8.7425,8.92225,8.73075,9.471833333333334,9.3075,9.097166666666668,9.266083333333333,8.919333333333332,9.0035,8.898166666666667,8.671249999999999,9.179583333333333,8.836083333333333,8.481666666666667,8.888083333333332,8.656416666666667,8.416583333333334,8.979416666666667,9.530416666666666,9.410583333333333,8.517166666666666,8.699916666666667,9.126333333333333,8.970166666666668,8.825333333333333,8.69225,8.642000000000001,8.9565,9.08,8.491666666666667,8.647666666666668,8.483,8.902,8.55325,8.770833333333334,8.673,8.4425,8.428083333333333,8.934666666666667,8.815916666666666,8.431,8.65125,9.269833333333333,8.751416666666666,8.571583333333333,9.1355,9.7215,8.5395,8.912333333333333,8.811166666666667,8.587000000000002,9.5595,9.628166666666667,9.275333333333334,8.873083333333334,9.521583333333334,9.493666666666666,9.056333333333333,8.86725,9.270333333333333,9.331000000000001,8.754333333333333,9.172916666666667,10.141166666666667,9.567,9.64975,9.785583333333333,9.816166666666666,9.755083333333333,9.6675,9.892666666666667,9.9745,9.8375,8.951416666666667,9.137083333333333,9.505583333333334,9.549916666666666,10.261083333333334,11.297111111111112],\"yaxis\":\"y\",\"type\":\"scattergl\"},{\"hovertemplate\":\"Country=India<br>variable=AverageTemperature<br>years=%{x}<br>value=%{y}<extra></extra>\",\"legendgroup\":\"India\",\"line\":{\"color\":\"#EF553B\",\"dash\":\"solid\"},\"marker\":{\"symbol\":\"circle\"},\"mode\":\"lines\",\"name\":\"India\",\"showlegend\":true,\"x\":[\"1796\",\"1797\",\"1798\",\"1799\",\"1800\",\"1801\",\"1802\",\"1803\",\"1804\",\"1805\",\"1806\",\"1807\",\"1813\",\"1814\",\"1815\",\"1816\",\"1817\",\"1818\",\"1819\",\"1820\",\"1821\",\"1822\",\"1823\",\"1824\",\"1825\",\"1826\",\"1827\",\"1828\",\"1829\",\"1830\",\"1831\",\"1832\",\"1833\",\"1834\",\"1835\",\"1836\",\"1837\",\"1838\",\"1839\",\"1840\",\"1841\",\"1842\",\"1843\",\"1844\",\"1845\",\"1846\",\"1847\",\"1848\",\"1849\",\"1850\",\"1851\",\"1852\",\"1853\",\"1854\",\"1855\",\"1856\",\"1857\",\"1858\",\"1859\",\"1860\",\"1861\",\"1862\",\"1865\",\"1866\",\"1867\",\"1868\",\"1869\",\"1870\",\"1871\",\"1872\",\"1873\",\"1874\",\"1875\",\"1876\",\"1877\",\"1878\",\"1879\",\"1880\",\"1881\",\"1882\",\"1883\",\"1884\",\"1885\",\"1886\",\"1887\",\"1888\",\"1889\",\"1890\",\"1891\",\"1892\",\"1893\",\"1894\",\"1895\",\"1896\",\"1897\",\"1898\",\"1899\",\"1900\",\"1901\",\"1902\",\"1903\",\"1904\",\"1905\",\"1906\",\"1907\",\"1908\",\"1909\",\"1910\",\"1911\",\"1912\",\"1913\",\"1914\",\"1915\",\"1916\",\"1917\",\"1918\",\"1919\",\"1920\",\"1921\",\"1922\",\"1923\",\"1924\",\"1925\",\"1926\",\"1927\",\"1928\",\"1929\",\"1930\",\"1931\",\"1932\",\"1933\",\"1934\",\"1935\",\"1936\",\"1937\",\"1938\",\"1939\",\"1940\",\"1941\",\"1942\",\"1943\",\"1944\",\"1945\",\"1946\",\"1947\",\"1948\",\"1949\",\"1950\",\"1951\",\"1952\",\"1953\",\"1954\",\"1955\",\"1956\",\"1957\",\"1958\",\"1959\",\"1960\",\"1961\",\"1962\",\"1963\",\"1964\",\"1965\",\"1966\",\"1967\",\"1968\",\"1969\",\"1970\",\"1971\",\"1972\",\"1973\",\"1974\",\"1975\",\"1976\",\"1977\",\"1978\",\"1979\",\"1980\",\"1981\",\"1982\",\"1983\",\"1984\",\"1985\",\"1986\",\"1987\",\"1988\",\"1989\",\"1990\",\"1991\",\"1992\",\"1993\",\"1994\",\"1995\",\"1996\",\"1997\",\"1998\",\"1999\",\"2000\",\"2001\",\"2002\",\"2003\",\"2004\",\"2005\",\"2006\",\"2007\",\"2008\",\"2009\",\"2010\",\"2011\",\"2012\",\"2013\"],\"xaxis\":\"x\",\"y\":[23.675250000000002,24.8399,23.2733,23.949416666666664,23.911916666666666,23.1751,24.384333333333334,24.145750000000003,24.492416666666667,24.025500000000005,23.92616666666667,23.4996,23.27125,22.657363636363637,22.80775,22.424000000000003,22.5955,22.953000000000003,22.653583333333334,22.84075,23.527583333333336,23.597416666666664,23.471083333333336,24.04975,23.796083333333332,23.858999999999998,23.956416666666666,23.623666666666665,23.4435,23.67233333333333,23.241666666666664,23.4586,23.54825,23.5295,22.658083333333334,23.25916666666667,23.182916666666667,23.192916666666665,23.24475,23.445166666666665,23.26075,23.41425,23.31233333333333,23.094083333333334,23.343166666666665,23.8025,23.31833333333333,23.22758333333333,23.224249999999998,23.504583333333333,23.485166666666668,23.378333333333334,23.66541666666667,23.759083333333336,23.758750000000003,23.292,22.9645,23.600083333333334,23.671083333333332,23.396833333333333,23.299333333333337,18.659666666666666,23.7895,23.823000000000004,23.89816666666667,23.684083333333334,23.733333333333334,23.535166666666665,23.615166666666667,23.626833333333334,23.701833333333337,23.642583333333334,23.7555,23.725916666666667,23.88275,24.131083333333333,23.601083333333335,23.86075,23.677833333333336,23.5885,23.340833333333332,23.24066666666667,23.389916666666668,23.644833333333334,23.42216666666667,23.70266666666667,23.988166666666668,23.698416666666663,23.647583333333333,23.989833333333337,22.889833333333332,23.691666666666666,23.800083333333333,24.404416666666666,24.2195,24.063833333333335,24.17175,24.367833333333333,24.08425,24.31866666666667,23.767416666666666,23.7585,23.515,23.88808333333333,23.677083333333332,23.74191666666667,23.661,23.544166666666666,23.869333333333334,24.007083333333338,23.700833333333335,23.8255,24.29008333333333,23.8255,23.081083333333336,23.77175,23.825166666666664,23.955416666666668,24.249250000000004,23.904416666666666,23.90925,24.046000000000003,23.662583333333334,23.847333333333335,23.773750000000003,24.139,23.97141666666667,23.837,24.249333333333336,24.07858333333333,23.560333333333332,23.767416666666666,23.761833333333332,23.834833333333336,23.707916666666666,23.891916666666663,23.99325,23.90225,24.67425,24.2105,23.90516666666667,23.847916666666666,23.671583333333334,24.134416666666667,24.2795,24.19,24.047250000000002,23.659333333333336,24.22066666666667,24.3655,24.561583333333335,24.167166666666663,23.952166666666667,23.899666666666665,24.026416666666666,24.676333333333332,24.266833333333334,24.287166666666668,23.815250000000002,23.88475,24.09575,24.0705,24.09091666666667,24.438583333333337,23.992083333333337,23.86475,24.501166666666666,24.074083333333334,23.634,24.272166666666667,24.386583333333334,24.175749999999997,23.862166666666667,24.199583333333333,24.28891666666667,24.007333333333335,24.553583333333336,24.593083333333336,24.228416666666664,24.21825,23.938000000000002,24.185083333333335,24.486333333333334,24.2945,24.789083333333334,24.72775,24.162333333333333,24.17816666666667,24.311750000000004,24.222916666666666,24.408666666666665,24.29641666666667,24.42975,24.436916666666665,24.04733333333333,24.755416666666665,24.659833333333335,24.498,24.581916666666668,24.913,24.649916666666666,24.634583333333335,24.495416666666667,24.732083333333335,24.649916666666666,24.406000000000002,25.146666666666665,25.050833333333333,24.415583333333334,24.640833333333333,25.413249999999998],\"yaxis\":\"y\",\"type\":\"scattergl\"},{\"hovertemplate\":\"Country=Russia<br>variable=AverageTemperature<br>years=%{x}<br>value=%{y}<extra></extra>\",\"legendgroup\":\"Russia\",\"line\":{\"color\":\"#00cc96\",\"dash\":\"solid\"},\"marker\":{\"symbol\":\"circle\"},\"mode\":\"lines\",\"name\":\"Russia\",\"showlegend\":true,\"x\":[\"1812\",\"1813\",\"1814\",\"1815\",\"1816\",\"1817\",\"1818\",\"1819\",\"1820\",\"1821\",\"1822\",\"1823\",\"1824\",\"1825\",\"1826\",\"1827\",\"1828\",\"1829\",\"1830\",\"1831\",\"1832\",\"1833\",\"1834\",\"1835\",\"1836\",\"1837\",\"1838\",\"1839\",\"1840\",\"1841\",\"1842\",\"1843\",\"1844\",\"1845\",\"1846\",\"1847\",\"1848\",\"1849\",\"1850\",\"1851\",\"1852\",\"1853\",\"1854\",\"1855\",\"1856\",\"1857\",\"1858\",\"1859\",\"1860\",\"1861\",\"1862\",\"1863\",\"1864\",\"1865\",\"1866\",\"1867\",\"1868\",\"1869\",\"1870\",\"1871\",\"1872\",\"1873\",\"1874\",\"1875\",\"1876\",\"1877\",\"1878\",\"1879\",\"1880\",\"1881\",\"1882\",\"1883\",\"1884\",\"1885\",\"1886\",\"1887\",\"1888\",\"1889\",\"1890\",\"1891\",\"1892\",\"1893\",\"1894\",\"1895\",\"1896\",\"1897\",\"1898\",\"1899\",\"1900\",\"1901\",\"1902\",\"1903\",\"1904\",\"1905\",\"1906\",\"1907\",\"1908\",\"1909\",\"1910\",\"1911\",\"1912\",\"1913\",\"1914\",\"1915\",\"1916\",\"1917\",\"1918\",\"1919\",\"1920\",\"1921\",\"1922\",\"1923\",\"1924\",\"1925\",\"1926\",\"1927\",\"1928\",\"1929\",\"1930\",\"1931\",\"1932\",\"1933\",\"1934\",\"1935\",\"1936\",\"1937\",\"1938\",\"1939\",\"1940\",\"1941\",\"1942\",\"1943\",\"1944\",\"1945\",\"1946\",\"1947\",\"1948\",\"1949\",\"1950\",\"1951\",\"1952\",\"1953\",\"1954\",\"1955\",\"1956\",\"1957\",\"1958\",\"1959\",\"1960\",\"1961\",\"1962\",\"1963\",\"1964\",\"1965\",\"1966\",\"1967\",\"1968\",\"1969\",\"1970\",\"1971\",\"1972\",\"1973\",\"1974\",\"1975\",\"1976\",\"1977\",\"1978\",\"1979\",\"1980\",\"1981\",\"1982\",\"1983\",\"1984\",\"1985\",\"1986\",\"1987\",\"1988\",\"1989\",\"1990\",\"1991\",\"1992\",\"1993\",\"1994\",\"1995\",\"1996\",\"1997\",\"1998\",\"1999\",\"2000\",\"2001\",\"2002\",\"2003\",\"2004\",\"2005\",\"2006\",\"2007\",\"2008\",\"2009\",\"2010\",\"2011\",\"2012\",\"2013\"],\"xaxis\":\"x\",\"y\":[-7.046833333333335,-7.084818181818182,-6.4359090909090915,-21.342,-1.6283333333333334,-6.959916666666667,-5.90925,-6.7655,-6.4285,-5.717666666666667,-5.482333333333334,-6.203500000000001,-5.300083333333333,-5.4315,-5.317166666666667,-5.038250000000001,-6.109750000000001,-6.1812499999999995,-5.660416666666667,-6.67325,-6.681166666666667,-6.1645,-5.778166666666667,-6.7855,-6.088916666666667,-6.761666666666667,-6.4182500000000005,-6.437583333333333,-6.437416666666667,-6.433916666666666,-5.994416666666667,-5.097583333333334,-6.22,-6.27475,-5.4339166666666685,-5.930333333333334,-5.708333333333333,-5.5605,-6.4265,-5.669583333333333,-6.039666666666666,-6.276000000000001,-5.49025,-5.556916666666666,-6.08875,-6.487166666666667,-5.592833333333334,-5.228500000000001,-6.619,-6.295333333333333,-6.931416666666667,-5.299166666666667,-6.007583333333334,-5.917083333333333,-5.31975,-5.542999999999999,-5.757916666666667,-5.331916666666667,-6.422833333333333,-6.263333333333333,-6.4214166666666666,-5.687916666666666,-4.888916666666667,-6.085416666666667,-6.0015833333333335,-5.602999999999999,-5.238083333333333,-5.84475,-5.737166666666667,-6.0352500000000004,-5.762250000000001,-5.847083333333334,-6.1816666666666675,-6.683916666666668,-6.129250000000002,-5.886916666666667,-6.412666666666667,-6.1031666666666675,-6.25675,-6.183666666666667,-6.362416666666667,-5.554833333333334,-5.366166666666667,-6.280666666666666,-5.686833333333333,-5.554916666666666,-5.950666666666667,-5.37575,-5.8743333333333325,-5.460083333333333,-7.002750000000002,-5.352583333333333,-5.418499999999999,-5.687083333333334,-5.10175,-6.041416666666667,-6.122583333333334,-5.865083333333334,-5.776583333333334,-5.830333333333333,-6.864416666666667,-5.726416666666668,-5.374166666666667,-6.363,-6.19,-5.528416666666668,-5.747916666666666,-6.186,-5.155,-4.90425,-5.697833333333333,-5.521166666666667,-5.2754166666666675,-5.128916666666666,-5.3745,-5.6569166666666675,-5.7722500000000005,-6.400083333333334,-5.53075,-5.76275,-4.758249999999999,-6.2521666666666675,-4.643000000000001,-5.214333333333333,-5.030083333333334,-5.1489166666666675,-4.552666666666666,-4.716833333333333,-5.628416666666666,-6.476666666666667,-5.604666666666667,-4.1145000000000005,-4.434,-5.394416666666667,-5.855,-5.368083333333335,-4.337583333333334,-4.9277500000000005,-5.6089166666666666,-5.055916666666667,-6.175250000000001,-4.779416666666667,-5.317333333333334,-5.626666666666668,-5.81375,-5.358250000000001,-6.154083333333333,-4.838916666666667,-5.936,-4.960333333333334,-4.416250000000001,-5.008166666666667,-5.785833333333334,-5.907416666666666,-6.309583333333333,-4.36325,-5.5895833333333345,-6.7660833333333334,-5.522583333333333,-4.971166666666668,-5.702000000000001,-4.833583333333333,-5.67175,-4.141083333333334,-5.927,-5.513000000000001,-5.255916666666668,-5.904333333333334,-5.420750000000001,-4.166166666666667,-5.097583333333334,-3.9518333333333344,-5.29425,-5.521166666666666,-4.892250000000001,-6.274000000000001,-4.330416666666667,-4.07325,-4.022916666666666,-4.236999999999999,-4.90325,-4.62175,-4.898416666666667,-3.1301666666666663,-4.810333333333333,-4.2965,-5.281083333333334,-4.829750000000001,-4.5456666666666665,-4.490666666666667,-4.122916666666666,-3.8328333333333333,-4.4935833333333335,-3.4980833333333337,-4.763,-2.975083333333334,-3.3054166666666664,-4.6085,-4.520583333333334,-3.401583333333333,-3.90175,-2.2631250000000005],\"yaxis\":\"y\",\"type\":\"scattergl\"},{\"hovertemplate\":\"Country=China<br>variable=AverageTemperature<br>years=%{x}<br>value=%{y}<extra></extra>\",\"legendgroup\":\"China\",\"line\":{\"color\":\"#ab63fa\",\"dash\":\"solid\"},\"marker\":{\"symbol\":\"circle\"},\"mode\":\"lines\",\"name\":\"China\",\"showlegend\":true,\"x\":[\"1820\",\"1821\",\"1822\",\"1823\",\"1833\",\"1834\",\"1835\",\"1836\",\"1837\",\"1838\",\"1839\",\"1840\",\"1841\",\"1842\",\"1843\",\"1844\",\"1845\",\"1846\",\"1847\",\"1848\",\"1849\",\"1850\",\"1851\",\"1852\",\"1853\",\"1854\",\"1855\",\"1856\",\"1857\",\"1858\",\"1859\",\"1860\",\"1861\",\"1862\",\"1863\",\"1864\",\"1865\",\"1866\",\"1867\",\"1868\",\"1869\",\"1870\",\"1871\",\"1872\",\"1873\",\"1874\",\"1875\",\"1876\",\"1877\",\"1878\",\"1879\",\"1880\",\"1881\",\"1882\",\"1883\",\"1884\",\"1885\",\"1886\",\"1887\",\"1888\",\"1889\",\"1890\",\"1891\",\"1892\",\"1893\",\"1894\",\"1895\",\"1896\",\"1897\",\"1898\",\"1899\",\"1900\",\"1901\",\"1902\",\"1903\",\"1904\",\"1905\",\"1906\",\"1907\",\"1908\",\"1909\",\"1910\",\"1911\",\"1912\",\"1913\",\"1914\",\"1915\",\"1916\",\"1917\",\"1918\",\"1919\",\"1920\",\"1921\",\"1922\",\"1923\",\"1924\",\"1925\",\"1926\",\"1927\",\"1928\",\"1929\",\"1930\",\"1931\",\"1932\",\"1933\",\"1934\",\"1935\",\"1936\",\"1937\",\"1938\",\"1939\",\"1940\",\"1941\",\"1942\",\"1943\",\"1944\",\"1945\",\"1946\",\"1947\",\"1948\",\"1949\",\"1950\",\"1951\",\"1952\",\"1953\",\"1954\",\"1955\",\"1956\",\"1957\",\"1958\",\"1959\",\"1960\",\"1961\",\"1962\",\"1963\",\"1964\",\"1965\",\"1966\",\"1967\",\"1968\",\"1969\",\"1970\",\"1971\",\"1972\",\"1973\",\"1974\",\"1975\",\"1976\",\"1977\",\"1978\",\"1979\",\"1980\",\"1981\",\"1982\",\"1983\",\"1984\",\"1985\",\"1986\",\"1987\",\"1988\",\"1989\",\"1990\",\"1991\",\"1992\",\"1993\",\"1994\",\"1995\",\"1996\",\"1997\",\"1998\",\"1999\",\"2000\",\"2001\",\"2002\",\"2003\",\"2004\",\"2005\",\"2006\",\"2007\",\"2008\",\"2009\",\"2010\",\"2011\",\"2012\",\"2013\"],\"xaxis\":\"x\",\"y\":[5.013599999999999,6.284166666666667,6.341416666666667,7.024363636363637,6.039333333333334,6.268166666666667,5.43425,5.364727272727273,8.136833333333334,5.715,5.519083333333334,6.018583333333333,5.512416666666667,6.2785,6.413916666666666,6.0515,6.023000000000001,6.5874999999999995,6.257083333333333,5.93975,6.1048333333333344,5.907166666666666,5.7828333333333335,5.857500000000001,5.997583333333334,6.473083333333332,6.515583333333333,6.095583333333334,5.959666666666667,6.414083333333333,6.535166666666666,5.609333333333333,5.865166666666667,5.448083333333333,6.444583333333333,5.8015,6.244,6.410416666666666,6.759166666666666,6.415500000000001,6.465833333333333,6.158999999999999,6.371583333333334,6.286333333333334,6.588166666666667,6.6451666666666656,6.505,6.347416666666667,6.181583333333333,6.414416666666667,6.667416666666667,6.383500000000001,6.352833333333333,6.39825,6.026916666666666,5.804833333333334,5.9645,6.114750000000001,6.197166666666668,6.336416666666666,6.31175,6.464333333333333,6.359333333333333,6.060833333333334,6.108333333333333,6.57825,6.035833333333334,6.38625,6.228083333333334,6.562666666666666,6.603416666666667,6.444166666666667,6.5375000000000005,6.744666666666666,6.1745833333333335,6.350833333333334,5.7555000000000005,6.2218333333333335,6.308666666666666,6.286583333333333,6.3812500000000005,6.0715,6.297000000000001,6.076083333333333,6.138416666666667,6.8187500000000005,6.49275,6.349833333333333,6.161416666666667,6.196833333333333,6.607,6.590333333333334,6.50075,6.677333333333333,6.563666666666666,6.704250000000001,6.555666666666667,6.754083333333334,6.667749999999999,6.7746666666666675,6.424083333333333,6.468666666666667,6.3775,6.9055833333333325,6.6299166666666665,6.362833333333334,6.636166666666667,6.111583333333333,6.511083333333333,6.87175,7.0264999999999995,6.961666666666666,7.3455,7.096,7.050916666666667,6.5305,6.8388333333333335,7.354083333333333,6.773833333333333,7.1003333333333325,6.9755,6.641166666666667,6.8694999999999995,6.640916666666667,7.022333333333333,6.3709999999999996,6.701666666666667,6.299333333333333,6.388000000000001,7.033583333333333,7.039666666666666,6.890916666666667,7.050583333333333,6.703666666666667,7.052499999999999,6.746083333333334,6.799916666666667,6.962,6.402583333333333,6.727,6.4559999999999995,6.5681666666666665,6.84625,6.814416666666667,7.209583333333334,6.659416666666666,7.1009166666666665,6.471166666666666,6.851333333333334,7.048166666666667,7.074083333333333,6.950083333333333,6.926416666666667,7.14975,6.925083333333334,6.5179166666666655,6.7402500000000005,6.870166666666666,7.249,7.220833333333332,7.23975,7.636,7.097166666666666,6.858416666666667,6.919416666666667,7.4959999999999996,7.2115833333333335,6.962666666666667,7.367333333333334,8.051833333333333,7.84025,7.238083333333333,7.596416666666666,7.7956666666666665,7.521999999999999,7.71275,7.4135,7.948,8.12675,7.566083333333334,7.8095,7.548416666666667,7.357083333333333,7.077083333333333,9.295],\"yaxis\":\"y\",\"type\":\"scattergl\"},{\"hovertemplate\":\"Country=Japan<br>variable=AverageTemperature<br>years=%{x}<br>value=%{y}<extra></extra>\",\"legendgroup\":\"Japan\",\"line\":{\"color\":\"#FFA15A\",\"dash\":\"solid\"},\"marker\":{\"symbol\":\"circle\"},\"mode\":\"lines\",\"name\":\"Japan\",\"showlegend\":true,\"x\":[\"1841\",\"1842\",\"1843\",\"1844\",\"1845\",\"1846\",\"1847\",\"1848\",\"1849\",\"1850\",\"1851\",\"1852\",\"1853\",\"1854\",\"1855\",\"1856\",\"1857\",\"1858\",\"1859\",\"1860\",\"1861\",\"1862\",\"1863\",\"1864\",\"1865\",\"1866\",\"1867\",\"1868\",\"1869\",\"1870\",\"1871\",\"1872\",\"1873\",\"1874\",\"1875\",\"1876\",\"1877\",\"1878\",\"1879\",\"1880\",\"1881\",\"1882\",\"1883\",\"1884\",\"1885\",\"1886\",\"1887\",\"1888\",\"1889\",\"1890\",\"1891\",\"1892\",\"1893\",\"1894\",\"1895\",\"1896\",\"1897\",\"1898\",\"1899\",\"1900\",\"1901\",\"1902\",\"1903\",\"1904\",\"1905\",\"1906\",\"1907\",\"1908\",\"1909\",\"1910\",\"1911\",\"1912\",\"1913\",\"1914\",\"1915\",\"1916\",\"1917\",\"1918\",\"1919\",\"1920\",\"1921\",\"1922\",\"1923\",\"1924\",\"1925\",\"1926\",\"1927\",\"1928\",\"1929\",\"1930\",\"1931\",\"1932\",\"1933\",\"1934\",\"1935\",\"1936\",\"1937\",\"1938\",\"1939\",\"1940\",\"1941\",\"1942\",\"1943\",\"1944\",\"1945\",\"1946\",\"1947\",\"1948\",\"1949\",\"1950\",\"1951\",\"1952\",\"1953\",\"1954\",\"1955\",\"1956\",\"1957\",\"1958\",\"1959\",\"1960\",\"1961\",\"1962\",\"1963\",\"1964\",\"1965\",\"1966\",\"1967\",\"1968\",\"1969\",\"1970\",\"1971\",\"1972\",\"1973\",\"1974\",\"1975\",\"1976\",\"1977\",\"1978\",\"1979\",\"1980\",\"1981\",\"1982\",\"1983\",\"1984\",\"1985\",\"1986\",\"1987\",\"1988\",\"1989\",\"1990\",\"1991\",\"1992\",\"1993\",\"1994\",\"1995\",\"1996\",\"1997\",\"1998\",\"1999\",\"2000\",\"2001\",\"2002\",\"2003\",\"2004\",\"2005\",\"2006\",\"2007\",\"2008\",\"2009\",\"2010\",\"2011\",\"2012\",\"2013\"],\"xaxis\":\"x\",\"y\":[11.019499999999999,11.445749999999999,11.627249999999998,11.216166666666666,11.3805,11.824333333333334,11.659666666666666,11.600416666666668,11.604999999999999,11.116,11.117583333333334,11.117833333333332,11.257666666666665,11.692166666666665,12.040666666666667,11.493083333333333,11.400333333333334,11.686583333333333,11.55625,11.096083333333333,11.179333333333332,11.17575,11.808416666666666,11.442750000000002,11.723999999999998,11.225166666666667,11.719333333333333,11.644,11.522333333333334,11.574833333333332,11.529583333333333,11.460833333333333,10.987333333333334,11.7465,11.686583333333333,11.95225,12.229750000000001,11.66275,12.078249999999999,11.860583333333333,11.585416666666667,11.740250000000001,11.40825,10.535333333333332,11.009166666666667,11.921999999999999,11.677833333333332,11.622750000000002,11.066,12.84225,11.825166666666666,11.536333333333333,11.207666666666666,12.44825,11.57325,11.681416666666665,11.216000000000001,11.900666666666666,11.828000000000001,11.473666666666666,11.680166666666667,11.52375,11.843333333333334,11.770166666666666,11.597416666666668,11.183916666666667,11.403166666666666,11.095999999999998,11.38875,11.378916666666667,11.980083333333333,11.453249999999999,10.986833333333331,12.487166666666667,12.061083333333334,12.545333333333334,11.412916666666668,11.609166666666667,11.951333333333332,12.213500000000002,11.57175,12.078416666666667,11.908499999999998,11.642416666666668,11.758583333333334,11.302416666666666,11.7355,12.057916666666666,11.774916666666668,12.29275,11.489083333333333,11.982750000000001,11.953166666666666,11.49875,11.893083333333331,11.5475,12.211166666666665,12.081166666666666,12.084083333333334,11.987249999999998,11.9185,12.002166666666668,11.994833333333334,11.692166666666667,11.138833333333332,12.360666666666667,11.333583333333332,12.795916666666665,12.102583333333333,12.589500000000001,12.146666666666668,11.939666666666668,11.964666666666666,12.223999999999998,12.729,12.019416666666666,12.055333333333332,12.57,12.958166666666665,12.599833333333335,13.045499999999999,12.466166666666666,12.29325,12.34975,11.687916666666666,12.134416666666667,12.266333333333334,12.190416666666666,11.848999999999998,11.929,11.983416666666665,12.592166666666666,12.41475,11.7905,12.336999999999998,11.7475,12.19825,12.505333333333333,12.842583333333332,11.795083333333332,11.629416666666666,12.336333333333334,12.121916666666666,11.659916666666666,12.281333333333334,11.691416666666667,12.543833333333332,11.967666666666666,12.91175,13.590583333333333,12.783166666666666,12.484250000000001,12.055166666666667,13.229750000000001,12.475416666666666,12.082833333333333,12.752416666666667,13.244750000000002,13.080083333333334,12.833833333333333,12.450000000000001,12.837333333333333,12.507,13.435666666666668,12.555916666666667,12.757083333333334,13.192166666666667,12.874916666666666,12.933833333333332,13.215583333333333,12.73775,12.565666666666667,12.96475],\"yaxis\":\"y\",\"type\":\"scattergl\"},{\"hovertemplate\":\"Country=Australia<br>variable=AverageTemperature<br>years=%{x}<br>value=%{y}<extra></extra>\",\"legendgroup\":\"Australia\",\"line\":{\"color\":\"#19d3f3\",\"dash\":\"solid\"},\"marker\":{\"symbol\":\"circle\"},\"mode\":\"lines\",\"name\":\"Australia\",\"showlegend\":true,\"x\":[\"1852\",\"1853\",\"1854\",\"1855\",\"1856\",\"1857\",\"1858\",\"1859\",\"1860\",\"1861\",\"1862\",\"1863\",\"1864\",\"1865\",\"1866\",\"1867\",\"1868\",\"1869\",\"1870\",\"1871\",\"1872\",\"1873\",\"1874\",\"1875\",\"1876\",\"1877\",\"1878\",\"1879\",\"1880\",\"1881\",\"1882\",\"1883\",\"1884\",\"1885\",\"1886\",\"1887\",\"1888\",\"1889\",\"1890\",\"1891\",\"1892\",\"1893\",\"1894\",\"1895\",\"1896\",\"1897\",\"1898\",\"1899\",\"1900\",\"1901\",\"1902\",\"1903\",\"1904\",\"1905\",\"1906\",\"1907\",\"1908\",\"1909\",\"1910\",\"1911\",\"1912\",\"1913\",\"1914\",\"1915\",\"1916\",\"1917\",\"1918\",\"1919\",\"1920\",\"1921\",\"1922\",\"1923\",\"1924\",\"1925\",\"1926\",\"1927\",\"1928\",\"1929\",\"1930\",\"1931\",\"1932\",\"1933\",\"1934\",\"1935\",\"1936\",\"1937\",\"1938\",\"1939\",\"1940\",\"1941\",\"1942\",\"1943\",\"1944\",\"1945\",\"1946\",\"1947\",\"1948\",\"1949\",\"1950\",\"1951\",\"1952\",\"1953\",\"1954\",\"1955\",\"1956\",\"1957\",\"1958\",\"1959\",\"1960\",\"1961\",\"1962\",\"1963\",\"1964\",\"1965\",\"1966\",\"1967\",\"1968\",\"1969\",\"1970\",\"1971\",\"1972\",\"1973\",\"1974\",\"1975\",\"1976\",\"1977\",\"1978\",\"1979\",\"1980\",\"1981\",\"1982\",\"1983\",\"1984\",\"1985\",\"1986\",\"1987\",\"1988\",\"1989\",\"1990\",\"1991\",\"1992\",\"1993\",\"1994\",\"1995\",\"1996\",\"1997\",\"1998\",\"1999\",\"2000\",\"2001\",\"2002\",\"2003\",\"2004\",\"2005\",\"2006\",\"2007\",\"2008\",\"2009\",\"2010\",\"2011\",\"2012\",\"2013\"],\"xaxis\":\"x\",\"y\":[20.1885,20.95825,20.28477777777778,20.798636363636362,21.148333333333333,20.966416666666667,21.329833333333333,21.188916666666668,21.2455,21.1975,21.155416666666667,21.309,21.04425,21.217833333333335,21.417,21.643833333333333,21.44758333333333,21.521583333333336,21.42833333333333,21.459666666666667,21.206916666666668,21.15758333333333,21.126166666666666,21.054416666666665,21.087333333333333,21.641083333333338,22.380666666666666,21.18466666666667,21.66125,21.7925,21.64741666666667,21.520666666666667,21.549833333333336,21.421916666666664,21.450166666666664,21.155,21.954916666666666,22.174083333333332,21.479916666666668,20.834,21.541749999999997,21.646416666666667,20.917416666666664,21.233083333333333,21.3965,21.8175,21.570916666666665,21.186916666666665,21.766583333333333,21.582583333333332,21.597916666666666,21.176750000000002,20.970833333333335,21.1775,21.885,21.2945,20.8645,21.05275,21.569083333333335,21.347916666666666,21.826166666666666,21.187833333333334,22.186333333333334,22.144833333333334,21.504416666666668,20.7715,21.369333333333334,21.82858333333333,21.324416666666668,21.680083333333332,21.449749999999998,21.536833333333334,21.212583333333335,21.097833333333334,21.702583333333333,21.397833333333335,22.01908333333333,21.10125,21.640833333333333,21.239083333333333,21.459666666666667,21.386499999999998,21.50708333333333,21.39741666666667,21.716333333333335,21.52733333333333,22.08875,21.34,21.681583333333336,21.36283333333333,21.926416666666668,21.31716666666667,21.53016666666667,21.604083333333335,21.24125,21.59025,21.459500000000002,20.984916666666667,21.322916666666668,21.557000000000002,21.487,21.47458333333333,21.558666666666667,21.563083333333335,21.006,21.902666666666665,21.997249999999998,22.098166666666668,21.2105,21.964250000000003,21.802916666666665,21.697833333333335,21.65075,22.092083333333335,21.361,21.625416666666666,21.462166666666665,21.847583333333333,21.775750000000002,21.65433333333333,22.012083333333333,22.41275,21.238083333333332,21.692666666666668,21.193416666666668,21.8925,21.605166666666666,22.252333333333336,22.586166666666667,22.164083333333334,21.9105,22.261083333333332,21.516916666666663,22.04341666666667,22.093249999999998,22.07241666666667,22.63008333333333,21.86283333333333,22.35575,22.48741666666667,21.932583333333337,22.16016666666667,22.03025,21.955166666666667,22.325333333333333,22.086,22.664833333333334,22.0645,21.709666666666667,21.79275,22.46083333333333,22.44033333333333,22.286916666666666,22.896833333333333,22.264416666666666,22.48675,22.225916666666667,22.690583333333333,22.078166666666664,21.767,22.0245,22.142875],\"yaxis\":\"y\",\"type\":\"scattergl\"}],                        {\"template\":{\"data\":{\"barpolar\":[{\"marker\":{\"line\":{\"color\":\"rgb(17,17,17)\",\"width\":0.5},\"pattern\":{\"fillmode\":\"overlay\",\"size\":10,\"solidity\":0.2}},\"type\":\"barpolar\"}],\"bar\":[{\"error_x\":{\"color\":\"#f2f5fa\"},\"error_y\":{\"color\":\"#f2f5fa\"},\"marker\":{\"line\":{\"color\":\"rgb(17,17,17)\",\"width\":0.5},\"pattern\":{\"fillmode\":\"overlay\",\"size\":10,\"solidity\":0.2}},\"type\":\"bar\"}],\"carpet\":[{\"aaxis\":{\"endlinecolor\":\"#A2B1C6\",\"gridcolor\":\"#506784\",\"linecolor\":\"#506784\",\"minorgridcolor\":\"#506784\",\"startlinecolor\":\"#A2B1C6\"},\"baxis\":{\"endlinecolor\":\"#A2B1C6\",\"gridcolor\":\"#506784\",\"linecolor\":\"#506784\",\"minorgridcolor\":\"#506784\",\"startlinecolor\":\"#A2B1C6\"},\"type\":\"carpet\"}],\"choropleth\":[{\"colorbar\":{\"outlinewidth\":0,\"ticks\":\"\"},\"type\":\"choropleth\"}],\"contourcarpet\":[{\"colorbar\":{\"outlinewidth\":0,\"ticks\":\"\"},\"type\":\"contourcarpet\"}],\"contour\":[{\"colorbar\":{\"outlinewidth\":0,\"ticks\":\"\"},\"colorscale\":[[0.0,\"#0d0887\"],[0.1111111111111111,\"#46039f\"],[0.2222222222222222,\"#7201a8\"],[0.3333333333333333,\"#9c179e\"],[0.4444444444444444,\"#bd3786\"],[0.5555555555555556,\"#d8576b\"],[0.6666666666666666,\"#ed7953\"],[0.7777777777777778,\"#fb9f3a\"],[0.8888888888888888,\"#fdca26\"],[1.0,\"#f0f921\"]],\"type\":\"contour\"}],\"heatmapgl\":[{\"colorbar\":{\"outlinewidth\":0,\"ticks\":\"\"},\"colorscale\":[[0.0,\"#0d0887\"],[0.1111111111111111,\"#46039f\"],[0.2222222222222222,\"#7201a8\"],[0.3333333333333333,\"#9c179e\"],[0.4444444444444444,\"#bd3786\"],[0.5555555555555556,\"#d8576b\"],[0.6666666666666666,\"#ed7953\"],[0.7777777777777778,\"#fb9f3a\"],[0.8888888888888888,\"#fdca26\"],[1.0,\"#f0f921\"]],\"type\":\"heatmapgl\"}],\"heatmap\":[{\"colorbar\":{\"outlinewidth\":0,\"ticks\":\"\"},\"colorscale\":[[0.0,\"#0d0887\"],[0.1111111111111111,\"#46039f\"],[0.2222222222222222,\"#7201a8\"],[0.3333333333333333,\"#9c179e\"],[0.4444444444444444,\"#bd3786\"],[0.5555555555555556,\"#d8576b\"],[0.6666666666666666,\"#ed7953\"],[0.7777777777777778,\"#fb9f3a\"],[0.8888888888888888,\"#fdca26\"],[1.0,\"#f0f921\"]],\"type\":\"heatmap\"}],\"histogram2dcontour\":[{\"colorbar\":{\"outlinewidth\":0,\"ticks\":\"\"},\"colorscale\":[[0.0,\"#0d0887\"],[0.1111111111111111,\"#46039f\"],[0.2222222222222222,\"#7201a8\"],[0.3333333333333333,\"#9c179e\"],[0.4444444444444444,\"#bd3786\"],[0.5555555555555556,\"#d8576b\"],[0.6666666666666666,\"#ed7953\"],[0.7777777777777778,\"#fb9f3a\"],[0.8888888888888888,\"#fdca26\"],[1.0,\"#f0f921\"]],\"type\":\"histogram2dcontour\"}],\"histogram2d\":[{\"colorbar\":{\"outlinewidth\":0,\"ticks\":\"\"},\"colorscale\":[[0.0,\"#0d0887\"],[0.1111111111111111,\"#46039f\"],[0.2222222222222222,\"#7201a8\"],[0.3333333333333333,\"#9c179e\"],[0.4444444444444444,\"#bd3786\"],[0.5555555555555556,\"#d8576b\"],[0.6666666666666666,\"#ed7953\"],[0.7777777777777778,\"#fb9f3a\"],[0.8888888888888888,\"#fdca26\"],[1.0,\"#f0f921\"]],\"type\":\"histogram2d\"}],\"histogram\":[{\"marker\":{\"pattern\":{\"fillmode\":\"overlay\",\"size\":10,\"solidity\":0.2}},\"type\":\"histogram\"}],\"mesh3d\":[{\"colorbar\":{\"outlinewidth\":0,\"ticks\":\"\"},\"type\":\"mesh3d\"}],\"parcoords\":[{\"line\":{\"colorbar\":{\"outlinewidth\":0,\"ticks\":\"\"}},\"type\":\"parcoords\"}],\"pie\":[{\"automargin\":true,\"type\":\"pie\"}],\"scatter3d\":[{\"line\":{\"colorbar\":{\"outlinewidth\":0,\"ticks\":\"\"}},\"marker\":{\"colorbar\":{\"outlinewidth\":0,\"ticks\":\"\"}},\"type\":\"scatter3d\"}],\"scattercarpet\":[{\"marker\":{\"colorbar\":{\"outlinewidth\":0,\"ticks\":\"\"}},\"type\":\"scattercarpet\"}],\"scattergeo\":[{\"marker\":{\"colorbar\":{\"outlinewidth\":0,\"ticks\":\"\"}},\"type\":\"scattergeo\"}],\"scattergl\":[{\"marker\":{\"line\":{\"color\":\"#283442\"}},\"type\":\"scattergl\"}],\"scattermapbox\":[{\"marker\":{\"colorbar\":{\"outlinewidth\":0,\"ticks\":\"\"}},\"type\":\"scattermapbox\"}],\"scatterpolargl\":[{\"marker\":{\"colorbar\":{\"outlinewidth\":0,\"ticks\":\"\"}},\"type\":\"scatterpolargl\"}],\"scatterpolar\":[{\"marker\":{\"colorbar\":{\"outlinewidth\":0,\"ticks\":\"\"}},\"type\":\"scatterpolar\"}],\"scatter\":[{\"marker\":{\"line\":{\"color\":\"#283442\"}},\"type\":\"scatter\"}],\"scatterternary\":[{\"marker\":{\"colorbar\":{\"outlinewidth\":0,\"ticks\":\"\"}},\"type\":\"scatterternary\"}],\"surface\":[{\"colorbar\":{\"outlinewidth\":0,\"ticks\":\"\"},\"colorscale\":[[0.0,\"#0d0887\"],[0.1111111111111111,\"#46039f\"],[0.2222222222222222,\"#7201a8\"],[0.3333333333333333,\"#9c179e\"],[0.4444444444444444,\"#bd3786\"],[0.5555555555555556,\"#d8576b\"],[0.6666666666666666,\"#ed7953\"],[0.7777777777777778,\"#fb9f3a\"],[0.8888888888888888,\"#fdca26\"],[1.0,\"#f0f921\"]],\"type\":\"surface\"}],\"table\":[{\"cells\":{\"fill\":{\"color\":\"#506784\"},\"line\":{\"color\":\"rgb(17,17,17)\"}},\"header\":{\"fill\":{\"color\":\"#2a3f5f\"},\"line\":{\"color\":\"rgb(17,17,17)\"}},\"type\":\"table\"}]},\"layout\":{\"annotationdefaults\":{\"arrowcolor\":\"#f2f5fa\",\"arrowhead\":0,\"arrowwidth\":1},\"autotypenumbers\":\"strict\",\"coloraxis\":{\"colorbar\":{\"outlinewidth\":0,\"ticks\":\"\"}},\"colorscale\":{\"diverging\":[[0,\"#8e0152\"],[0.1,\"#c51b7d\"],[0.2,\"#de77ae\"],[0.3,\"#f1b6da\"],[0.4,\"#fde0ef\"],[0.5,\"#f7f7f7\"],[0.6,\"#e6f5d0\"],[0.7,\"#b8e186\"],[0.8,\"#7fbc41\"],[0.9,\"#4d9221\"],[1,\"#276419\"]],\"sequential\":[[0.0,\"#0d0887\"],[0.1111111111111111,\"#46039f\"],[0.2222222222222222,\"#7201a8\"],[0.3333333333333333,\"#9c179e\"],[0.4444444444444444,\"#bd3786\"],[0.5555555555555556,\"#d8576b\"],[0.6666666666666666,\"#ed7953\"],[0.7777777777777778,\"#fb9f3a\"],[0.8888888888888888,\"#fdca26\"],[1.0,\"#f0f921\"]],\"sequentialminus\":[[0.0,\"#0d0887\"],[0.1111111111111111,\"#46039f\"],[0.2222222222222222,\"#7201a8\"],[0.3333333333333333,\"#9c179e\"],[0.4444444444444444,\"#bd3786\"],[0.5555555555555556,\"#d8576b\"],[0.6666666666666666,\"#ed7953\"],[0.7777777777777778,\"#fb9f3a\"],[0.8888888888888888,\"#fdca26\"],[1.0,\"#f0f921\"]]},\"colorway\":[\"#636efa\",\"#EF553B\",\"#00cc96\",\"#ab63fa\",\"#FFA15A\",\"#19d3f3\",\"#FF6692\",\"#B6E880\",\"#FF97FF\",\"#FECB52\"],\"font\":{\"color\":\"#f2f5fa\"},\"geo\":{\"bgcolor\":\"rgb(17,17,17)\",\"lakecolor\":\"rgb(17,17,17)\",\"landcolor\":\"rgb(17,17,17)\",\"showlakes\":true,\"showland\":true,\"subunitcolor\":\"#506784\"},\"hoverlabel\":{\"align\":\"left\"},\"hovermode\":\"closest\",\"mapbox\":{\"style\":\"dark\"},\"paper_bgcolor\":\"rgb(17,17,17)\",\"plot_bgcolor\":\"rgb(17,17,17)\",\"polar\":{\"angularaxis\":{\"gridcolor\":\"#506784\",\"linecolor\":\"#506784\",\"ticks\":\"\"},\"bgcolor\":\"rgb(17,17,17)\",\"radialaxis\":{\"gridcolor\":\"#506784\",\"linecolor\":\"#506784\",\"ticks\":\"\"}},\"scene\":{\"xaxis\":{\"backgroundcolor\":\"rgb(17,17,17)\",\"gridcolor\":\"#506784\",\"gridwidth\":2,\"linecolor\":\"#506784\",\"showbackground\":true,\"ticks\":\"\",\"zerolinecolor\":\"#C8D4E3\"},\"yaxis\":{\"backgroundcolor\":\"rgb(17,17,17)\",\"gridcolor\":\"#506784\",\"gridwidth\":2,\"linecolor\":\"#506784\",\"showbackground\":true,\"ticks\":\"\",\"zerolinecolor\":\"#C8D4E3\"},\"zaxis\":{\"backgroundcolor\":\"rgb(17,17,17)\",\"gridcolor\":\"#506784\",\"gridwidth\":2,\"linecolor\":\"#506784\",\"showbackground\":true,\"ticks\":\"\",\"zerolinecolor\":\"#C8D4E3\"}},\"shapedefaults\":{\"line\":{\"color\":\"#f2f5fa\"}},\"sliderdefaults\":{\"bgcolor\":\"#C8D4E3\",\"bordercolor\":\"rgb(17,17,17)\",\"borderwidth\":1,\"tickwidth\":0},\"ternary\":{\"aaxis\":{\"gridcolor\":\"#506784\",\"linecolor\":\"#506784\",\"ticks\":\"\"},\"baxis\":{\"gridcolor\":\"#506784\",\"linecolor\":\"#506784\",\"ticks\":\"\"},\"bgcolor\":\"rgb(17,17,17)\",\"caxis\":{\"gridcolor\":\"#506784\",\"linecolor\":\"#506784\",\"ticks\":\"\"}},\"title\":{\"x\":0.05},\"updatemenudefaults\":{\"bgcolor\":\"#506784\",\"borderwidth\":0},\"xaxis\":{\"automargin\":true,\"gridcolor\":\"#283442\",\"linecolor\":\"#506784\",\"ticks\":\"\",\"title\":{\"standoff\":15},\"zerolinecolor\":\"#283442\",\"zerolinewidth\":2},\"yaxis\":{\"automargin\":true,\"gridcolor\":\"#283442\",\"linecolor\":\"#506784\",\"ticks\":\"\",\"title\":{\"standoff\":15},\"zerolinecolor\":\"#283442\",\"zerolinewidth\":2}}},\"xaxis\":{\"anchor\":\"y\",\"domain\":[0.0,1.0],\"title\":{\"text\":\"years\"}},\"yaxis\":{\"anchor\":\"x\",\"domain\":[0.0,1.0],\"title\":{\"text\":\"value\"}},\"legend\":{\"title\":{\"text\":\"Country\"},\"tracegroupgap\":0},\"title\":{\"text\":\"Average Land Temperature in World\"}},                        {\"responsive\": true}                    ).then(function(){\n",
              "                            \n",
              "var gd = document.getElementById('7219adbe-8dc0-49e6-81b4-24007910fa7f');\n",
              "var x = new MutationObserver(function (mutations, observer) {{\n",
              "        var display = window.getComputedStyle(gd).display;\n",
              "        if (!display || display === 'none') {{\n",
              "            console.log([gd, 'removed!']);\n",
              "            Plotly.purge(gd);\n",
              "            observer.disconnect();\n",
              "        }}\n",
              "}});\n",
              "\n",
              "// Listen for the removal of the full notebook cells\n",
              "var notebookContainer = gd.closest('#notebook-container');\n",
              "if (notebookContainer) {{\n",
              "    x.observe(notebookContainer, {childList: true});\n",
              "}}\n",
              "\n",
              "// Listen for the clearing of the current output cell\n",
              "var outputEl = gd.closest('.output');\n",
              "if (outputEl) {{\n",
              "    x.observe(outputEl, {childList: true});\n",
              "}}\n",
              "\n",
              "                        })                };                });            </script>        </div>"
            ]
          },
          "metadata": {},
          "output_type": "display_data"
        }
      ],
      "source": [
        "import plotly.express as px\n",
        "fig=px.line(avg_temp,x=\"years\",y=[\"AverageTemperature\"],color='Country',title=\"Average Land Temperature in World\",template=\"plotly_dark\")\n",
        "fig.show()"
      ]
    },
    {
      "cell_type": "markdown",
      "metadata": {
        "id": "-L1rtcsbhLJk"
      },
      "source": [
        "## India Map For State Temperatures"
      ]
    },
    {
      "cell_type": "code",
      "execution_count": 115,
      "metadata": {
        "colab": {
          "base_uri": "https://localhost:8080/",
          "height": 206
        },
        "id": "_sipN5BlhLJl",
        "outputId": "fb24a53f-74cd-4c65-b803-de811842d5f6"
      },
      "outputs": [
        {
          "data": {
            "text/html": [
              "<div>\n",
              "<style scoped>\n",
              "    .dataframe tbody tr th:only-of-type {\n",
              "        vertical-align: middle;\n",
              "    }\n",
              "\n",
              "    .dataframe tbody tr th {\n",
              "        vertical-align: top;\n",
              "    }\n",
              "\n",
              "    .dataframe thead th {\n",
              "        text-align: right;\n",
              "    }\n",
              "</style>\n",
              "<table border=\"1\" class=\"dataframe\">\n",
              "  <thead>\n",
              "    <tr style=\"text-align: right;\">\n",
              "      <th></th>\n",
              "      <th>dt</th>\n",
              "      <th>AverageTemperature</th>\n",
              "      <th>AverageTemperatureUncertainty</th>\n",
              "      <th>State</th>\n",
              "      <th>Country</th>\n",
              "    </tr>\n",
              "  </thead>\n",
              "  <tbody>\n",
              "    <tr>\n",
              "      <th>0</th>\n",
              "      <td>1855-05-01</td>\n",
              "      <td>25.544</td>\n",
              "      <td>1.171</td>\n",
              "      <td>Acre</td>\n",
              "      <td>Brazil</td>\n",
              "    </tr>\n",
              "    <tr>\n",
              "      <th>1</th>\n",
              "      <td>1855-06-01</td>\n",
              "      <td>24.228</td>\n",
              "      <td>1.103</td>\n",
              "      <td>Acre</td>\n",
              "      <td>Brazil</td>\n",
              "    </tr>\n",
              "    <tr>\n",
              "      <th>2</th>\n",
              "      <td>1855-07-01</td>\n",
              "      <td>24.371</td>\n",
              "      <td>1.044</td>\n",
              "      <td>Acre</td>\n",
              "      <td>Brazil</td>\n",
              "    </tr>\n",
              "    <tr>\n",
              "      <th>3</th>\n",
              "      <td>1855-08-01</td>\n",
              "      <td>25.427</td>\n",
              "      <td>1.073</td>\n",
              "      <td>Acre</td>\n",
              "      <td>Brazil</td>\n",
              "    </tr>\n",
              "    <tr>\n",
              "      <th>4</th>\n",
              "      <td>1855-09-01</td>\n",
              "      <td>25.675</td>\n",
              "      <td>1.014</td>\n",
              "      <td>Acre</td>\n",
              "      <td>Brazil</td>\n",
              "    </tr>\n",
              "  </tbody>\n",
              "</table>\n",
              "</div>"
            ],
            "text/plain": [
              "           dt  AverageTemperature  AverageTemperatureUncertainty State Country\n",
              "0  1855-05-01              25.544                          1.171  Acre  Brazil\n",
              "1  1855-06-01              24.228                          1.103  Acre  Brazil\n",
              "2  1855-07-01              24.371                          1.044  Acre  Brazil\n",
              "3  1855-08-01              25.427                          1.073  Acre  Brazil\n",
              "4  1855-09-01              25.675                          1.014  Acre  Brazil"
            ]
          },
          "execution_count": 115,
          "metadata": {},
          "output_type": "execute_result"
        }
      ],
      "source": [
        "import pandas as pd\n",
        "global_temp_state = pd.read_csv('D:/data analytics and machine learning project/global temperature/data/GlobalLandTemperaturesByState.csv')\n",
        "global_temp_state.head()"
      ]
    },
    {
      "cell_type": "code",
      "execution_count": 116,
      "metadata": {
        "id": "eUDDfc4MhLJl"
      },
      "outputs": [],
      "source": [
        "india=global_temp_state[global_temp_state['Country']=='India']"
      ]
    },
    {
      "cell_type": "code",
      "execution_count": 117,
      "metadata": {
        "id": "VEK1fusVhLJl"
      },
      "outputs": [],
      "source": [
        "india.dropna(inplace=True)"
      ]
    },
    {
      "cell_type": "code",
      "execution_count": 118,
      "metadata": {
        "colab": {
          "base_uri": "https://localhost:8080/"
        },
        "id": "4Ij9k6g5hLJl",
        "outputId": "8fe05104-3eb8-491c-d2bb-7bae9552267d"
      },
      "outputs": [
        {
          "data": {
            "text/plain": [
              "array(['Andaman And Nicobar', 'Andhra Pradesh', 'Arunachal Pradesh',\n",
              "       'Assam', 'Bihar', 'Chandigarh', 'Chhattisgarh',\n",
              "       'Dadra And Nagar Haveli', 'Daman And Diu', 'Delhi', 'Goa',\n",
              "       'Gujarat', 'Haryana', 'Himachal Pradesh', 'Jammu And Kashmir',\n",
              "       'Jharkhand', 'Karnataka', 'Kerala', 'Madhya Pradesh',\n",
              "       'Maharashtra', 'Manipur', 'Meghalaya', 'Mizoram', 'Nagaland',\n",
              "       'Orissa', 'Puducherry', 'Punjab', 'Rajasthan', 'Sikkim',\n",
              "       'Tamil Nadu', 'Tripura', 'Uttar Pradesh', 'Uttaranchal',\n",
              "       'West Bengal'], dtype=object)"
            ]
          },
          "execution_count": 118,
          "metadata": {},
          "output_type": "execute_result"
        }
      ],
      "source": [
        "india['State'].unique()"
      ]
    },
    {
      "cell_type": "code",
      "execution_count": 119,
      "metadata": {
        "id": "mmShZ4QFhLJl"
      },
      "outputs": [],
      "source": [
        "state={'Maharashtra (State)':'Maharashtra'}"
      ]
    },
    {
      "cell_type": "code",
      "execution_count": 120,
      "metadata": {
        "id": "O5RJPGo0hLJl"
      },
      "outputs": [],
      "source": [
        "india['State'].replace(state,inplace=True)"
      ]
    },
    {
      "cell_type": "code",
      "execution_count": 121,
      "metadata": {
        "id": "D8bL2x66hLJl"
      },
      "outputs": [],
      "source": [
        "india=india[['AverageTemperature','State']]"
      ]
    },
    {
      "cell_type": "code",
      "execution_count": 122,
      "metadata": {
        "id": "kT1wHkfJhLJm"
      },
      "outputs": [],
      "source": [
        "india_temp=india.groupby('State')['AverageTemperature'].mean().reset_index()"
      ]
    },
    {
      "cell_type": "code",
      "execution_count": 123,
      "metadata": {
        "colab": {
          "base_uri": "https://localhost:8080/",
          "height": 206
        },
        "id": "UYmt62AThLJm",
        "outputId": "a7d2fb45-5a66-47d1-84a1-46110225a927"
      },
      "outputs": [
        {
          "data": {
            "text/html": [
              "<div>\n",
              "<style scoped>\n",
              "    .dataframe tbody tr th:only-of-type {\n",
              "        vertical-align: middle;\n",
              "    }\n",
              "\n",
              "    .dataframe tbody tr th {\n",
              "        vertical-align: top;\n",
              "    }\n",
              "\n",
              "    .dataframe thead th {\n",
              "        text-align: right;\n",
              "    }\n",
              "</style>\n",
              "<table border=\"1\" class=\"dataframe\">\n",
              "  <thead>\n",
              "    <tr style=\"text-align: right;\">\n",
              "      <th></th>\n",
              "      <th>State</th>\n",
              "      <th>AverageTemperature</th>\n",
              "    </tr>\n",
              "  </thead>\n",
              "  <tbody>\n",
              "    <tr>\n",
              "      <th>0</th>\n",
              "      <td>Andaman And Nicobar</td>\n",
              "      <td>27.231677</td>\n",
              "    </tr>\n",
              "    <tr>\n",
              "      <th>1</th>\n",
              "      <td>Andhra Pradesh</td>\n",
              "      <td>27.090003</td>\n",
              "    </tr>\n",
              "    <tr>\n",
              "      <th>2</th>\n",
              "      <td>Arunachal Pradesh</td>\n",
              "      <td>13.795670</td>\n",
              "    </tr>\n",
              "    <tr>\n",
              "      <th>3</th>\n",
              "      <td>Assam</td>\n",
              "      <td>21.875561</td>\n",
              "    </tr>\n",
              "    <tr>\n",
              "      <th>4</th>\n",
              "      <td>Bihar</td>\n",
              "      <td>24.486945</td>\n",
              "    </tr>\n",
              "  </tbody>\n",
              "</table>\n",
              "</div>"
            ],
            "text/plain": [
              "                 State  AverageTemperature\n",
              "0  Andaman And Nicobar           27.231677\n",
              "1       Andhra Pradesh           27.090003\n",
              "2    Arunachal Pradesh           13.795670\n",
              "3                Assam           21.875561\n",
              "4                Bihar           24.486945"
            ]
          },
          "execution_count": 123,
          "metadata": {},
          "output_type": "execute_result"
        }
      ],
      "source": [
        "india_temp.head()"
      ]
    },
    {
      "cell_type": "code",
      "execution_count": 124,
      "metadata": {
        "colab": {
          "base_uri": "https://localhost:8080/"
        },
        "id": "tZHvmhRVhLJm",
        "outputId": "4290cf17-211f-48e4-f28e-d3f5d3ee4380"
      },
      "outputs": [
        {
          "data": {
            "text/plain": [
              "(34, 2)"
            ]
          },
          "execution_count": 124,
          "metadata": {},
          "output_type": "execute_result"
        }
      ],
      "source": [
        "india_temp.shape"
      ]
    },
    {
      "cell_type": "code",
      "execution_count": 125,
      "metadata": {
        "id": "2rnH4Yj4hLJm"
      },
      "outputs": [],
      "source": [
        "from opencage.geocoder import OpenCageGeocode"
      ]
    },
    {
      "cell_type": "code",
      "execution_count": 126,
      "metadata": {
        "colab": {
          "base_uri": "https://localhost:8080/"
        },
        "id": "ROAstBwAhLJm",
        "outputId": "b9c17394-97ed-4b0b-a580-cf905e619c8f"
      },
      "outputs": [
        {
          "name": "stdout",
          "output_type": "stream",
          "text": [
            "[{'annotations': {'DMS': {'lat': \"41° 32' 25.83312'' N\", 'lng': \"1° 55' 13.28232'' W\"}, 'MGRS': '30TWL9005499324', 'Maidenhead': 'IN91am99nr', 'Mercator': {'x': -213773.074, 'y': 5064053.763}, 'OSM': {'edit_url': 'https://www.openstreetmap.org/edit?relation=342295#map=16/41.54051/-1.92036', 'note_url': 'https://www.openstreetmap.org/note/new#map=16/41.54051/-1.92036&layers=N', 'url': 'https://www.openstreetmap.org/?mlat=41.54051&mlon=-1.92036#map=16/41.54051/-1.92036'}, 'UN_M49': {'regions': {'ES': '724', 'EUROPE': '150', 'SOUTHERN_EUROPE': '039', 'WORLD': '001'}, 'statistical_groupings': ['MEDC']}, 'callingcode': 34, 'currency': {'alternate_symbols': [], 'decimal_mark': ',', 'html_entity': '&#x20AC;', 'iso_code': 'EUR', 'iso_numeric': '978', 'name': 'Euro', 'smallest_denomination': 1, 'subunit': 'Cent', 'subunit_to_unit': 100, 'symbol': '€', 'symbol_first': 0, 'thousands_separator': '.'}, 'flag': '🇪🇸', 'geohash': 'ezqsk61xh2nts1rzhnmu', 'qibla': 106.81, 'roadinfo': {'drive_on': 'right', 'speed_in': 'km/h'}, 'sun': {'rise': {'apparent': 1660367700, 'astronomical': 1660361340, 'civil': 1660365900, 'nautical': 1660363740}, 'set': {'apparent': 1660417740, 'astronomical': 1660424100, 'civil': 1660419540, 'nautical': 1660421700}}, 'timezone': {'name': 'Europe/Madrid', 'now_in_dst': 1, 'offset_sec': 7200, 'offset_string': '+0200', 'short_name': 'CEST'}, 'what3words': {'words': 'chef.digestion.uncertainly'}, 'wikidata': 'Q1651278'}, 'bounds': {'northeast': {'lat': 41.5884894, 'lng': -1.8518804}, 'southwest': {'lat': 41.4814541, 'lng': -1.9811115}}, 'components': {'ISO_3166-1_alpha-2': 'ES', 'ISO_3166-1_alpha-3': 'ESP', 'ISO_3166-2': ['ES-AR', 'ES-Z'], '_category': 'place', '_type': 'village', 'continent': 'Europe', 'country': 'Spain', 'country_code': 'es', 'county': 'Comunidad de Calatayud', 'political_union': 'European Union', 'province': 'Zaragoza', 'state': 'Aragon', 'state_code': 'AR', 'village': 'Bijuesca'}, 'confidence': 6, 'formatted': 'Bijuesca, Aragon, Spain', 'geometry': {'lat': 41.5405092, 'lng': -1.9203562}}, {'annotations': {'DMS': {'lat': \"41° 29' 41.35524'' N\", 'lng': \"1° 49' 21.58032'' W\"}, 'MGRS': '30TWL9827294358', 'Maidenhead': 'IN91cl18gs', 'Mercator': {'x': -202897.717, 'y': 5057286.692}, 'OSM': {'edit_url': 'https://www.openstreetmap.org/edit?node=1242125047#map=16/41.49482/-1.82266', 'note_url': 'https://www.openstreetmap.org/note/new#map=16/41.49482/-1.82266&layers=N', 'url': 'https://www.openstreetmap.org/?mlat=41.49482&mlon=-1.82266#map=16/41.49482/-1.82266'}, 'UN_M49': {'regions': {'ES': '724', 'EUROPE': '150', 'SOUTHERN_EUROPE': '039', 'WORLD': '001'}, 'statistical_groupings': ['MEDC']}, 'callingcode': 34, 'currency': {'alternate_symbols': [], 'decimal_mark': ',', 'html_entity': '&#x20AC;', 'iso_code': 'EUR', 'iso_numeric': '978', 'name': 'Euro', 'smallest_denomination': 1, 'subunit': 'Cent', 'subunit_to_unit': 100, 'symbol': '€', 'symbol_first': 0, 'thousands_separator': '.'}, 'flag': '🇪🇸', 'geohash': 'ezqsn9bubgm21xpcundt', 'qibla': 106.84, 'roadinfo': {'drive_on': 'right', 'speed_in': 'km/h'}, 'sun': {'rise': {'apparent': 1660367700, 'astronomical': 1660361340, 'civil': 1660365900, 'nautical': 1660363740}, 'set': {'apparent': 1660417740, 'astronomical': 1660424040, 'civil': 1660419480, 'nautical': 1660421700}}, 'timezone': {'name': 'Europe/Madrid', 'now_in_dst': 1, 'offset_sec': 7200, 'offset_string': '+0200', 'short_name': 'CEST'}, 'what3words': {'words': 'selfishly.adverb.detours'}}, 'bounds': {'northeast': {'lat': 41.5048209, 'lng': -1.8126612}, 'southwest': {'lat': 41.4848209, 'lng': -1.8326612}}, 'components': {'ISO_3166-1_alpha-2': 'ES', 'ISO_3166-1_alpha-3': 'ESP', 'ISO_3166-2': ['ES-AR', 'ES-Z'], '_category': 'place', '_type': 'hamlet', 'continent': 'Europe', 'country': 'Spain', 'country_code': 'es', 'county': 'Comunidad de Calatayud', 'locality': 'Bijuesca', 'political_union': 'European Union', 'province': 'Zaragoza', 'state': 'Aragon', 'state_code': 'AR', 'village': 'Villarroya de la Sierra'}, 'confidence': 8, 'formatted': 'Villarroya de la Sierra, Aragon, Spain', 'geometry': {'lat': 41.4948209, 'lng': -1.8226612}}]\n"
          ]
        }
      ],
      "source": [
        "key = '5ca89e8267cb476a88cd247f5d0dc35d'  # get api key from:  https://opencagedata.com/api\n",
        "geocoder = OpenCageGeocode(key)\n",
        "query = 'Bijuesca, Spain'  \n",
        "results = geocoder.geocode(query)\n",
        "print (results)"
      ]
    },
    {
      "cell_type": "code",
      "execution_count": 127,
      "metadata": {
        "colab": {
          "base_uri": "https://localhost:8080/"
        },
        "id": "QW2d_T5KhLJn",
        "outputId": "a1784c0c-06e0-4f47-b156-b2e86278c930"
      },
      "outputs": [
        {
          "name": "stdout",
          "output_type": "stream",
          "text": [
            "41.5405092 -1.9203562\n"
          ]
        }
      ],
      "source": [
        "lat = results[0]['geometry']['lat']\n",
        "lon = results[0]['geometry']['lng']\n",
        "print (lat, lon)"
      ]
    },
    {
      "cell_type": "code",
      "execution_count": 128,
      "metadata": {
        "id": "2Y6Bm3BghLJn"
      },
      "outputs": [],
      "source": [
        "list_lat=[]\n",
        "list_long=[]\n",
        "for state in india_temp['State']: # iterate over rows in dataframe\n",
        "    results = geocoder.geocode(state)   \n",
        "    lat = results[0]['geometry']['lat']\n",
        "    lon = results[0]['geometry']['lng']\n",
        "\n",
        "    list_lat.append(lat)\n",
        "    list_long.append(lon)"
      ]
    },
    {
      "cell_type": "code",
      "execution_count": 129,
      "metadata": {
        "id": "3E4d0W_mhLJn"
      },
      "outputs": [],
      "source": [
        "# create new columns from lists    \n",
        "\n",
        "india_temp['lat'] = list_lat   \n",
        "india_temp['lon'] = list_long"
      ]
    },
    {
      "cell_type": "code",
      "execution_count": 130,
      "metadata": {
        "colab": {
          "base_uri": "https://localhost:8080/",
          "height": 206
        },
        "id": "H9xrEVcWhLJn",
        "outputId": "a8d137b4-9dce-4466-fb0c-ff5fdc851d00"
      },
      "outputs": [
        {
          "data": {
            "text/html": [
              "<div>\n",
              "<style scoped>\n",
              "    .dataframe tbody tr th:only-of-type {\n",
              "        vertical-align: middle;\n",
              "    }\n",
              "\n",
              "    .dataframe tbody tr th {\n",
              "        vertical-align: top;\n",
              "    }\n",
              "\n",
              "    .dataframe thead th {\n",
              "        text-align: right;\n",
              "    }\n",
              "</style>\n",
              "<table border=\"1\" class=\"dataframe\">\n",
              "  <thead>\n",
              "    <tr style=\"text-align: right;\">\n",
              "      <th></th>\n",
              "      <th>State</th>\n",
              "      <th>AverageTemperature</th>\n",
              "      <th>lat</th>\n",
              "      <th>lon</th>\n",
              "    </tr>\n",
              "  </thead>\n",
              "  <tbody>\n",
              "    <tr>\n",
              "      <th>0</th>\n",
              "      <td>Andaman And Nicobar</td>\n",
              "      <td>27.231677</td>\n",
              "      <td>10.000105</td>\n",
              "      <td>93.000019</td>\n",
              "    </tr>\n",
              "    <tr>\n",
              "      <th>1</th>\n",
              "      <td>Andhra Pradesh</td>\n",
              "      <td>27.090003</td>\n",
              "      <td>15.924091</td>\n",
              "      <td>80.186381</td>\n",
              "    </tr>\n",
              "    <tr>\n",
              "      <th>2</th>\n",
              "      <td>Arunachal Pradesh</td>\n",
              "      <td>13.795670</td>\n",
              "      <td>28.093770</td>\n",
              "      <td>94.592133</td>\n",
              "    </tr>\n",
              "    <tr>\n",
              "      <th>3</th>\n",
              "      <td>Assam</td>\n",
              "      <td>21.875561</td>\n",
              "      <td>26.407384</td>\n",
              "      <td>93.255130</td>\n",
              "    </tr>\n",
              "    <tr>\n",
              "      <th>4</th>\n",
              "      <td>Bihar</td>\n",
              "      <td>24.486945</td>\n",
              "      <td>25.644085</td>\n",
              "      <td>85.906508</td>\n",
              "    </tr>\n",
              "  </tbody>\n",
              "</table>\n",
              "</div>"
            ],
            "text/plain": [
              "                 State  AverageTemperature        lat        lon\n",
              "0  Andaman And Nicobar           27.231677  10.000105  93.000019\n",
              "1       Andhra Pradesh           27.090003  15.924091  80.186381\n",
              "2    Arunachal Pradesh           13.795670  28.093770  94.592133\n",
              "3                Assam           21.875561  26.407384  93.255130\n",
              "4                Bihar           24.486945  25.644085  85.906508"
            ]
          },
          "execution_count": 130,
          "metadata": {},
          "output_type": "execute_result"
        }
      ],
      "source": [
        "india_temp.head()"
      ]
    },
    {
      "cell_type": "code",
      "execution_count": 131,
      "metadata": {
        "id": "yvVkB4cChLJn"
      },
      "outputs": [],
      "source": [
        "import folium\n",
        "from folium.plugins import HeatMap\n",
        "basemap=folium.Map()"
      ]
    },
    {
      "cell_type": "code",
      "execution_count": 132,
      "metadata": {
        "colab": {
          "base_uri": "https://localhost:8080/",
          "height": 685
        },
        "id": "lqnir5VShLJn",
        "outputId": "0c42a798-6b5a-408d-e99f-0575dc4e0359"
      },
      "outputs": [
        {
          "data": {
            "text/html": [
              "<div style=\"width:100%;\"><div style=\"position:relative;width:100%;height:0;padding-bottom:60%;\"><span style=\"color:#565656\">Make this Notebook Trusted to load map: File -> Trust Notebook</span><iframe srcdoc=\"&lt;!DOCTYPE html&gt;\n",
              "&lt;head&gt;    \n",
              "    &lt;meta http-equiv=&quot;content-type&quot; content=&quot;text/html; charset=UTF-8&quot; /&gt;\n",
              "    \n",
              "        &lt;script&gt;\n",
              "            L_NO_TOUCH = false;\n",
              "            L_DISABLE_3D = false;\n",
              "        &lt;/script&gt;\n",
              "    \n",
              "    &lt;style&gt;html, body {width: 100%;height: 100%;margin: 0;padding: 0;}&lt;/style&gt;\n",
              "    &lt;style&gt;#map {position:absolute;top:0;bottom:0;right:0;left:0;}&lt;/style&gt;\n",
              "    &lt;script src=&quot;https://cdn.jsdelivr.net/npm/leaflet@1.6.0/dist/leaflet.js&quot;&gt;&lt;/script&gt;\n",
              "    &lt;script src=&quot;https://code.jquery.com/jquery-1.12.4.min.js&quot;&gt;&lt;/script&gt;\n",
              "    &lt;script src=&quot;https://maxcdn.bootstrapcdn.com/bootstrap/3.2.0/js/bootstrap.min.js&quot;&gt;&lt;/script&gt;\n",
              "    &lt;script src=&quot;https://cdnjs.cloudflare.com/ajax/libs/Leaflet.awesome-markers/2.0.2/leaflet.awesome-markers.js&quot;&gt;&lt;/script&gt;\n",
              "    &lt;link rel=&quot;stylesheet&quot; href=&quot;https://cdn.jsdelivr.net/npm/leaflet@1.6.0/dist/leaflet.css&quot;/&gt;\n",
              "    &lt;link rel=&quot;stylesheet&quot; href=&quot;https://maxcdn.bootstrapcdn.com/bootstrap/3.2.0/css/bootstrap.min.css&quot;/&gt;\n",
              "    &lt;link rel=&quot;stylesheet&quot; href=&quot;https://maxcdn.bootstrapcdn.com/bootstrap/3.2.0/css/bootstrap-theme.min.css&quot;/&gt;\n",
              "    &lt;link rel=&quot;stylesheet&quot; href=&quot;https://maxcdn.bootstrapcdn.com/font-awesome/4.6.3/css/font-awesome.min.css&quot;/&gt;\n",
              "    &lt;link rel=&quot;stylesheet&quot; href=&quot;https://cdnjs.cloudflare.com/ajax/libs/Leaflet.awesome-markers/2.0.2/leaflet.awesome-markers.css&quot;/&gt;\n",
              "    &lt;link rel=&quot;stylesheet&quot; href=&quot;https://cdn.jsdelivr.net/gh/python-visualization/folium/folium/templates/leaflet.awesome.rotate.min.css&quot;/&gt;\n",
              "    \n",
              "            &lt;meta name=&quot;viewport&quot; content=&quot;width=device-width,\n",
              "                initial-scale=1.0, maximum-scale=1.0, user-scalable=no&quot; /&gt;\n",
              "            &lt;style&gt;\n",
              "                #map_c8c8267f84cc154f0e614bc0a8b13b23 {\n",
              "                    position: relative;\n",
              "                    width: 100.0%;\n",
              "                    height: 100.0%;\n",
              "                    left: 0.0%;\n",
              "                    top: 0.0%;\n",
              "                }\n",
              "            &lt;/style&gt;\n",
              "        \n",
              "    &lt;script src=&quot;https://cdn.jsdelivr.net/gh/python-visualization/folium@master/folium/templates/leaflet_heat.min.js&quot;&gt;&lt;/script&gt;\n",
              "&lt;/head&gt;\n",
              "&lt;body&gt;    \n",
              "    \n",
              "            &lt;div class=&quot;folium-map&quot; id=&quot;map_c8c8267f84cc154f0e614bc0a8b13b23&quot; &gt;&lt;/div&gt;\n",
              "        \n",
              "&lt;/body&gt;\n",
              "&lt;script&gt;    \n",
              "    \n",
              "            var map_c8c8267f84cc154f0e614bc0a8b13b23 = L.map(\n",
              "                &quot;map_c8c8267f84cc154f0e614bc0a8b13b23&quot;,\n",
              "                {\n",
              "                    center: [0, 0],\n",
              "                    crs: L.CRS.EPSG3857,\n",
              "                    zoom: 1,\n",
              "                    zoomControl: true,\n",
              "                    preferCanvas: false,\n",
              "                }\n",
              "            );\n",
              "\n",
              "            \n",
              "\n",
              "        \n",
              "    \n",
              "            var tile_layer_a9a0a760bb9260e2f34e7eff6a51a771 = L.tileLayer(\n",
              "                &quot;https://{s}.tile.openstreetmap.org/{z}/{x}/{y}.png&quot;,\n",
              "                {&quot;attribution&quot;: &quot;Data by \\u0026copy; \\u003ca href=\\&quot;http://openstreetmap.org\\&quot;\\u003eOpenStreetMap\\u003c/a\\u003e, under \\u003ca href=\\&quot;http://www.openstreetmap.org/copyright\\&quot;\\u003eODbL\\u003c/a\\u003e.&quot;, &quot;detectRetina&quot;: false, &quot;maxNativeZoom&quot;: 18, &quot;maxZoom&quot;: 18, &quot;minZoom&quot;: 0, &quot;noWrap&quot;: false, &quot;opacity&quot;: 1, &quot;subdomains&quot;: &quot;abc&quot;, &quot;tms&quot;: false}\n",
              "            ).addTo(map_c8c8267f84cc154f0e614bc0a8b13b23);\n",
              "        \n",
              "    \n",
              "            var heat_map_a66960e86adf2eeb8e1406a96e2e6a78 = L.heatLayer(\n",
              "                [[10.0001051, 93.0000194, 27.231677330173778], [15.9240905, 80.1863809, 27.09000279106858], [28.0937702, 94.5921326, 13.795669968482667], [26.4073841, 93.2551303, 21.875561316501354], [25.6440845, 85.906508, 24.486945265681182], [30.7334421, 76.7797143, 13.381667312348668], [21.6637359, 81.8406351, 25.589013955342903], [20.2733604, 73.0044988, 24.969917862838916], [20.4200049, 72.8637629, 26.274002818035427], [28.6517178, 77.2219388, 25.16586090225564], [15.3004543, 74.0855134, 25.75592503987241], [22.3850051, 71.745261, 26.29618770627063], [29.0, 76.0, 24.236842940685047], [31.8167602, 77.3493205, 9.098241162227602], [33.6649297, 75.1629584, 3.204061692969871], [23.6577621, 85.1691051, 24.92937395125849], [14.5203896, 75.7223521, 25.622263157894736], [10.3528744, 76.5120396, 26.31962640901771], [23.8143419, 77.5340719, 25.261987230646447], [18.9068356, 75.6741579, 25.93338755980861], [24.7208818, 93.9229386, 21.1866836689038], [25.5379432, 91.2999102, 23.43801828298887], [23.2146169, 92.8687612, 23.31538814229249], [26.1630556, 94.5884911, 21.39875933423302], [20.5431241, 84.6897321, 25.927605055292258], [11.9340568, 79.8306447, 27.266897129186603], [30.9293211, 75.5004841, 23.338020163226115], [26.8105777, 73.7684549, 25.725265944143395], [27.601029, 88.4541364, 3.149101087394281], [10.9094334, 78.3665347, 26.66781220095694], [23.7750823, 91.7025091, 24.75000671406003], [27.1303344, 80.859666, 24.645433523654162], [30.0417376, 79.089691, 14.69714074074074], [22.9964948, 87.6855882, 24.915778789077958]],\n",
              "                {&quot;blur&quot;: 15, &quot;maxZoom&quot;: 18, &quot;minOpacity&quot;: 0.5, &quot;radius&quot;: 15, &quot;zoom&quot;: 20}\n",
              "            ).addTo(map_c8c8267f84cc154f0e614bc0a8b13b23);\n",
              "        \n",
              "&lt;/script&gt;\" style=\"position:absolute;width:100%;height:100%;left:0;top:0;border:none !important;\" allowfullscreen webkitallowfullscreen mozallowfullscreen></iframe></div></div>"
            ],
            "text/plain": [
              "<folium.folium.Map at 0x1764f366948>"
            ]
          },
          "execution_count": 132,
          "metadata": {},
          "output_type": "execute_result"
        }
      ],
      "source": [
        "HeatMap(india_temp[['lat','lon','AverageTemperature']],zoom=20,radius=15).add_to(basemap)\n",
        "basemap"
      ]
    },
    {
      "cell_type": "markdown",
      "metadata": {
        "id": "8yryN22HhLJo"
      },
      "source": [
        "## Analyse Average Temperature Of Major Indian Cities By Month"
      ]
    },
    {
      "cell_type": "code",
      "execution_count": 133,
      "metadata": {
        "colab": {
          "base_uri": "https://localhost:8080/",
          "height": 206
        },
        "id": "R8BNySjzhLJo",
        "outputId": "14bd8eb1-ddf5-4ca2-e288-dce6598f36e2"
      },
      "outputs": [
        {
          "data": {
            "text/html": [
              "<div>\n",
              "<style scoped>\n",
              "    .dataframe tbody tr th:only-of-type {\n",
              "        vertical-align: middle;\n",
              "    }\n",
              "\n",
              "    .dataframe tbody tr th {\n",
              "        vertical-align: top;\n",
              "    }\n",
              "\n",
              "    .dataframe thead th {\n",
              "        text-align: right;\n",
              "    }\n",
              "</style>\n",
              "<table border=\"1\" class=\"dataframe\">\n",
              "  <thead>\n",
              "    <tr style=\"text-align: right;\">\n",
              "      <th></th>\n",
              "      <th>dt</th>\n",
              "      <th>AverageTemperature</th>\n",
              "      <th>AverageTemperatureUncertainty</th>\n",
              "      <th>City</th>\n",
              "      <th>Country</th>\n",
              "      <th>Latitude</th>\n",
              "      <th>Longitude</th>\n",
              "    </tr>\n",
              "  </thead>\n",
              "  <tbody>\n",
              "    <tr>\n",
              "      <th>0</th>\n",
              "      <td>1743-11-01</td>\n",
              "      <td>6.068</td>\n",
              "      <td>1.737</td>\n",
              "      <td>Århus</td>\n",
              "      <td>Denmark</td>\n",
              "      <td>57.05N</td>\n",
              "      <td>10.33E</td>\n",
              "    </tr>\n",
              "    <tr>\n",
              "      <th>1</th>\n",
              "      <td>1743-12-01</td>\n",
              "      <td>NaN</td>\n",
              "      <td>NaN</td>\n",
              "      <td>Århus</td>\n",
              "      <td>Denmark</td>\n",
              "      <td>57.05N</td>\n",
              "      <td>10.33E</td>\n",
              "    </tr>\n",
              "    <tr>\n",
              "      <th>2</th>\n",
              "      <td>1744-01-01</td>\n",
              "      <td>NaN</td>\n",
              "      <td>NaN</td>\n",
              "      <td>Århus</td>\n",
              "      <td>Denmark</td>\n",
              "      <td>57.05N</td>\n",
              "      <td>10.33E</td>\n",
              "    </tr>\n",
              "    <tr>\n",
              "      <th>3</th>\n",
              "      <td>1744-02-01</td>\n",
              "      <td>NaN</td>\n",
              "      <td>NaN</td>\n",
              "      <td>Århus</td>\n",
              "      <td>Denmark</td>\n",
              "      <td>57.05N</td>\n",
              "      <td>10.33E</td>\n",
              "    </tr>\n",
              "    <tr>\n",
              "      <th>4</th>\n",
              "      <td>1744-03-01</td>\n",
              "      <td>NaN</td>\n",
              "      <td>NaN</td>\n",
              "      <td>Århus</td>\n",
              "      <td>Denmark</td>\n",
              "      <td>57.05N</td>\n",
              "      <td>10.33E</td>\n",
              "    </tr>\n",
              "  </tbody>\n",
              "</table>\n",
              "</div>"
            ],
            "text/plain": [
              "           dt  AverageTemperature  AverageTemperatureUncertainty   City  \\\n",
              "0  1743-11-01               6.068                          1.737  Århus   \n",
              "1  1743-12-01                 NaN                            NaN  Århus   \n",
              "2  1744-01-01                 NaN                            NaN  Århus   \n",
              "3  1744-02-01                 NaN                            NaN  Århus   \n",
              "4  1744-03-01                 NaN                            NaN  Århus   \n",
              "\n",
              "   Country Latitude Longitude  \n",
              "0  Denmark   57.05N    10.33E  \n",
              "1  Denmark   57.05N    10.33E  \n",
              "2  Denmark   57.05N    10.33E  \n",
              "3  Denmark   57.05N    10.33E  \n",
              "4  Denmark   57.05N    10.33E  "
            ]
          },
          "execution_count": 133,
          "metadata": {},
          "output_type": "execute_result"
        }
      ],
      "source": [
        "cities=pd.read_csv('D:/data analytics and machine learning project/global temperature/data/GlobalLandTemperaturesByCity.csv')\n",
        "cities.head()"
      ]
    },
    {
      "cell_type": "code",
      "execution_count": 134,
      "metadata": {
        "colab": {
          "base_uri": "https://localhost:8080/"
        },
        "id": "HHWbXv-YhLJo",
        "outputId": "a3a51496-bc34-4299-f3c0-1bfa554bacb7"
      },
      "outputs": [
        {
          "data": {
            "text/plain": [
              "(8599212, 7)"
            ]
          },
          "execution_count": 134,
          "metadata": {},
          "output_type": "execute_result"
        }
      ],
      "source": [
        "cities.shape"
      ]
    },
    {
      "cell_type": "code",
      "execution_count": 135,
      "metadata": {
        "id": "5pvHpxlEhLJo"
      },
      "outputs": [],
      "source": [
        "India=cities[cities['Country']=='India']"
      ]
    },
    {
      "cell_type": "code",
      "execution_count": 136,
      "metadata": {
        "colab": {
          "base_uri": "https://localhost:8080/"
        },
        "id": "WkTDHRDrhLJo",
        "outputId": "1ab6ead6-7400-47c3-f04f-239ab4e8096f"
      },
      "outputs": [
        {
          "data": {
            "text/plain": [
              "array(['Abohar', 'Achalpur', 'Adilabad', 'Adoni', 'Agartala', 'Agra',\n",
              "       'Ahmadabad', 'Ahmadnagar', 'Aizawl', 'Ajmer', 'Akola', 'Alandur',\n",
              "       'Alappuzha', 'Aligarh', 'Allahabad', 'Alwar', 'Ambala',\n",
              "       'Ambarnath', 'Ambattur', 'Ambur', 'Amravati', 'Amritsar', 'Amroha',\n",
              "       'Anand', 'Anantapur', 'Ara', 'Asansol', 'Aurangabad', 'Avadi',\n",
              "       'Azamgarh', 'Badlapur', 'Bagaha', 'Bahadurgarh', 'Baharampur',\n",
              "       'Bahraich', 'Baidyabati', 'Baleshwar', 'Ballia', 'Bally',\n",
              "       'Balurghat', 'Banda', 'Bangalore', 'Bangaon', 'Bankura',\n",
              "       'Bansbaria', 'Barakpur', 'Baranagar', 'Barasat', 'Barddhaman',\n",
              "       'Bareli', 'Baripada', 'Barnala', 'Barsi', 'Basirhat', 'Basti',\n",
              "       'Batala', 'Beawar', 'Begusarai', 'Belgaum', 'Bellary', 'Bettiah',\n",
              "       'Bhadravati', 'Bhadreswar', 'Bhagalpur', 'Bharatpur', 'Bharuch',\n",
              "       'Bhatpara', 'Bhavnagar', 'Bhilai', 'Bhilwara', 'Bhimavaram',\n",
              "       'Bhind', 'Bhiwandi', 'Bhiwani', 'Bhopal', 'Bhubaneswar', 'Bhuj',\n",
              "       'Bhusawal', 'Bid', 'Bidar', 'Bihar', 'Bijapur', 'Bikaner',\n",
              "       'Bilaspur', 'Bokaro', 'Bombay', 'Botad', 'Brahmapur', 'Budaun',\n",
              "       'Bulandshahr', 'Burhanpur', 'Calcutta', 'Champdani',\n",
              "       'Chandannagar', 'Chandausi', 'Chandigarh', 'Chandrapur', 'Chas',\n",
              "       'Chhapra', 'Chhatarpur', 'Chhindwara', 'Chikmagalur',\n",
              "       'Chitradurga', 'Chittaurgarh', 'Churu', 'Cuddapah', 'Damoh',\n",
              "       'Darbhanga', 'Darjiling', 'Dehra Dun', 'Dehri', 'Delhi', 'Deoria',\n",
              "       'Dewas', 'Dhanbad', 'Dharmavaram', 'Dhaulpur', 'Dhule',\n",
              "       'Dibrugarh', 'Dimapur', 'Dindigul', 'Dum Dum', 'Durg', 'Durgapur',\n",
              "       'Eluru', 'Erode', 'Etah', 'Etawah', 'Faizabad', 'Faridabad',\n",
              "       'Farrukhabad', 'Fatehpur', 'Firozabad', 'Firozpur', 'Gadag',\n",
              "       'Gandhidham', 'Gandhinagar', 'Ganganagar', 'Gangapur', 'Gangawati',\n",
              "       'Gaya', 'Ghaziabad', 'Ghazipur', 'Godhra', 'Gonda', 'Gondal',\n",
              "       'Gorakhpur', 'Gudalur', 'Gudivada', 'Gulbarga', 'Guna', 'Guntakal',\n",
              "       'Guntur', 'Gurgaon', 'Guwahati', 'Gwalior', 'Habra', 'Hajipur',\n",
              "       'Haldia', 'Haldwani', 'Halisahar', 'Hanumangarh', 'Haora', 'Hapur',\n",
              "       'Hardoi', 'Haridwar', 'Hassan', 'Hathras', 'Hazaribag', 'Hindupur',\n",
              "       'Hisar', 'Hoshangabad', 'Hoshiarpur', 'Hospet', 'Hosur', 'Hubli',\n",
              "       'Hyderabad', 'Ichalkaranji', 'Imphal', 'Indore', 'Ingraj Bazar',\n",
              "       'Itarsi', 'Jabalpur', 'Jagadhri', 'Jaipur', 'Jalandhar', 'Jalna',\n",
              "       'Jalpaiguri', 'Jamalpur', 'Jammu', 'Jamnagar', 'Jamshedpur',\n",
              "       'Jamuria', 'Jaunpur', 'Jetpur', 'Jhansi', 'Jhunjhunun', 'Jind',\n",
              "       'Jodhpur', 'Junagadh', 'Kaithal', 'Kakinada', 'Kalol', 'Kalyan',\n",
              "       'Kamarhati', 'Kanchipuram', 'Kanchrapara', 'Kanpur', 'Kapra',\n",
              "       'Karimnagar', 'Karnal', 'Kashipur', 'Katihar', 'Khammam',\n",
              "       'Khandwa', 'Khanna', 'Kharagpur', 'Khardaha', 'Khurja', 'Kochi',\n",
              "       'Kolar', 'Kolhapur', 'Kollam', 'Korba', 'Kota', 'Krishnanagar',\n",
              "       'Kulti', 'Kumbakonam', 'Lakhimpur', 'Lakhnau', 'Lalitpur', 'Latur',\n",
              "       'Loni', 'Ludhiana', 'Machilipatnam', 'Madanapalle', 'Madhyamgram',\n",
              "       'Madras', 'Madurai', 'Mahbubnagar', 'Mahesana', 'Maisuru',\n",
              "       'Malegaon', 'Maler Kotla', 'Mandsaur', 'Mandya', 'Mangaluru',\n",
              "       'Mathura', 'Mau', 'Mirzapur', 'Moga', 'Moradabad', 'Morena',\n",
              "       'Mormugao', 'Morvi', 'Motihari', 'Munger', 'Murwara',\n",
              "       'Muzaffarnagar', 'Muzaffarpur', 'Nadiad', 'Nagda', 'Nagercoil',\n",
              "       'Nagpur', 'Naihati', 'Nalgonda', 'Nanded', 'Nandurbar', 'Nandyal',\n",
              "       'Nangloi Jat', 'Navadwip', 'Navsari', 'New Delhi', 'Neyveli',\n",
              "       'Nizamabad', 'Ongole', 'Orai', 'Palakkad', 'Palanpur', 'Pali',\n",
              "       'Pallavaram', 'Palwal', 'Panihati', 'Panipat', 'Panvel',\n",
              "       'Parbhani', 'Patan', 'Pathankot', 'Patiala', 'Patna', 'Phagwara',\n",
              "       'Pilibhit', 'Pimpri', 'Pondicherry', 'Ponnani', 'Porbandar',\n",
              "       'Port Blair', 'Proddatur', 'Pudukkottai', 'Pune', 'Puri', 'Purnia',\n",
              "       'Puruliya', 'Rae Bareli', 'Raichur', 'Raiganj', 'Raigarh',\n",
              "       'Raipur', 'Rajamahendri', 'Rajapalaiyam', 'Rajkot', 'Rajpur',\n",
              "       'Rampur', 'Ranchi', 'Raniganj', 'Ratlam', 'Raurkela', 'Rewa',\n",
              "       'Rewari', 'Rishra', 'Robertsonpet', 'Rohtak', 'Sagar',\n",
              "       'Saharanpur', 'Saharsa', 'Sambalpur', 'Sambhal', 'Sasaram',\n",
              "       'Satara', 'Satna', 'Sawai Madhopur', 'Selam', 'Seoni',\n",
              "       'Shahjahanpur', 'Shantipur', 'Shiliguri', 'Shillong', 'Shimla',\n",
              "       'Shimoga', 'Sholapur', 'Shrirampur', 'Sikar', 'Silchar', 'Sirsa',\n",
              "       'Sitapur', 'Siwan', 'Sonipat', 'Srikakulam', 'Srinagar',\n",
              "       'Sultanpur', 'Surat', 'Surendranagar', 'Suriapet',\n",
              "       'Tadepallegudem', 'Tambaram', 'Tenali', 'Thana', 'Thanesar',\n",
              "       'Thanjavur', 'Thiruvananthapuram', 'Thrissur', 'Tiruchchirappalli',\n",
              "       'Tirunelveli', 'Tirupati', 'Tiruppur', 'Tiruvannamalai',\n",
              "       'Tiruvottiyur', 'Titagarh', 'Tonk', 'Tumkur', 'Udgir', 'Udupi',\n",
              "       'Ujjain', 'Ulhasnagar', 'Ulubaria', 'Unnao', 'Vadodara',\n",
              "       'Varanasi', 'Vejalpur', 'Velluru', 'Veraval', 'Vidisha',\n",
              "       'Vijayawada', 'Virar', 'Visakhapatnam', 'Vizianagaram', 'Warangal',\n",
              "       'Wardha', 'Yamunanagar', 'Yavatmal', 'Yelahanka'], dtype=object)"
            ]
          },
          "execution_count": 136,
          "metadata": {},
          "output_type": "execute_result"
        }
      ],
      "source": [
        "India['City'].unique()"
      ]
    },
    {
      "cell_type": "code",
      "execution_count": 137,
      "metadata": {
        "id": "s7uwJwIhhLJo"
      },
      "outputs": [],
      "source": [
        "Cities=['New Delhi','Bangalore','Hyderabad','Pune','Madras','Varanasi','Gurgaon']"
      ]
    },
    {
      "cell_type": "code",
      "execution_count": 138,
      "metadata": {
        "id": "vZ84Am2GhLJo"
      },
      "outputs": [],
      "source": [
        "cities=India[India['City'].isin(Cities)]"
      ]
    },
    {
      "cell_type": "code",
      "execution_count": 139,
      "metadata": {
        "colab": {
          "base_uri": "https://localhost:8080/"
        },
        "id": "wG7na8NjhLJp",
        "outputId": "6b921da6-f5b1-4dbe-8a94-5a8abe2975d5"
      },
      "outputs": [
        {
          "data": {
            "text/plain": [
              "(18291, 7)"
            ]
          },
          "execution_count": 139,
          "metadata": {},
          "output_type": "execute_result"
        }
      ],
      "source": [
        "cities.shape"
      ]
    },
    {
      "cell_type": "code",
      "execution_count": 140,
      "metadata": {
        "colab": {
          "base_uri": "https://localhost:8080/",
          "height": 206
        },
        "id": "Tf483XfahLJp",
        "outputId": "cf8a45ee-c746-4f3e-dcc7-01878eef654f"
      },
      "outputs": [
        {
          "data": {
            "text/html": [
              "<div>\n",
              "<style scoped>\n",
              "    .dataframe tbody tr th:only-of-type {\n",
              "        vertical-align: middle;\n",
              "    }\n",
              "\n",
              "    .dataframe tbody tr th {\n",
              "        vertical-align: top;\n",
              "    }\n",
              "\n",
              "    .dataframe thead th {\n",
              "        text-align: right;\n",
              "    }\n",
              "</style>\n",
              "<table border=\"1\" class=\"dataframe\">\n",
              "  <thead>\n",
              "    <tr style=\"text-align: right;\">\n",
              "      <th></th>\n",
              "      <th>dt</th>\n",
              "      <th>AverageTemperature</th>\n",
              "      <th>AverageTemperatureUncertainty</th>\n",
              "      <th>City</th>\n",
              "      <th>Country</th>\n",
              "      <th>Latitude</th>\n",
              "      <th>Longitude</th>\n",
              "    </tr>\n",
              "  </thead>\n",
              "  <tbody>\n",
              "    <tr>\n",
              "      <th>630113</th>\n",
              "      <td>1796-01-01</td>\n",
              "      <td>22.672</td>\n",
              "      <td>2.317</td>\n",
              "      <td>Bangalore</td>\n",
              "      <td>India</td>\n",
              "      <td>12.05N</td>\n",
              "      <td>77.26E</td>\n",
              "    </tr>\n",
              "    <tr>\n",
              "      <th>630114</th>\n",
              "      <td>1796-02-01</td>\n",
              "      <td>24.420</td>\n",
              "      <td>1.419</td>\n",
              "      <td>Bangalore</td>\n",
              "      <td>India</td>\n",
              "      <td>12.05N</td>\n",
              "      <td>77.26E</td>\n",
              "    </tr>\n",
              "    <tr>\n",
              "      <th>630115</th>\n",
              "      <td>1796-03-01</td>\n",
              "      <td>26.092</td>\n",
              "      <td>2.459</td>\n",
              "      <td>Bangalore</td>\n",
              "      <td>India</td>\n",
              "      <td>12.05N</td>\n",
              "      <td>77.26E</td>\n",
              "    </tr>\n",
              "    <tr>\n",
              "      <th>630116</th>\n",
              "      <td>1796-04-01</td>\n",
              "      <td>27.687</td>\n",
              "      <td>1.746</td>\n",
              "      <td>Bangalore</td>\n",
              "      <td>India</td>\n",
              "      <td>12.05N</td>\n",
              "      <td>77.26E</td>\n",
              "    </tr>\n",
              "    <tr>\n",
              "      <th>630117</th>\n",
              "      <td>1796-05-01</td>\n",
              "      <td>27.619</td>\n",
              "      <td>1.277</td>\n",
              "      <td>Bangalore</td>\n",
              "      <td>India</td>\n",
              "      <td>12.05N</td>\n",
              "      <td>77.26E</td>\n",
              "    </tr>\n",
              "  </tbody>\n",
              "</table>\n",
              "</div>"
            ],
            "text/plain": [
              "                dt  AverageTemperature  AverageTemperatureUncertainty  \\\n",
              "630113  1796-01-01              22.672                          2.317   \n",
              "630114  1796-02-01              24.420                          1.419   \n",
              "630115  1796-03-01              26.092                          2.459   \n",
              "630116  1796-04-01              27.687                          1.746   \n",
              "630117  1796-05-01              27.619                          1.277   \n",
              "\n",
              "             City Country Latitude Longitude  \n",
              "630113  Bangalore   India   12.05N    77.26E  \n",
              "630114  Bangalore   India   12.05N    77.26E  \n",
              "630115  Bangalore   India   12.05N    77.26E  \n",
              "630116  Bangalore   India   12.05N    77.26E  \n",
              "630117  Bangalore   India   12.05N    77.26E  "
            ]
          },
          "execution_count": 140,
          "metadata": {},
          "output_type": "execute_result"
        }
      ],
      "source": [
        "cities.head()"
      ]
    },
    {
      "cell_type": "code",
      "execution_count": 141,
      "metadata": {
        "id": "Y8djzAJOhLJp"
      },
      "outputs": [],
      "source": [
        "## remove N & E from lat & Lon\n",
        "cities['Latitude']=cities['Latitude'].str.strip('N')\n",
        "cities['Longitude']=cities['Longitude'].str.strip('E')"
      ]
    },
    {
      "cell_type": "code",
      "execution_count": 142,
      "metadata": {
        "colab": {
          "base_uri": "https://localhost:8080/",
          "height": 206
        },
        "id": "2LZL8sUUhLJp",
        "outputId": "0d67c817-8a57-4c95-cb07-dc9667228fa3"
      },
      "outputs": [
        {
          "data": {
            "text/html": [
              "<div>\n",
              "<style scoped>\n",
              "    .dataframe tbody tr th:only-of-type {\n",
              "        vertical-align: middle;\n",
              "    }\n",
              "\n",
              "    .dataframe tbody tr th {\n",
              "        vertical-align: top;\n",
              "    }\n",
              "\n",
              "    .dataframe thead th {\n",
              "        text-align: right;\n",
              "    }\n",
              "</style>\n",
              "<table border=\"1\" class=\"dataframe\">\n",
              "  <thead>\n",
              "    <tr style=\"text-align: right;\">\n",
              "      <th></th>\n",
              "      <th>dt</th>\n",
              "      <th>AverageTemperature</th>\n",
              "      <th>AverageTemperatureUncertainty</th>\n",
              "      <th>City</th>\n",
              "      <th>Country</th>\n",
              "      <th>Latitude</th>\n",
              "      <th>Longitude</th>\n",
              "    </tr>\n",
              "  </thead>\n",
              "  <tbody>\n",
              "    <tr>\n",
              "      <th>630113</th>\n",
              "      <td>1796-01-01</td>\n",
              "      <td>22.672</td>\n",
              "      <td>2.317</td>\n",
              "      <td>Bangalore</td>\n",
              "      <td>India</td>\n",
              "      <td>12.05</td>\n",
              "      <td>77.26</td>\n",
              "    </tr>\n",
              "    <tr>\n",
              "      <th>630114</th>\n",
              "      <td>1796-02-01</td>\n",
              "      <td>24.420</td>\n",
              "      <td>1.419</td>\n",
              "      <td>Bangalore</td>\n",
              "      <td>India</td>\n",
              "      <td>12.05</td>\n",
              "      <td>77.26</td>\n",
              "    </tr>\n",
              "    <tr>\n",
              "      <th>630115</th>\n",
              "      <td>1796-03-01</td>\n",
              "      <td>26.092</td>\n",
              "      <td>2.459</td>\n",
              "      <td>Bangalore</td>\n",
              "      <td>India</td>\n",
              "      <td>12.05</td>\n",
              "      <td>77.26</td>\n",
              "    </tr>\n",
              "    <tr>\n",
              "      <th>630116</th>\n",
              "      <td>1796-04-01</td>\n",
              "      <td>27.687</td>\n",
              "      <td>1.746</td>\n",
              "      <td>Bangalore</td>\n",
              "      <td>India</td>\n",
              "      <td>12.05</td>\n",
              "      <td>77.26</td>\n",
              "    </tr>\n",
              "    <tr>\n",
              "      <th>630117</th>\n",
              "      <td>1796-05-01</td>\n",
              "      <td>27.619</td>\n",
              "      <td>1.277</td>\n",
              "      <td>Bangalore</td>\n",
              "      <td>India</td>\n",
              "      <td>12.05</td>\n",
              "      <td>77.26</td>\n",
              "    </tr>\n",
              "  </tbody>\n",
              "</table>\n",
              "</div>"
            ],
            "text/plain": [
              "                dt  AverageTemperature  AverageTemperatureUncertainty  \\\n",
              "630113  1796-01-01              22.672                          2.317   \n",
              "630114  1796-02-01              24.420                          1.419   \n",
              "630115  1796-03-01              26.092                          2.459   \n",
              "630116  1796-04-01              27.687                          1.746   \n",
              "630117  1796-05-01              27.619                          1.277   \n",
              "\n",
              "             City Country Latitude Longitude  \n",
              "630113  Bangalore   India    12.05     77.26  \n",
              "630114  Bangalore   India    12.05     77.26  \n",
              "630115  Bangalore   India    12.05     77.26  \n",
              "630116  Bangalore   India    12.05     77.26  \n",
              "630117  Bangalore   India    12.05     77.26  "
            ]
          },
          "execution_count": 142,
          "metadata": {},
          "output_type": "execute_result"
        }
      ],
      "source": [
        "cities.head()"
      ]
    },
    {
      "cell_type": "code",
      "execution_count": 143,
      "metadata": {
        "id": "G4GH-8TfhLJp"
      },
      "outputs": [],
      "source": [
        "cities['dt']=pd.to_datetime(cities['dt'])"
      ]
    },
    {
      "cell_type": "code",
      "execution_count": 144,
      "metadata": {
        "id": "m9kX5nX1hLJp"
      },
      "outputs": [],
      "source": [
        "cities['Month']=cities['dt'].dt.month\n",
        "cities.drop('dt',axis=1,inplace=True)"
      ]
    },
    {
      "cell_type": "code",
      "execution_count": 145,
      "metadata": {
        "colab": {
          "base_uri": "https://localhost:8080/",
          "height": 206
        },
        "id": "80cg1oEFhLJq",
        "outputId": "64d4aea4-a8ec-488a-bd96-2cb041138b43"
      },
      "outputs": [
        {
          "data": {
            "text/html": [
              "<div>\n",
              "<style scoped>\n",
              "    .dataframe tbody tr th:only-of-type {\n",
              "        vertical-align: middle;\n",
              "    }\n",
              "\n",
              "    .dataframe tbody tr th {\n",
              "        vertical-align: top;\n",
              "    }\n",
              "\n",
              "    .dataframe thead th {\n",
              "        text-align: right;\n",
              "    }\n",
              "</style>\n",
              "<table border=\"1\" class=\"dataframe\">\n",
              "  <thead>\n",
              "    <tr style=\"text-align: right;\">\n",
              "      <th></th>\n",
              "      <th>AverageTemperature</th>\n",
              "      <th>AverageTemperatureUncertainty</th>\n",
              "      <th>City</th>\n",
              "      <th>Country</th>\n",
              "      <th>Latitude</th>\n",
              "      <th>Longitude</th>\n",
              "      <th>Month</th>\n",
              "    </tr>\n",
              "  </thead>\n",
              "  <tbody>\n",
              "    <tr>\n",
              "      <th>630113</th>\n",
              "      <td>22.672</td>\n",
              "      <td>2.317</td>\n",
              "      <td>Bangalore</td>\n",
              "      <td>India</td>\n",
              "      <td>12.05</td>\n",
              "      <td>77.26</td>\n",
              "      <td>1</td>\n",
              "    </tr>\n",
              "    <tr>\n",
              "      <th>630114</th>\n",
              "      <td>24.420</td>\n",
              "      <td>1.419</td>\n",
              "      <td>Bangalore</td>\n",
              "      <td>India</td>\n",
              "      <td>12.05</td>\n",
              "      <td>77.26</td>\n",
              "      <td>2</td>\n",
              "    </tr>\n",
              "    <tr>\n",
              "      <th>630115</th>\n",
              "      <td>26.092</td>\n",
              "      <td>2.459</td>\n",
              "      <td>Bangalore</td>\n",
              "      <td>India</td>\n",
              "      <td>12.05</td>\n",
              "      <td>77.26</td>\n",
              "      <td>3</td>\n",
              "    </tr>\n",
              "    <tr>\n",
              "      <th>630116</th>\n",
              "      <td>27.687</td>\n",
              "      <td>1.746</td>\n",
              "      <td>Bangalore</td>\n",
              "      <td>India</td>\n",
              "      <td>12.05</td>\n",
              "      <td>77.26</td>\n",
              "      <td>4</td>\n",
              "    </tr>\n",
              "    <tr>\n",
              "      <th>630117</th>\n",
              "      <td>27.619</td>\n",
              "      <td>1.277</td>\n",
              "      <td>Bangalore</td>\n",
              "      <td>India</td>\n",
              "      <td>12.05</td>\n",
              "      <td>77.26</td>\n",
              "      <td>5</td>\n",
              "    </tr>\n",
              "  </tbody>\n",
              "</table>\n",
              "</div>"
            ],
            "text/plain": [
              "        AverageTemperature  AverageTemperatureUncertainty       City Country  \\\n",
              "630113              22.672                          2.317  Bangalore   India   \n",
              "630114              24.420                          1.419  Bangalore   India   \n",
              "630115              26.092                          2.459  Bangalore   India   \n",
              "630116              27.687                          1.746  Bangalore   India   \n",
              "630117              27.619                          1.277  Bangalore   India   \n",
              "\n",
              "       Latitude Longitude  Month  \n",
              "630113    12.05     77.26      1  \n",
              "630114    12.05     77.26      2  \n",
              "630115    12.05     77.26      3  \n",
              "630116    12.05     77.26      4  \n",
              "630117    12.05     77.26      5  "
            ]
          },
          "execution_count": 145,
          "metadata": {},
          "output_type": "execute_result"
        }
      ],
      "source": [
        "cities.head()"
      ]
    },
    {
      "cell_type": "code",
      "execution_count": 146,
      "metadata": {
        "colab": {
          "base_uri": "https://localhost:8080/",
          "height": 457
        },
        "id": "7GNIjYjahLJq",
        "outputId": "e4571cb6-9519-4cab-8938-82f5af7ab0be"
      },
      "outputs": [
        {
          "data": {
            "text/html": [
              "<div>\n",
              "<style scoped>\n",
              "    .dataframe tbody tr th:only-of-type {\n",
              "        vertical-align: middle;\n",
              "    }\n",
              "\n",
              "    .dataframe tbody tr th {\n",
              "        vertical-align: top;\n",
              "    }\n",
              "\n",
              "    .dataframe thead th {\n",
              "        text-align: right;\n",
              "    }\n",
              "</style>\n",
              "<table border=\"1\" class=\"dataframe\">\n",
              "  <thead>\n",
              "    <tr style=\"text-align: right;\">\n",
              "      <th></th>\n",
              "      <th></th>\n",
              "      <th>AverageTemperature</th>\n",
              "    </tr>\n",
              "    <tr>\n",
              "      <th>Month</th>\n",
              "      <th>City</th>\n",
              "      <th></th>\n",
              "    </tr>\n",
              "  </thead>\n",
              "  <tbody>\n",
              "    <tr>\n",
              "      <th rowspan=\"7\" valign=\"top\">1</th>\n",
              "      <th>Bangalore</th>\n",
              "      <td>22.713981</td>\n",
              "    </tr>\n",
              "    <tr>\n",
              "      <th>Gurgaon</th>\n",
              "      <td>14.238560</td>\n",
              "    </tr>\n",
              "    <tr>\n",
              "      <th>Hyderabad</th>\n",
              "      <td>22.758290</td>\n",
              "    </tr>\n",
              "    <tr>\n",
              "      <th>Madras</th>\n",
              "      <td>24.346733</td>\n",
              "    </tr>\n",
              "    <tr>\n",
              "      <th>New Delhi</th>\n",
              "      <td>14.238560</td>\n",
              "    </tr>\n",
              "    <tr>\n",
              "      <th>Pune</th>\n",
              "      <td>20.448205</td>\n",
              "    </tr>\n",
              "    <tr>\n",
              "      <th>Varanasi</th>\n",
              "      <td>15.596651</td>\n",
              "    </tr>\n",
              "    <tr>\n",
              "      <th rowspan=\"7\" valign=\"top\">2</th>\n",
              "      <th>Bangalore</th>\n",
              "      <td>24.656619</td>\n",
              "    </tr>\n",
              "    <tr>\n",
              "      <th>Gurgaon</th>\n",
              "      <td>17.144980</td>\n",
              "    </tr>\n",
              "    <tr>\n",
              "      <th>Hyderabad</th>\n",
              "      <td>25.317076</td>\n",
              "    </tr>\n",
              "    <tr>\n",
              "      <th>Madras</th>\n",
              "      <td>25.831405</td>\n",
              "    </tr>\n",
              "    <tr>\n",
              "      <th>New Delhi</th>\n",
              "      <td>17.144980</td>\n",
              "    </tr>\n",
              "    <tr>\n",
              "      <th>Pune</th>\n",
              "      <td>22.607924</td>\n",
              "    </tr>\n",
              "    <tr>\n",
              "      <th>Varanasi</th>\n",
              "      <td>18.716421</td>\n",
              "    </tr>\n",
              "    <tr>\n",
              "      <th rowspan=\"7\" valign=\"top\">3</th>\n",
              "      <th>Bangalore</th>\n",
              "      <td>27.062186</td>\n",
              "    </tr>\n",
              "    <tr>\n",
              "      <th>Gurgaon</th>\n",
              "      <td>23.014804</td>\n",
              "    </tr>\n",
              "    <tr>\n",
              "      <th>Hyderabad</th>\n",
              "      <td>28.803543</td>\n",
              "    </tr>\n",
              "    <tr>\n",
              "      <th>Madras</th>\n",
              "      <td>28.114448</td>\n",
              "    </tr>\n",
              "    <tr>\n",
              "      <th>New Delhi</th>\n",
              "      <td>23.014804</td>\n",
              "    </tr>\n",
              "    <tr>\n",
              "      <th>Pune</th>\n",
              "      <td>26.287686</td>\n",
              "    </tr>\n",
              "    <tr>\n",
              "      <th>Varanasi</th>\n",
              "      <td>24.651115</td>\n",
              "    </tr>\n",
              "    <tr>\n",
              "      <th rowspan=\"7\" valign=\"top\">4</th>\n",
              "      <th>Bangalore</th>\n",
              "      <td>27.988517</td>\n",
              "    </tr>\n",
              "    <tr>\n",
              "      <th>Gurgaon</th>\n",
              "      <td>29.004576</td>\n",
              "    </tr>\n",
              "    <tr>\n",
              "      <th>Hyderabad</th>\n",
              "      <td>31.465565</td>\n",
              "    </tr>\n",
              "    <tr>\n",
              "      <th>Madras</th>\n",
              "      <td>30.441304</td>\n",
              "    </tr>\n",
              "    <tr>\n",
              "      <th>New Delhi</th>\n",
              "      <td>29.004576</td>\n",
              "    </tr>\n",
              "    <tr>\n",
              "      <th>Pune</th>\n",
              "      <td>29.004401</td>\n",
              "    </tr>\n",
              "    <tr>\n",
              "      <th>Varanasi</th>\n",
              "      <td>30.190039</td>\n",
              "    </tr>\n",
              "    <tr>\n",
              "      <th rowspan=\"7\" valign=\"top\">5</th>\n",
              "      <th>Bangalore</th>\n",
              "      <td>27.522754</td>\n",
              "    </tr>\n",
              "    <tr>\n",
              "      <th>Gurgaon</th>\n",
              "      <td>33.297051</td>\n",
              "    </tr>\n",
              "    <tr>\n",
              "      <th>Hyderabad</th>\n",
              "      <td>32.702005</td>\n",
              "    </tr>\n",
              "    <tr>\n",
              "      <th>Madras</th>\n",
              "      <td>32.581952</td>\n",
              "    </tr>\n",
              "    <tr>\n",
              "      <th>New Delhi</th>\n",
              "      <td>33.297051</td>\n",
              "    </tr>\n",
              "    <tr>\n",
              "      <th>Pune</th>\n",
              "      <td>29.838203</td>\n",
              "    </tr>\n",
              "    <tr>\n",
              "      <th>Varanasi</th>\n",
              "      <td>33.313519</td>\n",
              "    </tr>\n",
              "    <tr>\n",
              "      <th rowspan=\"7\" valign=\"top\">6</th>\n",
              "      <th>Bangalore</th>\n",
              "      <td>25.468799</td>\n",
              "    </tr>\n",
              "    <tr>\n",
              "      <th>Gurgaon</th>\n",
              "      <td>33.866005</td>\n",
              "    </tr>\n",
              "    <tr>\n",
              "      <th>Hyderabad</th>\n",
              "      <td>29.968469</td>\n",
              "    </tr>\n",
              "    <tr>\n",
              "      <th>Madras</th>\n",
              "      <td>32.142383</td>\n",
              "    </tr>\n",
              "    <tr>\n",
              "      <th>New Delhi</th>\n",
              "      <td>33.866005</td>\n",
              "    </tr>\n",
              "    <tr>\n",
              "      <th>Pune</th>\n",
              "      <td>27.220029</td>\n",
              "    </tr>\n",
              "    <tr>\n",
              "      <th>Varanasi</th>\n",
              "      <td>32.570742</td>\n",
              "    </tr>\n",
              "    <tr>\n",
              "      <th rowspan=\"7\" valign=\"top\">7</th>\n",
              "      <th>Bangalore</th>\n",
              "      <td>24.400481</td>\n",
              "    </tr>\n",
              "    <tr>\n",
              "      <th>Gurgaon</th>\n",
              "      <td>31.174114</td>\n",
              "    </tr>\n",
              "    <tr>\n",
              "      <th>Hyderabad</th>\n",
              "      <td>27.216586</td>\n",
              "    </tr>\n",
              "    <tr>\n",
              "      <th>Madras</th>\n",
              "      <td>30.658619</td>\n",
              "    </tr>\n",
              "    <tr>\n",
              "      <th>New Delhi</th>\n",
              "      <td>31.174114</td>\n",
              "    </tr>\n",
              "    <tr>\n",
              "      <th>Pune</th>\n",
              "      <td>24.724738</td>\n",
              "    </tr>\n",
              "    <tr>\n",
              "      <th>Varanasi</th>\n",
              "      <td>29.612919</td>\n",
              "    </tr>\n",
              "    <tr>\n",
              "      <th rowspan=\"7\" valign=\"top\">8</th>\n",
              "      <th>Bangalore</th>\n",
              "      <td>24.362910</td>\n",
              "    </tr>\n",
              "    <tr>\n",
              "      <th>Gurgaon</th>\n",
              "      <td>29.752423</td>\n",
              "    </tr>\n",
              "    <tr>\n",
              "      <th>Hyderabad</th>\n",
              "      <td>26.573533</td>\n",
              "    </tr>\n",
              "    <tr>\n",
              "      <th>Madras</th>\n",
              "      <td>29.977352</td>\n",
              "    </tr>\n",
              "    <tr>\n",
              "      <th>New Delhi</th>\n",
              "      <td>29.752423</td>\n",
              "    </tr>\n",
              "    <tr>\n",
              "      <th>Pune</th>\n",
              "      <td>24.197833</td>\n",
              "    </tr>\n",
              "    <tr>\n",
              "      <th>Varanasi</th>\n",
              "      <td>28.588162</td>\n",
              "    </tr>\n",
              "    <tr>\n",
              "      <th rowspan=\"7\" valign=\"top\">9</th>\n",
              "      <th>Bangalore</th>\n",
              "      <td>24.495115</td>\n",
              "    </tr>\n",
              "    <tr>\n",
              "      <th>Gurgaon</th>\n",
              "      <td>28.994465</td>\n",
              "    </tr>\n",
              "    <tr>\n",
              "      <th>Hyderabad</th>\n",
              "      <td>26.640239</td>\n",
              "    </tr>\n",
              "    <tr>\n",
              "      <th>Madras</th>\n",
              "      <td>29.397029</td>\n",
              "    </tr>\n",
              "    <tr>\n",
              "      <th>New Delhi</th>\n",
              "      <td>28.994465</td>\n",
              "    </tr>\n",
              "    <tr>\n",
              "      <th>Pune</th>\n",
              "      <td>24.565742</td>\n",
              "    </tr>\n",
              "    <tr>\n",
              "      <th>Varanasi</th>\n",
              "      <td>28.238005</td>\n",
              "    </tr>\n",
              "    <tr>\n",
              "      <th rowspan=\"7\" valign=\"top\">10</th>\n",
              "      <th>Bangalore</th>\n",
              "      <td>24.091785</td>\n",
              "    </tr>\n",
              "    <tr>\n",
              "      <th>Gurgaon</th>\n",
              "      <td>25.866375</td>\n",
              "    </tr>\n",
              "    <tr>\n",
              "      <th>Hyderabad</th>\n",
              "      <td>25.679622</td>\n",
              "    </tr>\n",
              "    <tr>\n",
              "      <th>Madras</th>\n",
              "      <td>27.741679</td>\n",
              "    </tr>\n",
              "    <tr>\n",
              "      <th>New Delhi</th>\n",
              "      <td>25.866375</td>\n",
              "    </tr>\n",
              "    <tr>\n",
              "      <th>Pune</th>\n",
              "      <td>24.367426</td>\n",
              "    </tr>\n",
              "    <tr>\n",
              "      <th>Varanasi</th>\n",
              "      <td>25.771933</td>\n",
              "    </tr>\n",
              "    <tr>\n",
              "      <th rowspan=\"7\" valign=\"top\">11</th>\n",
              "      <th>Bangalore</th>\n",
              "      <td>23.265158</td>\n",
              "    </tr>\n",
              "    <tr>\n",
              "      <th>Gurgaon</th>\n",
              "      <td>20.346510</td>\n",
              "    </tr>\n",
              "    <tr>\n",
              "      <th>Hyderabad</th>\n",
              "      <td>23.508134</td>\n",
              "    </tr>\n",
              "    <tr>\n",
              "      <th>Madras</th>\n",
              "      <td>25.666679</td>\n",
              "    </tr>\n",
              "    <tr>\n",
              "      <th>New Delhi</th>\n",
              "      <td>20.346510</td>\n",
              "    </tr>\n",
              "    <tr>\n",
              "      <th>Pune</th>\n",
              "      <td>22.313670</td>\n",
              "    </tr>\n",
              "    <tr>\n",
              "      <th>Varanasi</th>\n",
              "      <td>20.843502</td>\n",
              "    </tr>\n",
              "    <tr>\n",
              "      <th rowspan=\"7\" valign=\"top\">12</th>\n",
              "      <th>Bangalore</th>\n",
              "      <td>22.290856</td>\n",
              "    </tr>\n",
              "    <tr>\n",
              "      <th>Gurgaon</th>\n",
              "      <td>15.378814</td>\n",
              "    </tr>\n",
              "    <tr>\n",
              "      <th>Hyderabad</th>\n",
              "      <td>21.892538</td>\n",
              "    </tr>\n",
              "    <tr>\n",
              "      <th>Madras</th>\n",
              "      <td>24.168721</td>\n",
              "    </tr>\n",
              "    <tr>\n",
              "      <th>New Delhi</th>\n",
              "      <td>15.378814</td>\n",
              "    </tr>\n",
              "    <tr>\n",
              "      <th>Pune</th>\n",
              "      <td>20.253654</td>\n",
              "    </tr>\n",
              "    <tr>\n",
              "      <th>Varanasi</th>\n",
              "      <td>16.246505</td>\n",
              "    </tr>\n",
              "  </tbody>\n",
              "</table>\n",
              "</div>"
            ],
            "text/plain": [
              "                 AverageTemperature\n",
              "Month City                         \n",
              "1     Bangalore           22.713981\n",
              "      Gurgaon             14.238560\n",
              "      Hyderabad           22.758290\n",
              "      Madras              24.346733\n",
              "      New Delhi           14.238560\n",
              "      Pune                20.448205\n",
              "      Varanasi            15.596651\n",
              "2     Bangalore           24.656619\n",
              "      Gurgaon             17.144980\n",
              "      Hyderabad           25.317076\n",
              "      Madras              25.831405\n",
              "      New Delhi           17.144980\n",
              "      Pune                22.607924\n",
              "      Varanasi            18.716421\n",
              "3     Bangalore           27.062186\n",
              "      Gurgaon             23.014804\n",
              "      Hyderabad           28.803543\n",
              "      Madras              28.114448\n",
              "      New Delhi           23.014804\n",
              "      Pune                26.287686\n",
              "      Varanasi            24.651115\n",
              "4     Bangalore           27.988517\n",
              "      Gurgaon             29.004576\n",
              "      Hyderabad           31.465565\n",
              "      Madras              30.441304\n",
              "      New Delhi           29.004576\n",
              "      Pune                29.004401\n",
              "      Varanasi            30.190039\n",
              "5     Bangalore           27.522754\n",
              "      Gurgaon             33.297051\n",
              "      Hyderabad           32.702005\n",
              "      Madras              32.581952\n",
              "      New Delhi           33.297051\n",
              "      Pune                29.838203\n",
              "      Varanasi            33.313519\n",
              "6     Bangalore           25.468799\n",
              "      Gurgaon             33.866005\n",
              "      Hyderabad           29.968469\n",
              "      Madras              32.142383\n",
              "      New Delhi           33.866005\n",
              "      Pune                27.220029\n",
              "      Varanasi            32.570742\n",
              "7     Bangalore           24.400481\n",
              "      Gurgaon             31.174114\n",
              "      Hyderabad           27.216586\n",
              "      Madras              30.658619\n",
              "      New Delhi           31.174114\n",
              "      Pune                24.724738\n",
              "      Varanasi            29.612919\n",
              "8     Bangalore           24.362910\n",
              "      Gurgaon             29.752423\n",
              "      Hyderabad           26.573533\n",
              "      Madras              29.977352\n",
              "      New Delhi           29.752423\n",
              "      Pune                24.197833\n",
              "      Varanasi            28.588162\n",
              "9     Bangalore           24.495115\n",
              "      Gurgaon             28.994465\n",
              "      Hyderabad           26.640239\n",
              "      Madras              29.397029\n",
              "      New Delhi           28.994465\n",
              "      Pune                24.565742\n",
              "      Varanasi            28.238005\n",
              "10    Bangalore           24.091785\n",
              "      Gurgaon             25.866375\n",
              "      Hyderabad           25.679622\n",
              "      Madras              27.741679\n",
              "      New Delhi           25.866375\n",
              "      Pune                24.367426\n",
              "      Varanasi            25.771933\n",
              "11    Bangalore           23.265158\n",
              "      Gurgaon             20.346510\n",
              "      Hyderabad           23.508134\n",
              "      Madras              25.666679\n",
              "      New Delhi           20.346510\n",
              "      Pune                22.313670\n",
              "      Varanasi            20.843502\n",
              "12    Bangalore           22.290856\n",
              "      Gurgaon             15.378814\n",
              "      Hyderabad           21.892538\n",
              "      Madras              24.168721\n",
              "      New Delhi           15.378814\n",
              "      Pune                20.253654\n",
              "      Varanasi            16.246505"
            ]
          },
          "execution_count": 146,
          "metadata": {},
          "output_type": "execute_result"
        }
      ],
      "source": [
        "cities.groupby(['Month','City'])['AverageTemperature'].mean().to_frame()"
      ]
    },
    {
      "cell_type": "code",
      "execution_count": 147,
      "metadata": {
        "colab": {
          "base_uri": "https://localhost:8080/",
          "height": 206
        },
        "id": "8DdEhXiahLJq",
        "outputId": "f726cb86-8968-4416-b140-ad4ceb379c62"
      },
      "outputs": [
        {
          "data": {
            "text/html": [
              "<div>\n",
              "<style scoped>\n",
              "    .dataframe tbody tr th:only-of-type {\n",
              "        vertical-align: middle;\n",
              "    }\n",
              "\n",
              "    .dataframe tbody tr th {\n",
              "        vertical-align: top;\n",
              "    }\n",
              "\n",
              "    .dataframe thead th {\n",
              "        text-align: right;\n",
              "    }\n",
              "</style>\n",
              "<table border=\"1\" class=\"dataframe\">\n",
              "  <thead>\n",
              "    <tr style=\"text-align: right;\">\n",
              "      <th></th>\n",
              "      <th>month</th>\n",
              "      <th>City</th>\n",
              "      <th>Mean_temp</th>\n",
              "    </tr>\n",
              "  </thead>\n",
              "  <tbody>\n",
              "    <tr>\n",
              "      <th>0</th>\n",
              "      <td>1</td>\n",
              "      <td>Bangalore</td>\n",
              "      <td>22.713981</td>\n",
              "    </tr>\n",
              "    <tr>\n",
              "      <th>1</th>\n",
              "      <td>1</td>\n",
              "      <td>Gurgaon</td>\n",
              "      <td>14.238560</td>\n",
              "    </tr>\n",
              "    <tr>\n",
              "      <th>2</th>\n",
              "      <td>1</td>\n",
              "      <td>Hyderabad</td>\n",
              "      <td>22.758290</td>\n",
              "    </tr>\n",
              "    <tr>\n",
              "      <th>3</th>\n",
              "      <td>1</td>\n",
              "      <td>Madras</td>\n",
              "      <td>24.346733</td>\n",
              "    </tr>\n",
              "    <tr>\n",
              "      <th>4</th>\n",
              "      <td>1</td>\n",
              "      <td>New Delhi</td>\n",
              "      <td>14.238560</td>\n",
              "    </tr>\n",
              "  </tbody>\n",
              "</table>\n",
              "</div>"
            ],
            "text/plain": [
              "   month       City  Mean_temp\n",
              "0      1  Bangalore  22.713981\n",
              "1      1    Gurgaon  14.238560\n",
              "2      1  Hyderabad  22.758290\n",
              "3      1     Madras  24.346733\n",
              "4      1  New Delhi  14.238560"
            ]
          },
          "execution_count": 147,
          "metadata": {},
          "output_type": "execute_result"
        }
      ],
      "source": [
        "cities_temp=cities.groupby(['Month','City'])['AverageTemperature'].mean().to_frame().reset_index()\n",
        "cities_temp.columns=['month','City','Mean_temp']\n",
        "cities_temp.head()"
      ]
    },
    {
      "cell_type": "code",
      "execution_count": 148,
      "metadata": {
        "colab": {
          "base_uri": "https://localhost:8080/",
          "height": 206
        },
        "id": "P-oJbpdIhLJq",
        "outputId": "502c71e1-7f3c-4183-db9a-4ffc89901d17"
      },
      "outputs": [
        {
          "data": {
            "text/html": [
              "<div>\n",
              "<style scoped>\n",
              "    .dataframe tbody tr th:only-of-type {\n",
              "        vertical-align: middle;\n",
              "    }\n",
              "\n",
              "    .dataframe tbody tr th {\n",
              "        vertical-align: top;\n",
              "    }\n",
              "\n",
              "    .dataframe thead th {\n",
              "        text-align: right;\n",
              "    }\n",
              "</style>\n",
              "<table border=\"1\" class=\"dataframe\">\n",
              "  <thead>\n",
              "    <tr style=\"text-align: right;\">\n",
              "      <th></th>\n",
              "      <th>month</th>\n",
              "      <th>City</th>\n",
              "      <th>Mean_temp</th>\n",
              "      <th>AverageTemperature</th>\n",
              "      <th>AverageTemperatureUncertainty</th>\n",
              "      <th>Country</th>\n",
              "      <th>Latitude</th>\n",
              "      <th>Longitude</th>\n",
              "      <th>Month</th>\n",
              "    </tr>\n",
              "  </thead>\n",
              "  <tbody>\n",
              "    <tr>\n",
              "      <th>0</th>\n",
              "      <td>1</td>\n",
              "      <td>Bangalore</td>\n",
              "      <td>22.713981</td>\n",
              "      <td>22.672</td>\n",
              "      <td>2.317</td>\n",
              "      <td>India</td>\n",
              "      <td>12.05</td>\n",
              "      <td>77.26</td>\n",
              "      <td>1</td>\n",
              "    </tr>\n",
              "    <tr>\n",
              "      <th>1</th>\n",
              "      <td>1</td>\n",
              "      <td>Bangalore</td>\n",
              "      <td>22.713981</td>\n",
              "      <td>24.420</td>\n",
              "      <td>1.419</td>\n",
              "      <td>India</td>\n",
              "      <td>12.05</td>\n",
              "      <td>77.26</td>\n",
              "      <td>2</td>\n",
              "    </tr>\n",
              "    <tr>\n",
              "      <th>2</th>\n",
              "      <td>1</td>\n",
              "      <td>Bangalore</td>\n",
              "      <td>22.713981</td>\n",
              "      <td>26.092</td>\n",
              "      <td>2.459</td>\n",
              "      <td>India</td>\n",
              "      <td>12.05</td>\n",
              "      <td>77.26</td>\n",
              "      <td>3</td>\n",
              "    </tr>\n",
              "    <tr>\n",
              "      <th>3</th>\n",
              "      <td>1</td>\n",
              "      <td>Bangalore</td>\n",
              "      <td>22.713981</td>\n",
              "      <td>27.687</td>\n",
              "      <td>1.746</td>\n",
              "      <td>India</td>\n",
              "      <td>12.05</td>\n",
              "      <td>77.26</td>\n",
              "      <td>4</td>\n",
              "    </tr>\n",
              "    <tr>\n",
              "      <th>4</th>\n",
              "      <td>1</td>\n",
              "      <td>Bangalore</td>\n",
              "      <td>22.713981</td>\n",
              "      <td>27.619</td>\n",
              "      <td>1.277</td>\n",
              "      <td>India</td>\n",
              "      <td>12.05</td>\n",
              "      <td>77.26</td>\n",
              "      <td>5</td>\n",
              "    </tr>\n",
              "  </tbody>\n",
              "</table>\n",
              "</div>"
            ],
            "text/plain": [
              "   month       City  Mean_temp  AverageTemperature  \\\n",
              "0      1  Bangalore  22.713981              22.672   \n",
              "1      1  Bangalore  22.713981              24.420   \n",
              "2      1  Bangalore  22.713981              26.092   \n",
              "3      1  Bangalore  22.713981              27.687   \n",
              "4      1  Bangalore  22.713981              27.619   \n",
              "\n",
              "   AverageTemperatureUncertainty Country Latitude Longitude  Month  \n",
              "0                          2.317   India    12.05     77.26      1  \n",
              "1                          1.419   India    12.05     77.26      2  \n",
              "2                          2.459   India    12.05     77.26      3  \n",
              "3                          1.746   India    12.05     77.26      4  \n",
              "4                          1.277   India    12.05     77.26      5  "
            ]
          },
          "execution_count": 148,
          "metadata": {},
          "output_type": "execute_result"
        }
      ],
      "source": [
        "df=cities_temp.merge(cities,on='City',how='left')\n",
        "df.head()"
      ]
    },
    {
      "cell_type": "code",
      "execution_count": 149,
      "metadata": {
        "id": "U1TZoTV-hLJq"
      },
      "outputs": [],
      "source": [
        "data=df.drop_duplicates(subset=['month','City'])"
      ]
    },
    {
      "cell_type": "code",
      "execution_count": 150,
      "metadata": {
        "colab": {
          "base_uri": "https://localhost:8080/",
          "height": 206
        },
        "id": "QSNyhK5QhLJq",
        "outputId": "95920b9a-5009-44a5-8c21-834e22a2befd"
      },
      "outputs": [
        {
          "data": {
            "text/html": [
              "<div>\n",
              "<style scoped>\n",
              "    .dataframe tbody tr th:only-of-type {\n",
              "        vertical-align: middle;\n",
              "    }\n",
              "\n",
              "    .dataframe tbody tr th {\n",
              "        vertical-align: top;\n",
              "    }\n",
              "\n",
              "    .dataframe thead th {\n",
              "        text-align: right;\n",
              "    }\n",
              "</style>\n",
              "<table border=\"1\" class=\"dataframe\">\n",
              "  <thead>\n",
              "    <tr style=\"text-align: right;\">\n",
              "      <th></th>\n",
              "      <th>month</th>\n",
              "      <th>City</th>\n",
              "      <th>Mean_temp</th>\n",
              "      <th>AverageTemperature</th>\n",
              "      <th>AverageTemperatureUncertainty</th>\n",
              "      <th>Country</th>\n",
              "      <th>Latitude</th>\n",
              "      <th>Longitude</th>\n",
              "      <th>Month</th>\n",
              "    </tr>\n",
              "  </thead>\n",
              "  <tbody>\n",
              "    <tr>\n",
              "      <th>0</th>\n",
              "      <td>1</td>\n",
              "      <td>Bangalore</td>\n",
              "      <td>22.713981</td>\n",
              "      <td>22.672</td>\n",
              "      <td>2.317</td>\n",
              "      <td>India</td>\n",
              "      <td>12.05</td>\n",
              "      <td>77.26</td>\n",
              "      <td>1</td>\n",
              "    </tr>\n",
              "    <tr>\n",
              "      <th>2613</th>\n",
              "      <td>1</td>\n",
              "      <td>Gurgaon</td>\n",
              "      <td>14.238560</td>\n",
              "      <td>14.590</td>\n",
              "      <td>2.374</td>\n",
              "      <td>India</td>\n",
              "      <td>28.13</td>\n",
              "      <td>77.27</td>\n",
              "      <td>1</td>\n",
              "    </tr>\n",
              "    <tr>\n",
              "      <th>5226</th>\n",
              "      <td>1</td>\n",
              "      <td>Hyderabad</td>\n",
              "      <td>22.758290</td>\n",
              "      <td>22.759</td>\n",
              "      <td>2.322</td>\n",
              "      <td>India</td>\n",
              "      <td>16.87</td>\n",
              "      <td>78.70</td>\n",
              "      <td>1</td>\n",
              "    </tr>\n",
              "    <tr>\n",
              "      <th>7839</th>\n",
              "      <td>1</td>\n",
              "      <td>Madras</td>\n",
              "      <td>24.346733</td>\n",
              "      <td>24.252</td>\n",
              "      <td>2.433</td>\n",
              "      <td>India</td>\n",
              "      <td>13.66</td>\n",
              "      <td>80.09</td>\n",
              "      <td>1</td>\n",
              "    </tr>\n",
              "    <tr>\n",
              "      <th>10452</th>\n",
              "      <td>1</td>\n",
              "      <td>New Delhi</td>\n",
              "      <td>14.238560</td>\n",
              "      <td>14.590</td>\n",
              "      <td>2.374</td>\n",
              "      <td>India</td>\n",
              "      <td>28.13</td>\n",
              "      <td>77.27</td>\n",
              "      <td>1</td>\n",
              "    </tr>\n",
              "  </tbody>\n",
              "</table>\n",
              "</div>"
            ],
            "text/plain": [
              "       month       City  Mean_temp  AverageTemperature  \\\n",
              "0          1  Bangalore  22.713981              22.672   \n",
              "2613       1    Gurgaon  14.238560              14.590   \n",
              "5226       1  Hyderabad  22.758290              22.759   \n",
              "7839       1     Madras  24.346733              24.252   \n",
              "10452      1  New Delhi  14.238560              14.590   \n",
              "\n",
              "       AverageTemperatureUncertainty Country Latitude Longitude  Month  \n",
              "0                              2.317   India    12.05     77.26      1  \n",
              "2613                           2.374   India    28.13     77.27      1  \n",
              "5226                           2.322   India    16.87     78.70      1  \n",
              "7839                           2.433   India    13.66     80.09      1  \n",
              "10452                          2.374   India    28.13     77.27      1  "
            ]
          },
          "execution_count": 150,
          "metadata": {},
          "output_type": "execute_result"
        }
      ],
      "source": [
        "data.head()"
      ]
    },
    {
      "cell_type": "code",
      "execution_count": 151,
      "metadata": {
        "colab": {
          "base_uri": "https://localhost:8080/",
          "height": 206
        },
        "id": "kDGUtNFBhLJr",
        "outputId": "b1bafa44-7913-4e3e-e002-4134b7ac5014"
      },
      "outputs": [
        {
          "data": {
            "text/html": [
              "<div>\n",
              "<style scoped>\n",
              "    .dataframe tbody tr th:only-of-type {\n",
              "        vertical-align: middle;\n",
              "    }\n",
              "\n",
              "    .dataframe tbody tr th {\n",
              "        vertical-align: top;\n",
              "    }\n",
              "\n",
              "    .dataframe thead th {\n",
              "        text-align: right;\n",
              "    }\n",
              "</style>\n",
              "<table border=\"1\" class=\"dataframe\">\n",
              "  <thead>\n",
              "    <tr style=\"text-align: right;\">\n",
              "      <th></th>\n",
              "      <th>month</th>\n",
              "      <th>City</th>\n",
              "      <th>Mean_temp</th>\n",
              "      <th>Country</th>\n",
              "      <th>Latitude</th>\n",
              "      <th>Longitude</th>\n",
              "    </tr>\n",
              "  </thead>\n",
              "  <tbody>\n",
              "    <tr>\n",
              "      <th>0</th>\n",
              "      <td>1</td>\n",
              "      <td>Bangalore</td>\n",
              "      <td>22.713981</td>\n",
              "      <td>India</td>\n",
              "      <td>12.05</td>\n",
              "      <td>77.26</td>\n",
              "    </tr>\n",
              "    <tr>\n",
              "      <th>2613</th>\n",
              "      <td>1</td>\n",
              "      <td>Gurgaon</td>\n",
              "      <td>14.238560</td>\n",
              "      <td>India</td>\n",
              "      <td>28.13</td>\n",
              "      <td>77.27</td>\n",
              "    </tr>\n",
              "    <tr>\n",
              "      <th>5226</th>\n",
              "      <td>1</td>\n",
              "      <td>Hyderabad</td>\n",
              "      <td>22.758290</td>\n",
              "      <td>India</td>\n",
              "      <td>16.87</td>\n",
              "      <td>78.70</td>\n",
              "    </tr>\n",
              "    <tr>\n",
              "      <th>7839</th>\n",
              "      <td>1</td>\n",
              "      <td>Madras</td>\n",
              "      <td>24.346733</td>\n",
              "      <td>India</td>\n",
              "      <td>13.66</td>\n",
              "      <td>80.09</td>\n",
              "    </tr>\n",
              "    <tr>\n",
              "      <th>10452</th>\n",
              "      <td>1</td>\n",
              "      <td>New Delhi</td>\n",
              "      <td>14.238560</td>\n",
              "      <td>India</td>\n",
              "      <td>28.13</td>\n",
              "      <td>77.27</td>\n",
              "    </tr>\n",
              "  </tbody>\n",
              "</table>\n",
              "</div>"
            ],
            "text/plain": [
              "       month       City  Mean_temp Country Latitude Longitude\n",
              "0          1  Bangalore  22.713981   India    12.05     77.26\n",
              "2613       1    Gurgaon  14.238560   India    28.13     77.27\n",
              "5226       1  Hyderabad  22.758290   India    16.87     78.70\n",
              "7839       1     Madras  24.346733   India    13.66     80.09\n",
              "10452      1  New Delhi  14.238560   India    28.13     77.27"
            ]
          },
          "execution_count": 151,
          "metadata": {},
          "output_type": "execute_result"
        }
      ],
      "source": [
        "data2=data[['month','City','Mean_temp','Country','Latitude','Longitude']]\n",
        "data2.head()"
      ]
    },
    {
      "cell_type": "code",
      "execution_count": 152,
      "metadata": {
        "id": "oBGM6XKjhLJr"
      },
      "outputs": [],
      "source": [
        "trace = go.Heatmap(z=data2['Mean_temp'],\n",
        "                   x=data2['month'],\n",
        "                   y=data2['City'],\n",
        "                  colorscale='Viridis')"
      ]
    },
    {
      "cell_type": "code",
      "execution_count": 153,
      "metadata": {
        "id": "kIOO55fjhLJr"
      },
      "outputs": [],
      "source": [
        "data=[trace]\n",
        "layout = go.Layout(\n",
        "    title='Average Temperature Of Major Cities By Month',\n",
        ")"
      ]
    },
    {
      "cell_type": "code",
      "execution_count": 154,
      "metadata": {
        "colab": {
          "base_uri": "https://localhost:8080/",
          "height": 542
        },
        "id": "WLaeHpCQhLJr",
        "outputId": "ca5f54b0-455a-4132-bc4a-99f1389f2537"
      },
      "outputs": [
        {
          "data": {
            "application/vnd.plotly.v1+json": {
              "config": {
                "plotlyServerURL": "https://plot.ly"
              },
              "data": [
                {
                  "colorscale": [
                    [
                      0,
                      "#440154"
                    ],
                    [
                      0.1111111111111111,
                      "#482878"
                    ],
                    [
                      0.2222222222222222,
                      "#3e4989"
                    ],
                    [
                      0.3333333333333333,
                      "#31688e"
                    ],
                    [
                      0.4444444444444444,
                      "#26828e"
                    ],
                    [
                      0.5555555555555556,
                      "#1f9e89"
                    ],
                    [
                      0.6666666666666666,
                      "#35b779"
                    ],
                    [
                      0.7777777777777778,
                      "#6ece58"
                    ],
                    [
                      0.8888888888888888,
                      "#b5de2b"
                    ],
                    [
                      1,
                      "#fde725"
                    ]
                  ],
                  "type": "heatmap",
                  "x": [
                    1,
                    1,
                    1,
                    1,
                    1,
                    1,
                    1,
                    2,
                    2,
                    2,
                    2,
                    2,
                    2,
                    2,
                    3,
                    3,
                    3,
                    3,
                    3,
                    3,
                    3,
                    4,
                    4,
                    4,
                    4,
                    4,
                    4,
                    4,
                    5,
                    5,
                    5,
                    5,
                    5,
                    5,
                    5,
                    6,
                    6,
                    6,
                    6,
                    6,
                    6,
                    6,
                    7,
                    7,
                    7,
                    7,
                    7,
                    7,
                    7,
                    8,
                    8,
                    8,
                    8,
                    8,
                    8,
                    8,
                    9,
                    9,
                    9,
                    9,
                    9,
                    9,
                    9,
                    10,
                    10,
                    10,
                    10,
                    10,
                    10,
                    10,
                    11,
                    11,
                    11,
                    11,
                    11,
                    11,
                    11,
                    12,
                    12,
                    12,
                    12,
                    12,
                    12,
                    12
                  ],
                  "y": [
                    "Bangalore",
                    "Gurgaon",
                    "Hyderabad",
                    "Madras",
                    "New Delhi",
                    "Pune",
                    "Varanasi",
                    "Bangalore",
                    "Gurgaon",
                    "Hyderabad",
                    "Madras",
                    "New Delhi",
                    "Pune",
                    "Varanasi",
                    "Bangalore",
                    "Gurgaon",
                    "Hyderabad",
                    "Madras",
                    "New Delhi",
                    "Pune",
                    "Varanasi",
                    "Bangalore",
                    "Gurgaon",
                    "Hyderabad",
                    "Madras",
                    "New Delhi",
                    "Pune",
                    "Varanasi",
                    "Bangalore",
                    "Gurgaon",
                    "Hyderabad",
                    "Madras",
                    "New Delhi",
                    "Pune",
                    "Varanasi",
                    "Bangalore",
                    "Gurgaon",
                    "Hyderabad",
                    "Madras",
                    "New Delhi",
                    "Pune",
                    "Varanasi",
                    "Bangalore",
                    "Gurgaon",
                    "Hyderabad",
                    "Madras",
                    "New Delhi",
                    "Pune",
                    "Varanasi",
                    "Bangalore",
                    "Gurgaon",
                    "Hyderabad",
                    "Madras",
                    "New Delhi",
                    "Pune",
                    "Varanasi",
                    "Bangalore",
                    "Gurgaon",
                    "Hyderabad",
                    "Madras",
                    "New Delhi",
                    "Pune",
                    "Varanasi",
                    "Bangalore",
                    "Gurgaon",
                    "Hyderabad",
                    "Madras",
                    "New Delhi",
                    "Pune",
                    "Varanasi",
                    "Bangalore",
                    "Gurgaon",
                    "Hyderabad",
                    "Madras",
                    "New Delhi",
                    "Pune",
                    "Varanasi",
                    "Bangalore",
                    "Gurgaon",
                    "Hyderabad",
                    "Madras",
                    "New Delhi",
                    "Pune",
                    "Varanasi"
                  ],
                  "z": [
                    22.713980952380954,
                    14.23856,
                    22.758290476190478,
                    24.346733333333336,
                    14.23856,
                    20.448204761904766,
                    15.596650717703348,
                    24.65661904761905,
                    17.144979999999997,
                    25.317076190476193,
                    25.831404761904764,
                    17.144979999999997,
                    22.607923809523808,
                    18.716421052631578,
                    27.062185714285715,
                    23.014804020100502,
                    28.803542857142855,
                    28.114447619047617,
                    23.014804020100502,
                    26.287685714285715,
                    24.651115384615384,
                    27.988516908212564,
                    29.004575757575758,
                    31.465565217391305,
                    30.44130434782609,
                    29.004575757575758,
                    29.004400966183574,
                    30.190038647342995,
                    27.522753623188407,
                    33.29705102040817,
                    32.70200483091787,
                    32.581951690821256,
                    33.29705102040817,
                    29.838202898550723,
                    33.31351941747573,
                    25.4687990430622,
                    33.866005,
                    29.96846889952153,
                    32.142382775119614,
                    33.866005,
                    27.22002870813397,
                    32.57074162679426,
                    24.40048095238095,
                    31.174114427860697,
                    27.216585714285713,
                    30.658619047619048,
                    31.174114427860697,
                    24.7247380952381,
                    29.612919047619048,
                    24.362909523809524,
                    29.75242288557214,
                    26.573533333333334,
                    29.977352380952382,
                    29.75242288557214,
                    24.197833333333335,
                    28.588161904761904,
                    24.495114832535887,
                    28.994465,
                    26.640239234449762,
                    29.397028708133973,
                    28.994465,
                    24.565741626794257,
                    28.238004784688997,
                    24.091784688995215,
                    25.866374999999998,
                    25.67962200956938,
                    27.741679425837322,
                    25.866374999999998,
                    24.367425837320575,
                    25.771933014354065,
                    23.26515789473684,
                    20.346510000000002,
                    23.508133971291866,
                    25.666679425837323,
                    20.346510000000002,
                    22.313669856459327,
                    20.8435023923445,
                    22.29085576923077,
                    15.378814070351758,
                    21.89253846153846,
                    24.168721153846153,
                    15.378814070351758,
                    20.253653846153846,
                    16.246504807692308
                  ]
                }
              ],
              "layout": {
                "template": {
                  "data": {
                    "bar": [
                      {
                        "error_x": {
                          "color": "#2a3f5f"
                        },
                        "error_y": {
                          "color": "#2a3f5f"
                        },
                        "marker": {
                          "line": {
                            "color": "#E5ECF6",
                            "width": 0.5
                          },
                          "pattern": {
                            "fillmode": "overlay",
                            "size": 10,
                            "solidity": 0.2
                          }
                        },
                        "type": "bar"
                      }
                    ],
                    "barpolar": [
                      {
                        "marker": {
                          "line": {
                            "color": "#E5ECF6",
                            "width": 0.5
                          },
                          "pattern": {
                            "fillmode": "overlay",
                            "size": 10,
                            "solidity": 0.2
                          }
                        },
                        "type": "barpolar"
                      }
                    ],
                    "carpet": [
                      {
                        "aaxis": {
                          "endlinecolor": "#2a3f5f",
                          "gridcolor": "white",
                          "linecolor": "white",
                          "minorgridcolor": "white",
                          "startlinecolor": "#2a3f5f"
                        },
                        "baxis": {
                          "endlinecolor": "#2a3f5f",
                          "gridcolor": "white",
                          "linecolor": "white",
                          "minorgridcolor": "white",
                          "startlinecolor": "#2a3f5f"
                        },
                        "type": "carpet"
                      }
                    ],
                    "choropleth": [
                      {
                        "colorbar": {
                          "outlinewidth": 0,
                          "ticks": ""
                        },
                        "type": "choropleth"
                      }
                    ],
                    "contour": [
                      {
                        "colorbar": {
                          "outlinewidth": 0,
                          "ticks": ""
                        },
                        "colorscale": [
                          [
                            0,
                            "#0d0887"
                          ],
                          [
                            0.1111111111111111,
                            "#46039f"
                          ],
                          [
                            0.2222222222222222,
                            "#7201a8"
                          ],
                          [
                            0.3333333333333333,
                            "#9c179e"
                          ],
                          [
                            0.4444444444444444,
                            "#bd3786"
                          ],
                          [
                            0.5555555555555556,
                            "#d8576b"
                          ],
                          [
                            0.6666666666666666,
                            "#ed7953"
                          ],
                          [
                            0.7777777777777778,
                            "#fb9f3a"
                          ],
                          [
                            0.8888888888888888,
                            "#fdca26"
                          ],
                          [
                            1,
                            "#f0f921"
                          ]
                        ],
                        "type": "contour"
                      }
                    ],
                    "contourcarpet": [
                      {
                        "colorbar": {
                          "outlinewidth": 0,
                          "ticks": ""
                        },
                        "type": "contourcarpet"
                      }
                    ],
                    "heatmap": [
                      {
                        "colorbar": {
                          "outlinewidth": 0,
                          "ticks": ""
                        },
                        "colorscale": [
                          [
                            0,
                            "#0d0887"
                          ],
                          [
                            0.1111111111111111,
                            "#46039f"
                          ],
                          [
                            0.2222222222222222,
                            "#7201a8"
                          ],
                          [
                            0.3333333333333333,
                            "#9c179e"
                          ],
                          [
                            0.4444444444444444,
                            "#bd3786"
                          ],
                          [
                            0.5555555555555556,
                            "#d8576b"
                          ],
                          [
                            0.6666666666666666,
                            "#ed7953"
                          ],
                          [
                            0.7777777777777778,
                            "#fb9f3a"
                          ],
                          [
                            0.8888888888888888,
                            "#fdca26"
                          ],
                          [
                            1,
                            "#f0f921"
                          ]
                        ],
                        "type": "heatmap"
                      }
                    ],
                    "heatmapgl": [
                      {
                        "colorbar": {
                          "outlinewidth": 0,
                          "ticks": ""
                        },
                        "colorscale": [
                          [
                            0,
                            "#0d0887"
                          ],
                          [
                            0.1111111111111111,
                            "#46039f"
                          ],
                          [
                            0.2222222222222222,
                            "#7201a8"
                          ],
                          [
                            0.3333333333333333,
                            "#9c179e"
                          ],
                          [
                            0.4444444444444444,
                            "#bd3786"
                          ],
                          [
                            0.5555555555555556,
                            "#d8576b"
                          ],
                          [
                            0.6666666666666666,
                            "#ed7953"
                          ],
                          [
                            0.7777777777777778,
                            "#fb9f3a"
                          ],
                          [
                            0.8888888888888888,
                            "#fdca26"
                          ],
                          [
                            1,
                            "#f0f921"
                          ]
                        ],
                        "type": "heatmapgl"
                      }
                    ],
                    "histogram": [
                      {
                        "marker": {
                          "pattern": {
                            "fillmode": "overlay",
                            "size": 10,
                            "solidity": 0.2
                          }
                        },
                        "type": "histogram"
                      }
                    ],
                    "histogram2d": [
                      {
                        "colorbar": {
                          "outlinewidth": 0,
                          "ticks": ""
                        },
                        "colorscale": [
                          [
                            0,
                            "#0d0887"
                          ],
                          [
                            0.1111111111111111,
                            "#46039f"
                          ],
                          [
                            0.2222222222222222,
                            "#7201a8"
                          ],
                          [
                            0.3333333333333333,
                            "#9c179e"
                          ],
                          [
                            0.4444444444444444,
                            "#bd3786"
                          ],
                          [
                            0.5555555555555556,
                            "#d8576b"
                          ],
                          [
                            0.6666666666666666,
                            "#ed7953"
                          ],
                          [
                            0.7777777777777778,
                            "#fb9f3a"
                          ],
                          [
                            0.8888888888888888,
                            "#fdca26"
                          ],
                          [
                            1,
                            "#f0f921"
                          ]
                        ],
                        "type": "histogram2d"
                      }
                    ],
                    "histogram2dcontour": [
                      {
                        "colorbar": {
                          "outlinewidth": 0,
                          "ticks": ""
                        },
                        "colorscale": [
                          [
                            0,
                            "#0d0887"
                          ],
                          [
                            0.1111111111111111,
                            "#46039f"
                          ],
                          [
                            0.2222222222222222,
                            "#7201a8"
                          ],
                          [
                            0.3333333333333333,
                            "#9c179e"
                          ],
                          [
                            0.4444444444444444,
                            "#bd3786"
                          ],
                          [
                            0.5555555555555556,
                            "#d8576b"
                          ],
                          [
                            0.6666666666666666,
                            "#ed7953"
                          ],
                          [
                            0.7777777777777778,
                            "#fb9f3a"
                          ],
                          [
                            0.8888888888888888,
                            "#fdca26"
                          ],
                          [
                            1,
                            "#f0f921"
                          ]
                        ],
                        "type": "histogram2dcontour"
                      }
                    ],
                    "mesh3d": [
                      {
                        "colorbar": {
                          "outlinewidth": 0,
                          "ticks": ""
                        },
                        "type": "mesh3d"
                      }
                    ],
                    "parcoords": [
                      {
                        "line": {
                          "colorbar": {
                            "outlinewidth": 0,
                            "ticks": ""
                          }
                        },
                        "type": "parcoords"
                      }
                    ],
                    "pie": [
                      {
                        "automargin": true,
                        "type": "pie"
                      }
                    ],
                    "scatter": [
                      {
                        "fillpattern": {
                          "fillmode": "overlay",
                          "size": 10,
                          "solidity": 0.2
                        },
                        "type": "scatter"
                      }
                    ],
                    "scatter3d": [
                      {
                        "line": {
                          "colorbar": {
                            "outlinewidth": 0,
                            "ticks": ""
                          }
                        },
                        "marker": {
                          "colorbar": {
                            "outlinewidth": 0,
                            "ticks": ""
                          }
                        },
                        "type": "scatter3d"
                      }
                    ],
                    "scattercarpet": [
                      {
                        "marker": {
                          "colorbar": {
                            "outlinewidth": 0,
                            "ticks": ""
                          }
                        },
                        "type": "scattercarpet"
                      }
                    ],
                    "scattergeo": [
                      {
                        "marker": {
                          "colorbar": {
                            "outlinewidth": 0,
                            "ticks": ""
                          }
                        },
                        "type": "scattergeo"
                      }
                    ],
                    "scattergl": [
                      {
                        "marker": {
                          "colorbar": {
                            "outlinewidth": 0,
                            "ticks": ""
                          }
                        },
                        "type": "scattergl"
                      }
                    ],
                    "scattermapbox": [
                      {
                        "marker": {
                          "colorbar": {
                            "outlinewidth": 0,
                            "ticks": ""
                          }
                        },
                        "type": "scattermapbox"
                      }
                    ],
                    "scatterpolar": [
                      {
                        "marker": {
                          "colorbar": {
                            "outlinewidth": 0,
                            "ticks": ""
                          }
                        },
                        "type": "scatterpolar"
                      }
                    ],
                    "scatterpolargl": [
                      {
                        "marker": {
                          "colorbar": {
                            "outlinewidth": 0,
                            "ticks": ""
                          }
                        },
                        "type": "scatterpolargl"
                      }
                    ],
                    "scatterternary": [
                      {
                        "marker": {
                          "colorbar": {
                            "outlinewidth": 0,
                            "ticks": ""
                          }
                        },
                        "type": "scatterternary"
                      }
                    ],
                    "surface": [
                      {
                        "colorbar": {
                          "outlinewidth": 0,
                          "ticks": ""
                        },
                        "colorscale": [
                          [
                            0,
                            "#0d0887"
                          ],
                          [
                            0.1111111111111111,
                            "#46039f"
                          ],
                          [
                            0.2222222222222222,
                            "#7201a8"
                          ],
                          [
                            0.3333333333333333,
                            "#9c179e"
                          ],
                          [
                            0.4444444444444444,
                            "#bd3786"
                          ],
                          [
                            0.5555555555555556,
                            "#d8576b"
                          ],
                          [
                            0.6666666666666666,
                            "#ed7953"
                          ],
                          [
                            0.7777777777777778,
                            "#fb9f3a"
                          ],
                          [
                            0.8888888888888888,
                            "#fdca26"
                          ],
                          [
                            1,
                            "#f0f921"
                          ]
                        ],
                        "type": "surface"
                      }
                    ],
                    "table": [
                      {
                        "cells": {
                          "fill": {
                            "color": "#EBF0F8"
                          },
                          "line": {
                            "color": "white"
                          }
                        },
                        "header": {
                          "fill": {
                            "color": "#C8D4E3"
                          },
                          "line": {
                            "color": "white"
                          }
                        },
                        "type": "table"
                      }
                    ]
                  },
                  "layout": {
                    "annotationdefaults": {
                      "arrowcolor": "#2a3f5f",
                      "arrowhead": 0,
                      "arrowwidth": 1
                    },
                    "autotypenumbers": "strict",
                    "coloraxis": {
                      "colorbar": {
                        "outlinewidth": 0,
                        "ticks": ""
                      }
                    },
                    "colorscale": {
                      "diverging": [
                        [
                          0,
                          "#8e0152"
                        ],
                        [
                          0.1,
                          "#c51b7d"
                        ],
                        [
                          0.2,
                          "#de77ae"
                        ],
                        [
                          0.3,
                          "#f1b6da"
                        ],
                        [
                          0.4,
                          "#fde0ef"
                        ],
                        [
                          0.5,
                          "#f7f7f7"
                        ],
                        [
                          0.6,
                          "#e6f5d0"
                        ],
                        [
                          0.7,
                          "#b8e186"
                        ],
                        [
                          0.8,
                          "#7fbc41"
                        ],
                        [
                          0.9,
                          "#4d9221"
                        ],
                        [
                          1,
                          "#276419"
                        ]
                      ],
                      "sequential": [
                        [
                          0,
                          "#0d0887"
                        ],
                        [
                          0.1111111111111111,
                          "#46039f"
                        ],
                        [
                          0.2222222222222222,
                          "#7201a8"
                        ],
                        [
                          0.3333333333333333,
                          "#9c179e"
                        ],
                        [
                          0.4444444444444444,
                          "#bd3786"
                        ],
                        [
                          0.5555555555555556,
                          "#d8576b"
                        ],
                        [
                          0.6666666666666666,
                          "#ed7953"
                        ],
                        [
                          0.7777777777777778,
                          "#fb9f3a"
                        ],
                        [
                          0.8888888888888888,
                          "#fdca26"
                        ],
                        [
                          1,
                          "#f0f921"
                        ]
                      ],
                      "sequentialminus": [
                        [
                          0,
                          "#0d0887"
                        ],
                        [
                          0.1111111111111111,
                          "#46039f"
                        ],
                        [
                          0.2222222222222222,
                          "#7201a8"
                        ],
                        [
                          0.3333333333333333,
                          "#9c179e"
                        ],
                        [
                          0.4444444444444444,
                          "#bd3786"
                        ],
                        [
                          0.5555555555555556,
                          "#d8576b"
                        ],
                        [
                          0.6666666666666666,
                          "#ed7953"
                        ],
                        [
                          0.7777777777777778,
                          "#fb9f3a"
                        ],
                        [
                          0.8888888888888888,
                          "#fdca26"
                        ],
                        [
                          1,
                          "#f0f921"
                        ]
                      ]
                    },
                    "colorway": [
                      "#636efa",
                      "#EF553B",
                      "#00cc96",
                      "#ab63fa",
                      "#FFA15A",
                      "#19d3f3",
                      "#FF6692",
                      "#B6E880",
                      "#FF97FF",
                      "#FECB52"
                    ],
                    "font": {
                      "color": "#2a3f5f"
                    },
                    "geo": {
                      "bgcolor": "white",
                      "lakecolor": "white",
                      "landcolor": "#E5ECF6",
                      "showlakes": true,
                      "showland": true,
                      "subunitcolor": "white"
                    },
                    "hoverlabel": {
                      "align": "left"
                    },
                    "hovermode": "closest",
                    "mapbox": {
                      "style": "light"
                    },
                    "paper_bgcolor": "white",
                    "plot_bgcolor": "#E5ECF6",
                    "polar": {
                      "angularaxis": {
                        "gridcolor": "white",
                        "linecolor": "white",
                        "ticks": ""
                      },
                      "bgcolor": "#E5ECF6",
                      "radialaxis": {
                        "gridcolor": "white",
                        "linecolor": "white",
                        "ticks": ""
                      }
                    },
                    "scene": {
                      "xaxis": {
                        "backgroundcolor": "#E5ECF6",
                        "gridcolor": "white",
                        "gridwidth": 2,
                        "linecolor": "white",
                        "showbackground": true,
                        "ticks": "",
                        "zerolinecolor": "white"
                      },
                      "yaxis": {
                        "backgroundcolor": "#E5ECF6",
                        "gridcolor": "white",
                        "gridwidth": 2,
                        "linecolor": "white",
                        "showbackground": true,
                        "ticks": "",
                        "zerolinecolor": "white"
                      },
                      "zaxis": {
                        "backgroundcolor": "#E5ECF6",
                        "gridcolor": "white",
                        "gridwidth": 2,
                        "linecolor": "white",
                        "showbackground": true,
                        "ticks": "",
                        "zerolinecolor": "white"
                      }
                    },
                    "shapedefaults": {
                      "line": {
                        "color": "#2a3f5f"
                      }
                    },
                    "ternary": {
                      "aaxis": {
                        "gridcolor": "white",
                        "linecolor": "white",
                        "ticks": ""
                      },
                      "baxis": {
                        "gridcolor": "white",
                        "linecolor": "white",
                        "ticks": ""
                      },
                      "bgcolor": "#E5ECF6",
                      "caxis": {
                        "gridcolor": "white",
                        "linecolor": "white",
                        "ticks": ""
                      }
                    },
                    "title": {
                      "x": 0.05
                    },
                    "xaxis": {
                      "automargin": true,
                      "gridcolor": "white",
                      "linecolor": "white",
                      "ticks": "",
                      "title": {
                        "standoff": 15
                      },
                      "zerolinecolor": "white",
                      "zerolinewidth": 2
                    },
                    "yaxis": {
                      "automargin": true,
                      "gridcolor": "white",
                      "linecolor": "white",
                      "ticks": "",
                      "title": {
                        "standoff": 15
                      },
                      "zerolinecolor": "white",
                      "zerolinewidth": 2
                    }
                  }
                },
                "title": {
                  "text": "Average Temperature Of Major Cities By Month"
                }
              }
            },
            "text/html": [
              "<div>                            <div id=\"67a9b047-ff01-4d09-8fb5-fa875db11e89\" class=\"plotly-graph-div\" style=\"height:525px; width:100%;\"></div>            <script type=\"text/javascript\">                require([\"plotly\"], function(Plotly) {                    window.PLOTLYENV=window.PLOTLYENV || {};                                    if (document.getElementById(\"67a9b047-ff01-4d09-8fb5-fa875db11e89\")) {                    Plotly.newPlot(                        \"67a9b047-ff01-4d09-8fb5-fa875db11e89\",                        [{\"colorscale\":[[0.0,\"#440154\"],[0.1111111111111111,\"#482878\"],[0.2222222222222222,\"#3e4989\"],[0.3333333333333333,\"#31688e\"],[0.4444444444444444,\"#26828e\"],[0.5555555555555556,\"#1f9e89\"],[0.6666666666666666,\"#35b779\"],[0.7777777777777778,\"#6ece58\"],[0.8888888888888888,\"#b5de2b\"],[1.0,\"#fde725\"]],\"x\":[1,1,1,1,1,1,1,2,2,2,2,2,2,2,3,3,3,3,3,3,3,4,4,4,4,4,4,4,5,5,5,5,5,5,5,6,6,6,6,6,6,6,7,7,7,7,7,7,7,8,8,8,8,8,8,8,9,9,9,9,9,9,9,10,10,10,10,10,10,10,11,11,11,11,11,11,11,12,12,12,12,12,12,12],\"y\":[\"Bangalore\",\"Gurgaon\",\"Hyderabad\",\"Madras\",\"New Delhi\",\"Pune\",\"Varanasi\",\"Bangalore\",\"Gurgaon\",\"Hyderabad\",\"Madras\",\"New Delhi\",\"Pune\",\"Varanasi\",\"Bangalore\",\"Gurgaon\",\"Hyderabad\",\"Madras\",\"New Delhi\",\"Pune\",\"Varanasi\",\"Bangalore\",\"Gurgaon\",\"Hyderabad\",\"Madras\",\"New Delhi\",\"Pune\",\"Varanasi\",\"Bangalore\",\"Gurgaon\",\"Hyderabad\",\"Madras\",\"New Delhi\",\"Pune\",\"Varanasi\",\"Bangalore\",\"Gurgaon\",\"Hyderabad\",\"Madras\",\"New Delhi\",\"Pune\",\"Varanasi\",\"Bangalore\",\"Gurgaon\",\"Hyderabad\",\"Madras\",\"New Delhi\",\"Pune\",\"Varanasi\",\"Bangalore\",\"Gurgaon\",\"Hyderabad\",\"Madras\",\"New Delhi\",\"Pune\",\"Varanasi\",\"Bangalore\",\"Gurgaon\",\"Hyderabad\",\"Madras\",\"New Delhi\",\"Pune\",\"Varanasi\",\"Bangalore\",\"Gurgaon\",\"Hyderabad\",\"Madras\",\"New Delhi\",\"Pune\",\"Varanasi\",\"Bangalore\",\"Gurgaon\",\"Hyderabad\",\"Madras\",\"New Delhi\",\"Pune\",\"Varanasi\",\"Bangalore\",\"Gurgaon\",\"Hyderabad\",\"Madras\",\"New Delhi\",\"Pune\",\"Varanasi\"],\"z\":[22.713980952380954,14.23856,22.758290476190478,24.346733333333336,14.23856,20.448204761904766,15.596650717703348,24.65661904761905,17.144979999999997,25.317076190476193,25.831404761904764,17.144979999999997,22.607923809523808,18.716421052631578,27.062185714285715,23.014804020100502,28.803542857142855,28.114447619047617,23.014804020100502,26.287685714285715,24.651115384615384,27.988516908212564,29.004575757575758,31.465565217391305,30.44130434782609,29.004575757575758,29.004400966183574,30.190038647342995,27.522753623188407,33.29705102040817,32.70200483091787,32.581951690821256,33.29705102040817,29.838202898550723,33.31351941747573,25.4687990430622,33.866005,29.96846889952153,32.142382775119614,33.866005,27.22002870813397,32.57074162679426,24.40048095238095,31.174114427860697,27.216585714285713,30.658619047619048,31.174114427860697,24.7247380952381,29.612919047619048,24.362909523809524,29.75242288557214,26.573533333333334,29.977352380952382,29.75242288557214,24.197833333333335,28.588161904761904,24.495114832535887,28.994465,26.640239234449762,29.397028708133973,28.994465,24.565741626794257,28.238004784688997,24.091784688995215,25.866374999999998,25.67962200956938,27.741679425837322,25.866374999999998,24.367425837320575,25.771933014354065,23.26515789473684,20.346510000000002,23.508133971291866,25.666679425837323,20.346510000000002,22.313669856459327,20.8435023923445,22.29085576923077,15.378814070351758,21.89253846153846,24.168721153846153,15.378814070351758,20.253653846153846,16.246504807692308],\"type\":\"heatmap\"}],                        {\"title\":{\"text\":\"Average Temperature Of Major Cities By Month\"},\"template\":{\"data\":{\"histogram2dcontour\":[{\"type\":\"histogram2dcontour\",\"colorbar\":{\"outlinewidth\":0,\"ticks\":\"\"},\"colorscale\":[[0.0,\"#0d0887\"],[0.1111111111111111,\"#46039f\"],[0.2222222222222222,\"#7201a8\"],[0.3333333333333333,\"#9c179e\"],[0.4444444444444444,\"#bd3786\"],[0.5555555555555556,\"#d8576b\"],[0.6666666666666666,\"#ed7953\"],[0.7777777777777778,\"#fb9f3a\"],[0.8888888888888888,\"#fdca26\"],[1.0,\"#f0f921\"]]}],\"choropleth\":[{\"type\":\"choropleth\",\"colorbar\":{\"outlinewidth\":0,\"ticks\":\"\"}}],\"histogram2d\":[{\"type\":\"histogram2d\",\"colorbar\":{\"outlinewidth\":0,\"ticks\":\"\"},\"colorscale\":[[0.0,\"#0d0887\"],[0.1111111111111111,\"#46039f\"],[0.2222222222222222,\"#7201a8\"],[0.3333333333333333,\"#9c179e\"],[0.4444444444444444,\"#bd3786\"],[0.5555555555555556,\"#d8576b\"],[0.6666666666666666,\"#ed7953\"],[0.7777777777777778,\"#fb9f3a\"],[0.8888888888888888,\"#fdca26\"],[1.0,\"#f0f921\"]]}],\"heatmap\":[{\"type\":\"heatmap\",\"colorbar\":{\"outlinewidth\":0,\"ticks\":\"\"},\"colorscale\":[[0.0,\"#0d0887\"],[0.1111111111111111,\"#46039f\"],[0.2222222222222222,\"#7201a8\"],[0.3333333333333333,\"#9c179e\"],[0.4444444444444444,\"#bd3786\"],[0.5555555555555556,\"#d8576b\"],[0.6666666666666666,\"#ed7953\"],[0.7777777777777778,\"#fb9f3a\"],[0.8888888888888888,\"#fdca26\"],[1.0,\"#f0f921\"]]}],\"heatmapgl\":[{\"type\":\"heatmapgl\",\"colorbar\":{\"outlinewidth\":0,\"ticks\":\"\"},\"colorscale\":[[0.0,\"#0d0887\"],[0.1111111111111111,\"#46039f\"],[0.2222222222222222,\"#7201a8\"],[0.3333333333333333,\"#9c179e\"],[0.4444444444444444,\"#bd3786\"],[0.5555555555555556,\"#d8576b\"],[0.6666666666666666,\"#ed7953\"],[0.7777777777777778,\"#fb9f3a\"],[0.8888888888888888,\"#fdca26\"],[1.0,\"#f0f921\"]]}],\"contourcarpet\":[{\"type\":\"contourcarpet\",\"colorbar\":{\"outlinewidth\":0,\"ticks\":\"\"}}],\"contour\":[{\"type\":\"contour\",\"colorbar\":{\"outlinewidth\":0,\"ticks\":\"\"},\"colorscale\":[[0.0,\"#0d0887\"],[0.1111111111111111,\"#46039f\"],[0.2222222222222222,\"#7201a8\"],[0.3333333333333333,\"#9c179e\"],[0.4444444444444444,\"#bd3786\"],[0.5555555555555556,\"#d8576b\"],[0.6666666666666666,\"#ed7953\"],[0.7777777777777778,\"#fb9f3a\"],[0.8888888888888888,\"#fdca26\"],[1.0,\"#f0f921\"]]}],\"surface\":[{\"type\":\"surface\",\"colorbar\":{\"outlinewidth\":0,\"ticks\":\"\"},\"colorscale\":[[0.0,\"#0d0887\"],[0.1111111111111111,\"#46039f\"],[0.2222222222222222,\"#7201a8\"],[0.3333333333333333,\"#9c179e\"],[0.4444444444444444,\"#bd3786\"],[0.5555555555555556,\"#d8576b\"],[0.6666666666666666,\"#ed7953\"],[0.7777777777777778,\"#fb9f3a\"],[0.8888888888888888,\"#fdca26\"],[1.0,\"#f0f921\"]]}],\"mesh3d\":[{\"type\":\"mesh3d\",\"colorbar\":{\"outlinewidth\":0,\"ticks\":\"\"}}],\"scatter\":[{\"fillpattern\":{\"fillmode\":\"overlay\",\"size\":10,\"solidity\":0.2},\"type\":\"scatter\"}],\"parcoords\":[{\"type\":\"parcoords\",\"line\":{\"colorbar\":{\"outlinewidth\":0,\"ticks\":\"\"}}}],\"scatterpolargl\":[{\"type\":\"scatterpolargl\",\"marker\":{\"colorbar\":{\"outlinewidth\":0,\"ticks\":\"\"}}}],\"bar\":[{\"error_x\":{\"color\":\"#2a3f5f\"},\"error_y\":{\"color\":\"#2a3f5f\"},\"marker\":{\"line\":{\"color\":\"#E5ECF6\",\"width\":0.5},\"pattern\":{\"fillmode\":\"overlay\",\"size\":10,\"solidity\":0.2}},\"type\":\"bar\"}],\"scattergeo\":[{\"type\":\"scattergeo\",\"marker\":{\"colorbar\":{\"outlinewidth\":0,\"ticks\":\"\"}}}],\"scatterpolar\":[{\"type\":\"scatterpolar\",\"marker\":{\"colorbar\":{\"outlinewidth\":0,\"ticks\":\"\"}}}],\"histogram\":[{\"marker\":{\"pattern\":{\"fillmode\":\"overlay\",\"size\":10,\"solidity\":0.2}},\"type\":\"histogram\"}],\"scattergl\":[{\"type\":\"scattergl\",\"marker\":{\"colorbar\":{\"outlinewidth\":0,\"ticks\":\"\"}}}],\"scatter3d\":[{\"type\":\"scatter3d\",\"line\":{\"colorbar\":{\"outlinewidth\":0,\"ticks\":\"\"}},\"marker\":{\"colorbar\":{\"outlinewidth\":0,\"ticks\":\"\"}}}],\"scattermapbox\":[{\"type\":\"scattermapbox\",\"marker\":{\"colorbar\":{\"outlinewidth\":0,\"ticks\":\"\"}}}],\"scatterternary\":[{\"type\":\"scatterternary\",\"marker\":{\"colorbar\":{\"outlinewidth\":0,\"ticks\":\"\"}}}],\"scattercarpet\":[{\"type\":\"scattercarpet\",\"marker\":{\"colorbar\":{\"outlinewidth\":0,\"ticks\":\"\"}}}],\"carpet\":[{\"aaxis\":{\"endlinecolor\":\"#2a3f5f\",\"gridcolor\":\"white\",\"linecolor\":\"white\",\"minorgridcolor\":\"white\",\"startlinecolor\":\"#2a3f5f\"},\"baxis\":{\"endlinecolor\":\"#2a3f5f\",\"gridcolor\":\"white\",\"linecolor\":\"white\",\"minorgridcolor\":\"white\",\"startlinecolor\":\"#2a3f5f\"},\"type\":\"carpet\"}],\"table\":[{\"cells\":{\"fill\":{\"color\":\"#EBF0F8\"},\"line\":{\"color\":\"white\"}},\"header\":{\"fill\":{\"color\":\"#C8D4E3\"},\"line\":{\"color\":\"white\"}},\"type\":\"table\"}],\"barpolar\":[{\"marker\":{\"line\":{\"color\":\"#E5ECF6\",\"width\":0.5},\"pattern\":{\"fillmode\":\"overlay\",\"size\":10,\"solidity\":0.2}},\"type\":\"barpolar\"}],\"pie\":[{\"automargin\":true,\"type\":\"pie\"}]},\"layout\":{\"autotypenumbers\":\"strict\",\"colorway\":[\"#636efa\",\"#EF553B\",\"#00cc96\",\"#ab63fa\",\"#FFA15A\",\"#19d3f3\",\"#FF6692\",\"#B6E880\",\"#FF97FF\",\"#FECB52\"],\"font\":{\"color\":\"#2a3f5f\"},\"hovermode\":\"closest\",\"hoverlabel\":{\"align\":\"left\"},\"paper_bgcolor\":\"white\",\"plot_bgcolor\":\"#E5ECF6\",\"polar\":{\"bgcolor\":\"#E5ECF6\",\"angularaxis\":{\"gridcolor\":\"white\",\"linecolor\":\"white\",\"ticks\":\"\"},\"radialaxis\":{\"gridcolor\":\"white\",\"linecolor\":\"white\",\"ticks\":\"\"}},\"ternary\":{\"bgcolor\":\"#E5ECF6\",\"aaxis\":{\"gridcolor\":\"white\",\"linecolor\":\"white\",\"ticks\":\"\"},\"baxis\":{\"gridcolor\":\"white\",\"linecolor\":\"white\",\"ticks\":\"\"},\"caxis\":{\"gridcolor\":\"white\",\"linecolor\":\"white\",\"ticks\":\"\"}},\"coloraxis\":{\"colorbar\":{\"outlinewidth\":0,\"ticks\":\"\"}},\"colorscale\":{\"sequential\":[[0.0,\"#0d0887\"],[0.1111111111111111,\"#46039f\"],[0.2222222222222222,\"#7201a8\"],[0.3333333333333333,\"#9c179e\"],[0.4444444444444444,\"#bd3786\"],[0.5555555555555556,\"#d8576b\"],[0.6666666666666666,\"#ed7953\"],[0.7777777777777778,\"#fb9f3a\"],[0.8888888888888888,\"#fdca26\"],[1.0,\"#f0f921\"]],\"sequentialminus\":[[0.0,\"#0d0887\"],[0.1111111111111111,\"#46039f\"],[0.2222222222222222,\"#7201a8\"],[0.3333333333333333,\"#9c179e\"],[0.4444444444444444,\"#bd3786\"],[0.5555555555555556,\"#d8576b\"],[0.6666666666666666,\"#ed7953\"],[0.7777777777777778,\"#fb9f3a\"],[0.8888888888888888,\"#fdca26\"],[1.0,\"#f0f921\"]],\"diverging\":[[0,\"#8e0152\"],[0.1,\"#c51b7d\"],[0.2,\"#de77ae\"],[0.3,\"#f1b6da\"],[0.4,\"#fde0ef\"],[0.5,\"#f7f7f7\"],[0.6,\"#e6f5d0\"],[0.7,\"#b8e186\"],[0.8,\"#7fbc41\"],[0.9,\"#4d9221\"],[1,\"#276419\"]]},\"xaxis\":{\"gridcolor\":\"white\",\"linecolor\":\"white\",\"ticks\":\"\",\"title\":{\"standoff\":15},\"zerolinecolor\":\"white\",\"automargin\":true,\"zerolinewidth\":2},\"yaxis\":{\"gridcolor\":\"white\",\"linecolor\":\"white\",\"ticks\":\"\",\"title\":{\"standoff\":15},\"zerolinecolor\":\"white\",\"automargin\":true,\"zerolinewidth\":2},\"scene\":{\"xaxis\":{\"backgroundcolor\":\"#E5ECF6\",\"gridcolor\":\"white\",\"linecolor\":\"white\",\"showbackground\":true,\"ticks\":\"\",\"zerolinecolor\":\"white\",\"gridwidth\":2},\"yaxis\":{\"backgroundcolor\":\"#E5ECF6\",\"gridcolor\":\"white\",\"linecolor\":\"white\",\"showbackground\":true,\"ticks\":\"\",\"zerolinecolor\":\"white\",\"gridwidth\":2},\"zaxis\":{\"backgroundcolor\":\"#E5ECF6\",\"gridcolor\":\"white\",\"linecolor\":\"white\",\"showbackground\":true,\"ticks\":\"\",\"zerolinecolor\":\"white\",\"gridwidth\":2}},\"shapedefaults\":{\"line\":{\"color\":\"#2a3f5f\"}},\"annotationdefaults\":{\"arrowcolor\":\"#2a3f5f\",\"arrowhead\":0,\"arrowwidth\":1},\"geo\":{\"bgcolor\":\"white\",\"landcolor\":\"#E5ECF6\",\"subunitcolor\":\"white\",\"showland\":true,\"showlakes\":true,\"lakecolor\":\"white\"},\"title\":{\"x\":0.05},\"mapbox\":{\"style\":\"light\"}}}},                        {\"responsive\": true}                    ).then(function(){\n",
              "                            \n",
              "var gd = document.getElementById('67a9b047-ff01-4d09-8fb5-fa875db11e89');\n",
              "var x = new MutationObserver(function (mutations, observer) {{\n",
              "        var display = window.getComputedStyle(gd).display;\n",
              "        if (!display || display === 'none') {{\n",
              "            console.log([gd, 'removed!']);\n",
              "            Plotly.purge(gd);\n",
              "            observer.disconnect();\n",
              "        }}\n",
              "}});\n",
              "\n",
              "// Listen for the removal of the full notebook cells\n",
              "var notebookContainer = gd.closest('#notebook-container');\n",
              "if (notebookContainer) {{\n",
              "    x.observe(notebookContainer, {childList: true});\n",
              "}}\n",
              "\n",
              "// Listen for the clearing of the current output cell\n",
              "var outputEl = gd.closest('.output');\n",
              "if (outputEl) {{\n",
              "    x.observe(outputEl, {childList: true});\n",
              "}}\n",
              "\n",
              "                        })                };                });            </script>        </div>"
            ]
          },
          "metadata": {},
          "output_type": "display_data"
        }
      ],
      "source": [
        "fig = go.Figure(data=data, layout=layout)\n",
        "fig.show()"
      ]
    },
    {
      "cell_type": "code",
      "execution_count": null,
      "metadata": {
        "id": "tdNSnWXxhLJr"
      },
      "outputs": [],
      "source": []
    },
    {
      "cell_type": "markdown",
      "metadata": {
        "id": "-_yKWJ1YhLJr"
      },
      "source": [
        "## lets try to visualise temperature on a Map"
      ]
    },
    {
      "cell_type": "code",
      "execution_count": 155,
      "metadata": {
        "colab": {
          "base_uri": "https://localhost:8080/",
          "height": 206
        },
        "id": "qWhkNQHrhLJs",
        "outputId": "edf37e9a-8d1f-4c56-ed8d-8404c45738d0"
      },
      "outputs": [
        {
          "data": {
            "text/html": [
              "<div>\n",
              "<style scoped>\n",
              "    .dataframe tbody tr th:only-of-type {\n",
              "        vertical-align: middle;\n",
              "    }\n",
              "\n",
              "    .dataframe tbody tr th {\n",
              "        vertical-align: top;\n",
              "    }\n",
              "\n",
              "    .dataframe thead th {\n",
              "        text-align: right;\n",
              "    }\n",
              "</style>\n",
              "<table border=\"1\" class=\"dataframe\">\n",
              "  <thead>\n",
              "    <tr style=\"text-align: right;\">\n",
              "      <th></th>\n",
              "      <th>month</th>\n",
              "      <th>City</th>\n",
              "      <th>Mean_temp</th>\n",
              "      <th>Country</th>\n",
              "      <th>Latitude</th>\n",
              "      <th>Longitude</th>\n",
              "    </tr>\n",
              "  </thead>\n",
              "  <tbody>\n",
              "    <tr>\n",
              "      <th>0</th>\n",
              "      <td>1</td>\n",
              "      <td>Bangalore</td>\n",
              "      <td>22.713981</td>\n",
              "      <td>India</td>\n",
              "      <td>12.05</td>\n",
              "      <td>77.26</td>\n",
              "    </tr>\n",
              "    <tr>\n",
              "      <th>2613</th>\n",
              "      <td>1</td>\n",
              "      <td>Gurgaon</td>\n",
              "      <td>14.238560</td>\n",
              "      <td>India</td>\n",
              "      <td>28.13</td>\n",
              "      <td>77.27</td>\n",
              "    </tr>\n",
              "    <tr>\n",
              "      <th>5226</th>\n",
              "      <td>1</td>\n",
              "      <td>Hyderabad</td>\n",
              "      <td>22.758290</td>\n",
              "      <td>India</td>\n",
              "      <td>16.87</td>\n",
              "      <td>78.70</td>\n",
              "    </tr>\n",
              "    <tr>\n",
              "      <th>7839</th>\n",
              "      <td>1</td>\n",
              "      <td>Madras</td>\n",
              "      <td>24.346733</td>\n",
              "      <td>India</td>\n",
              "      <td>13.66</td>\n",
              "      <td>80.09</td>\n",
              "    </tr>\n",
              "    <tr>\n",
              "      <th>10452</th>\n",
              "      <td>1</td>\n",
              "      <td>New Delhi</td>\n",
              "      <td>14.238560</td>\n",
              "      <td>India</td>\n",
              "      <td>28.13</td>\n",
              "      <td>77.27</td>\n",
              "    </tr>\n",
              "  </tbody>\n",
              "</table>\n",
              "</div>"
            ],
            "text/plain": [
              "       month       City  Mean_temp Country Latitude Longitude\n",
              "0          1  Bangalore  22.713981   India    12.05     77.26\n",
              "2613       1    Gurgaon  14.238560   India    28.13     77.27\n",
              "5226       1  Hyderabad  22.758290   India    16.87     78.70\n",
              "7839       1     Madras  24.346733   India    13.66     80.09\n",
              "10452      1  New Delhi  14.238560   India    28.13     77.27"
            ]
          },
          "execution_count": 155,
          "metadata": {},
          "output_type": "execute_result"
        }
      ],
      "source": [
        "data2.head()"
      ]
    },
    {
      "cell_type": "code",
      "execution_count": 156,
      "metadata": {
        "colab": {
          "base_uri": "https://localhost:8080/"
        },
        "id": "ui-GQNnVhLJs",
        "outputId": "5f943d5a-355e-495d-dcb1-57450e8247f6"
      },
      "outputs": [
        {
          "data": {
            "text/plain": [
              "(84, 6)"
            ]
          },
          "execution_count": 156,
          "metadata": {},
          "output_type": "execute_result"
        }
      ],
      "source": [
        "data2.shape"
      ]
    },
    {
      "cell_type": "code",
      "execution_count": 157,
      "metadata": {
        "id": "oTgnzeZDhLJs"
      },
      "outputs": [],
      "source": [
        "import folium\n",
        "# Create a map\n",
        "m = folium.Map(tiles='openstreetmap', zoom_start=2)"
      ]
    },
    {
      "cell_type": "code",
      "execution_count": 158,
      "metadata": {
        "colab": {
          "base_uri": "https://localhost:8080/",
          "height": 685
        },
        "id": "V95qy7H4hLJs",
        "outputId": "30091662-17ce-463e-d9fb-61676a1ac7aa"
      },
      "outputs": [
        {
          "data": {
            "text/html": [
              "<div style=\"width:100%;\"><div style=\"position:relative;width:100%;height:0;padding-bottom:60%;\"><span style=\"color:#565656\">Make this Notebook Trusted to load map: File -> Trust Notebook</span><iframe srcdoc=\"&lt;!DOCTYPE html&gt;\n",
              "&lt;head&gt;    \n",
              "    &lt;meta http-equiv=&quot;content-type&quot; content=&quot;text/html; charset=UTF-8&quot; /&gt;\n",
              "    \n",
              "        &lt;script&gt;\n",
              "            L_NO_TOUCH = false;\n",
              "            L_DISABLE_3D = false;\n",
              "        &lt;/script&gt;\n",
              "    \n",
              "    &lt;style&gt;html, body {width: 100%;height: 100%;margin: 0;padding: 0;}&lt;/style&gt;\n",
              "    &lt;style&gt;#map {position:absolute;top:0;bottom:0;right:0;left:0;}&lt;/style&gt;\n",
              "    &lt;script src=&quot;https://cdn.jsdelivr.net/npm/leaflet@1.6.0/dist/leaflet.js&quot;&gt;&lt;/script&gt;\n",
              "    &lt;script src=&quot;https://code.jquery.com/jquery-1.12.4.min.js&quot;&gt;&lt;/script&gt;\n",
              "    &lt;script src=&quot;https://maxcdn.bootstrapcdn.com/bootstrap/3.2.0/js/bootstrap.min.js&quot;&gt;&lt;/script&gt;\n",
              "    &lt;script src=&quot;https://cdnjs.cloudflare.com/ajax/libs/Leaflet.awesome-markers/2.0.2/leaflet.awesome-markers.js&quot;&gt;&lt;/script&gt;\n",
              "    &lt;link rel=&quot;stylesheet&quot; href=&quot;https://cdn.jsdelivr.net/npm/leaflet@1.6.0/dist/leaflet.css&quot;/&gt;\n",
              "    &lt;link rel=&quot;stylesheet&quot; href=&quot;https://maxcdn.bootstrapcdn.com/bootstrap/3.2.0/css/bootstrap.min.css&quot;/&gt;\n",
              "    &lt;link rel=&quot;stylesheet&quot; href=&quot;https://maxcdn.bootstrapcdn.com/bootstrap/3.2.0/css/bootstrap-theme.min.css&quot;/&gt;\n",
              "    &lt;link rel=&quot;stylesheet&quot; href=&quot;https://maxcdn.bootstrapcdn.com/font-awesome/4.6.3/css/font-awesome.min.css&quot;/&gt;\n",
              "    &lt;link rel=&quot;stylesheet&quot; href=&quot;https://cdnjs.cloudflare.com/ajax/libs/Leaflet.awesome-markers/2.0.2/leaflet.awesome-markers.css&quot;/&gt;\n",
              "    &lt;link rel=&quot;stylesheet&quot; href=&quot;https://cdn.jsdelivr.net/gh/python-visualization/folium/folium/templates/leaflet.awesome.rotate.min.css&quot;/&gt;\n",
              "    \n",
              "            &lt;meta name=&quot;viewport&quot; content=&quot;width=device-width,\n",
              "                initial-scale=1.0, maximum-scale=1.0, user-scalable=no&quot; /&gt;\n",
              "            &lt;style&gt;\n",
              "                #map_47b964557ff9cecff9e28ace019ece0a {\n",
              "                    position: relative;\n",
              "                    width: 100.0%;\n",
              "                    height: 100.0%;\n",
              "                    left: 0.0%;\n",
              "                    top: 0.0%;\n",
              "                }\n",
              "            &lt;/style&gt;\n",
              "        \n",
              "&lt;/head&gt;\n",
              "&lt;body&gt;    \n",
              "    \n",
              "            &lt;div class=&quot;folium-map&quot; id=&quot;map_47b964557ff9cecff9e28ace019ece0a&quot; &gt;&lt;/div&gt;\n",
              "        \n",
              "&lt;/body&gt;\n",
              "&lt;script&gt;    \n",
              "    \n",
              "            var map_47b964557ff9cecff9e28ace019ece0a = L.map(\n",
              "                &quot;map_47b964557ff9cecff9e28ace019ece0a&quot;,\n",
              "                {\n",
              "                    center: [0, 0],\n",
              "                    crs: L.CRS.EPSG3857,\n",
              "                    zoom: 1,\n",
              "                    zoomControl: true,\n",
              "                    preferCanvas: false,\n",
              "                }\n",
              "            );\n",
              "\n",
              "            \n",
              "\n",
              "        \n",
              "    \n",
              "            var tile_layer_0a5acd028436bbeb084d3c49f44b19f3 = L.tileLayer(\n",
              "                &quot;https://{s}.tile.openstreetmap.org/{z}/{x}/{y}.png&quot;,\n",
              "                {&quot;attribution&quot;: &quot;Data by \\u0026copy; \\u003ca href=\\&quot;http://openstreetmap.org\\&quot;\\u003eOpenStreetMap\\u003c/a\\u003e, under \\u003ca href=\\&quot;http://www.openstreetmap.org/copyright\\&quot;\\u003eODbL\\u003c/a\\u003e.&quot;, &quot;detectRetina&quot;: false, &quot;maxNativeZoom&quot;: 18, &quot;maxZoom&quot;: 18, &quot;minZoom&quot;: 0, &quot;noWrap&quot;: false, &quot;opacity&quot;: 1, &quot;subdomains&quot;: &quot;abc&quot;, &quot;tms&quot;: false}\n",
              "            ).addTo(map_47b964557ff9cecff9e28ace019ece0a);\n",
              "        \n",
              "    \n",
              "            var marker_c80a0efe4ffdea3c4d51e3309d6a5b75 = L.marker(\n",
              "                [12.05, 77.26],\n",
              "                {}\n",
              "            ).addTo(map_47b964557ff9cecff9e28ace019ece0a);\n",
              "        \n",
              "    \n",
              "        var popup_b85289ce30a1d6a13b800edd6044596d = L.popup({&quot;maxWidth&quot;: &quot;100%&quot;});\n",
              "\n",
              "        \n",
              "            var html_9a6275e4c1f87ce7aec30727d0352c8f = $(`&lt;div id=&quot;html_9a6275e4c1f87ce7aec30727d0352c8f&quot; style=&quot;width: 100.0%; height: 100.0%;&quot;&gt;22.713980952380954&lt;/div&gt;`)[0];\n",
              "            popup_b85289ce30a1d6a13b800edd6044596d.setContent(html_9a6275e4c1f87ce7aec30727d0352c8f);\n",
              "        \n",
              "\n",
              "        marker_c80a0efe4ffdea3c4d51e3309d6a5b75.bindPopup(popup_b85289ce30a1d6a13b800edd6044596d)\n",
              "        ;\n",
              "\n",
              "        \n",
              "    \n",
              "    \n",
              "            var marker_e5b6a2be4787eb615e7c73157b50a3cc = L.marker(\n",
              "                [28.13, 77.27],\n",
              "                {}\n",
              "            ).addTo(map_47b964557ff9cecff9e28ace019ece0a);\n",
              "        \n",
              "    \n",
              "        var popup_046a16818acbc9af0b0c9bb7e6854069 = L.popup({&quot;maxWidth&quot;: &quot;100%&quot;});\n",
              "\n",
              "        \n",
              "            var html_d8b0b530666071929fa825f5bf29a919 = $(`&lt;div id=&quot;html_d8b0b530666071929fa825f5bf29a919&quot; style=&quot;width: 100.0%; height: 100.0%;&quot;&gt;14.23856&lt;/div&gt;`)[0];\n",
              "            popup_046a16818acbc9af0b0c9bb7e6854069.setContent(html_d8b0b530666071929fa825f5bf29a919);\n",
              "        \n",
              "\n",
              "        marker_e5b6a2be4787eb615e7c73157b50a3cc.bindPopup(popup_046a16818acbc9af0b0c9bb7e6854069)\n",
              "        ;\n",
              "\n",
              "        \n",
              "    \n",
              "    \n",
              "            var marker_73db1d239662866f93cee53a59638876 = L.marker(\n",
              "                [16.87, 78.7],\n",
              "                {}\n",
              "            ).addTo(map_47b964557ff9cecff9e28ace019ece0a);\n",
              "        \n",
              "    \n",
              "        var popup_26ab29e01de169f92f4fcbde467e719c = L.popup({&quot;maxWidth&quot;: &quot;100%&quot;});\n",
              "\n",
              "        \n",
              "            var html_1d84f0537a55e1a9b6004dc330cd2ba5 = $(`&lt;div id=&quot;html_1d84f0537a55e1a9b6004dc330cd2ba5&quot; style=&quot;width: 100.0%; height: 100.0%;&quot;&gt;22.758290476190478&lt;/div&gt;`)[0];\n",
              "            popup_26ab29e01de169f92f4fcbde467e719c.setContent(html_1d84f0537a55e1a9b6004dc330cd2ba5);\n",
              "        \n",
              "\n",
              "        marker_73db1d239662866f93cee53a59638876.bindPopup(popup_26ab29e01de169f92f4fcbde467e719c)\n",
              "        ;\n",
              "\n",
              "        \n",
              "    \n",
              "    \n",
              "            var marker_f8e57806f53597abee425bfd299e778a = L.marker(\n",
              "                [13.66, 80.09],\n",
              "                {}\n",
              "            ).addTo(map_47b964557ff9cecff9e28ace019ece0a);\n",
              "        \n",
              "    \n",
              "        var popup_937745dd23c93e08a839255f74383f24 = L.popup({&quot;maxWidth&quot;: &quot;100%&quot;});\n",
              "\n",
              "        \n",
              "            var html_49d3a4e25a430e4b858060e0f5c48ee5 = $(`&lt;div id=&quot;html_49d3a4e25a430e4b858060e0f5c48ee5&quot; style=&quot;width: 100.0%; height: 100.0%;&quot;&gt;24.346733333333336&lt;/div&gt;`)[0];\n",
              "            popup_937745dd23c93e08a839255f74383f24.setContent(html_49d3a4e25a430e4b858060e0f5c48ee5);\n",
              "        \n",
              "\n",
              "        marker_f8e57806f53597abee425bfd299e778a.bindPopup(popup_937745dd23c93e08a839255f74383f24)\n",
              "        ;\n",
              "\n",
              "        \n",
              "    \n",
              "    \n",
              "            var marker_8bb5ae80e0f38a9418a3a271ec159ab2 = L.marker(\n",
              "                [28.13, 77.27],\n",
              "                {}\n",
              "            ).addTo(map_47b964557ff9cecff9e28ace019ece0a);\n",
              "        \n",
              "    \n",
              "        var popup_6e6fdd60b227ea8f1886345a03a33a76 = L.popup({&quot;maxWidth&quot;: &quot;100%&quot;});\n",
              "\n",
              "        \n",
              "            var html_a72afad028b2e47111804023fc4566ac = $(`&lt;div id=&quot;html_a72afad028b2e47111804023fc4566ac&quot; style=&quot;width: 100.0%; height: 100.0%;&quot;&gt;14.23856&lt;/div&gt;`)[0];\n",
              "            popup_6e6fdd60b227ea8f1886345a03a33a76.setContent(html_a72afad028b2e47111804023fc4566ac);\n",
              "        \n",
              "\n",
              "        marker_8bb5ae80e0f38a9418a3a271ec159ab2.bindPopup(popup_6e6fdd60b227ea8f1886345a03a33a76)\n",
              "        ;\n",
              "\n",
              "        \n",
              "    \n",
              "    \n",
              "            var marker_72a37ac59fe3834cb9b47b13fa39be2a = L.marker(\n",
              "                [18.48, 74.37],\n",
              "                {}\n",
              "            ).addTo(map_47b964557ff9cecff9e28ace019ece0a);\n",
              "        \n",
              "    \n",
              "        var popup_b79ed32c3039f4cc2511c94fa5f86808 = L.popup({&quot;maxWidth&quot;: &quot;100%&quot;});\n",
              "\n",
              "        \n",
              "            var html_ab4b0f3985e15f52e7982e386df80a86 = $(`&lt;div id=&quot;html_ab4b0f3985e15f52e7982e386df80a86&quot; style=&quot;width: 100.0%; height: 100.0%;&quot;&gt;20.448204761904766&lt;/div&gt;`)[0];\n",
              "            popup_b79ed32c3039f4cc2511c94fa5f86808.setContent(html_ab4b0f3985e15f52e7982e386df80a86);\n",
              "        \n",
              "\n",
              "        marker_72a37ac59fe3834cb9b47b13fa39be2a.bindPopup(popup_b79ed32c3039f4cc2511c94fa5f86808)\n",
              "        ;\n",
              "\n",
              "        \n",
              "    \n",
              "    \n",
              "            var marker_c6ecf2cd0b9792b9eb4eb7e5a6a361d7 = L.marker(\n",
              "                [24.92, 83.35],\n",
              "                {}\n",
              "            ).addTo(map_47b964557ff9cecff9e28ace019ece0a);\n",
              "        \n",
              "    \n",
              "        var popup_9b8d30c6996ee71dd3d4f10e6e9bb7c8 = L.popup({&quot;maxWidth&quot;: &quot;100%&quot;});\n",
              "\n",
              "        \n",
              "            var html_aaa2572f778a5333272163e20b6f676a = $(`&lt;div id=&quot;html_aaa2572f778a5333272163e20b6f676a&quot; style=&quot;width: 100.0%; height: 100.0%;&quot;&gt;15.596650717703348&lt;/div&gt;`)[0];\n",
              "            popup_9b8d30c6996ee71dd3d4f10e6e9bb7c8.setContent(html_aaa2572f778a5333272163e20b6f676a);\n",
              "        \n",
              "\n",
              "        marker_c6ecf2cd0b9792b9eb4eb7e5a6a361d7.bindPopup(popup_9b8d30c6996ee71dd3d4f10e6e9bb7c8)\n",
              "        ;\n",
              "\n",
              "        \n",
              "    \n",
              "    \n",
              "            var marker_a948e184f60f6658a1312dee5a3f24d9 = L.marker(\n",
              "                [12.05, 77.26],\n",
              "                {}\n",
              "            ).addTo(map_47b964557ff9cecff9e28ace019ece0a);\n",
              "        \n",
              "    \n",
              "        var popup_57cdd299419255399b559d93a4bf7ffe = L.popup({&quot;maxWidth&quot;: &quot;100%&quot;});\n",
              "\n",
              "        \n",
              "            var html_a4adaed1523bf2cf253d6fc588149b05 = $(`&lt;div id=&quot;html_a4adaed1523bf2cf253d6fc588149b05&quot; style=&quot;width: 100.0%; height: 100.0%;&quot;&gt;24.65661904761905&lt;/div&gt;`)[0];\n",
              "            popup_57cdd299419255399b559d93a4bf7ffe.setContent(html_a4adaed1523bf2cf253d6fc588149b05);\n",
              "        \n",
              "\n",
              "        marker_a948e184f60f6658a1312dee5a3f24d9.bindPopup(popup_57cdd299419255399b559d93a4bf7ffe)\n",
              "        ;\n",
              "\n",
              "        \n",
              "    \n",
              "    \n",
              "            var marker_b18f36b931d9601d7ce0d256c1086c8a = L.marker(\n",
              "                [28.13, 77.27],\n",
              "                {}\n",
              "            ).addTo(map_47b964557ff9cecff9e28ace019ece0a);\n",
              "        \n",
              "    \n",
              "        var popup_48b9847ebf186179e74c7c3034b2d597 = L.popup({&quot;maxWidth&quot;: &quot;100%&quot;});\n",
              "\n",
              "        \n",
              "            var html_7f881ccbe7db6a261853091aa37fe0fc = $(`&lt;div id=&quot;html_7f881ccbe7db6a261853091aa37fe0fc&quot; style=&quot;width: 100.0%; height: 100.0%;&quot;&gt;17.144979999999997&lt;/div&gt;`)[0];\n",
              "            popup_48b9847ebf186179e74c7c3034b2d597.setContent(html_7f881ccbe7db6a261853091aa37fe0fc);\n",
              "        \n",
              "\n",
              "        marker_b18f36b931d9601d7ce0d256c1086c8a.bindPopup(popup_48b9847ebf186179e74c7c3034b2d597)\n",
              "        ;\n",
              "\n",
              "        \n",
              "    \n",
              "    \n",
              "            var marker_7a60407a9e78cc3ee7b6efb86c096c99 = L.marker(\n",
              "                [16.87, 78.7],\n",
              "                {}\n",
              "            ).addTo(map_47b964557ff9cecff9e28ace019ece0a);\n",
              "        \n",
              "    \n",
              "        var popup_4a2d2da6eec5b9be246e9d9d860b82dd = L.popup({&quot;maxWidth&quot;: &quot;100%&quot;});\n",
              "\n",
              "        \n",
              "            var html_a250636104139135993fce0f27158ee8 = $(`&lt;div id=&quot;html_a250636104139135993fce0f27158ee8&quot; style=&quot;width: 100.0%; height: 100.0%;&quot;&gt;25.317076190476193&lt;/div&gt;`)[0];\n",
              "            popup_4a2d2da6eec5b9be246e9d9d860b82dd.setContent(html_a250636104139135993fce0f27158ee8);\n",
              "        \n",
              "\n",
              "        marker_7a60407a9e78cc3ee7b6efb86c096c99.bindPopup(popup_4a2d2da6eec5b9be246e9d9d860b82dd)\n",
              "        ;\n",
              "\n",
              "        \n",
              "    \n",
              "    \n",
              "            var marker_59c85eb69d492985faf38359157f295c = L.marker(\n",
              "                [13.66, 80.09],\n",
              "                {}\n",
              "            ).addTo(map_47b964557ff9cecff9e28ace019ece0a);\n",
              "        \n",
              "    \n",
              "        var popup_0bb0165668332603f064eaee44a03aaf = L.popup({&quot;maxWidth&quot;: &quot;100%&quot;});\n",
              "\n",
              "        \n",
              "            var html_e2fd38075d22ceb9a6c9750d3bc455de = $(`&lt;div id=&quot;html_e2fd38075d22ceb9a6c9750d3bc455de&quot; style=&quot;width: 100.0%; height: 100.0%;&quot;&gt;25.831404761904764&lt;/div&gt;`)[0];\n",
              "            popup_0bb0165668332603f064eaee44a03aaf.setContent(html_e2fd38075d22ceb9a6c9750d3bc455de);\n",
              "        \n",
              "\n",
              "        marker_59c85eb69d492985faf38359157f295c.bindPopup(popup_0bb0165668332603f064eaee44a03aaf)\n",
              "        ;\n",
              "\n",
              "        \n",
              "    \n",
              "    \n",
              "            var marker_da8b19ca447435d7c7b6be3f27a4a25a = L.marker(\n",
              "                [28.13, 77.27],\n",
              "                {}\n",
              "            ).addTo(map_47b964557ff9cecff9e28ace019ece0a);\n",
              "        \n",
              "    \n",
              "        var popup_7d75885de1b00bf751e42bc9e8dd6afc = L.popup({&quot;maxWidth&quot;: &quot;100%&quot;});\n",
              "\n",
              "        \n",
              "            var html_50599ad80d643b46b77a36693c094b45 = $(`&lt;div id=&quot;html_50599ad80d643b46b77a36693c094b45&quot; style=&quot;width: 100.0%; height: 100.0%;&quot;&gt;17.144979999999997&lt;/div&gt;`)[0];\n",
              "            popup_7d75885de1b00bf751e42bc9e8dd6afc.setContent(html_50599ad80d643b46b77a36693c094b45);\n",
              "        \n",
              "\n",
              "        marker_da8b19ca447435d7c7b6be3f27a4a25a.bindPopup(popup_7d75885de1b00bf751e42bc9e8dd6afc)\n",
              "        ;\n",
              "\n",
              "        \n",
              "    \n",
              "    \n",
              "            var marker_d79ea9e9ed65036603f0352a21bbaaea = L.marker(\n",
              "                [18.48, 74.37],\n",
              "                {}\n",
              "            ).addTo(map_47b964557ff9cecff9e28ace019ece0a);\n",
              "        \n",
              "    \n",
              "        var popup_7f9f47d98b5e63c108f7eaa52ca90c73 = L.popup({&quot;maxWidth&quot;: &quot;100%&quot;});\n",
              "\n",
              "        \n",
              "            var html_292b8e6262b2470446f9d711984e81bb = $(`&lt;div id=&quot;html_292b8e6262b2470446f9d711984e81bb&quot; style=&quot;width: 100.0%; height: 100.0%;&quot;&gt;22.607923809523808&lt;/div&gt;`)[0];\n",
              "            popup_7f9f47d98b5e63c108f7eaa52ca90c73.setContent(html_292b8e6262b2470446f9d711984e81bb);\n",
              "        \n",
              "\n",
              "        marker_d79ea9e9ed65036603f0352a21bbaaea.bindPopup(popup_7f9f47d98b5e63c108f7eaa52ca90c73)\n",
              "        ;\n",
              "\n",
              "        \n",
              "    \n",
              "    \n",
              "            var marker_981850ff5126cf96dba8b4313a9a91db = L.marker(\n",
              "                [24.92, 83.35],\n",
              "                {}\n",
              "            ).addTo(map_47b964557ff9cecff9e28ace019ece0a);\n",
              "        \n",
              "    \n",
              "        var popup_6d2296fa6f9db134c58662e475bf43c9 = L.popup({&quot;maxWidth&quot;: &quot;100%&quot;});\n",
              "\n",
              "        \n",
              "            var html_a95f73282480cc2d0c8251ce93ca1cb6 = $(`&lt;div id=&quot;html_a95f73282480cc2d0c8251ce93ca1cb6&quot; style=&quot;width: 100.0%; height: 100.0%;&quot;&gt;18.716421052631578&lt;/div&gt;`)[0];\n",
              "            popup_6d2296fa6f9db134c58662e475bf43c9.setContent(html_a95f73282480cc2d0c8251ce93ca1cb6);\n",
              "        \n",
              "\n",
              "        marker_981850ff5126cf96dba8b4313a9a91db.bindPopup(popup_6d2296fa6f9db134c58662e475bf43c9)\n",
              "        ;\n",
              "\n",
              "        \n",
              "    \n",
              "    \n",
              "            var marker_299685cc112677b00e3cf4ba0f60fc89 = L.marker(\n",
              "                [12.05, 77.26],\n",
              "                {}\n",
              "            ).addTo(map_47b964557ff9cecff9e28ace019ece0a);\n",
              "        \n",
              "    \n",
              "        var popup_3ab6da814855e1c6fb40170505ef2527 = L.popup({&quot;maxWidth&quot;: &quot;100%&quot;});\n",
              "\n",
              "        \n",
              "            var html_f8085236c73aba2fc1cfd291c4e571a5 = $(`&lt;div id=&quot;html_f8085236c73aba2fc1cfd291c4e571a5&quot; style=&quot;width: 100.0%; height: 100.0%;&quot;&gt;27.062185714285715&lt;/div&gt;`)[0];\n",
              "            popup_3ab6da814855e1c6fb40170505ef2527.setContent(html_f8085236c73aba2fc1cfd291c4e571a5);\n",
              "        \n",
              "\n",
              "        marker_299685cc112677b00e3cf4ba0f60fc89.bindPopup(popup_3ab6da814855e1c6fb40170505ef2527)\n",
              "        ;\n",
              "\n",
              "        \n",
              "    \n",
              "    \n",
              "            var marker_555a175997321461a7c16c84ace9fc72 = L.marker(\n",
              "                [28.13, 77.27],\n",
              "                {}\n",
              "            ).addTo(map_47b964557ff9cecff9e28ace019ece0a);\n",
              "        \n",
              "    \n",
              "        var popup_e928c0161bf9fe131767bcd2b2d10eda = L.popup({&quot;maxWidth&quot;: &quot;100%&quot;});\n",
              "\n",
              "        \n",
              "            var html_c588279468f30c8c87b79dae781306ac = $(`&lt;div id=&quot;html_c588279468f30c8c87b79dae781306ac&quot; style=&quot;width: 100.0%; height: 100.0%;&quot;&gt;23.014804020100502&lt;/div&gt;`)[0];\n",
              "            popup_e928c0161bf9fe131767bcd2b2d10eda.setContent(html_c588279468f30c8c87b79dae781306ac);\n",
              "        \n",
              "\n",
              "        marker_555a175997321461a7c16c84ace9fc72.bindPopup(popup_e928c0161bf9fe131767bcd2b2d10eda)\n",
              "        ;\n",
              "\n",
              "        \n",
              "    \n",
              "    \n",
              "            var marker_5cfac15e70d75e720cb456492ad5faf7 = L.marker(\n",
              "                [16.87, 78.7],\n",
              "                {}\n",
              "            ).addTo(map_47b964557ff9cecff9e28ace019ece0a);\n",
              "        \n",
              "    \n",
              "        var popup_8278be204a3a4de02a9930aa1b002419 = L.popup({&quot;maxWidth&quot;: &quot;100%&quot;});\n",
              "\n",
              "        \n",
              "            var html_89e6c56be418ce09d6ba1d34789add49 = $(`&lt;div id=&quot;html_89e6c56be418ce09d6ba1d34789add49&quot; style=&quot;width: 100.0%; height: 100.0%;&quot;&gt;28.803542857142855&lt;/div&gt;`)[0];\n",
              "            popup_8278be204a3a4de02a9930aa1b002419.setContent(html_89e6c56be418ce09d6ba1d34789add49);\n",
              "        \n",
              "\n",
              "        marker_5cfac15e70d75e720cb456492ad5faf7.bindPopup(popup_8278be204a3a4de02a9930aa1b002419)\n",
              "        ;\n",
              "\n",
              "        \n",
              "    \n",
              "    \n",
              "            var marker_85a83e28d7f32aa2fa2fab4df671120f = L.marker(\n",
              "                [13.66, 80.09],\n",
              "                {}\n",
              "            ).addTo(map_47b964557ff9cecff9e28ace019ece0a);\n",
              "        \n",
              "    \n",
              "        var popup_fe19ff4a45c67b92fac5356cec4581fa = L.popup({&quot;maxWidth&quot;: &quot;100%&quot;});\n",
              "\n",
              "        \n",
              "            var html_d124b1c3c82ec6c9162b964ffa438f7f = $(`&lt;div id=&quot;html_d124b1c3c82ec6c9162b964ffa438f7f&quot; style=&quot;width: 100.0%; height: 100.0%;&quot;&gt;28.114447619047617&lt;/div&gt;`)[0];\n",
              "            popup_fe19ff4a45c67b92fac5356cec4581fa.setContent(html_d124b1c3c82ec6c9162b964ffa438f7f);\n",
              "        \n",
              "\n",
              "        marker_85a83e28d7f32aa2fa2fab4df671120f.bindPopup(popup_fe19ff4a45c67b92fac5356cec4581fa)\n",
              "        ;\n",
              "\n",
              "        \n",
              "    \n",
              "    \n",
              "            var marker_98b2ca230d076384859323444d806b54 = L.marker(\n",
              "                [28.13, 77.27],\n",
              "                {}\n",
              "            ).addTo(map_47b964557ff9cecff9e28ace019ece0a);\n",
              "        \n",
              "    \n",
              "        var popup_201c33ca9826b83f3863d5ab52a3952b = L.popup({&quot;maxWidth&quot;: &quot;100%&quot;});\n",
              "\n",
              "        \n",
              "            var html_28985da0eb68993db808500a7e8678a8 = $(`&lt;div id=&quot;html_28985da0eb68993db808500a7e8678a8&quot; style=&quot;width: 100.0%; height: 100.0%;&quot;&gt;23.014804020100502&lt;/div&gt;`)[0];\n",
              "            popup_201c33ca9826b83f3863d5ab52a3952b.setContent(html_28985da0eb68993db808500a7e8678a8);\n",
              "        \n",
              "\n",
              "        marker_98b2ca230d076384859323444d806b54.bindPopup(popup_201c33ca9826b83f3863d5ab52a3952b)\n",
              "        ;\n",
              "\n",
              "        \n",
              "    \n",
              "    \n",
              "            var marker_e02ba23c511b1d8b78147e8604ad5790 = L.marker(\n",
              "                [18.48, 74.37],\n",
              "                {}\n",
              "            ).addTo(map_47b964557ff9cecff9e28ace019ece0a);\n",
              "        \n",
              "    \n",
              "        var popup_e1551fc7c999ea28838b35519868a649 = L.popup({&quot;maxWidth&quot;: &quot;100%&quot;});\n",
              "\n",
              "        \n",
              "            var html_6003ca21dff2e3b3386957bdf5a7f7cf = $(`&lt;div id=&quot;html_6003ca21dff2e3b3386957bdf5a7f7cf&quot; style=&quot;width: 100.0%; height: 100.0%;&quot;&gt;26.287685714285715&lt;/div&gt;`)[0];\n",
              "            popup_e1551fc7c999ea28838b35519868a649.setContent(html_6003ca21dff2e3b3386957bdf5a7f7cf);\n",
              "        \n",
              "\n",
              "        marker_e02ba23c511b1d8b78147e8604ad5790.bindPopup(popup_e1551fc7c999ea28838b35519868a649)\n",
              "        ;\n",
              "\n",
              "        \n",
              "    \n",
              "    \n",
              "            var marker_36d2a1a25739cb53830ef54f3d6f82dc = L.marker(\n",
              "                [24.92, 83.35],\n",
              "                {}\n",
              "            ).addTo(map_47b964557ff9cecff9e28ace019ece0a);\n",
              "        \n",
              "    \n",
              "        var popup_2d266eab4368316c5dd5fb9aecaf5e7b = L.popup({&quot;maxWidth&quot;: &quot;100%&quot;});\n",
              "\n",
              "        \n",
              "            var html_2beffe4d7eee06e8129e5815b160555c = $(`&lt;div id=&quot;html_2beffe4d7eee06e8129e5815b160555c&quot; style=&quot;width: 100.0%; height: 100.0%;&quot;&gt;24.651115384615384&lt;/div&gt;`)[0];\n",
              "            popup_2d266eab4368316c5dd5fb9aecaf5e7b.setContent(html_2beffe4d7eee06e8129e5815b160555c);\n",
              "        \n",
              "\n",
              "        marker_36d2a1a25739cb53830ef54f3d6f82dc.bindPopup(popup_2d266eab4368316c5dd5fb9aecaf5e7b)\n",
              "        ;\n",
              "\n",
              "        \n",
              "    \n",
              "    \n",
              "            var marker_d502403af1f666955e7f46ce8a042821 = L.marker(\n",
              "                [12.05, 77.26],\n",
              "                {}\n",
              "            ).addTo(map_47b964557ff9cecff9e28ace019ece0a);\n",
              "        \n",
              "    \n",
              "        var popup_3d1f4dec1802103339b50578657a2a8b = L.popup({&quot;maxWidth&quot;: &quot;100%&quot;});\n",
              "\n",
              "        \n",
              "            var html_32ef1cc5233fd093ed44590d5b0d39be = $(`&lt;div id=&quot;html_32ef1cc5233fd093ed44590d5b0d39be&quot; style=&quot;width: 100.0%; height: 100.0%;&quot;&gt;27.988516908212564&lt;/div&gt;`)[0];\n",
              "            popup_3d1f4dec1802103339b50578657a2a8b.setContent(html_32ef1cc5233fd093ed44590d5b0d39be);\n",
              "        \n",
              "\n",
              "        marker_d502403af1f666955e7f46ce8a042821.bindPopup(popup_3d1f4dec1802103339b50578657a2a8b)\n",
              "        ;\n",
              "\n",
              "        \n",
              "    \n",
              "    \n",
              "            var marker_16ae8244d542e3365d6dca1053f54169 = L.marker(\n",
              "                [28.13, 77.27],\n",
              "                {}\n",
              "            ).addTo(map_47b964557ff9cecff9e28ace019ece0a);\n",
              "        \n",
              "    \n",
              "        var popup_ca018396eb1e783673e15e8fe19eb42f = L.popup({&quot;maxWidth&quot;: &quot;100%&quot;});\n",
              "\n",
              "        \n",
              "            var html_185ca25754cc1cfb83cbdc3610317fec = $(`&lt;div id=&quot;html_185ca25754cc1cfb83cbdc3610317fec&quot; style=&quot;width: 100.0%; height: 100.0%;&quot;&gt;29.004575757575758&lt;/div&gt;`)[0];\n",
              "            popup_ca018396eb1e783673e15e8fe19eb42f.setContent(html_185ca25754cc1cfb83cbdc3610317fec);\n",
              "        \n",
              "\n",
              "        marker_16ae8244d542e3365d6dca1053f54169.bindPopup(popup_ca018396eb1e783673e15e8fe19eb42f)\n",
              "        ;\n",
              "\n",
              "        \n",
              "    \n",
              "    \n",
              "            var marker_fd974fe8ebdc8ed4ec3d4f6d9d2aa845 = L.marker(\n",
              "                [16.87, 78.7],\n",
              "                {}\n",
              "            ).addTo(map_47b964557ff9cecff9e28ace019ece0a);\n",
              "        \n",
              "    \n",
              "        var popup_797305d16218ba55ac0157f83885390d = L.popup({&quot;maxWidth&quot;: &quot;100%&quot;});\n",
              "\n",
              "        \n",
              "            var html_5d28afd06aa9a884d51b996bdbc0b29f = $(`&lt;div id=&quot;html_5d28afd06aa9a884d51b996bdbc0b29f&quot; style=&quot;width: 100.0%; height: 100.0%;&quot;&gt;31.465565217391305&lt;/div&gt;`)[0];\n",
              "            popup_797305d16218ba55ac0157f83885390d.setContent(html_5d28afd06aa9a884d51b996bdbc0b29f);\n",
              "        \n",
              "\n",
              "        marker_fd974fe8ebdc8ed4ec3d4f6d9d2aa845.bindPopup(popup_797305d16218ba55ac0157f83885390d)\n",
              "        ;\n",
              "\n",
              "        \n",
              "    \n",
              "    \n",
              "            var marker_ddb7b6fb6f08ea7805de13d0139c3284 = L.marker(\n",
              "                [13.66, 80.09],\n",
              "                {}\n",
              "            ).addTo(map_47b964557ff9cecff9e28ace019ece0a);\n",
              "        \n",
              "    \n",
              "        var popup_bc7dbc4616017859ac72bda6141a86c2 = L.popup({&quot;maxWidth&quot;: &quot;100%&quot;});\n",
              "\n",
              "        \n",
              "            var html_aaa8eef536e50f99597b78629fae0188 = $(`&lt;div id=&quot;html_aaa8eef536e50f99597b78629fae0188&quot; style=&quot;width: 100.0%; height: 100.0%;&quot;&gt;30.44130434782609&lt;/div&gt;`)[0];\n",
              "            popup_bc7dbc4616017859ac72bda6141a86c2.setContent(html_aaa8eef536e50f99597b78629fae0188);\n",
              "        \n",
              "\n",
              "        marker_ddb7b6fb6f08ea7805de13d0139c3284.bindPopup(popup_bc7dbc4616017859ac72bda6141a86c2)\n",
              "        ;\n",
              "\n",
              "        \n",
              "    \n",
              "    \n",
              "            var marker_600b88c2b6168ff3ac1b074e9bef5865 = L.marker(\n",
              "                [28.13, 77.27],\n",
              "                {}\n",
              "            ).addTo(map_47b964557ff9cecff9e28ace019ece0a);\n",
              "        \n",
              "    \n",
              "        var popup_71b35c1f0f68e259a35f7a47ee6e1dae = L.popup({&quot;maxWidth&quot;: &quot;100%&quot;});\n",
              "\n",
              "        \n",
              "            var html_6b0479c21aef1aa0994f3cdbbfb61604 = $(`&lt;div id=&quot;html_6b0479c21aef1aa0994f3cdbbfb61604&quot; style=&quot;width: 100.0%; height: 100.0%;&quot;&gt;29.004575757575758&lt;/div&gt;`)[0];\n",
              "            popup_71b35c1f0f68e259a35f7a47ee6e1dae.setContent(html_6b0479c21aef1aa0994f3cdbbfb61604);\n",
              "        \n",
              "\n",
              "        marker_600b88c2b6168ff3ac1b074e9bef5865.bindPopup(popup_71b35c1f0f68e259a35f7a47ee6e1dae)\n",
              "        ;\n",
              "\n",
              "        \n",
              "    \n",
              "    \n",
              "            var marker_eaecd1d89f053a6a46f92bfb6d702246 = L.marker(\n",
              "                [18.48, 74.37],\n",
              "                {}\n",
              "            ).addTo(map_47b964557ff9cecff9e28ace019ece0a);\n",
              "        \n",
              "    \n",
              "        var popup_c3cc4dff2058652874564e457bed772b = L.popup({&quot;maxWidth&quot;: &quot;100%&quot;});\n",
              "\n",
              "        \n",
              "            var html_82686e8d7b908684211424d5d07b1bb5 = $(`&lt;div id=&quot;html_82686e8d7b908684211424d5d07b1bb5&quot; style=&quot;width: 100.0%; height: 100.0%;&quot;&gt;29.004400966183574&lt;/div&gt;`)[0];\n",
              "            popup_c3cc4dff2058652874564e457bed772b.setContent(html_82686e8d7b908684211424d5d07b1bb5);\n",
              "        \n",
              "\n",
              "        marker_eaecd1d89f053a6a46f92bfb6d702246.bindPopup(popup_c3cc4dff2058652874564e457bed772b)\n",
              "        ;\n",
              "\n",
              "        \n",
              "    \n",
              "    \n",
              "            var marker_6ecaffeed301ec4daf29ebf43b89b051 = L.marker(\n",
              "                [24.92, 83.35],\n",
              "                {}\n",
              "            ).addTo(map_47b964557ff9cecff9e28ace019ece0a);\n",
              "        \n",
              "    \n",
              "        var popup_ba20d1699781e3f767cff35c0a26b439 = L.popup({&quot;maxWidth&quot;: &quot;100%&quot;});\n",
              "\n",
              "        \n",
              "            var html_cdb73a6f41a06859ad638b6921848f49 = $(`&lt;div id=&quot;html_cdb73a6f41a06859ad638b6921848f49&quot; style=&quot;width: 100.0%; height: 100.0%;&quot;&gt;30.190038647342995&lt;/div&gt;`)[0];\n",
              "            popup_ba20d1699781e3f767cff35c0a26b439.setContent(html_cdb73a6f41a06859ad638b6921848f49);\n",
              "        \n",
              "\n",
              "        marker_6ecaffeed301ec4daf29ebf43b89b051.bindPopup(popup_ba20d1699781e3f767cff35c0a26b439)\n",
              "        ;\n",
              "\n",
              "        \n",
              "    \n",
              "    \n",
              "            var marker_753c042b7b537520039419f035328c4e = L.marker(\n",
              "                [12.05, 77.26],\n",
              "                {}\n",
              "            ).addTo(map_47b964557ff9cecff9e28ace019ece0a);\n",
              "        \n",
              "    \n",
              "        var popup_5e26dece750dff478f0a273b65ad419d = L.popup({&quot;maxWidth&quot;: &quot;100%&quot;});\n",
              "\n",
              "        \n",
              "            var html_40f1fa06563e0f9422921696c407b8da = $(`&lt;div id=&quot;html_40f1fa06563e0f9422921696c407b8da&quot; style=&quot;width: 100.0%; height: 100.0%;&quot;&gt;27.522753623188407&lt;/div&gt;`)[0];\n",
              "            popup_5e26dece750dff478f0a273b65ad419d.setContent(html_40f1fa06563e0f9422921696c407b8da);\n",
              "        \n",
              "\n",
              "        marker_753c042b7b537520039419f035328c4e.bindPopup(popup_5e26dece750dff478f0a273b65ad419d)\n",
              "        ;\n",
              "\n",
              "        \n",
              "    \n",
              "    \n",
              "            var marker_0d805a817ca018a1c31a4e2e331a0d0c = L.marker(\n",
              "                [28.13, 77.27],\n",
              "                {}\n",
              "            ).addTo(map_47b964557ff9cecff9e28ace019ece0a);\n",
              "        \n",
              "    \n",
              "        var popup_c39f2aca65b27a24e7adacd1a5cab160 = L.popup({&quot;maxWidth&quot;: &quot;100%&quot;});\n",
              "\n",
              "        \n",
              "            var html_33ecefccf5dec715482d7afd2d2a5925 = $(`&lt;div id=&quot;html_33ecefccf5dec715482d7afd2d2a5925&quot; style=&quot;width: 100.0%; height: 100.0%;&quot;&gt;33.29705102040817&lt;/div&gt;`)[0];\n",
              "            popup_c39f2aca65b27a24e7adacd1a5cab160.setContent(html_33ecefccf5dec715482d7afd2d2a5925);\n",
              "        \n",
              "\n",
              "        marker_0d805a817ca018a1c31a4e2e331a0d0c.bindPopup(popup_c39f2aca65b27a24e7adacd1a5cab160)\n",
              "        ;\n",
              "\n",
              "        \n",
              "    \n",
              "    \n",
              "            var marker_9807a58d4a220aff6f3f1434ea554625 = L.marker(\n",
              "                [16.87, 78.7],\n",
              "                {}\n",
              "            ).addTo(map_47b964557ff9cecff9e28ace019ece0a);\n",
              "        \n",
              "    \n",
              "        var popup_6fc1271af04c2cd56a3c1153ccb89c80 = L.popup({&quot;maxWidth&quot;: &quot;100%&quot;});\n",
              "\n",
              "        \n",
              "            var html_42127f2b1d8f9bad7eb1c54b89ca766c = $(`&lt;div id=&quot;html_42127f2b1d8f9bad7eb1c54b89ca766c&quot; style=&quot;width: 100.0%; height: 100.0%;&quot;&gt;32.70200483091787&lt;/div&gt;`)[0];\n",
              "            popup_6fc1271af04c2cd56a3c1153ccb89c80.setContent(html_42127f2b1d8f9bad7eb1c54b89ca766c);\n",
              "        \n",
              "\n",
              "        marker_9807a58d4a220aff6f3f1434ea554625.bindPopup(popup_6fc1271af04c2cd56a3c1153ccb89c80)\n",
              "        ;\n",
              "\n",
              "        \n",
              "    \n",
              "    \n",
              "            var marker_26be9c4c172e30dfb3374e168eae04db = L.marker(\n",
              "                [13.66, 80.09],\n",
              "                {}\n",
              "            ).addTo(map_47b964557ff9cecff9e28ace019ece0a);\n",
              "        \n",
              "    \n",
              "        var popup_8bf6c12af9dba3ce4e6c23c07c98c756 = L.popup({&quot;maxWidth&quot;: &quot;100%&quot;});\n",
              "\n",
              "        \n",
              "            var html_ad943f0bcab6a77906df34d2a7a70647 = $(`&lt;div id=&quot;html_ad943f0bcab6a77906df34d2a7a70647&quot; style=&quot;width: 100.0%; height: 100.0%;&quot;&gt;32.581951690821256&lt;/div&gt;`)[0];\n",
              "            popup_8bf6c12af9dba3ce4e6c23c07c98c756.setContent(html_ad943f0bcab6a77906df34d2a7a70647);\n",
              "        \n",
              "\n",
              "        marker_26be9c4c172e30dfb3374e168eae04db.bindPopup(popup_8bf6c12af9dba3ce4e6c23c07c98c756)\n",
              "        ;\n",
              "\n",
              "        \n",
              "    \n",
              "    \n",
              "            var marker_2015b41919a093124db7657ab9849068 = L.marker(\n",
              "                [28.13, 77.27],\n",
              "                {}\n",
              "            ).addTo(map_47b964557ff9cecff9e28ace019ece0a);\n",
              "        \n",
              "    \n",
              "        var popup_a356f224d1ce380f3c7c1401fc18f75d = L.popup({&quot;maxWidth&quot;: &quot;100%&quot;});\n",
              "\n",
              "        \n",
              "            var html_e112d4f5f0eae544f62edd519642bb32 = $(`&lt;div id=&quot;html_e112d4f5f0eae544f62edd519642bb32&quot; style=&quot;width: 100.0%; height: 100.0%;&quot;&gt;33.29705102040817&lt;/div&gt;`)[0];\n",
              "            popup_a356f224d1ce380f3c7c1401fc18f75d.setContent(html_e112d4f5f0eae544f62edd519642bb32);\n",
              "        \n",
              "\n",
              "        marker_2015b41919a093124db7657ab9849068.bindPopup(popup_a356f224d1ce380f3c7c1401fc18f75d)\n",
              "        ;\n",
              "\n",
              "        \n",
              "    \n",
              "    \n",
              "            var marker_cb1d783dcfdcd21d1459d4bb52f02b79 = L.marker(\n",
              "                [18.48, 74.37],\n",
              "                {}\n",
              "            ).addTo(map_47b964557ff9cecff9e28ace019ece0a);\n",
              "        \n",
              "    \n",
              "        var popup_6537c7ac7d8dd610c62bad59eeaddfba = L.popup({&quot;maxWidth&quot;: &quot;100%&quot;});\n",
              "\n",
              "        \n",
              "            var html_8133e53e0f53d1b64a9b98dd8c36afe1 = $(`&lt;div id=&quot;html_8133e53e0f53d1b64a9b98dd8c36afe1&quot; style=&quot;width: 100.0%; height: 100.0%;&quot;&gt;29.838202898550723&lt;/div&gt;`)[0];\n",
              "            popup_6537c7ac7d8dd610c62bad59eeaddfba.setContent(html_8133e53e0f53d1b64a9b98dd8c36afe1);\n",
              "        \n",
              "\n",
              "        marker_cb1d783dcfdcd21d1459d4bb52f02b79.bindPopup(popup_6537c7ac7d8dd610c62bad59eeaddfba)\n",
              "        ;\n",
              "\n",
              "        \n",
              "    \n",
              "    \n",
              "            var marker_f3dde8e1e911fa5ea1d5a16d1de1d2a5 = L.marker(\n",
              "                [24.92, 83.35],\n",
              "                {}\n",
              "            ).addTo(map_47b964557ff9cecff9e28ace019ece0a);\n",
              "        \n",
              "    \n",
              "        var popup_7d02cb83873e7a19c08e513fe27c4648 = L.popup({&quot;maxWidth&quot;: &quot;100%&quot;});\n",
              "\n",
              "        \n",
              "            var html_cd45399d7af797a26e83a3c6f8299840 = $(`&lt;div id=&quot;html_cd45399d7af797a26e83a3c6f8299840&quot; style=&quot;width: 100.0%; height: 100.0%;&quot;&gt;33.31351941747573&lt;/div&gt;`)[0];\n",
              "            popup_7d02cb83873e7a19c08e513fe27c4648.setContent(html_cd45399d7af797a26e83a3c6f8299840);\n",
              "        \n",
              "\n",
              "        marker_f3dde8e1e911fa5ea1d5a16d1de1d2a5.bindPopup(popup_7d02cb83873e7a19c08e513fe27c4648)\n",
              "        ;\n",
              "\n",
              "        \n",
              "    \n",
              "    \n",
              "            var marker_06edbf183b6f2edde6693dd9d1dfe794 = L.marker(\n",
              "                [12.05, 77.26],\n",
              "                {}\n",
              "            ).addTo(map_47b964557ff9cecff9e28ace019ece0a);\n",
              "        \n",
              "    \n",
              "        var popup_aa80988fa2b9f66f846777964c87ab22 = L.popup({&quot;maxWidth&quot;: &quot;100%&quot;});\n",
              "\n",
              "        \n",
              "            var html_fccfaa355525dc694b1bb1de236d8fbc = $(`&lt;div id=&quot;html_fccfaa355525dc694b1bb1de236d8fbc&quot; style=&quot;width: 100.0%; height: 100.0%;&quot;&gt;25.4687990430622&lt;/div&gt;`)[0];\n",
              "            popup_aa80988fa2b9f66f846777964c87ab22.setContent(html_fccfaa355525dc694b1bb1de236d8fbc);\n",
              "        \n",
              "\n",
              "        marker_06edbf183b6f2edde6693dd9d1dfe794.bindPopup(popup_aa80988fa2b9f66f846777964c87ab22)\n",
              "        ;\n",
              "\n",
              "        \n",
              "    \n",
              "    \n",
              "            var marker_3c5cd41e976b9ab8a305f40c4e7d4cc4 = L.marker(\n",
              "                [28.13, 77.27],\n",
              "                {}\n",
              "            ).addTo(map_47b964557ff9cecff9e28ace019ece0a);\n",
              "        \n",
              "    \n",
              "        var popup_89eebf189834204e258bde7f7d8b507c = L.popup({&quot;maxWidth&quot;: &quot;100%&quot;});\n",
              "\n",
              "        \n",
              "            var html_ea59389403ae766ea64fd21ca2f12efc = $(`&lt;div id=&quot;html_ea59389403ae766ea64fd21ca2f12efc&quot; style=&quot;width: 100.0%; height: 100.0%;&quot;&gt;33.866005&lt;/div&gt;`)[0];\n",
              "            popup_89eebf189834204e258bde7f7d8b507c.setContent(html_ea59389403ae766ea64fd21ca2f12efc);\n",
              "        \n",
              "\n",
              "        marker_3c5cd41e976b9ab8a305f40c4e7d4cc4.bindPopup(popup_89eebf189834204e258bde7f7d8b507c)\n",
              "        ;\n",
              "\n",
              "        \n",
              "    \n",
              "    \n",
              "            var marker_c8615e59795d5a0705f9b40df70fcaa2 = L.marker(\n",
              "                [16.87, 78.7],\n",
              "                {}\n",
              "            ).addTo(map_47b964557ff9cecff9e28ace019ece0a);\n",
              "        \n",
              "    \n",
              "        var popup_eb6ee472271a890d9cae101a961b0103 = L.popup({&quot;maxWidth&quot;: &quot;100%&quot;});\n",
              "\n",
              "        \n",
              "            var html_67b1009215b80c2cc40632d064b5d9de = $(`&lt;div id=&quot;html_67b1009215b80c2cc40632d064b5d9de&quot; style=&quot;width: 100.0%; height: 100.0%;&quot;&gt;29.96846889952153&lt;/div&gt;`)[0];\n",
              "            popup_eb6ee472271a890d9cae101a961b0103.setContent(html_67b1009215b80c2cc40632d064b5d9de);\n",
              "        \n",
              "\n",
              "        marker_c8615e59795d5a0705f9b40df70fcaa2.bindPopup(popup_eb6ee472271a890d9cae101a961b0103)\n",
              "        ;\n",
              "\n",
              "        \n",
              "    \n",
              "    \n",
              "            var marker_765db6e3b494884ae37afa7c382ca521 = L.marker(\n",
              "                [13.66, 80.09],\n",
              "                {}\n",
              "            ).addTo(map_47b964557ff9cecff9e28ace019ece0a);\n",
              "        \n",
              "    \n",
              "        var popup_9e3ae4828bd24950b8346b719351661a = L.popup({&quot;maxWidth&quot;: &quot;100%&quot;});\n",
              "\n",
              "        \n",
              "            var html_f331f83b9605a2532f45553355b1d0e4 = $(`&lt;div id=&quot;html_f331f83b9605a2532f45553355b1d0e4&quot; style=&quot;width: 100.0%; height: 100.0%;&quot;&gt;32.142382775119614&lt;/div&gt;`)[0];\n",
              "            popup_9e3ae4828bd24950b8346b719351661a.setContent(html_f331f83b9605a2532f45553355b1d0e4);\n",
              "        \n",
              "\n",
              "        marker_765db6e3b494884ae37afa7c382ca521.bindPopup(popup_9e3ae4828bd24950b8346b719351661a)\n",
              "        ;\n",
              "\n",
              "        \n",
              "    \n",
              "    \n",
              "            var marker_0f8b361f556e48e882b9ea7f21e9b947 = L.marker(\n",
              "                [28.13, 77.27],\n",
              "                {}\n",
              "            ).addTo(map_47b964557ff9cecff9e28ace019ece0a);\n",
              "        \n",
              "    \n",
              "        var popup_87ab62985133fd1a10e410cb18c3d4bf = L.popup({&quot;maxWidth&quot;: &quot;100%&quot;});\n",
              "\n",
              "        \n",
              "            var html_7d7d27095d101d57bfc43e6a73db67e8 = $(`&lt;div id=&quot;html_7d7d27095d101d57bfc43e6a73db67e8&quot; style=&quot;width: 100.0%; height: 100.0%;&quot;&gt;33.866005&lt;/div&gt;`)[0];\n",
              "            popup_87ab62985133fd1a10e410cb18c3d4bf.setContent(html_7d7d27095d101d57bfc43e6a73db67e8);\n",
              "        \n",
              "\n",
              "        marker_0f8b361f556e48e882b9ea7f21e9b947.bindPopup(popup_87ab62985133fd1a10e410cb18c3d4bf)\n",
              "        ;\n",
              "\n",
              "        \n",
              "    \n",
              "    \n",
              "            var marker_ffbb61c83d07a1694a8e0ed537c69c91 = L.marker(\n",
              "                [18.48, 74.37],\n",
              "                {}\n",
              "            ).addTo(map_47b964557ff9cecff9e28ace019ece0a);\n",
              "        \n",
              "    \n",
              "        var popup_c13077954067c533243415f8872c9935 = L.popup({&quot;maxWidth&quot;: &quot;100%&quot;});\n",
              "\n",
              "        \n",
              "            var html_5a57b8d00236c3ca86f80ff15f581c1f = $(`&lt;div id=&quot;html_5a57b8d00236c3ca86f80ff15f581c1f&quot; style=&quot;width: 100.0%; height: 100.0%;&quot;&gt;27.22002870813397&lt;/div&gt;`)[0];\n",
              "            popup_c13077954067c533243415f8872c9935.setContent(html_5a57b8d00236c3ca86f80ff15f581c1f);\n",
              "        \n",
              "\n",
              "        marker_ffbb61c83d07a1694a8e0ed537c69c91.bindPopup(popup_c13077954067c533243415f8872c9935)\n",
              "        ;\n",
              "\n",
              "        \n",
              "    \n",
              "    \n",
              "            var marker_4bd0fca729e7077b3ec6b56628d0a822 = L.marker(\n",
              "                [24.92, 83.35],\n",
              "                {}\n",
              "            ).addTo(map_47b964557ff9cecff9e28ace019ece0a);\n",
              "        \n",
              "    \n",
              "        var popup_0168e742cff73a5eadd1b36c07e40ac6 = L.popup({&quot;maxWidth&quot;: &quot;100%&quot;});\n",
              "\n",
              "        \n",
              "            var html_a606eed1b82268563d0f8d2182c28dab = $(`&lt;div id=&quot;html_a606eed1b82268563d0f8d2182c28dab&quot; style=&quot;width: 100.0%; height: 100.0%;&quot;&gt;32.57074162679426&lt;/div&gt;`)[0];\n",
              "            popup_0168e742cff73a5eadd1b36c07e40ac6.setContent(html_a606eed1b82268563d0f8d2182c28dab);\n",
              "        \n",
              "\n",
              "        marker_4bd0fca729e7077b3ec6b56628d0a822.bindPopup(popup_0168e742cff73a5eadd1b36c07e40ac6)\n",
              "        ;\n",
              "\n",
              "        \n",
              "    \n",
              "    \n",
              "            var marker_35e3f6dd777fc33b4c73f1a011d56a88 = L.marker(\n",
              "                [12.05, 77.26],\n",
              "                {}\n",
              "            ).addTo(map_47b964557ff9cecff9e28ace019ece0a);\n",
              "        \n",
              "    \n",
              "        var popup_1c3429ce72e39dff7a51cd2ea7244d98 = L.popup({&quot;maxWidth&quot;: &quot;100%&quot;});\n",
              "\n",
              "        \n",
              "            var html_eb548ddd649ea04ecbdc59c61afebd1e = $(`&lt;div id=&quot;html_eb548ddd649ea04ecbdc59c61afebd1e&quot; style=&quot;width: 100.0%; height: 100.0%;&quot;&gt;24.40048095238095&lt;/div&gt;`)[0];\n",
              "            popup_1c3429ce72e39dff7a51cd2ea7244d98.setContent(html_eb548ddd649ea04ecbdc59c61afebd1e);\n",
              "        \n",
              "\n",
              "        marker_35e3f6dd777fc33b4c73f1a011d56a88.bindPopup(popup_1c3429ce72e39dff7a51cd2ea7244d98)\n",
              "        ;\n",
              "\n",
              "        \n",
              "    \n",
              "    \n",
              "            var marker_e1bfc7d97ceb15fd8518e0143299f470 = L.marker(\n",
              "                [28.13, 77.27],\n",
              "                {}\n",
              "            ).addTo(map_47b964557ff9cecff9e28ace019ece0a);\n",
              "        \n",
              "    \n",
              "        var popup_5533c437fbe4dfc4ff251fe3a40f14ce = L.popup({&quot;maxWidth&quot;: &quot;100%&quot;});\n",
              "\n",
              "        \n",
              "            var html_4bdaa2eec21cca56b25e7a3c84b229bb = $(`&lt;div id=&quot;html_4bdaa2eec21cca56b25e7a3c84b229bb&quot; style=&quot;width: 100.0%; height: 100.0%;&quot;&gt;31.174114427860697&lt;/div&gt;`)[0];\n",
              "            popup_5533c437fbe4dfc4ff251fe3a40f14ce.setContent(html_4bdaa2eec21cca56b25e7a3c84b229bb);\n",
              "        \n",
              "\n",
              "        marker_e1bfc7d97ceb15fd8518e0143299f470.bindPopup(popup_5533c437fbe4dfc4ff251fe3a40f14ce)\n",
              "        ;\n",
              "\n",
              "        \n",
              "    \n",
              "    \n",
              "            var marker_3ebc35d84563aea4cfa3ed5b8f506f03 = L.marker(\n",
              "                [16.87, 78.7],\n",
              "                {}\n",
              "            ).addTo(map_47b964557ff9cecff9e28ace019ece0a);\n",
              "        \n",
              "    \n",
              "        var popup_90a01b39f3daa3ba2c415d5af926b3e5 = L.popup({&quot;maxWidth&quot;: &quot;100%&quot;});\n",
              "\n",
              "        \n",
              "            var html_3c9a7048107f6a8aa91e7e74cf6b2993 = $(`&lt;div id=&quot;html_3c9a7048107f6a8aa91e7e74cf6b2993&quot; style=&quot;width: 100.0%; height: 100.0%;&quot;&gt;27.216585714285713&lt;/div&gt;`)[0];\n",
              "            popup_90a01b39f3daa3ba2c415d5af926b3e5.setContent(html_3c9a7048107f6a8aa91e7e74cf6b2993);\n",
              "        \n",
              "\n",
              "        marker_3ebc35d84563aea4cfa3ed5b8f506f03.bindPopup(popup_90a01b39f3daa3ba2c415d5af926b3e5)\n",
              "        ;\n",
              "\n",
              "        \n",
              "    \n",
              "    \n",
              "            var marker_c9dbe607fef2b7fd570d68263f8816e3 = L.marker(\n",
              "                [13.66, 80.09],\n",
              "                {}\n",
              "            ).addTo(map_47b964557ff9cecff9e28ace019ece0a);\n",
              "        \n",
              "    \n",
              "        var popup_15dfae6e5938350077d2b8cbda25c465 = L.popup({&quot;maxWidth&quot;: &quot;100%&quot;});\n",
              "\n",
              "        \n",
              "            var html_abeecaeeaebcf071112c9e809eb37487 = $(`&lt;div id=&quot;html_abeecaeeaebcf071112c9e809eb37487&quot; style=&quot;width: 100.0%; height: 100.0%;&quot;&gt;30.658619047619048&lt;/div&gt;`)[0];\n",
              "            popup_15dfae6e5938350077d2b8cbda25c465.setContent(html_abeecaeeaebcf071112c9e809eb37487);\n",
              "        \n",
              "\n",
              "        marker_c9dbe607fef2b7fd570d68263f8816e3.bindPopup(popup_15dfae6e5938350077d2b8cbda25c465)\n",
              "        ;\n",
              "\n",
              "        \n",
              "    \n",
              "    \n",
              "            var marker_74a77c9a535c69cd53d6a48b76a9a095 = L.marker(\n",
              "                [28.13, 77.27],\n",
              "                {}\n",
              "            ).addTo(map_47b964557ff9cecff9e28ace019ece0a);\n",
              "        \n",
              "    \n",
              "        var popup_8917990f66a8e2efeb6fa3159eb79d6c = L.popup({&quot;maxWidth&quot;: &quot;100%&quot;});\n",
              "\n",
              "        \n",
              "            var html_7553155747a96daf96e69cd6e107f8ee = $(`&lt;div id=&quot;html_7553155747a96daf96e69cd6e107f8ee&quot; style=&quot;width: 100.0%; height: 100.0%;&quot;&gt;31.174114427860697&lt;/div&gt;`)[0];\n",
              "            popup_8917990f66a8e2efeb6fa3159eb79d6c.setContent(html_7553155747a96daf96e69cd6e107f8ee);\n",
              "        \n",
              "\n",
              "        marker_74a77c9a535c69cd53d6a48b76a9a095.bindPopup(popup_8917990f66a8e2efeb6fa3159eb79d6c)\n",
              "        ;\n",
              "\n",
              "        \n",
              "    \n",
              "    \n",
              "            var marker_bcde0391459023943e3bf18132fbf780 = L.marker(\n",
              "                [18.48, 74.37],\n",
              "                {}\n",
              "            ).addTo(map_47b964557ff9cecff9e28ace019ece0a);\n",
              "        \n",
              "    \n",
              "        var popup_0d1800ba2603d4a9408bccb38e1c89a8 = L.popup({&quot;maxWidth&quot;: &quot;100%&quot;});\n",
              "\n",
              "        \n",
              "            var html_a88665f6e2b354500b7d395625812a76 = $(`&lt;div id=&quot;html_a88665f6e2b354500b7d395625812a76&quot; style=&quot;width: 100.0%; height: 100.0%;&quot;&gt;24.7247380952381&lt;/div&gt;`)[0];\n",
              "            popup_0d1800ba2603d4a9408bccb38e1c89a8.setContent(html_a88665f6e2b354500b7d395625812a76);\n",
              "        \n",
              "\n",
              "        marker_bcde0391459023943e3bf18132fbf780.bindPopup(popup_0d1800ba2603d4a9408bccb38e1c89a8)\n",
              "        ;\n",
              "\n",
              "        \n",
              "    \n",
              "    \n",
              "            var marker_34eabc5d5242a32e201364f139e98358 = L.marker(\n",
              "                [24.92, 83.35],\n",
              "                {}\n",
              "            ).addTo(map_47b964557ff9cecff9e28ace019ece0a);\n",
              "        \n",
              "    \n",
              "        var popup_fccfdc69cb90ee4de12af1bd7f1425ff = L.popup({&quot;maxWidth&quot;: &quot;100%&quot;});\n",
              "\n",
              "        \n",
              "            var html_4d15a81c4fc88957e0ff8b0af1bdd35e = $(`&lt;div id=&quot;html_4d15a81c4fc88957e0ff8b0af1bdd35e&quot; style=&quot;width: 100.0%; height: 100.0%;&quot;&gt;29.612919047619048&lt;/div&gt;`)[0];\n",
              "            popup_fccfdc69cb90ee4de12af1bd7f1425ff.setContent(html_4d15a81c4fc88957e0ff8b0af1bdd35e);\n",
              "        \n",
              "\n",
              "        marker_34eabc5d5242a32e201364f139e98358.bindPopup(popup_fccfdc69cb90ee4de12af1bd7f1425ff)\n",
              "        ;\n",
              "\n",
              "        \n",
              "    \n",
              "    \n",
              "            var marker_3f43b906e1b28e6f0aebd9f07d5f9760 = L.marker(\n",
              "                [12.05, 77.26],\n",
              "                {}\n",
              "            ).addTo(map_47b964557ff9cecff9e28ace019ece0a);\n",
              "        \n",
              "    \n",
              "        var popup_ade8bbbd7f1245ecca3ddf94fb6fc00f = L.popup({&quot;maxWidth&quot;: &quot;100%&quot;});\n",
              "\n",
              "        \n",
              "            var html_54fe7bda8490c3751cb0f4428b911c6c = $(`&lt;div id=&quot;html_54fe7bda8490c3751cb0f4428b911c6c&quot; style=&quot;width: 100.0%; height: 100.0%;&quot;&gt;24.362909523809524&lt;/div&gt;`)[0];\n",
              "            popup_ade8bbbd7f1245ecca3ddf94fb6fc00f.setContent(html_54fe7bda8490c3751cb0f4428b911c6c);\n",
              "        \n",
              "\n",
              "        marker_3f43b906e1b28e6f0aebd9f07d5f9760.bindPopup(popup_ade8bbbd7f1245ecca3ddf94fb6fc00f)\n",
              "        ;\n",
              "\n",
              "        \n",
              "    \n",
              "    \n",
              "            var marker_bfdc73f520a89770b1213c5bca00313b = L.marker(\n",
              "                [28.13, 77.27],\n",
              "                {}\n",
              "            ).addTo(map_47b964557ff9cecff9e28ace019ece0a);\n",
              "        \n",
              "    \n",
              "        var popup_390c697932105cfd37d00d4a64ec230e = L.popup({&quot;maxWidth&quot;: &quot;100%&quot;});\n",
              "\n",
              "        \n",
              "            var html_49cbb7d1da3aacb843c2d93cbd422473 = $(`&lt;div id=&quot;html_49cbb7d1da3aacb843c2d93cbd422473&quot; style=&quot;width: 100.0%; height: 100.0%;&quot;&gt;29.75242288557214&lt;/div&gt;`)[0];\n",
              "            popup_390c697932105cfd37d00d4a64ec230e.setContent(html_49cbb7d1da3aacb843c2d93cbd422473);\n",
              "        \n",
              "\n",
              "        marker_bfdc73f520a89770b1213c5bca00313b.bindPopup(popup_390c697932105cfd37d00d4a64ec230e)\n",
              "        ;\n",
              "\n",
              "        \n",
              "    \n",
              "    \n",
              "            var marker_c3564008b2a84c4d634a2742eb7eca34 = L.marker(\n",
              "                [16.87, 78.7],\n",
              "                {}\n",
              "            ).addTo(map_47b964557ff9cecff9e28ace019ece0a);\n",
              "        \n",
              "    \n",
              "        var popup_7d6a67106334ec66837d79d37cb825a9 = L.popup({&quot;maxWidth&quot;: &quot;100%&quot;});\n",
              "\n",
              "        \n",
              "            var html_921ce4950367c186683a54489ba04167 = $(`&lt;div id=&quot;html_921ce4950367c186683a54489ba04167&quot; style=&quot;width: 100.0%; height: 100.0%;&quot;&gt;26.573533333333334&lt;/div&gt;`)[0];\n",
              "            popup_7d6a67106334ec66837d79d37cb825a9.setContent(html_921ce4950367c186683a54489ba04167);\n",
              "        \n",
              "\n",
              "        marker_c3564008b2a84c4d634a2742eb7eca34.bindPopup(popup_7d6a67106334ec66837d79d37cb825a9)\n",
              "        ;\n",
              "\n",
              "        \n",
              "    \n",
              "    \n",
              "            var marker_02843f51714de129a4876e75a62b093c = L.marker(\n",
              "                [13.66, 80.09],\n",
              "                {}\n",
              "            ).addTo(map_47b964557ff9cecff9e28ace019ece0a);\n",
              "        \n",
              "    \n",
              "        var popup_2bf07116ec14e80e7b19cb02be559dc5 = L.popup({&quot;maxWidth&quot;: &quot;100%&quot;});\n",
              "\n",
              "        \n",
              "            var html_43a77c1cfbf3bfac6fe61d0843cade23 = $(`&lt;div id=&quot;html_43a77c1cfbf3bfac6fe61d0843cade23&quot; style=&quot;width: 100.0%; height: 100.0%;&quot;&gt;29.977352380952382&lt;/div&gt;`)[0];\n",
              "            popup_2bf07116ec14e80e7b19cb02be559dc5.setContent(html_43a77c1cfbf3bfac6fe61d0843cade23);\n",
              "        \n",
              "\n",
              "        marker_02843f51714de129a4876e75a62b093c.bindPopup(popup_2bf07116ec14e80e7b19cb02be559dc5)\n",
              "        ;\n",
              "\n",
              "        \n",
              "    \n",
              "    \n",
              "            var marker_26736c866b5e63d8fbb3d3d936a44f76 = L.marker(\n",
              "                [28.13, 77.27],\n",
              "                {}\n",
              "            ).addTo(map_47b964557ff9cecff9e28ace019ece0a);\n",
              "        \n",
              "    \n",
              "        var popup_9a04adff2a7949b171c81fa92a5d27cd = L.popup({&quot;maxWidth&quot;: &quot;100%&quot;});\n",
              "\n",
              "        \n",
              "            var html_372f74a98ac2b91d425eb247e4135cc0 = $(`&lt;div id=&quot;html_372f74a98ac2b91d425eb247e4135cc0&quot; style=&quot;width: 100.0%; height: 100.0%;&quot;&gt;29.75242288557214&lt;/div&gt;`)[0];\n",
              "            popup_9a04adff2a7949b171c81fa92a5d27cd.setContent(html_372f74a98ac2b91d425eb247e4135cc0);\n",
              "        \n",
              "\n",
              "        marker_26736c866b5e63d8fbb3d3d936a44f76.bindPopup(popup_9a04adff2a7949b171c81fa92a5d27cd)\n",
              "        ;\n",
              "\n",
              "        \n",
              "    \n",
              "    \n",
              "            var marker_637809c7b2d8b6582d5683e411c26578 = L.marker(\n",
              "                [18.48, 74.37],\n",
              "                {}\n",
              "            ).addTo(map_47b964557ff9cecff9e28ace019ece0a);\n",
              "        \n",
              "    \n",
              "        var popup_9ccb789b94c7d4c2dd549c73433a58af = L.popup({&quot;maxWidth&quot;: &quot;100%&quot;});\n",
              "\n",
              "        \n",
              "            var html_6606fe4161881aa5ea9a61824aa67703 = $(`&lt;div id=&quot;html_6606fe4161881aa5ea9a61824aa67703&quot; style=&quot;width: 100.0%; height: 100.0%;&quot;&gt;24.197833333333335&lt;/div&gt;`)[0];\n",
              "            popup_9ccb789b94c7d4c2dd549c73433a58af.setContent(html_6606fe4161881aa5ea9a61824aa67703);\n",
              "        \n",
              "\n",
              "        marker_637809c7b2d8b6582d5683e411c26578.bindPopup(popup_9ccb789b94c7d4c2dd549c73433a58af)\n",
              "        ;\n",
              "\n",
              "        \n",
              "    \n",
              "    \n",
              "            var marker_6e91ff375b7fd78e64c2c2d4dad5c4ba = L.marker(\n",
              "                [24.92, 83.35],\n",
              "                {}\n",
              "            ).addTo(map_47b964557ff9cecff9e28ace019ece0a);\n",
              "        \n",
              "    \n",
              "        var popup_83339b0c5132dbf5edde0941a50002a1 = L.popup({&quot;maxWidth&quot;: &quot;100%&quot;});\n",
              "\n",
              "        \n",
              "            var html_28647d753e09008d1515a91aeea5f417 = $(`&lt;div id=&quot;html_28647d753e09008d1515a91aeea5f417&quot; style=&quot;width: 100.0%; height: 100.0%;&quot;&gt;28.588161904761904&lt;/div&gt;`)[0];\n",
              "            popup_83339b0c5132dbf5edde0941a50002a1.setContent(html_28647d753e09008d1515a91aeea5f417);\n",
              "        \n",
              "\n",
              "        marker_6e91ff375b7fd78e64c2c2d4dad5c4ba.bindPopup(popup_83339b0c5132dbf5edde0941a50002a1)\n",
              "        ;\n",
              "\n",
              "        \n",
              "    \n",
              "    \n",
              "            var marker_cced3624654b5fbdfbddee901eec711b = L.marker(\n",
              "                [12.05, 77.26],\n",
              "                {}\n",
              "            ).addTo(map_47b964557ff9cecff9e28ace019ece0a);\n",
              "        \n",
              "    \n",
              "        var popup_63d3beffaf3c2d9842ec32f86e0a569d = L.popup({&quot;maxWidth&quot;: &quot;100%&quot;});\n",
              "\n",
              "        \n",
              "            var html_e98ba98a9760e13799a784d5e78cdf4e = $(`&lt;div id=&quot;html_e98ba98a9760e13799a784d5e78cdf4e&quot; style=&quot;width: 100.0%; height: 100.0%;&quot;&gt;24.495114832535887&lt;/div&gt;`)[0];\n",
              "            popup_63d3beffaf3c2d9842ec32f86e0a569d.setContent(html_e98ba98a9760e13799a784d5e78cdf4e);\n",
              "        \n",
              "\n",
              "        marker_cced3624654b5fbdfbddee901eec711b.bindPopup(popup_63d3beffaf3c2d9842ec32f86e0a569d)\n",
              "        ;\n",
              "\n",
              "        \n",
              "    \n",
              "    \n",
              "            var marker_aaeb11f396b6c2257934ada0a770f205 = L.marker(\n",
              "                [28.13, 77.27],\n",
              "                {}\n",
              "            ).addTo(map_47b964557ff9cecff9e28ace019ece0a);\n",
              "        \n",
              "    \n",
              "        var popup_df2a38625da152a11217489b2b18bec3 = L.popup({&quot;maxWidth&quot;: &quot;100%&quot;});\n",
              "\n",
              "        \n",
              "            var html_c8a5d36bfca46ae5139bd6c22bacb843 = $(`&lt;div id=&quot;html_c8a5d36bfca46ae5139bd6c22bacb843&quot; style=&quot;width: 100.0%; height: 100.0%;&quot;&gt;28.994465&lt;/div&gt;`)[0];\n",
              "            popup_df2a38625da152a11217489b2b18bec3.setContent(html_c8a5d36bfca46ae5139bd6c22bacb843);\n",
              "        \n",
              "\n",
              "        marker_aaeb11f396b6c2257934ada0a770f205.bindPopup(popup_df2a38625da152a11217489b2b18bec3)\n",
              "        ;\n",
              "\n",
              "        \n",
              "    \n",
              "    \n",
              "            var marker_c249ecd59643a8e44745e9c169e44034 = L.marker(\n",
              "                [16.87, 78.7],\n",
              "                {}\n",
              "            ).addTo(map_47b964557ff9cecff9e28ace019ece0a);\n",
              "        \n",
              "    \n",
              "        var popup_f8ff7f98dc49b26a222c7c5900653dda = L.popup({&quot;maxWidth&quot;: &quot;100%&quot;});\n",
              "\n",
              "        \n",
              "            var html_43b2eee138ede79a0b805d78a9a83b1b = $(`&lt;div id=&quot;html_43b2eee138ede79a0b805d78a9a83b1b&quot; style=&quot;width: 100.0%; height: 100.0%;&quot;&gt;26.640239234449762&lt;/div&gt;`)[0];\n",
              "            popup_f8ff7f98dc49b26a222c7c5900653dda.setContent(html_43b2eee138ede79a0b805d78a9a83b1b);\n",
              "        \n",
              "\n",
              "        marker_c249ecd59643a8e44745e9c169e44034.bindPopup(popup_f8ff7f98dc49b26a222c7c5900653dda)\n",
              "        ;\n",
              "\n",
              "        \n",
              "    \n",
              "    \n",
              "            var marker_771d5caf8ccff3be02546c1ad2dc014e = L.marker(\n",
              "                [13.66, 80.09],\n",
              "                {}\n",
              "            ).addTo(map_47b964557ff9cecff9e28ace019ece0a);\n",
              "        \n",
              "    \n",
              "        var popup_e8da037a881af27402077251ae3ab57d = L.popup({&quot;maxWidth&quot;: &quot;100%&quot;});\n",
              "\n",
              "        \n",
              "            var html_e9bc62a63c9dbdc425b188fa29cf4778 = $(`&lt;div id=&quot;html_e9bc62a63c9dbdc425b188fa29cf4778&quot; style=&quot;width: 100.0%; height: 100.0%;&quot;&gt;29.397028708133973&lt;/div&gt;`)[0];\n",
              "            popup_e8da037a881af27402077251ae3ab57d.setContent(html_e9bc62a63c9dbdc425b188fa29cf4778);\n",
              "        \n",
              "\n",
              "        marker_771d5caf8ccff3be02546c1ad2dc014e.bindPopup(popup_e8da037a881af27402077251ae3ab57d)\n",
              "        ;\n",
              "\n",
              "        \n",
              "    \n",
              "    \n",
              "            var marker_9ddd7ad0182b8c6afe710c523ddb7290 = L.marker(\n",
              "                [28.13, 77.27],\n",
              "                {}\n",
              "            ).addTo(map_47b964557ff9cecff9e28ace019ece0a);\n",
              "        \n",
              "    \n",
              "        var popup_f330dbfb507bb9c0d67222cf256a295b = L.popup({&quot;maxWidth&quot;: &quot;100%&quot;});\n",
              "\n",
              "        \n",
              "            var html_f7156347eb17ee99b86ffbe3c307f9bc = $(`&lt;div id=&quot;html_f7156347eb17ee99b86ffbe3c307f9bc&quot; style=&quot;width: 100.0%; height: 100.0%;&quot;&gt;28.994465&lt;/div&gt;`)[0];\n",
              "            popup_f330dbfb507bb9c0d67222cf256a295b.setContent(html_f7156347eb17ee99b86ffbe3c307f9bc);\n",
              "        \n",
              "\n",
              "        marker_9ddd7ad0182b8c6afe710c523ddb7290.bindPopup(popup_f330dbfb507bb9c0d67222cf256a295b)\n",
              "        ;\n",
              "\n",
              "        \n",
              "    \n",
              "    \n",
              "            var marker_68fb1b4a79286cf5704e1eac641532e4 = L.marker(\n",
              "                [18.48, 74.37],\n",
              "                {}\n",
              "            ).addTo(map_47b964557ff9cecff9e28ace019ece0a);\n",
              "        \n",
              "    \n",
              "        var popup_ce3b3776d5a8fc8ecf693ac37148df8f = L.popup({&quot;maxWidth&quot;: &quot;100%&quot;});\n",
              "\n",
              "        \n",
              "            var html_334c1470fad2fd933c83188b0a834776 = $(`&lt;div id=&quot;html_334c1470fad2fd933c83188b0a834776&quot; style=&quot;width: 100.0%; height: 100.0%;&quot;&gt;24.565741626794257&lt;/div&gt;`)[0];\n",
              "            popup_ce3b3776d5a8fc8ecf693ac37148df8f.setContent(html_334c1470fad2fd933c83188b0a834776);\n",
              "        \n",
              "\n",
              "        marker_68fb1b4a79286cf5704e1eac641532e4.bindPopup(popup_ce3b3776d5a8fc8ecf693ac37148df8f)\n",
              "        ;\n",
              "\n",
              "        \n",
              "    \n",
              "    \n",
              "            var marker_71b6883748f5ab7192139a2055ff2604 = L.marker(\n",
              "                [24.92, 83.35],\n",
              "                {}\n",
              "            ).addTo(map_47b964557ff9cecff9e28ace019ece0a);\n",
              "        \n",
              "    \n",
              "        var popup_73a27d6576934c5370aeb1a51910a978 = L.popup({&quot;maxWidth&quot;: &quot;100%&quot;});\n",
              "\n",
              "        \n",
              "            var html_f72408a6e2418a3ea03e1f40ada619db = $(`&lt;div id=&quot;html_f72408a6e2418a3ea03e1f40ada619db&quot; style=&quot;width: 100.0%; height: 100.0%;&quot;&gt;28.238004784688997&lt;/div&gt;`)[0];\n",
              "            popup_73a27d6576934c5370aeb1a51910a978.setContent(html_f72408a6e2418a3ea03e1f40ada619db);\n",
              "        \n",
              "\n",
              "        marker_71b6883748f5ab7192139a2055ff2604.bindPopup(popup_73a27d6576934c5370aeb1a51910a978)\n",
              "        ;\n",
              "\n",
              "        \n",
              "    \n",
              "    \n",
              "            var marker_3ef0767d4463ca7b40b9e3485f5290be = L.marker(\n",
              "                [12.05, 77.26],\n",
              "                {}\n",
              "            ).addTo(map_47b964557ff9cecff9e28ace019ece0a);\n",
              "        \n",
              "    \n",
              "        var popup_6a0cd54bcbbab1fb6eab23fc10bdc1db = L.popup({&quot;maxWidth&quot;: &quot;100%&quot;});\n",
              "\n",
              "        \n",
              "            var html_3851d6d7c486398050a46f897529d04d = $(`&lt;div id=&quot;html_3851d6d7c486398050a46f897529d04d&quot; style=&quot;width: 100.0%; height: 100.0%;&quot;&gt;24.091784688995215&lt;/div&gt;`)[0];\n",
              "            popup_6a0cd54bcbbab1fb6eab23fc10bdc1db.setContent(html_3851d6d7c486398050a46f897529d04d);\n",
              "        \n",
              "\n",
              "        marker_3ef0767d4463ca7b40b9e3485f5290be.bindPopup(popup_6a0cd54bcbbab1fb6eab23fc10bdc1db)\n",
              "        ;\n",
              "\n",
              "        \n",
              "    \n",
              "    \n",
              "            var marker_0fb5086e9bd71b858f7dcb77297c5994 = L.marker(\n",
              "                [28.13, 77.27],\n",
              "                {}\n",
              "            ).addTo(map_47b964557ff9cecff9e28ace019ece0a);\n",
              "        \n",
              "    \n",
              "        var popup_f633aa4aaed99f66b4c7f0edb5aee2d0 = L.popup({&quot;maxWidth&quot;: &quot;100%&quot;});\n",
              "\n",
              "        \n",
              "            var html_e24120e11a8b55e1550e6d3398961d2f = $(`&lt;div id=&quot;html_e24120e11a8b55e1550e6d3398961d2f&quot; style=&quot;width: 100.0%; height: 100.0%;&quot;&gt;25.866374999999998&lt;/div&gt;`)[0];\n",
              "            popup_f633aa4aaed99f66b4c7f0edb5aee2d0.setContent(html_e24120e11a8b55e1550e6d3398961d2f);\n",
              "        \n",
              "\n",
              "        marker_0fb5086e9bd71b858f7dcb77297c5994.bindPopup(popup_f633aa4aaed99f66b4c7f0edb5aee2d0)\n",
              "        ;\n",
              "\n",
              "        \n",
              "    \n",
              "    \n",
              "            var marker_fe9c193d5cf4544b8359e3392e1e5ba8 = L.marker(\n",
              "                [16.87, 78.7],\n",
              "                {}\n",
              "            ).addTo(map_47b964557ff9cecff9e28ace019ece0a);\n",
              "        \n",
              "    \n",
              "        var popup_e296c404af10e1ab6043ad35fccc5dfe = L.popup({&quot;maxWidth&quot;: &quot;100%&quot;});\n",
              "\n",
              "        \n",
              "            var html_546a4bd3faf2eec36b00a32453123225 = $(`&lt;div id=&quot;html_546a4bd3faf2eec36b00a32453123225&quot; style=&quot;width: 100.0%; height: 100.0%;&quot;&gt;25.67962200956938&lt;/div&gt;`)[0];\n",
              "            popup_e296c404af10e1ab6043ad35fccc5dfe.setContent(html_546a4bd3faf2eec36b00a32453123225);\n",
              "        \n",
              "\n",
              "        marker_fe9c193d5cf4544b8359e3392e1e5ba8.bindPopup(popup_e296c404af10e1ab6043ad35fccc5dfe)\n",
              "        ;\n",
              "\n",
              "        \n",
              "    \n",
              "    \n",
              "            var marker_2fed31fb2077b214d6c778d2d51f2684 = L.marker(\n",
              "                [13.66, 80.09],\n",
              "                {}\n",
              "            ).addTo(map_47b964557ff9cecff9e28ace019ece0a);\n",
              "        \n",
              "    \n",
              "        var popup_e35c9b11300b26a0ed1e6537df00e706 = L.popup({&quot;maxWidth&quot;: &quot;100%&quot;});\n",
              "\n",
              "        \n",
              "            var html_879d3510bc8c5f815a8c4dcf7c78198c = $(`&lt;div id=&quot;html_879d3510bc8c5f815a8c4dcf7c78198c&quot; style=&quot;width: 100.0%; height: 100.0%;&quot;&gt;27.741679425837322&lt;/div&gt;`)[0];\n",
              "            popup_e35c9b11300b26a0ed1e6537df00e706.setContent(html_879d3510bc8c5f815a8c4dcf7c78198c);\n",
              "        \n",
              "\n",
              "        marker_2fed31fb2077b214d6c778d2d51f2684.bindPopup(popup_e35c9b11300b26a0ed1e6537df00e706)\n",
              "        ;\n",
              "\n",
              "        \n",
              "    \n",
              "    \n",
              "            var marker_4c8cbbcac755f3d8ece8c21e7bedf9d9 = L.marker(\n",
              "                [28.13, 77.27],\n",
              "                {}\n",
              "            ).addTo(map_47b964557ff9cecff9e28ace019ece0a);\n",
              "        \n",
              "    \n",
              "        var popup_26911820fdf835a3db70943f1048503e = L.popup({&quot;maxWidth&quot;: &quot;100%&quot;});\n",
              "\n",
              "        \n",
              "            var html_2c8898532fe65af196f8475e35636b89 = $(`&lt;div id=&quot;html_2c8898532fe65af196f8475e35636b89&quot; style=&quot;width: 100.0%; height: 100.0%;&quot;&gt;25.866374999999998&lt;/div&gt;`)[0];\n",
              "            popup_26911820fdf835a3db70943f1048503e.setContent(html_2c8898532fe65af196f8475e35636b89);\n",
              "        \n",
              "\n",
              "        marker_4c8cbbcac755f3d8ece8c21e7bedf9d9.bindPopup(popup_26911820fdf835a3db70943f1048503e)\n",
              "        ;\n",
              "\n",
              "        \n",
              "    \n",
              "    \n",
              "            var marker_915678f94330a460774e0edf88bf1fdd = L.marker(\n",
              "                [18.48, 74.37],\n",
              "                {}\n",
              "            ).addTo(map_47b964557ff9cecff9e28ace019ece0a);\n",
              "        \n",
              "    \n",
              "        var popup_90c7a8e6d7124d9d726471fa2da9cd0f = L.popup({&quot;maxWidth&quot;: &quot;100%&quot;});\n",
              "\n",
              "        \n",
              "            var html_bd16e56bf8c6a384fe24e4064c0151a8 = $(`&lt;div id=&quot;html_bd16e56bf8c6a384fe24e4064c0151a8&quot; style=&quot;width: 100.0%; height: 100.0%;&quot;&gt;24.367425837320575&lt;/div&gt;`)[0];\n",
              "            popup_90c7a8e6d7124d9d726471fa2da9cd0f.setContent(html_bd16e56bf8c6a384fe24e4064c0151a8);\n",
              "        \n",
              "\n",
              "        marker_915678f94330a460774e0edf88bf1fdd.bindPopup(popup_90c7a8e6d7124d9d726471fa2da9cd0f)\n",
              "        ;\n",
              "\n",
              "        \n",
              "    \n",
              "    \n",
              "            var marker_2b9b6d885bf9697b45df0507f23af2c7 = L.marker(\n",
              "                [24.92, 83.35],\n",
              "                {}\n",
              "            ).addTo(map_47b964557ff9cecff9e28ace019ece0a);\n",
              "        \n",
              "    \n",
              "        var popup_a8fcfd97d5018c092aae32913c83e1bd = L.popup({&quot;maxWidth&quot;: &quot;100%&quot;});\n",
              "\n",
              "        \n",
              "            var html_b3476e88c606d74ae41eeb4ce2723274 = $(`&lt;div id=&quot;html_b3476e88c606d74ae41eeb4ce2723274&quot; style=&quot;width: 100.0%; height: 100.0%;&quot;&gt;25.771933014354065&lt;/div&gt;`)[0];\n",
              "            popup_a8fcfd97d5018c092aae32913c83e1bd.setContent(html_b3476e88c606d74ae41eeb4ce2723274);\n",
              "        \n",
              "\n",
              "        marker_2b9b6d885bf9697b45df0507f23af2c7.bindPopup(popup_a8fcfd97d5018c092aae32913c83e1bd)\n",
              "        ;\n",
              "\n",
              "        \n",
              "    \n",
              "    \n",
              "            var marker_d9e79ce7e100b6fe166662dac924901c = L.marker(\n",
              "                [12.05, 77.26],\n",
              "                {}\n",
              "            ).addTo(map_47b964557ff9cecff9e28ace019ece0a);\n",
              "        \n",
              "    \n",
              "        var popup_8cc212d7af44b72056428a1962904504 = L.popup({&quot;maxWidth&quot;: &quot;100%&quot;});\n",
              "\n",
              "        \n",
              "            var html_fd655141275b87f6cfad6086ec1aade2 = $(`&lt;div id=&quot;html_fd655141275b87f6cfad6086ec1aade2&quot; style=&quot;width: 100.0%; height: 100.0%;&quot;&gt;23.26515789473684&lt;/div&gt;`)[0];\n",
              "            popup_8cc212d7af44b72056428a1962904504.setContent(html_fd655141275b87f6cfad6086ec1aade2);\n",
              "        \n",
              "\n",
              "        marker_d9e79ce7e100b6fe166662dac924901c.bindPopup(popup_8cc212d7af44b72056428a1962904504)\n",
              "        ;\n",
              "\n",
              "        \n",
              "    \n",
              "    \n",
              "            var marker_12a7eab580ddd3714ce0e38bb7e295f1 = L.marker(\n",
              "                [28.13, 77.27],\n",
              "                {}\n",
              "            ).addTo(map_47b964557ff9cecff9e28ace019ece0a);\n",
              "        \n",
              "    \n",
              "        var popup_7b77ad25f539fe53cc9287ace46ae3bd = L.popup({&quot;maxWidth&quot;: &quot;100%&quot;});\n",
              "\n",
              "        \n",
              "            var html_c58cf170506a6f17065304905b159513 = $(`&lt;div id=&quot;html_c58cf170506a6f17065304905b159513&quot; style=&quot;width: 100.0%; height: 100.0%;&quot;&gt;20.346510000000002&lt;/div&gt;`)[0];\n",
              "            popup_7b77ad25f539fe53cc9287ace46ae3bd.setContent(html_c58cf170506a6f17065304905b159513);\n",
              "        \n",
              "\n",
              "        marker_12a7eab580ddd3714ce0e38bb7e295f1.bindPopup(popup_7b77ad25f539fe53cc9287ace46ae3bd)\n",
              "        ;\n",
              "\n",
              "        \n",
              "    \n",
              "    \n",
              "            var marker_7e466df8aac429af265a85e15be44a58 = L.marker(\n",
              "                [16.87, 78.7],\n",
              "                {}\n",
              "            ).addTo(map_47b964557ff9cecff9e28ace019ece0a);\n",
              "        \n",
              "    \n",
              "        var popup_c85a15e1f23c43d3f3aa04eb6a85f1b1 = L.popup({&quot;maxWidth&quot;: &quot;100%&quot;});\n",
              "\n",
              "        \n",
              "            var html_b03d02f8cad885f2789eec1976501469 = $(`&lt;div id=&quot;html_b03d02f8cad885f2789eec1976501469&quot; style=&quot;width: 100.0%; height: 100.0%;&quot;&gt;23.508133971291866&lt;/div&gt;`)[0];\n",
              "            popup_c85a15e1f23c43d3f3aa04eb6a85f1b1.setContent(html_b03d02f8cad885f2789eec1976501469);\n",
              "        \n",
              "\n",
              "        marker_7e466df8aac429af265a85e15be44a58.bindPopup(popup_c85a15e1f23c43d3f3aa04eb6a85f1b1)\n",
              "        ;\n",
              "\n",
              "        \n",
              "    \n",
              "    \n",
              "            var marker_de0809ad370c9e9d4d1c07b4695689de = L.marker(\n",
              "                [13.66, 80.09],\n",
              "                {}\n",
              "            ).addTo(map_47b964557ff9cecff9e28ace019ece0a);\n",
              "        \n",
              "    \n",
              "        var popup_a673b95958b32e2ff42ed3ebd1019961 = L.popup({&quot;maxWidth&quot;: &quot;100%&quot;});\n",
              "\n",
              "        \n",
              "            var html_05aa0397ca01554edffa60723c1a2d60 = $(`&lt;div id=&quot;html_05aa0397ca01554edffa60723c1a2d60&quot; style=&quot;width: 100.0%; height: 100.0%;&quot;&gt;25.666679425837323&lt;/div&gt;`)[0];\n",
              "            popup_a673b95958b32e2ff42ed3ebd1019961.setContent(html_05aa0397ca01554edffa60723c1a2d60);\n",
              "        \n",
              "\n",
              "        marker_de0809ad370c9e9d4d1c07b4695689de.bindPopup(popup_a673b95958b32e2ff42ed3ebd1019961)\n",
              "        ;\n",
              "\n",
              "        \n",
              "    \n",
              "    \n",
              "            var marker_582d4423a58ccbce9704b9732d7824aa = L.marker(\n",
              "                [28.13, 77.27],\n",
              "                {}\n",
              "            ).addTo(map_47b964557ff9cecff9e28ace019ece0a);\n",
              "        \n",
              "    \n",
              "        var popup_7016f5ca78864036ae53acfc1b9ce4e3 = L.popup({&quot;maxWidth&quot;: &quot;100%&quot;});\n",
              "\n",
              "        \n",
              "            var html_c76a6c7d5fe9bff3f41915189e11281d = $(`&lt;div id=&quot;html_c76a6c7d5fe9bff3f41915189e11281d&quot; style=&quot;width: 100.0%; height: 100.0%;&quot;&gt;20.346510000000002&lt;/div&gt;`)[0];\n",
              "            popup_7016f5ca78864036ae53acfc1b9ce4e3.setContent(html_c76a6c7d5fe9bff3f41915189e11281d);\n",
              "        \n",
              "\n",
              "        marker_582d4423a58ccbce9704b9732d7824aa.bindPopup(popup_7016f5ca78864036ae53acfc1b9ce4e3)\n",
              "        ;\n",
              "\n",
              "        \n",
              "    \n",
              "    \n",
              "            var marker_3ca0d0c70babec65106610813f20521d = L.marker(\n",
              "                [18.48, 74.37],\n",
              "                {}\n",
              "            ).addTo(map_47b964557ff9cecff9e28ace019ece0a);\n",
              "        \n",
              "    \n",
              "        var popup_08ba5e46cba554b567f68afdbfdaf780 = L.popup({&quot;maxWidth&quot;: &quot;100%&quot;});\n",
              "\n",
              "        \n",
              "            var html_756a80c198bd5e660d00986b46708507 = $(`&lt;div id=&quot;html_756a80c198bd5e660d00986b46708507&quot; style=&quot;width: 100.0%; height: 100.0%;&quot;&gt;22.313669856459327&lt;/div&gt;`)[0];\n",
              "            popup_08ba5e46cba554b567f68afdbfdaf780.setContent(html_756a80c198bd5e660d00986b46708507);\n",
              "        \n",
              "\n",
              "        marker_3ca0d0c70babec65106610813f20521d.bindPopup(popup_08ba5e46cba554b567f68afdbfdaf780)\n",
              "        ;\n",
              "\n",
              "        \n",
              "    \n",
              "    \n",
              "            var marker_38cc81eeccc9f90975cd2238008b144e = L.marker(\n",
              "                [24.92, 83.35],\n",
              "                {}\n",
              "            ).addTo(map_47b964557ff9cecff9e28ace019ece0a);\n",
              "        \n",
              "    \n",
              "        var popup_d72b65042b21cf0a79ce2bf4ce0faede = L.popup({&quot;maxWidth&quot;: &quot;100%&quot;});\n",
              "\n",
              "        \n",
              "            var html_6a2e21317cc1813dbe39c365939d7c98 = $(`&lt;div id=&quot;html_6a2e21317cc1813dbe39c365939d7c98&quot; style=&quot;width: 100.0%; height: 100.0%;&quot;&gt;20.8435023923445&lt;/div&gt;`)[0];\n",
              "            popup_d72b65042b21cf0a79ce2bf4ce0faede.setContent(html_6a2e21317cc1813dbe39c365939d7c98);\n",
              "        \n",
              "\n",
              "        marker_38cc81eeccc9f90975cd2238008b144e.bindPopup(popup_d72b65042b21cf0a79ce2bf4ce0faede)\n",
              "        ;\n",
              "\n",
              "        \n",
              "    \n",
              "    \n",
              "            var marker_bd2a46847777204933a32ed351064caf = L.marker(\n",
              "                [12.05, 77.26],\n",
              "                {}\n",
              "            ).addTo(map_47b964557ff9cecff9e28ace019ece0a);\n",
              "        \n",
              "    \n",
              "        var popup_838e17c3894f8d78e0a840a148981b7e = L.popup({&quot;maxWidth&quot;: &quot;100%&quot;});\n",
              "\n",
              "        \n",
              "            var html_30ea9a9513b95e03cf14578d7dfaf297 = $(`&lt;div id=&quot;html_30ea9a9513b95e03cf14578d7dfaf297&quot; style=&quot;width: 100.0%; height: 100.0%;&quot;&gt;22.29085576923077&lt;/div&gt;`)[0];\n",
              "            popup_838e17c3894f8d78e0a840a148981b7e.setContent(html_30ea9a9513b95e03cf14578d7dfaf297);\n",
              "        \n",
              "\n",
              "        marker_bd2a46847777204933a32ed351064caf.bindPopup(popup_838e17c3894f8d78e0a840a148981b7e)\n",
              "        ;\n",
              "\n",
              "        \n",
              "    \n",
              "    \n",
              "            var marker_30c7a56a67b64077d82428e74d6c9a71 = L.marker(\n",
              "                [28.13, 77.27],\n",
              "                {}\n",
              "            ).addTo(map_47b964557ff9cecff9e28ace019ece0a);\n",
              "        \n",
              "    \n",
              "        var popup_64fa3667cdb72952d18eb28e18dd57bf = L.popup({&quot;maxWidth&quot;: &quot;100%&quot;});\n",
              "\n",
              "        \n",
              "            var html_82a370f7e3863302894d8d6a103cfe72 = $(`&lt;div id=&quot;html_82a370f7e3863302894d8d6a103cfe72&quot; style=&quot;width: 100.0%; height: 100.0%;&quot;&gt;15.378814070351758&lt;/div&gt;`)[0];\n",
              "            popup_64fa3667cdb72952d18eb28e18dd57bf.setContent(html_82a370f7e3863302894d8d6a103cfe72);\n",
              "        \n",
              "\n",
              "        marker_30c7a56a67b64077d82428e74d6c9a71.bindPopup(popup_64fa3667cdb72952d18eb28e18dd57bf)\n",
              "        ;\n",
              "\n",
              "        \n",
              "    \n",
              "    \n",
              "            var marker_223fa6c17ba1ed6afa02476df8222b81 = L.marker(\n",
              "                [16.87, 78.7],\n",
              "                {}\n",
              "            ).addTo(map_47b964557ff9cecff9e28ace019ece0a);\n",
              "        \n",
              "    \n",
              "        var popup_d39526ccf14e363333ae3824a6f2b807 = L.popup({&quot;maxWidth&quot;: &quot;100%&quot;});\n",
              "\n",
              "        \n",
              "            var html_9fe258bbc03faf23401f7cc5ed3c793a = $(`&lt;div id=&quot;html_9fe258bbc03faf23401f7cc5ed3c793a&quot; style=&quot;width: 100.0%; height: 100.0%;&quot;&gt;21.89253846153846&lt;/div&gt;`)[0];\n",
              "            popup_d39526ccf14e363333ae3824a6f2b807.setContent(html_9fe258bbc03faf23401f7cc5ed3c793a);\n",
              "        \n",
              "\n",
              "        marker_223fa6c17ba1ed6afa02476df8222b81.bindPopup(popup_d39526ccf14e363333ae3824a6f2b807)\n",
              "        ;\n",
              "\n",
              "        \n",
              "    \n",
              "    \n",
              "            var marker_c813a3806008dc0d7d4d9d4340801edf = L.marker(\n",
              "                [13.66, 80.09],\n",
              "                {}\n",
              "            ).addTo(map_47b964557ff9cecff9e28ace019ece0a);\n",
              "        \n",
              "    \n",
              "        var popup_280f02104bd676470adc32452bb6b585 = L.popup({&quot;maxWidth&quot;: &quot;100%&quot;});\n",
              "\n",
              "        \n",
              "            var html_807804e478d5e852ee34632266d09b47 = $(`&lt;div id=&quot;html_807804e478d5e852ee34632266d09b47&quot; style=&quot;width: 100.0%; height: 100.0%;&quot;&gt;24.168721153846153&lt;/div&gt;`)[0];\n",
              "            popup_280f02104bd676470adc32452bb6b585.setContent(html_807804e478d5e852ee34632266d09b47);\n",
              "        \n",
              "\n",
              "        marker_c813a3806008dc0d7d4d9d4340801edf.bindPopup(popup_280f02104bd676470adc32452bb6b585)\n",
              "        ;\n",
              "\n",
              "        \n",
              "    \n",
              "    \n",
              "            var marker_833cd821c61bad02adce04c5550fa9d0 = L.marker(\n",
              "                [28.13, 77.27],\n",
              "                {}\n",
              "            ).addTo(map_47b964557ff9cecff9e28ace019ece0a);\n",
              "        \n",
              "    \n",
              "        var popup_c3e5b04cf418d38fdfb1a50becfb11dc = L.popup({&quot;maxWidth&quot;: &quot;100%&quot;});\n",
              "\n",
              "        \n",
              "            var html_4bc3197c914a00b04ee66d6f6c128417 = $(`&lt;div id=&quot;html_4bc3197c914a00b04ee66d6f6c128417&quot; style=&quot;width: 100.0%; height: 100.0%;&quot;&gt;15.378814070351758&lt;/div&gt;`)[0];\n",
              "            popup_c3e5b04cf418d38fdfb1a50becfb11dc.setContent(html_4bc3197c914a00b04ee66d6f6c128417);\n",
              "        \n",
              "\n",
              "        marker_833cd821c61bad02adce04c5550fa9d0.bindPopup(popup_c3e5b04cf418d38fdfb1a50becfb11dc)\n",
              "        ;\n",
              "\n",
              "        \n",
              "    \n",
              "    \n",
              "            var marker_5fe4ffae8f8c367c1bf0bc73f8f39c17 = L.marker(\n",
              "                [18.48, 74.37],\n",
              "                {}\n",
              "            ).addTo(map_47b964557ff9cecff9e28ace019ece0a);\n",
              "        \n",
              "    \n",
              "        var popup_2f98dca96037666c5616759677746d25 = L.popup({&quot;maxWidth&quot;: &quot;100%&quot;});\n",
              "\n",
              "        \n",
              "            var html_3f64e8d591851c228b8e9b56a34c7f79 = $(`&lt;div id=&quot;html_3f64e8d591851c228b8e9b56a34c7f79&quot; style=&quot;width: 100.0%; height: 100.0%;&quot;&gt;20.253653846153846&lt;/div&gt;`)[0];\n",
              "            popup_2f98dca96037666c5616759677746d25.setContent(html_3f64e8d591851c228b8e9b56a34c7f79);\n",
              "        \n",
              "\n",
              "        marker_5fe4ffae8f8c367c1bf0bc73f8f39c17.bindPopup(popup_2f98dca96037666c5616759677746d25)\n",
              "        ;\n",
              "\n",
              "        \n",
              "    \n",
              "    \n",
              "            var marker_7f85136566e8f67a6231e42f496661c0 = L.marker(\n",
              "                [24.92, 83.35],\n",
              "                {}\n",
              "            ).addTo(map_47b964557ff9cecff9e28ace019ece0a);\n",
              "        \n",
              "    \n",
              "        var popup_afb8f79d4863ea6625022ad66a01dfcf = L.popup({&quot;maxWidth&quot;: &quot;100%&quot;});\n",
              "\n",
              "        \n",
              "            var html_99386fcfa90df47d39f043425f09e833 = $(`&lt;div id=&quot;html_99386fcfa90df47d39f043425f09e833&quot; style=&quot;width: 100.0%; height: 100.0%;&quot;&gt;16.246504807692308&lt;/div&gt;`)[0];\n",
              "            popup_afb8f79d4863ea6625022ad66a01dfcf.setContent(html_99386fcfa90df47d39f043425f09e833);\n",
              "        \n",
              "\n",
              "        marker_7f85136566e8f67a6231e42f496661c0.bindPopup(popup_afb8f79d4863ea6625022ad66a01dfcf)\n",
              "        ;\n",
              "\n",
              "        \n",
              "    \n",
              "&lt;/script&gt;\" style=\"position:absolute;width:100%;height:100%;left:0;top:0;border:none !important;\" allowfullscreen webkitallowfullscreen mozallowfullscreen></iframe></div></div>"
            ],
            "text/plain": [
              "<folium.folium.Map at 0x17657194748>"
            ]
          },
          "execution_count": 158,
          "metadata": {},
          "output_type": "execute_result"
        }
      ],
      "source": [
        "# Add points to the map\n",
        "for id,row in data2.iterrows():\n",
        "    folium.Marker(location=[row['Latitude'],row['Longitude']], popup=row['Mean_temp']).add_to(m)\n",
        "\n",
        "# Display the map\n",
        "m"
      ]
    },
    {
      "cell_type": "code",
      "execution_count": 159,
      "metadata": {},
      "outputs": [],
      "source": [
        "#make a machine learning model\n",
        "from sklearn.linear_model import LinearRegression\n",
        "from sklearn.model_selection import train_test_split\n",
        "from sklearn.metrics import mean_squared_error\n",
        "from sklearn.metrics import r2_score\n",
        "from sklearn.metrics import mean_absolute_error\n",
        "from sklearn.metrics import explained_variance_score\n",
        "from sklearn.metrics import mean_squared_log_error\n",
        "from sklearn.metrics import median_absolute_error\n"
      ]
    },
    {
      "cell_type": "code",
      "execution_count": 160,
      "metadata": {},
      "outputs": [],
      "source": [
        "# Split the data into training and testing sets\n",
        "X_train, X_test, y_train, y_test = train_test_split(data2[['month','City','Mean_temp']], data2['Mean_temp'], test_size=0.2, random_state=0)"
      ]
    },
    {
      "cell_type": "code",
      "execution_count": 162,
      "metadata": {},
      "outputs": [
        {
          "ename": "ValueError",
          "evalue": "could not convert string to float: 'Madras'",
          "output_type": "error",
          "traceback": [
            "\u001b[1;31m---------------------------------------------------------------------------\u001b[0m",
            "\u001b[1;31mValueError\u001b[0m                                Traceback (most recent call last)",
            "\u001b[1;32m~\\AppData\\Local\\Temp\\ipykernel_13072\\2105027842.py\u001b[0m in \u001b[0;36m<module>\u001b[1;34m\u001b[0m\n\u001b[0;32m      1\u001b[0m \u001b[1;31m#convert X_train and y_train to float\u001b[0m\u001b[1;33m\u001b[0m\u001b[1;33m\u001b[0m\u001b[1;33m\u001b[0m\u001b[0m\n\u001b[1;32m----> 2\u001b[1;33m \u001b[0mX_train\u001b[0m \u001b[1;33m=\u001b[0m \u001b[0mX_train\u001b[0m\u001b[1;33m.\u001b[0m\u001b[0mastype\u001b[0m\u001b[1;33m(\u001b[0m\u001b[0mfloat\u001b[0m\u001b[1;33m)\u001b[0m\u001b[1;33m\u001b[0m\u001b[1;33m\u001b[0m\u001b[0m\n\u001b[0m\u001b[0;32m      3\u001b[0m \u001b[0my_train\u001b[0m \u001b[1;33m=\u001b[0m \u001b[0my_train\u001b[0m\u001b[1;33m.\u001b[0m\u001b[0mastype\u001b[0m\u001b[1;33m(\u001b[0m\u001b[0mfloat\u001b[0m\u001b[1;33m)\u001b[0m\u001b[1;33m\u001b[0m\u001b[1;33m\u001b[0m\u001b[0m\n\u001b[0;32m      4\u001b[0m \u001b[1;33m\u001b[0m\u001b[0m\n\u001b[0;32m      5\u001b[0m \u001b[1;31m#create model\u001b[0m\u001b[1;33m\u001b[0m\u001b[1;33m\u001b[0m\u001b[1;33m\u001b[0m\u001b[0m\n",
            "\u001b[1;32mc:\\Users\\tiwar\\Anaconda3\\envs\\bloodidf\\lib\\site-packages\\pandas\\core\\generic.py\u001b[0m in \u001b[0;36mastype\u001b[1;34m(self, dtype, copy, errors)\u001b[0m\n\u001b[0;32m   5813\u001b[0m         \u001b[1;32melse\u001b[0m\u001b[1;33m:\u001b[0m\u001b[1;33m\u001b[0m\u001b[1;33m\u001b[0m\u001b[0m\n\u001b[0;32m   5814\u001b[0m             \u001b[1;31m# else, only a single dtype is given\u001b[0m\u001b[1;33m\u001b[0m\u001b[1;33m\u001b[0m\u001b[1;33m\u001b[0m\u001b[0m\n\u001b[1;32m-> 5815\u001b[1;33m             \u001b[0mnew_data\u001b[0m \u001b[1;33m=\u001b[0m \u001b[0mself\u001b[0m\u001b[1;33m.\u001b[0m\u001b[0m_mgr\u001b[0m\u001b[1;33m.\u001b[0m\u001b[0mastype\u001b[0m\u001b[1;33m(\u001b[0m\u001b[0mdtype\u001b[0m\u001b[1;33m=\u001b[0m\u001b[0mdtype\u001b[0m\u001b[1;33m,\u001b[0m \u001b[0mcopy\u001b[0m\u001b[1;33m=\u001b[0m\u001b[0mcopy\u001b[0m\u001b[1;33m,\u001b[0m \u001b[0merrors\u001b[0m\u001b[1;33m=\u001b[0m\u001b[0merrors\u001b[0m\u001b[1;33m)\u001b[0m\u001b[1;33m\u001b[0m\u001b[1;33m\u001b[0m\u001b[0m\n\u001b[0m\u001b[0;32m   5816\u001b[0m             \u001b[1;32mreturn\u001b[0m \u001b[0mself\u001b[0m\u001b[1;33m.\u001b[0m\u001b[0m_constructor\u001b[0m\u001b[1;33m(\u001b[0m\u001b[0mnew_data\u001b[0m\u001b[1;33m)\u001b[0m\u001b[1;33m.\u001b[0m\u001b[0m__finalize__\u001b[0m\u001b[1;33m(\u001b[0m\u001b[0mself\u001b[0m\u001b[1;33m,\u001b[0m \u001b[0mmethod\u001b[0m\u001b[1;33m=\u001b[0m\u001b[1;34m\"astype\"\u001b[0m\u001b[1;33m)\u001b[0m\u001b[1;33m\u001b[0m\u001b[1;33m\u001b[0m\u001b[0m\n\u001b[0;32m   5817\u001b[0m \u001b[1;33m\u001b[0m\u001b[0m\n",
            "\u001b[1;32mc:\\Users\\tiwar\\Anaconda3\\envs\\bloodidf\\lib\\site-packages\\pandas\\core\\internals\\managers.py\u001b[0m in \u001b[0;36mastype\u001b[1;34m(self, dtype, copy, errors)\u001b[0m\n\u001b[0;32m    416\u001b[0m \u001b[1;33m\u001b[0m\u001b[0m\n\u001b[0;32m    417\u001b[0m     \u001b[1;32mdef\u001b[0m \u001b[0mastype\u001b[0m\u001b[1;33m(\u001b[0m\u001b[0mself\u001b[0m\u001b[1;33m:\u001b[0m \u001b[0mT\u001b[0m\u001b[1;33m,\u001b[0m \u001b[0mdtype\u001b[0m\u001b[1;33m,\u001b[0m \u001b[0mcopy\u001b[0m\u001b[1;33m:\u001b[0m \u001b[0mbool\u001b[0m \u001b[1;33m=\u001b[0m \u001b[1;32mFalse\u001b[0m\u001b[1;33m,\u001b[0m \u001b[0merrors\u001b[0m\u001b[1;33m:\u001b[0m \u001b[0mstr\u001b[0m \u001b[1;33m=\u001b[0m \u001b[1;34m\"raise\"\u001b[0m\u001b[1;33m)\u001b[0m \u001b[1;33m->\u001b[0m \u001b[0mT\u001b[0m\u001b[1;33m:\u001b[0m\u001b[1;33m\u001b[0m\u001b[1;33m\u001b[0m\u001b[0m\n\u001b[1;32m--> 418\u001b[1;33m         \u001b[1;32mreturn\u001b[0m \u001b[0mself\u001b[0m\u001b[1;33m.\u001b[0m\u001b[0mapply\u001b[0m\u001b[1;33m(\u001b[0m\u001b[1;34m\"astype\"\u001b[0m\u001b[1;33m,\u001b[0m \u001b[0mdtype\u001b[0m\u001b[1;33m=\u001b[0m\u001b[0mdtype\u001b[0m\u001b[1;33m,\u001b[0m \u001b[0mcopy\u001b[0m\u001b[1;33m=\u001b[0m\u001b[0mcopy\u001b[0m\u001b[1;33m,\u001b[0m \u001b[0merrors\u001b[0m\u001b[1;33m=\u001b[0m\u001b[0merrors\u001b[0m\u001b[1;33m)\u001b[0m\u001b[1;33m\u001b[0m\u001b[1;33m\u001b[0m\u001b[0m\n\u001b[0m\u001b[0;32m    419\u001b[0m \u001b[1;33m\u001b[0m\u001b[0m\n\u001b[0;32m    420\u001b[0m     def convert(\n",
            "\u001b[1;32mc:\\Users\\tiwar\\Anaconda3\\envs\\bloodidf\\lib\\site-packages\\pandas\\core\\internals\\managers.py\u001b[0m in \u001b[0;36mapply\u001b[1;34m(self, f, align_keys, ignore_failures, **kwargs)\u001b[0m\n\u001b[0;32m    325\u001b[0m                     \u001b[0mapplied\u001b[0m \u001b[1;33m=\u001b[0m \u001b[0mb\u001b[0m\u001b[1;33m.\u001b[0m\u001b[0mapply\u001b[0m\u001b[1;33m(\u001b[0m\u001b[0mf\u001b[0m\u001b[1;33m,\u001b[0m \u001b[1;33m**\u001b[0m\u001b[0mkwargs\u001b[0m\u001b[1;33m)\u001b[0m\u001b[1;33m\u001b[0m\u001b[1;33m\u001b[0m\u001b[0m\n\u001b[0;32m    326\u001b[0m                 \u001b[1;32melse\u001b[0m\u001b[1;33m:\u001b[0m\u001b[1;33m\u001b[0m\u001b[1;33m\u001b[0m\u001b[0m\n\u001b[1;32m--> 327\u001b[1;33m                     \u001b[0mapplied\u001b[0m \u001b[1;33m=\u001b[0m \u001b[0mgetattr\u001b[0m\u001b[1;33m(\u001b[0m\u001b[0mb\u001b[0m\u001b[1;33m,\u001b[0m \u001b[0mf\u001b[0m\u001b[1;33m)\u001b[0m\u001b[1;33m(\u001b[0m\u001b[1;33m**\u001b[0m\u001b[0mkwargs\u001b[0m\u001b[1;33m)\u001b[0m\u001b[1;33m\u001b[0m\u001b[1;33m\u001b[0m\u001b[0m\n\u001b[0m\u001b[0;32m    328\u001b[0m             \u001b[1;32mexcept\u001b[0m \u001b[1;33m(\u001b[0m\u001b[0mTypeError\u001b[0m\u001b[1;33m,\u001b[0m \u001b[0mNotImplementedError\u001b[0m\u001b[1;33m)\u001b[0m\u001b[1;33m:\u001b[0m\u001b[1;33m\u001b[0m\u001b[1;33m\u001b[0m\u001b[0m\n\u001b[0;32m    329\u001b[0m                 \u001b[1;32mif\u001b[0m \u001b[1;32mnot\u001b[0m \u001b[0mignore_failures\u001b[0m\u001b[1;33m:\u001b[0m\u001b[1;33m\u001b[0m\u001b[1;33m\u001b[0m\u001b[0m\n",
            "\u001b[1;32mc:\\Users\\tiwar\\Anaconda3\\envs\\bloodidf\\lib\\site-packages\\pandas\\core\\internals\\blocks.py\u001b[0m in \u001b[0;36mastype\u001b[1;34m(self, dtype, copy, errors)\u001b[0m\n\u001b[0;32m    589\u001b[0m         \u001b[0mvalues\u001b[0m \u001b[1;33m=\u001b[0m \u001b[0mself\u001b[0m\u001b[1;33m.\u001b[0m\u001b[0mvalues\u001b[0m\u001b[1;33m\u001b[0m\u001b[1;33m\u001b[0m\u001b[0m\n\u001b[0;32m    590\u001b[0m \u001b[1;33m\u001b[0m\u001b[0m\n\u001b[1;32m--> 591\u001b[1;33m         \u001b[0mnew_values\u001b[0m \u001b[1;33m=\u001b[0m \u001b[0mastype_array_safe\u001b[0m\u001b[1;33m(\u001b[0m\u001b[0mvalues\u001b[0m\u001b[1;33m,\u001b[0m \u001b[0mdtype\u001b[0m\u001b[1;33m,\u001b[0m \u001b[0mcopy\u001b[0m\u001b[1;33m=\u001b[0m\u001b[0mcopy\u001b[0m\u001b[1;33m,\u001b[0m \u001b[0merrors\u001b[0m\u001b[1;33m=\u001b[0m\u001b[0merrors\u001b[0m\u001b[1;33m)\u001b[0m\u001b[1;33m\u001b[0m\u001b[1;33m\u001b[0m\u001b[0m\n\u001b[0m\u001b[0;32m    592\u001b[0m \u001b[1;33m\u001b[0m\u001b[0m\n\u001b[0;32m    593\u001b[0m         \u001b[0mnew_values\u001b[0m \u001b[1;33m=\u001b[0m \u001b[0mmaybe_coerce_values\u001b[0m\u001b[1;33m(\u001b[0m\u001b[0mnew_values\u001b[0m\u001b[1;33m)\u001b[0m\u001b[1;33m\u001b[0m\u001b[1;33m\u001b[0m\u001b[0m\n",
            "\u001b[1;32mc:\\Users\\tiwar\\Anaconda3\\envs\\bloodidf\\lib\\site-packages\\pandas\\core\\dtypes\\cast.py\u001b[0m in \u001b[0;36mastype_array_safe\u001b[1;34m(values, dtype, copy, errors)\u001b[0m\n\u001b[0;32m   1307\u001b[0m \u001b[1;33m\u001b[0m\u001b[0m\n\u001b[0;32m   1308\u001b[0m     \u001b[1;32mtry\u001b[0m\u001b[1;33m:\u001b[0m\u001b[1;33m\u001b[0m\u001b[1;33m\u001b[0m\u001b[0m\n\u001b[1;32m-> 1309\u001b[1;33m         \u001b[0mnew_values\u001b[0m \u001b[1;33m=\u001b[0m \u001b[0mastype_array\u001b[0m\u001b[1;33m(\u001b[0m\u001b[0mvalues\u001b[0m\u001b[1;33m,\u001b[0m \u001b[0mdtype\u001b[0m\u001b[1;33m,\u001b[0m \u001b[0mcopy\u001b[0m\u001b[1;33m=\u001b[0m\u001b[0mcopy\u001b[0m\u001b[1;33m)\u001b[0m\u001b[1;33m\u001b[0m\u001b[1;33m\u001b[0m\u001b[0m\n\u001b[0m\u001b[0;32m   1310\u001b[0m     \u001b[1;32mexcept\u001b[0m \u001b[1;33m(\u001b[0m\u001b[0mValueError\u001b[0m\u001b[1;33m,\u001b[0m \u001b[0mTypeError\u001b[0m\u001b[1;33m)\u001b[0m\u001b[1;33m:\u001b[0m\u001b[1;33m\u001b[0m\u001b[1;33m\u001b[0m\u001b[0m\n\u001b[0;32m   1311\u001b[0m         \u001b[1;31m# e.g. astype_nansafe can fail on object-dtype of strings\u001b[0m\u001b[1;33m\u001b[0m\u001b[1;33m\u001b[0m\u001b[1;33m\u001b[0m\u001b[0m\n",
            "\u001b[1;32mc:\\Users\\tiwar\\Anaconda3\\envs\\bloodidf\\lib\\site-packages\\pandas\\core\\dtypes\\cast.py\u001b[0m in \u001b[0;36mastype_array\u001b[1;34m(values, dtype, copy)\u001b[0m\n\u001b[0;32m   1255\u001b[0m \u001b[1;33m\u001b[0m\u001b[0m\n\u001b[0;32m   1256\u001b[0m     \u001b[1;32melse\u001b[0m\u001b[1;33m:\u001b[0m\u001b[1;33m\u001b[0m\u001b[1;33m\u001b[0m\u001b[0m\n\u001b[1;32m-> 1257\u001b[1;33m         \u001b[0mvalues\u001b[0m \u001b[1;33m=\u001b[0m \u001b[0mastype_nansafe\u001b[0m\u001b[1;33m(\u001b[0m\u001b[0mvalues\u001b[0m\u001b[1;33m,\u001b[0m \u001b[0mdtype\u001b[0m\u001b[1;33m,\u001b[0m \u001b[0mcopy\u001b[0m\u001b[1;33m=\u001b[0m\u001b[0mcopy\u001b[0m\u001b[1;33m)\u001b[0m\u001b[1;33m\u001b[0m\u001b[1;33m\u001b[0m\u001b[0m\n\u001b[0m\u001b[0;32m   1258\u001b[0m \u001b[1;33m\u001b[0m\u001b[0m\n\u001b[0;32m   1259\u001b[0m     \u001b[1;31m# in pandas we don't store numpy str dtypes, so convert to object\u001b[0m\u001b[1;33m\u001b[0m\u001b[1;33m\u001b[0m\u001b[1;33m\u001b[0m\u001b[0m\n",
            "\u001b[1;32mc:\\Users\\tiwar\\Anaconda3\\envs\\bloodidf\\lib\\site-packages\\pandas\\core\\dtypes\\cast.py\u001b[0m in \u001b[0;36mastype_nansafe\u001b[1;34m(arr, dtype, copy, skipna)\u001b[0m\n\u001b[0;32m   1093\u001b[0m     \u001b[1;32mif\u001b[0m \u001b[0marr\u001b[0m\u001b[1;33m.\u001b[0m\u001b[0mndim\u001b[0m \u001b[1;33m>\u001b[0m \u001b[1;36m1\u001b[0m\u001b[1;33m:\u001b[0m\u001b[1;33m\u001b[0m\u001b[1;33m\u001b[0m\u001b[0m\n\u001b[0;32m   1094\u001b[0m         \u001b[0mflat\u001b[0m \u001b[1;33m=\u001b[0m \u001b[0marr\u001b[0m\u001b[1;33m.\u001b[0m\u001b[0mravel\u001b[0m\u001b[1;33m(\u001b[0m\u001b[1;33m)\u001b[0m\u001b[1;33m\u001b[0m\u001b[1;33m\u001b[0m\u001b[0m\n\u001b[1;32m-> 1095\u001b[1;33m         \u001b[0mresult\u001b[0m \u001b[1;33m=\u001b[0m \u001b[0mastype_nansafe\u001b[0m\u001b[1;33m(\u001b[0m\u001b[0mflat\u001b[0m\u001b[1;33m,\u001b[0m \u001b[0mdtype\u001b[0m\u001b[1;33m,\u001b[0m \u001b[0mcopy\u001b[0m\u001b[1;33m=\u001b[0m\u001b[0mcopy\u001b[0m\u001b[1;33m,\u001b[0m \u001b[0mskipna\u001b[0m\u001b[1;33m=\u001b[0m\u001b[0mskipna\u001b[0m\u001b[1;33m)\u001b[0m\u001b[1;33m\u001b[0m\u001b[1;33m\u001b[0m\u001b[0m\n\u001b[0m\u001b[0;32m   1096\u001b[0m         \u001b[1;31m# error: Item \"ExtensionArray\" of \"Union[ExtensionArray, ndarray]\" has no\u001b[0m\u001b[1;33m\u001b[0m\u001b[1;33m\u001b[0m\u001b[1;33m\u001b[0m\u001b[0m\n\u001b[0;32m   1097\u001b[0m         \u001b[1;31m# attribute \"reshape\"\u001b[0m\u001b[1;33m\u001b[0m\u001b[1;33m\u001b[0m\u001b[1;33m\u001b[0m\u001b[0m\n",
            "\u001b[1;32mc:\\Users\\tiwar\\Anaconda3\\envs\\bloodidf\\lib\\site-packages\\pandas\\core\\dtypes\\cast.py\u001b[0m in \u001b[0;36mastype_nansafe\u001b[1;34m(arr, dtype, copy, skipna)\u001b[0m\n\u001b[0;32m   1199\u001b[0m     \u001b[1;32mif\u001b[0m \u001b[0mcopy\u001b[0m \u001b[1;32mor\u001b[0m \u001b[0mis_object_dtype\u001b[0m\u001b[1;33m(\u001b[0m\u001b[0marr\u001b[0m\u001b[1;33m.\u001b[0m\u001b[0mdtype\u001b[0m\u001b[1;33m)\u001b[0m \u001b[1;32mor\u001b[0m \u001b[0mis_object_dtype\u001b[0m\u001b[1;33m(\u001b[0m\u001b[0mdtype\u001b[0m\u001b[1;33m)\u001b[0m\u001b[1;33m:\u001b[0m\u001b[1;33m\u001b[0m\u001b[1;33m\u001b[0m\u001b[0m\n\u001b[0;32m   1200\u001b[0m         \u001b[1;31m# Explicit copy, or required since NumPy can't view from / to object.\u001b[0m\u001b[1;33m\u001b[0m\u001b[1;33m\u001b[0m\u001b[1;33m\u001b[0m\u001b[0m\n\u001b[1;32m-> 1201\u001b[1;33m         \u001b[1;32mreturn\u001b[0m \u001b[0marr\u001b[0m\u001b[1;33m.\u001b[0m\u001b[0mastype\u001b[0m\u001b[1;33m(\u001b[0m\u001b[0mdtype\u001b[0m\u001b[1;33m,\u001b[0m \u001b[0mcopy\u001b[0m\u001b[1;33m=\u001b[0m\u001b[1;32mTrue\u001b[0m\u001b[1;33m)\u001b[0m\u001b[1;33m\u001b[0m\u001b[1;33m\u001b[0m\u001b[0m\n\u001b[0m\u001b[0;32m   1202\u001b[0m \u001b[1;33m\u001b[0m\u001b[0m\n\u001b[0;32m   1203\u001b[0m     \u001b[1;32mreturn\u001b[0m \u001b[0marr\u001b[0m\u001b[1;33m.\u001b[0m\u001b[0mastype\u001b[0m\u001b[1;33m(\u001b[0m\u001b[0mdtype\u001b[0m\u001b[1;33m,\u001b[0m \u001b[0mcopy\u001b[0m\u001b[1;33m=\u001b[0m\u001b[0mcopy\u001b[0m\u001b[1;33m)\u001b[0m\u001b[1;33m\u001b[0m\u001b[1;33m\u001b[0m\u001b[0m\n",
            "\u001b[1;31mValueError\u001b[0m: could not convert string to float: 'Madras'"
          ]
        }
      ],
      "source": [
        "#convert X_train from string to float\n",
        "\n",
        "X_train = X_train.astype(float)\n",
        "y_train = y_train.astype(float)\n",
        "\n",
        "#create model\n",
        "model = LinearRegression().fit(X_train, y_train)\n",
        "#check the model\n",
        "model.score(X_test, y_test)\n",
        "#predict the model\n",
        "y_pred = model.predict(X_test)"
      ]
    }
  ],
  "metadata": {
    "colab": {
      "name": "Spatial_Map_of_temperatures_and_analysis_of_global_warming_deploy.ipynb",
      "provenance": []
    },
    "kernelspec": {
      "display_name": "Python 3.7.13 ('bloodidf')",
      "language": "python",
      "name": "python3"
    },
    "language_info": {
      "codemirror_mode": {
        "name": "ipython",
        "version": 3
      },
      "file_extension": ".py",
      "mimetype": "text/x-python",
      "name": "python",
      "nbconvert_exporter": "python",
      "pygments_lexer": "ipython3",
      "version": "3.7.13"
    },
    "metadata": {
      "interpreter": {
        "hash": "fdcc4854d70fb62606b1768f06a652d8eb96daed5b676015b5746120f49a05e3"
      }
    },
    "vscode": {
      "interpreter": {
        "hash": "c5e94ab2a9842c9e347f23e51d89c1620a5cedd31dc357f526895c6d61e5c3bc"
      }
    }
  },
  "nbformat": 4,
  "nbformat_minor": 0
}
